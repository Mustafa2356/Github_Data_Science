{
 "cells": [
  {
   "cell_type": "markdown",
   "metadata": {},
   "source": [
    "# QUESTION"
   ]
  },
  {
   "cell_type": "markdown",
   "metadata": {},
   "source": [
    "# Write Python code to convert below Json data to Python Object, and print this Python Object."
   ]
  },
  {
   "cell_type": "code",
   "execution_count": 2,
   "metadata": {},
   "outputs": [],
   "source": [
    "json_car =  '{ \"Make\":\"Mercedes\", \"Model\":\"E-200\", \"Year\":2015 }'"
   ]
  },
  {
   "cell_type": "markdown",
   "metadata": {},
   "source": [
    "Create a function that converts a date formatted as MM/DD/YYYY to YYYYDDMM.\n",
    "Examples : format_date(\"11/12/2019\") ➞ \"20191211\""
   ]
  },
  {
   "cell_type": "code",
   "execution_count": null,
   "metadata": {},
   "outputs": [],
   "source": [
    "def format_date(x):\n",
    "    new_format = []\n",
    "    for i in (\"\".join(x.split(\"/\"))):\n",
    "        new_format.append(i)\n",
    "    last_format = new_format[4:] + new_format[2:4] + new_format[:2]\n",
    "    return \"\".join(last_format)\n",
    "print(type(format_date(\"11/12/2019\")))\n",
    "print(format_date(\"11/12/2019\"))"
   ]
  },
  {
   "cell_type": "code",
   "execution_count": null,
   "metadata": {},
   "outputs": [],
   "source": []
  }
 ],
 "metadata": {
  "kernelspec": {
   "display_name": "Python 3",
   "language": "python",
   "name": "python3"
  },
  "language_info": {
   "codemirror_mode": {
    "name": "ipython",
    "version": 3
   },
   "file_extension": ".py",
   "mimetype": "text/x-python",
   "name": "python",
   "nbconvert_exporter": "python",
   "pygments_lexer": "ipython3",
   "version": "3.8.3"
  }
 },
 "nbformat": 4,
 "nbformat_minor": 2
}
