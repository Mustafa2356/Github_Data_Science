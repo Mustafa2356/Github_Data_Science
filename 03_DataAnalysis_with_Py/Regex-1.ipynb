{
 "cells": [
  {
   "cell_type": "markdown",
   "metadata": {},
   "source": [
    "# Martin Lane (Regex)"
   ]
  },
  {
   "cell_type": "code",
   "execution_count": 26,
   "metadata": {},
   "outputs": [],
   "source": [
    "import re # reguler expressions kutuphanesini indiriyoruz\n",
    "import pandas as pd"
   ]
  },
  {
   "cell_type": "markdown",
   "metadata": {},
   "source": [
    "# https://regex101.com/"
   ]
  },
  {
   "cell_type": "code",
   "execution_count": 27,
   "metadata": {},
   "outputs": [
    {
     "name": "stdout",
     "output_type": "stream",
     "text": [
      "<re.Match object; span=(1, 2), match='2'>\n"
     ]
    }
   ],
   "source": [
    "text = re.search('\\d', 'A213') # 'A2' strink yapisinin icerisindeki \\d yani digital karekteri getir\n",
    "print(text)"
   ]
  },
  {
   "cell_type": "code",
   "execution_count": 28,
   "metadata": {},
   "outputs": [
    {
     "name": "stdout",
     "output_type": "stream",
     "text": [
      "2\n"
     ]
    }
   ],
   "source": [
    "text = re.search('\\d', 'A213') # ciktiyi bir obje seklinde istemiyorsak bunu text.group() seklinde cikti alabiliriz\n",
    "print(text.group())"
   ]
  },
  {
   "cell_type": "code",
   "execution_count": 29,
   "metadata": {},
   "outputs": [
    {
     "name": "stdout",
     "output_type": "stream",
     "text": [
      "A\n"
     ]
    }
   ],
   "source": [
    "text = re.search('\\D', '56A') # non decimal karekterleri alir\n",
    "print(text.group())"
   ]
  },
  {
   "cell_type": "code",
   "execution_count": 34,
   "metadata": {},
   "outputs": [
    {
     "name": "stdout",
     "output_type": "stream",
     "text": [
      "505-555-5555\n"
     ]
    }
   ],
   "source": [
    "text = 'My phone number is 505-555-5555'\n",
    "output = re.search('(\\d\\d\\d)-(\\d\\d\\d)-(\\d\\d\\d\\d)',text)\n",
    "print(output.group())"
   ]
  },
  {
   "cell_type": "code",
   "execution_count": 32,
   "metadata": {},
   "outputs": [
    {
     "name": "stdout",
     "output_type": "stream",
     "text": [
      "5055555555\n"
     ]
    }
   ],
   "source": [
    "text = 'My phone number is 5055555555'\n",
    "output = re.search('(\\d\\d\\d)(\\d\\d\\d)(\\d\\d\\d\\d)',text)\n",
    "print(output.group())"
   ]
  },
  {
   "cell_type": "code",
   "execution_count": 33,
   "metadata": {},
   "outputs": [
    {
     "name": "stdout",
     "output_type": "stream",
     "text": [
      "<re.Match object; span=(19, 29), match='5055555555'>\n"
     ]
    }
   ],
   "source": [
    "print(output)"
   ]
  },
  {
   "cell_type": "code",
   "execution_count": 53,
   "metadata": {},
   "outputs": [
    {
     "name": "stdout",
     "output_type": "stream",
     "text": [
      "505 555 5555\n"
     ]
    }
   ],
   "source": [
    "text = 'My phone number is 505 555 5555'\n",
    "output = re.search('(\\d\\d\\d)\\s(\\d\\d\\d)\\s(\\d\\d\\d\\d)',text)\n",
    "print(output.group())"
   ]
  },
  {
   "cell_type": "code",
   "execution_count": 46,
   "metadata": {},
   "outputs": [],
   "source": [
    "text = 'My phone number is 415-555-1212'"
   ]
  },
  {
   "cell_type": "code",
   "execution_count": 51,
   "metadata": {},
   "outputs": [
    {
     "name": "stdout",
     "output_type": "stream",
     "text": [
      "415\n"
     ]
    }
   ],
   "source": [
    "output = re.search('(\\d\\d\\d)-((\\d\\d\\d)-(\\d\\d\\d\\d))', text)\n",
    "print(output.group(1))"
   ]
  },
  {
   "cell_type": "code",
   "execution_count": 50,
   "metadata": {},
   "outputs": [
    {
     "name": "stdout",
     "output_type": "stream",
     "text": [
      "555-1212\n"
     ]
    }
   ],
   "source": [
    "output = re.search('(\\d\\d\\d)-(\\d\\d\\d-\\d\\d\\d\\d)', text)\n",
    "print(output.group(2))"
   ]
  },
  {
   "cell_type": "code",
   "execution_count": 58,
   "metadata": {},
   "outputs": [
    {
     "name": "stdout",
     "output_type": "stream",
     "text": [
      "('(415)', '555-1212')\n"
     ]
    }
   ],
   "source": [
    "text = 'My phone number is (415) 555-1212'\n",
    "output = re.search('(\\(\\d\\d\\d\\)) (\\d\\d\\d-\\d\\d\\d\\d)', text)\n",
    "print(output.group(1,2))"
   ]
  },
  {
   "cell_type": "code",
   "execution_count": 69,
   "metadata": {},
   "outputs": [
    {
     "name": "stdout",
     "output_type": "stream",
     "text": [
      "['1', '10', '100', '100000']\n"
     ]
    }
   ],
   "source": [
    "value = \"O 1, t 10, o 100. 100000\"  # hem 1 sayisini hem 10 sayisini hemde 100 sayisini tespit etmesini istersek\n",
    "output = re.findall('\\d{1,6}',value) # {1,6} bir basamakli sayilardan 6 basamaklisayilara kadar olanlarin hepsini tespit et\n",
    "print(output)\n"
   ]
  },
  {
   "cell_type": "code",
   "execution_count": 70,
   "metadata": {},
   "outputs": [
    {
     "name": "stdout",
     "output_type": "stream",
     "text": [
      "['1', '1', '0', '1', '0', '0', '1', '0', '0', '0', '0', '0']\n"
     ]
    }
   ],
   "source": [
    "value = \"O 1, t 10, o 100. 100000\"\n",
    "output = re.findall('\\d',value) # tek basamakli digital karekterleri tek tek getiriyor\n",
    "print(output)"
   ]
  },
  {
   "cell_type": "code",
   "execution_count": 71,
   "metadata": {},
   "outputs": [
    {
     "name": "stdout",
     "output_type": "stream",
     "text": [
      "['10', '10', '10', '00', '00']\n"
     ]
    }
   ],
   "source": [
    "value = \"O 1, t 10, o 100. 100000\"\n",
    "output = re.findall('\\d\\d',value) # cift basamakli digital karekterleri tek tek getiriyor\n",
    "print(output)"
   ]
  },
  {
   "cell_type": "code",
   "execution_count": 72,
   "metadata": {},
   "outputs": [
    {
     "name": "stdout",
     "output_type": "stream",
     "text": [
      "['100', '100', '000']\n"
     ]
    }
   ],
   "source": [
    "value = \"O 1, t 10, o 100. 100000\"\n",
    "output = re.findall('\\d\\d\\d',value) # cift basamakli digital karekterleri tek tek getiriyor\n",
    "print(output)"
   ]
  },
  {
   "cell_type": "code",
   "execution_count": 75,
   "metadata": {},
   "outputs": [
    {
     "name": "stdout",
     "output_type": "stream",
     "text": [
      "2004959559\n"
     ]
    }
   ],
   "source": [
    "phone = \"2004-959-559 # This is Phone Number\"\n",
    "output = re.sub('\\D',\"\",phone)  # \\D sadece numerik degerleri getirdi \"\" digerlerini getirme\n",
    "print(output)"
   ]
  },
  {
   "cell_type": "code",
   "execution_count": 74,
   "metadata": {},
   "outputs": [
    {
     "name": "stdout",
     "output_type": "stream",
     "text": [
      "2004-959-559-----------------------\n"
     ]
    }
   ],
   "source": [
    "phone = \"2004-959-559 # This is Phone Number\"\n",
    "output = re.sub('\\D','-',phone) # \\D bunun ile tum numerik degerleri getirdi,  '-' numerik olmayan diger degerlerin yerine - \n",
    "print(output)\n"
   ]
  },
  {
   "cell_type": "markdown",
   "metadata": {},
   "source": [
    "### Special Characters\n",
    "___\n",
    "\n",
    "``\"[]\"``\t  A set of characters\t``\"[a-m]\"``\n",
    "\n",
    "``\"\\\"``\t      Signals a special sequence (can also be used to escape special characters)\n",
    "\n",
    "``\".\"``\t      Any character (except newline character)\n",
    "\n",
    "``\"^\"``\t      Starts with\t``\"^hello\"``\n",
    "\n",
    "``\"$\"``\t      Ends with\t``\"world$\"``\n",
    "\n",
    "``\"*\"``\t      Zero or more occurrences\n",
    "\n",
    "`\"+\"`\t      One or more occurrences\n",
    "\n",
    "`\"{}\"`\t  Exactly the specified number of occurrences\n",
    "\n",
    "`\"|\"`\t      Either or\t`\"falls|stays\"`\n",
    "\n",
    "`\"()\"`\t  Capture and group"
   ]
  },
  {
   "cell_type": "code",
   "execution_count": 79,
   "metadata": {},
   "outputs": [
    {
     "name": "stdout",
     "output_type": "stream",
     "text": [
      "Yes starts with hello\n"
     ]
    }
   ],
   "source": [
    "txt = \"hello world\"\n",
    "output = re.findall(\"^hello\", txt)\n",
    "if output:\n",
    "    print(\"Yes starts with hello\")\n",
    "else:\n",
    "    print(\"No\")"
   ]
  },
  {
   "cell_type": "code",
   "execution_count": 80,
   "metadata": {},
   "outputs": [
    {
     "name": "stdout",
     "output_type": "stream",
     "text": [
      "['world']\n"
     ]
    }
   ],
   "source": [
    "import re\n",
    "\n",
    "txt = \"hello world\"\n",
    "output = re.findall('world$',txt)\n",
    "print(output)"
   ]
  },
  {
   "cell_type": "code",
   "execution_count": 81,
   "metadata": {},
   "outputs": [
    {
     "data": {
      "text/html": [
       "<div>\n",
       "<style scoped>\n",
       "    .dataframe tbody tr th:only-of-type {\n",
       "        vertical-align: middle;\n",
       "    }\n",
       "\n",
       "    .dataframe tbody tr th {\n",
       "        vertical-align: top;\n",
       "    }\n",
       "\n",
       "    .dataframe thead th {\n",
       "        text-align: right;\n",
       "    }\n",
       "</style>\n",
       "<table border=\"1\" class=\"dataframe\">\n",
       "  <thead>\n",
       "    <tr style=\"text-align: right;\">\n",
       "      <th></th>\n",
       "      <th>0</th>\n",
       "    </tr>\n",
       "  </thead>\n",
       "  <tbody>\n",
       "    <tr>\n",
       "      <th>0</th>\n",
       "      <td>3</td>\n",
       "    </tr>\n",
       "    <tr>\n",
       "      <th>1</th>\n",
       "      <td>4</td>\n",
       "    </tr>\n",
       "    <tr>\n",
       "      <th>2</th>\n",
       "      <td>5</td>\n",
       "    </tr>\n",
       "  </tbody>\n",
       "</table>\n",
       "</div>"
      ],
      "text/plain": [
       "   0\n",
       "0  3\n",
       "1  4\n",
       "2  5"
      ]
     },
     "execution_count": 81,
     "metadata": {},
     "output_type": "execute_result"
    }
   ],
   "source": [
    "s = pd.Series(['a3', 'b4', 'c5']) # serinin ilk elemani olan a3 u buldu burada numerik data varsa aldi 0. dizine yazdi.\n",
    "                                    # sonra diegerlerini\n",
    "s.str.extract('(\\d)') # (sadece sayilari istiyorum.)  seri"
   ]
  },
  {
   "cell_type": "code",
   "execution_count": 90,
   "metadata": {},
   "outputs": [
    {
     "data": {
      "text/html": [
       "<div>\n",
       "<style scoped>\n",
       "    .dataframe tbody tr th:only-of-type {\n",
       "        vertical-align: middle;\n",
       "    }\n",
       "\n",
       "    .dataframe tbody tr th {\n",
       "        vertical-align: top;\n",
       "    }\n",
       "\n",
       "    .dataframe thead th {\n",
       "        text-align: right;\n",
       "    }\n",
       "</style>\n",
       "<table border=\"1\" class=\"dataframe\">\n",
       "  <thead>\n",
       "    <tr style=\"text-align: right;\">\n",
       "      <th></th>\n",
       "      <th>0</th>\n",
       "    </tr>\n",
       "  </thead>\n",
       "  <tbody>\n",
       "    <tr>\n",
       "      <th>0</th>\n",
       "      <td>a3</td>\n",
       "    </tr>\n",
       "    <tr>\n",
       "      <th>1</th>\n",
       "      <td>b4</td>\n",
       "    </tr>\n",
       "    <tr>\n",
       "      <th>2</th>\n",
       "      <td>c5</td>\n",
       "    </tr>\n",
       "  </tbody>\n",
       "</table>\n",
       "</div>"
      ],
      "text/plain": [
       "    0\n",
       "0  a3\n",
       "1  b4\n",
       "2  c5"
      ]
     },
     "execution_count": 90,
     "metadata": {},
     "output_type": "execute_result"
    }
   ],
   "source": [
    "s = pd.Series(['a3aa', 'b4aa', 'c5aa'])\n",
    "s.str.extract('(\\w\\d)')"
   ]
  },
  {
   "cell_type": "code",
   "execution_count": 89,
   "metadata": {},
   "outputs": [
    {
     "data": {
      "text/html": [
       "<div>\n",
       "<style scoped>\n",
       "    .dataframe tbody tr th:only-of-type {\n",
       "        vertical-align: middle;\n",
       "    }\n",
       "\n",
       "    .dataframe tbody tr th {\n",
       "        vertical-align: top;\n",
       "    }\n",
       "\n",
       "    .dataframe thead th {\n",
       "        text-align: right;\n",
       "    }\n",
       "</style>\n",
       "<table border=\"1\" class=\"dataframe\">\n",
       "  <thead>\n",
       "    <tr style=\"text-align: right;\">\n",
       "      <th></th>\n",
       "      <th>0</th>\n",
       "    </tr>\n",
       "  </thead>\n",
       "  <tbody>\n",
       "    <tr>\n",
       "      <th>0</th>\n",
       "      <td>NaN</td>\n",
       "    </tr>\n",
       "    <tr>\n",
       "      <th>1</th>\n",
       "      <td>NaN</td>\n",
       "    </tr>\n",
       "    <tr>\n",
       "      <th>2</th>\n",
       "      <td>NaN</td>\n",
       "    </tr>\n",
       "  </tbody>\n",
       "</table>\n",
       "</div>"
      ],
      "text/plain": [
       "     0\n",
       "0  NaN\n",
       "1  NaN\n",
       "2  NaN"
      ]
     },
     "execution_count": 89,
     "metadata": {},
     "output_type": "execute_result"
    }
   ],
   "source": [
    "s = pd.Series(['a3aa', 'b4aa', 'c5aa'])\n",
    "s.str.extract('(\\w\\w\\d)')"
   ]
  },
  {
   "cell_type": "code",
   "execution_count": 91,
   "metadata": {},
   "outputs": [
    {
     "data": {
      "text/html": [
       "<div>\n",
       "<style scoped>\n",
       "    .dataframe tbody tr th:only-of-type {\n",
       "        vertical-align: middle;\n",
       "    }\n",
       "\n",
       "    .dataframe tbody tr th {\n",
       "        vertical-align: top;\n",
       "    }\n",
       "\n",
       "    .dataframe thead th {\n",
       "        text-align: right;\n",
       "    }\n",
       "</style>\n",
       "<table border=\"1\" class=\"dataframe\">\n",
       "  <thead>\n",
       "    <tr style=\"text-align: right;\">\n",
       "      <th></th>\n",
       "      <th>0</th>\n",
       "    </tr>\n",
       "  </thead>\n",
       "  <tbody>\n",
       "    <tr>\n",
       "      <th>0</th>\n",
       "      <td>40</td>\n",
       "    </tr>\n",
       "    <tr>\n",
       "      <th>1</th>\n",
       "      <td>38</td>\n",
       "    </tr>\n",
       "    <tr>\n",
       "      <th>2</th>\n",
       "      <td>6.4</td>\n",
       "    </tr>\n",
       "    <tr>\n",
       "      <th>3</th>\n",
       "      <td>8.3</td>\n",
       "    </tr>\n",
       "    <tr>\n",
       "      <th>4</th>\n",
       "      <td>5.1</td>\n",
       "    </tr>\n",
       "    <tr>\n",
       "      <th>5</th>\n",
       "      <td>5.4</td>\n",
       "    </tr>\n",
       "    <tr>\n",
       "      <th>6</th>\n",
       "      <td>6.7</td>\n",
       "    </tr>\n",
       "    <tr>\n",
       "      <th>7</th>\n",
       "      <td>6.2</td>\n",
       "    </tr>\n",
       "    <tr>\n",
       "      <th>8</th>\n",
       "      <td>7.3</td>\n",
       "    </tr>\n",
       "    <tr>\n",
       "      <th>9</th>\n",
       "      <td>6.3</td>\n",
       "    </tr>\n",
       "    <tr>\n",
       "      <th>10</th>\n",
       "      <td>5.7</td>\n",
       "    </tr>\n",
       "    <tr>\n",
       "      <th>11</th>\n",
       "      <td>6.1</td>\n",
       "    </tr>\n",
       "    <tr>\n",
       "      <th>12</th>\n",
       "      <td>6.8</td>\n",
       "    </tr>\n",
       "    <tr>\n",
       "      <th>13</th>\n",
       "      <td>7.5</td>\n",
       "    </tr>\n",
       "    <tr>\n",
       "      <th>14</th>\n",
       "      <td>7.4</td>\n",
       "    </tr>\n",
       "    <tr>\n",
       "      <th>15</th>\n",
       "      <td>3.6</td>\n",
       "    </tr>\n",
       "    <tr>\n",
       "      <th>16</th>\n",
       "      <td>0</td>\n",
       "    </tr>\n",
       "    <tr>\n",
       "      <th>17</th>\n",
       "      <td>7.8</td>\n",
       "    </tr>\n",
       "  </tbody>\n",
       "</table>\n",
       "</div>"
      ],
      "text/plain": [
       "      0\n",
       "0    40\n",
       "1    38\n",
       "2   6.4\n",
       "3   8.3\n",
       "4   5.1\n",
       "5   5.4\n",
       "6   6.7\n",
       "7   6.2\n",
       "8   7.3\n",
       "9   6.3\n",
       "10  5.7\n",
       "11  6.1\n",
       "12  6.8\n",
       "13  7.5\n",
       "14  7.4\n",
       "15  3.6\n",
       "16    0\n",
       "17  7.8"
      ]
     },
     "execution_count": 91,
     "metadata": {},
     "output_type": "execute_result"
    }
   ],
   "source": [
    "s= pd.Series(['40 l/100 km (comb)',  # en bastaki sayilari extract etmek istiyorum.\n",
    "        '38 l/100 km (comb)', '6.4 l/100 km (comb)',\n",
    "       '8.3 kg/100 km (comb)', '5.1 kg/100 km (comb)',\n",
    "       '5.4 l/100 km (comb)', '6.7 l/100 km (comb)',\n",
    "       '6.2 l/100 km (comb)', '7.3 l/100 km (comb)',\n",
    "       '6.3 l/100 km (comb)', '5.7 l/100 km (comb)',\n",
    "       '6.1 l/100 km (comb)', '6.8 l/100 km (comb)',\n",
    "       '7.5 l/100 km (comb)', '7.4 l/100 km (comb)',\n",
    "       '3.6 kg/100 km (comb)', '0 l/100 km (comb)', \n",
    "       '7.8 l/100 km (comb)'])\n",
    "\n",
    "result = s.str.extract('(\\d\\d|\\d.\\d|\\d)')\n",
    "result"
   ]
  },
  {
   "cell_type": "code",
   "execution_count": 95,
   "metadata": {},
   "outputs": [
    {
     "data": {
      "text/html": [
       "<div>\n",
       "<style scoped>\n",
       "    .dataframe tbody tr th:only-of-type {\n",
       "        vertical-align: middle;\n",
       "    }\n",
       "\n",
       "    .dataframe tbody tr th {\n",
       "        vertical-align: top;\n",
       "    }\n",
       "\n",
       "    .dataframe thead th {\n",
       "        text-align: right;\n",
       "    }\n",
       "</style>\n",
       "<table border=\"1\" class=\"dataframe\">\n",
       "  <thead>\n",
       "    <tr style=\"text-align: right;\">\n",
       "      <th></th>\n",
       "      <th>0</th>\n",
       "      <th>1</th>\n",
       "    </tr>\n",
       "  </thead>\n",
       "  <tbody>\n",
       "    <tr>\n",
       "      <th>0</th>\n",
       "      <td>40</td>\n",
       "      <td>100</td>\n",
       "    </tr>\n",
       "    <tr>\n",
       "      <th>1</th>\n",
       "      <td>38</td>\n",
       "      <td>100</td>\n",
       "    </tr>\n",
       "    <tr>\n",
       "      <th>2</th>\n",
       "      <td>6.4</td>\n",
       "      <td>100</td>\n",
       "    </tr>\n",
       "    <tr>\n",
       "      <th>3</th>\n",
       "      <td>8.3</td>\n",
       "      <td>100</td>\n",
       "    </tr>\n",
       "    <tr>\n",
       "      <th>4</th>\n",
       "      <td>5.1</td>\n",
       "      <td>100</td>\n",
       "    </tr>\n",
       "    <tr>\n",
       "      <th>5</th>\n",
       "      <td>5.4</td>\n",
       "      <td>100</td>\n",
       "    </tr>\n",
       "    <tr>\n",
       "      <th>6</th>\n",
       "      <td>6.7</td>\n",
       "      <td>100</td>\n",
       "    </tr>\n",
       "    <tr>\n",
       "      <th>7</th>\n",
       "      <td>6.2</td>\n",
       "      <td>100</td>\n",
       "    </tr>\n",
       "    <tr>\n",
       "      <th>8</th>\n",
       "      <td>7.3</td>\n",
       "      <td>100</td>\n",
       "    </tr>\n",
       "    <tr>\n",
       "      <th>9</th>\n",
       "      <td>6.3</td>\n",
       "      <td>100</td>\n",
       "    </tr>\n",
       "    <tr>\n",
       "      <th>10</th>\n",
       "      <td>5.7</td>\n",
       "      <td>100</td>\n",
       "    </tr>\n",
       "    <tr>\n",
       "      <th>11</th>\n",
       "      <td>6.1</td>\n",
       "      <td>100</td>\n",
       "    </tr>\n",
       "    <tr>\n",
       "      <th>12</th>\n",
       "      <td>6.8</td>\n",
       "      <td>100</td>\n",
       "    </tr>\n",
       "    <tr>\n",
       "      <th>13</th>\n",
       "      <td>7.5</td>\n",
       "      <td>100</td>\n",
       "    </tr>\n",
       "    <tr>\n",
       "      <th>14</th>\n",
       "      <td>7.4</td>\n",
       "      <td>100</td>\n",
       "    </tr>\n",
       "    <tr>\n",
       "      <th>15</th>\n",
       "      <td>3.6</td>\n",
       "      <td>100</td>\n",
       "    </tr>\n",
       "    <tr>\n",
       "      <th>16</th>\n",
       "      <td>0</td>\n",
       "      <td>100</td>\n",
       "    </tr>\n",
       "    <tr>\n",
       "      <th>17</th>\n",
       "      <td>7.8</td>\n",
       "      <td>100</td>\n",
       "    </tr>\n",
       "  </tbody>\n",
       "</table>\n",
       "</div>"
      ],
      "text/plain": [
       "      0    1\n",
       "0    40  100\n",
       "1    38  100\n",
       "2   6.4  100\n",
       "3   8.3  100\n",
       "4   5.1  100\n",
       "5   5.4  100\n",
       "6   6.7  100\n",
       "7   6.2  100\n",
       "8   7.3  100\n",
       "9   6.3  100\n",
       "10  5.7  100\n",
       "11  6.1  100\n",
       "12  6.8  100\n",
       "13  7.5  100\n",
       "14  7.4  100\n",
       "15  3.6  100\n",
       "16    0  100\n",
       "17  7.8  100"
      ]
     },
     "execution_count": 95,
     "metadata": {},
     "output_type": "execute_result"
    }
   ],
   "source": [
    "s= pd.Series(['40 l/100 km (comb)', # burada 100 degerlerinide almak istiyorum\n",
    "        '38 l/100 km (comb)', '6.4 l/100 km (comb)',\n",
    "       '8.3 kg/100 km (comb)', '5.1 kg/100 km (comb)',\n",
    "       '5.4 l/100 km (comb)', '6.7 l/100 km (comb)',\n",
    "       '6.2 l/100 km (comb)', '7.3 l/100 km (comb)',\n",
    "       '6.3 l/100 km (comb)', '5.7 l/100 km (comb)',\n",
    "       '6.1 l/100 km (comb)', '6.8 l/100 km (comb)',\n",
    "       '7.5 l/100 km (comb)', '7.4 l/100 km (comb)',\n",
    "       '3.6 kg/100 km (comb)', '0 l/100 km (comb)', \n",
    "       '7.8 l/100 km (comb)'])\n",
    "result2 = s.str.extract('(\\d\\d|\\d.\\d|\\d).+(\\d\\d\\d)') # ilk grubu 0. stunda ikinci grubu 1. dizinde listeledi\n",
    "result = s.str.extract('(^\\d*.\\d*) \\w*/(\\d*)')\n",
    "result"
   ]
  },
  {
   "cell_type": "code",
   "execution_count": 96,
   "metadata": {},
   "outputs": [
    {
     "data": {
      "text/html": [
       "<div>\n",
       "<style scoped>\n",
       "    .dataframe tbody tr th:only-of-type {\n",
       "        vertical-align: middle;\n",
       "    }\n",
       "\n",
       "    .dataframe tbody tr th {\n",
       "        vertical-align: top;\n",
       "    }\n",
       "\n",
       "    .dataframe thead th {\n",
       "        text-align: right;\n",
       "    }\n",
       "</style>\n",
       "<table border=\"1\" class=\"dataframe\">\n",
       "  <thead>\n",
       "    <tr style=\"text-align: right;\">\n",
       "      <th></th>\n",
       "      <th>0</th>\n",
       "      <th>1</th>\n",
       "    </tr>\n",
       "  </thead>\n",
       "  <tbody>\n",
       "    <tr>\n",
       "      <th>0</th>\n",
       "      <td>06</td>\n",
       "      <td>2020</td>\n",
       "    </tr>\n",
       "    <tr>\n",
       "      <th>1</th>\n",
       "      <td>11</td>\n",
       "      <td>2020</td>\n",
       "    </tr>\n",
       "    <tr>\n",
       "      <th>2</th>\n",
       "      <td>10</td>\n",
       "      <td>2019</td>\n",
       "    </tr>\n",
       "    <tr>\n",
       "      <th>3</th>\n",
       "      <td>05</td>\n",
       "      <td>2022</td>\n",
       "    </tr>\n",
       "    <tr>\n",
       "      <th>4</th>\n",
       "      <td>07</td>\n",
       "      <td>2019</td>\n",
       "    </tr>\n",
       "    <tr>\n",
       "      <th>5</th>\n",
       "      <td>06</td>\n",
       "      <td>2022</td>\n",
       "    </tr>\n",
       "    <tr>\n",
       "      <th>6</th>\n",
       "      <td>01</td>\n",
       "      <td>2022</td>\n",
       "    </tr>\n",
       "    <tr>\n",
       "      <th>7</th>\n",
       "      <td>11</td>\n",
       "      <td>2020</td>\n",
       "    </tr>\n",
       "    <tr>\n",
       "      <th>8</th>\n",
       "      <td>04</td>\n",
       "      <td>2019</td>\n",
       "    </tr>\n",
       "    <tr>\n",
       "      <th>9</th>\n",
       "      <td>08</td>\n",
       "      <td>2020</td>\n",
       "    </tr>\n",
       "    <tr>\n",
       "      <th>10</th>\n",
       "      <td>04</td>\n",
       "      <td>2022</td>\n",
       "    </tr>\n",
       "  </tbody>\n",
       "</table>\n",
       "</div>"
      ],
      "text/plain": [
       "     0     1\n",
       "0   06  2020\n",
       "1   11  2020\n",
       "2   10  2019\n",
       "3   05  2022\n",
       "4   07  2019\n",
       "5   06  2022\n",
       "6   01  2022\n",
       "7   11  2020\n",
       "8   04  2019\n",
       "9   08  2020\n",
       "10  04  2022"
      ]
     },
     "execution_count": 96,
     "metadata": {},
     "output_type": "execute_result"
    }
   ],
   "source": [
    "s = pd.Series(['06/2020\\n\\n4.9 l/100 km (comb)',\n",
    "'11/2020\\n\\n166 g CO2/km (comb)',                                 \n",
    "'10/2019\\n\\n5.3 l/100 km (comb)',\n",
    "'05/2022\\n\\n6.3 l/100 km (comb)',\n",
    "'07/2019\\n\\n128 g CO2/km (comb)',\n",
    "'06/2022\\n\\n112 g CO2/km (comb)',                                                 \n",
    "'01/2022\\n\\n5.8 l/100 km (comb)',\n",
    "'11/2020\\n\\n106 g CO2/km (comb)',\n",
    "'04/2019\\n\\n105 g CO2/km (comb)',\n",
    "'08/2020\\n\\n133 g CO2/km (comb)',\n",
    "'04/2022\\n\\n133 g CO2/km (comb)'])\n",
    "result = s.str.extract(\"(\\d\\d).(\\d\\d\\d\\d)\")\n",
    "result2 = s.str.extract(\"(\\d{2}).(\\d{4})\")\n",
    "result3 = s.str.extract(\"(\\d*).(\\d*)\")\n",
    "result4 = s.str.extract(\"(\\d\\d)/(\\d*)\")\n",
    "result5 = s.str.extract(\"(\\d\\d)/(\\d\\d\\d\\d)\")\n",
    "result5"
   ]
  },
  {
   "cell_type": "code",
   "execution_count": 97,
   "metadata": {},
   "outputs": [
    {
     "data": {
      "text/html": [
       "<div>\n",
       "<style scoped>\n",
       "    .dataframe tbody tr th:only-of-type {\n",
       "        vertical-align: middle;\n",
       "    }\n",
       "\n",
       "    .dataframe tbody tr th {\n",
       "        vertical-align: top;\n",
       "    }\n",
       "\n",
       "    .dataframe thead th {\n",
       "        text-align: right;\n",
       "    }\n",
       "</style>\n",
       "<table border=\"1\" class=\"dataframe\">\n",
       "  <thead>\n",
       "    <tr style=\"text-align: right;\">\n",
       "      <th></th>\n",
       "      <th>0</th>\n",
       "      <th>1</th>\n",
       "    </tr>\n",
       "  </thead>\n",
       "  <tbody>\n",
       "    <tr>\n",
       "      <th>0</th>\n",
       "      <td>06</td>\n",
       "      <td>2020</td>\n",
       "    </tr>\n",
       "    <tr>\n",
       "      <th>1</th>\n",
       "      <td>11</td>\n",
       "      <td>2020</td>\n",
       "    </tr>\n",
       "    <tr>\n",
       "      <th>2</th>\n",
       "      <td>10</td>\n",
       "      <td>2019</td>\n",
       "    </tr>\n",
       "    <tr>\n",
       "      <th>3</th>\n",
       "      <td>05</td>\n",
       "      <td>2022</td>\n",
       "    </tr>\n",
       "    <tr>\n",
       "      <th>4</th>\n",
       "      <td>07</td>\n",
       "      <td>2019</td>\n",
       "    </tr>\n",
       "    <tr>\n",
       "      <th>5</th>\n",
       "      <td>06</td>\n",
       "      <td>2022</td>\n",
       "    </tr>\n",
       "    <tr>\n",
       "      <th>6</th>\n",
       "      <td>01</td>\n",
       "      <td>2022</td>\n",
       "    </tr>\n",
       "    <tr>\n",
       "      <th>7</th>\n",
       "      <td>11</td>\n",
       "      <td>2020</td>\n",
       "    </tr>\n",
       "    <tr>\n",
       "      <th>8</th>\n",
       "      <td>04</td>\n",
       "      <td>2019</td>\n",
       "    </tr>\n",
       "    <tr>\n",
       "      <th>9</th>\n",
       "      <td>08</td>\n",
       "      <td>2020</td>\n",
       "    </tr>\n",
       "    <tr>\n",
       "      <th>10</th>\n",
       "      <td>04</td>\n",
       "      <td>2022</td>\n",
       "    </tr>\n",
       "  </tbody>\n",
       "</table>\n",
       "</div>"
      ],
      "text/plain": [
       "     0     1\n",
       "0   06  2020\n",
       "1   11  2020\n",
       "2   10  2019\n",
       "3   05  2022\n",
       "4   07  2019\n",
       "5   06  2022\n",
       "6   01  2022\n",
       "7   11  2020\n",
       "8   04  2019\n",
       "9   08  2020\n",
       "10  04  2022"
      ]
     },
     "execution_count": 97,
     "metadata": {},
     "output_type": "execute_result"
    }
   ],
   "source": [
    "s = pd.Series(['06/2020\\n\\n4.9 l/100 km (comb)',\n",
    "'11/2020\\n\\n166 g CO2/km (comb)',                                 \n",
    "'10/2019\\n\\n5.3 l/100 km (comb)',\n",
    "'05/2022\\n\\n6.3 l/100 km (comb)',\n",
    "'07/2019\\n\\n128 g CO2/km (comb)',\n",
    "'06/2022\\n\\n112 g CO2/km (comb)',                                                 \n",
    "'01/2022\\n\\n5.8 l/100 km (comb)',\n",
    "'11/2020\\n\\n106 g CO2/km (comb)',\n",
    "'04/2019\\n\\n105 g CO2/km (comb)',\n",
    "'08/2020\\n\\n133 g CO2/km (comb)',\n",
    "'04/2022\\n\\n133 g CO2/km (comb)'])\n",
    "\n",
    "result = s.str.extract('(\\d{1,2})/(\\d{4})')\n",
    "result"
   ]
  },
  {
   "cell_type": "code",
   "execution_count": null,
   "metadata": {},
   "outputs": [],
   "source": [
    "s = pd.Series(['06/2020\\n\\n4.9 l/100 km (comb)',\n",
    "'11/2020\\n\\n166 g CO2/km (comb)',                                 \n",
    "'10/2019\\n\\n5.3 l/100 km (comb)',\n",
    "'05/2022\\n\\n6.3 l/100 km (comb)',\n",
    "'07/2019\\n\\n128 g CO2/km (comb)',\n",
    "'06/2022\\n\\n112 g CO2/km (comb)',                                                 \n",
    "'01/2022\\n\\n5.8 l/100 km (comb)',\n",
    "'11/2020\\n\\n106 g CO2/km (comb)',\n",
    "'04/2019\\n\\n105 g CO2/km (comb)',\n",
    "'08/2020\\n\\n133 g CO2/km (comb)',\n",
    "'04/2022\\n\\n133 g CO2/km (comb)'])"
   ]
  },
  {
   "cell_type": "code",
   "execution_count": null,
   "metadata": {},
   "outputs": [],
   "source": [
    "result = s.str.extract('(\\d{2})/(\\d{4})\\s\\s(\\d{3}|\\d.\\d)')\n",
    "result"
   ]
  }
 ],
 "metadata": {
  "kernelspec": {
   "display_name": "Python 3",
   "language": "python",
   "name": "python3"
  },
  "language_info": {
   "codemirror_mode": {
    "name": "ipython",
    "version": 3
   },
   "file_extension": ".py",
   "mimetype": "text/x-python",
   "name": "python",
   "nbconvert_exporter": "python",
   "pygments_lexer": "ipython3",
   "version": "3.8.3"
  }
 },
 "nbformat": 4,
 "nbformat_minor": 4
}
