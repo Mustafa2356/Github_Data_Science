{
 "cells": [
  {
   "cell_type": "code",
   "execution_count": 1,
   "metadata": {},
   "outputs": [
    {
     "data": {
      "text/plain": [
       "'H'"
      ]
     },
     "execution_count": 1,
     "metadata": {},
     "output_type": "execute_result"
    }
   ],
   "source": [
    "import random\n",
    "coin = ('H','T')\n",
    "random.choice(coin)"
   ]
  },
  {
   "cell_type": "code",
   "execution_count": 2,
   "metadata": {},
   "outputs": [
    {
     "data": {
      "text/plain": [
       "'T'"
      ]
     },
     "execution_count": 2,
     "metadata": {},
     "output_type": "execute_result"
    }
   ],
   "source": [
    "import random\n",
    "coin = ('H','T',\"V\")\n",
    "random.choice(coin)"
   ]
  },
  {
   "cell_type": "code",
   "execution_count": 3,
   "metadata": {},
   "outputs": [
    {
     "name": "stdout",
     "output_type": "stream",
     "text": [
      "P(Heads): 0.5\n",
      "P(Tails): 0.5\n"
     ]
    }
   ],
   "source": [
    "results = {'H':0, 'T':0}\n",
    "\n",
    "for i in range(10):\n",
    "    results[random.choice(list(results.keys()))] +=1\n",
    "\n",
    "print('P(Heads):', results['H']/sum(results.values()))\n",
    "print('P(Tails):', results['T']/sum(results.values()))"
   ]
  },
  {
   "cell_type": "markdown",
   "metadata": {},
   "source": [
    "## Rolling 2 Dice"
   ]
  },
  {
   "cell_type": "code",
   "execution_count": 4,
   "metadata": {},
   "outputs": [],
   "source": [
    "import numpy as np\n",
    "import seaborn as sns\n",
    "import matplotlib.pyplot as plt"
   ]
  },
  {
   "cell_type": "code",
   "execution_count": 5,
   "metadata": {},
   "outputs": [],
   "source": [
    "np.random.seed(51)"
   ]
  },
  {
   "cell_type": "code",
   "execution_count": 6,
   "metadata": {},
   "outputs": [],
   "source": [
    "d1 = np.array([1,2,3,4,5,6])\n",
    "d2 = np.array([1,2,3,4,5,6])"
   ]
  },
  {
   "cell_type": "code",
   "execution_count": 7,
   "metadata": {},
   "outputs": [],
   "source": [
    "dice_1 = []\n",
    "dice_2 = []\n",
    "\n",
    "sums = []\n",
    "\n",
    "for i in range(50):\n",
    "    roll1 = np.random.choice(d1)\n",
    "    roll2 = np.random.choice(d2)\n",
    "    dice_1.append(roll1)\n",
    "    dice_2.append(roll2)\n",
    "    sums.append(roll1 + roll2)\n"
   ]
  },
  {
   "cell_type": "code",
   "execution_count": 8,
   "metadata": {},
   "outputs": [
    {
     "name": "stdout",
     "output_type": "stream",
     "text": [
      "[2, 1, 6, 6, 2, 3, 5, 5, 4, 5, 5, 2, 6, 1, 1, 5, 6, 3, 4, 6, 4, 1, 6, 4, 6, 2, 6, 2, 2, 4, 3, 6, 2, 1, 4, 6, 5, 3, 6, 1, 2, 5, 6, 3, 5, 5, 5, 1, 6, 2, 1, 5, 5, 6, 2, 5, 4, 5, 5, 3, 1, 1, 2, 2, 3, 6, 2, 6, 4, 3, 6, 4, 3, 5, 4, 3, 3, 3, 1, 5, 4, 4, 4, 5, 5, 4, 1, 6, 5, 1, 3, 1, 1, 6, 5, 1, 4, 5, 5, 4, 1, 4, 3, 1, 6, 3, 1, 1, 1, 4, 6, 6, 2, 4, 6, 5, 1, 1, 3, 2, 4, 2, 6, 3, 3, 6, 2, 2, 1, 1, 4, 3, 6, 1, 5, 1, 1, 4, 3, 5, 6, 1, 6, 3, 2, 3, 6, 6, 3, 4, 1, 2, 1, 3, 2, 6, 1, 3, 2, 1, 6, 6, 2, 3, 1, 2, 1, 3, 5, 6, 5, 2, 1, 6, 1, 4, 5, 4, 5, 1, 2, 2, 4, 2, 3, 2, 2, 5, 6, 6, 6, 4, 4, 4, 6, 4, 2, 1, 3, 5, 3, 1, 4, 4, 5, 1, 6, 1, 5, 2, 5, 5, 5, 6, 4, 2, 3, 4, 2, 3, 2, 3, 4, 4, 6, 4, 3, 3, 2, 3, 2, 1, 3, 3, 2, 3, 6, 3, 6, 2, 6, 5, 1, 2, 2, 2, 1, 4, 4, 6, 1, 5, 6, 5, 6, 5, 4, 2, 6, 3, 1, 3, 5, 4, 2, 5, 3, 3, 2, 5, 5, 4, 1, 5, 3, 5, 2, 4, 4, 2, 3, 4, 3, 6, 2, 3, 6, 5, 3, 3, 4, 4, 3, 5, 5, 1, 2, 5, 3, 2, 3, 5, 2, 5, 4, 6, 4, 4, 4, 3, 3, 3, 2, 6, 3, 6, 4, 5, 4, 6, 2, 1, 2, 4, 3, 6, 6, 1, 5, 3, 2, 3, 1, 6, 5, 4, 1, 3, 6, 4, 2, 6, 1, 5, 1, 4, 2, 4, 4, 1, 1, 6, 5, 3, 4, 2, 2, 1, 4, 3, 1, 3, 1, 3, 3, 4, 6, 4, 1, 2, 3, 3, 6, 5, 5, 1, 3, 4, 1, 6, 4, 5, 1, 5, 6, 1, 2, 1, 5, 2, 4, 4, 2, 3, 4, 3, 2, 3, 3, 5, 5, 1, 3, 2, 5, 4, 5, 4, 1, 3, 5, 4, 5, 1, 5, 5, 1, 5, 4, 1, 3, 5, 3, 3, 1, 2, 4, 3, 4, 5, 3, 3, 2, 6, 3, 5, 5, 6, 4, 6, 6, 6, 5, 1, 6, 5, 3, 5, 1, 2, 6, 2, 3, 4, 5, 2, 2, 3, 6, 2, 2, 3, 5, 2, 2, 6, 2, 3, 5, 6, 3, 3, 4, 6, 4, 1, 4, 2, 2, 6, 3, 1, 4, 3, 1, 2, 2, 4, 4, 6, 5, 6, 2, 4, 2, 1, 4, 2, 4, 3, 1, 5, 4, 5, 2, 6, 1, 5, 3, 4, 5, 4, 1, 6, 3, 4, 3, 3, 1, 2, 5, 6, 3, 5, 3, 3, 5, 2, 6, 1, 3, 1, 3, 4, 3, 1, 6, 2, 5, 5, 4, 3, 4, 4, 5, 5, 4, 4, 6, 3, 3, 4, 5, 4, 3, 3, 2, 3, 4, 5, 4, 4, 1, 4, 4, 6, 1, 1, 6, 2, 6, 5, 1, 2, 6, 6, 1, 2, 4, 6, 2, 6, 5, 5, 2, 1, 5, 2, 1, 2, 5, 4, 1, 3, 6, 3, 4, 3, 1, 6, 1, 3, 5, 2, 4, 2, 2, 6, 2, 3, 5, 5, 5, 5, 5, 2, 2, 5, 2, 5, 4, 5, 2, 1, 1, 3, 2, 5, 6, 6, 5, 6, 6, 5, 6, 3, 2, 5, 1, 3, 1, 4, 5, 3, 6, 3, 1, 1, 6, 5, 3, 6, 1, 1, 6, 5, 2, 2, 1, 4, 6, 1, 4, 5, 2, 5, 4, 5, 6, 1, 5, 2, 6, 1, 3, 1, 4, 6, 3, 3, 3, 2, 5, 6, 6, 3, 4, 2, 2, 5, 5, 2, 4, 2, 4, 3, 3, 5, 4, 2, 2, 1, 1, 6, 5, 3, 2, 6, 3, 4, 3, 4, 1, 3, 2, 3, 2, 6, 6, 2, 5, 1, 5, 3, 2, 5, 6, 4, 6, 1, 4, 6, 3, 2, 4, 2, 6, 1, 6, 3, 6, 4, 3, 1, 1, 3, 5, 3, 2, 1, 5, 5, 5, 5, 4, 5, 1, 6, 5, 4, 1, 6, 1, 1, 1, 2, 2, 6, 6, 3, 2, 4, 3, 6, 1, 1, 4, 6, 5, 4, 1, 4, 6, 6, 2, 6, 6, 3, 4, 6, 3, 6, 3, 5, 3, 6, 5, 1, 2, 2, 3, 6, 1, 6, 4, 3, 2, 1, 3, 3, 5, 2, 2, 2, 1, 3, 2, 2, 6, 6, 1, 6, 1, 1, 6, 2, 2, 5, 4, 6, 6, 5, 5, 3, 4, 2, 5, 2, 2, 2, 2, 2, 1, 5, 4, 3, 2, 3, 5, 4, 5, 3, 2, 4, 4, 3, 2, 1, 3, 2, 3, 4, 6, 6, 2, 5, 6, 5, 6, 1, 2, 4, 2, 1, 5, 2, 3, 6, 6, 3, 4, 3, 4, 6, 4, 6, 5, 3, 6, 6, 4, 5, 2, 3, 5, 2, 1, 5, 1, 5, 4, 6, 5, 5, 5, 6, 1, 2, 4, 5, 6, 3, 2, 6, 2, 4, 1, 2, 1, 4, 5, 2, 6, 1, 4, 5, 2, 1, 5, 2, 5, 4, 5, 4, 3, 6, 4, 1, 6, 3, 2, 2, 3, 4, 6, 5, 1, 3, 4, 2, 6, 1, 3, 3, 1, 6, 2, 1, 6, 5, 5, 1, 1, 6, 6, 5, 5, 1, 4, 6, 1, 4, 4, 5, 4, 6, 1, 3, 1, 1, 1, 5, 2, 4, 3, 1, 5, 1, 6, 1, 3, 3, 6, 1, 6, 2, 6, 1, 1, 5]\n",
      "[6, 2, 1, 5, 6, 6, 5, 5, 4, 3, 3, 2, 5, 1, 6, 5, 2, 4, 5, 4, 6, 3, 2, 6, 1, 6, 6, 5, 2, 4, 4, 5, 2, 4, 4, 5, 6, 5, 1, 4, 6, 5, 6, 2, 6, 1, 6, 5, 5, 3, 6, 3, 5, 3, 2, 4, 5, 2, 4, 5, 1, 1, 6, 3, 6, 2, 5, 5, 6, 6, 1, 6, 6, 1, 6, 4, 5, 4, 5, 4, 1, 2, 5, 5, 4, 1, 2, 3, 1, 3, 1, 3, 6, 1, 4, 5, 5, 6, 3, 4, 4, 5, 6, 5, 1, 2, 2, 5, 4, 2, 4, 4, 1, 3, 6, 5, 5, 4, 3, 6, 1, 5, 6, 5, 3, 1, 2, 4, 4, 3, 4, 3, 6, 2, 3, 5, 2, 2, 1, 5, 3, 5, 1, 6, 4, 3, 3, 6, 6, 5, 4, 5, 3, 3, 4, 4, 2, 1, 5, 2, 6, 1, 1, 2, 1, 1, 2, 6, 5, 4, 1, 4, 4, 1, 3, 2, 2, 2, 1, 2, 2, 2, 4, 3, 5, 1, 3, 6, 5, 3, 3, 6, 3, 2, 2, 1, 2, 4, 3, 1, 6, 1, 1, 1, 5, 5, 1, 3, 2, 3, 3, 3, 2, 1, 6, 4, 2, 5, 5, 1, 2, 4, 3, 6, 1, 6, 5, 3, 1, 2, 5, 3, 2, 4, 1, 1, 6, 6, 2, 6, 4, 2, 1, 5, 1, 1, 1, 4, 3, 6, 3, 3, 4, 6, 2, 4, 3, 4, 2, 6, 1, 1, 5, 2, 2, 5, 5, 2, 3, 3, 3, 1, 2, 5, 6, 5, 2, 2, 6, 5, 1, 3, 1, 3, 3, 5, 6, 6, 6, 3, 3, 6, 3, 1, 6, 2, 6, 3, 6, 2, 3, 1, 6, 6, 5, 6, 2, 4, 3, 6, 2, 3, 2, 6, 3, 3, 6, 4, 2, 3, 1, 3, 2, 3, 1, 4, 4, 4, 5, 5, 4, 3, 2, 6, 2, 6, 5, 6, 5, 1, 6, 5, 3, 2, 5, 4, 2, 2, 6, 5, 2, 4, 3, 1, 1, 4, 3, 5, 4, 6, 5, 2, 5, 3, 1, 3, 5, 2, 6, 5, 2, 4, 2, 4, 2, 5, 4, 2, 6, 1, 2, 1, 4, 4, 3, 4, 5, 5, 1, 3, 1, 1, 2, 4, 5, 3, 6, 2, 5, 3, 1, 3, 3, 1, 4, 4, 6, 4, 5, 3, 4, 4, 4, 6, 1, 2, 4, 3, 4, 2, 2, 3, 6, 1, 2, 6, 1, 3, 1, 4, 6, 1, 6, 1, 5, 2, 6, 3, 6, 2, 3, 1, 4, 5, 1, 5, 5, 6, 3, 6, 6, 3, 5, 6, 3, 1, 6, 5, 4, 5, 3, 5, 6, 2, 5, 4, 4, 1, 6, 4, 2, 3, 1, 6, 3, 4, 1, 1, 6, 6, 2, 1, 1, 1, 2, 4, 6, 3, 1, 1, 2, 6, 3, 4, 4, 5, 6, 1, 4, 4, 6, 2, 5, 3, 2, 3, 1, 2, 3, 2, 1, 3, 3, 1, 1, 1, 3, 4, 6, 6, 1, 3, 2, 5, 6, 2, 2, 1, 4, 2, 3, 2, 4, 2, 5, 1, 4, 1, 2, 4, 1, 6, 3, 4, 1, 1, 5, 1, 2, 5, 3, 1, 3, 5, 3, 2, 2, 3, 6, 5, 4, 5, 4, 6, 5, 6, 5, 4, 3, 2, 6, 1, 4, 4, 4, 4, 6, 1, 3, 1, 6, 6, 2, 3, 3, 2, 5, 3, 3, 4, 2, 4, 3, 1, 4, 6, 6, 3, 4, 2, 2, 2, 3, 2, 4, 1, 6, 3, 3, 1, 3, 4, 1, 5, 5, 3, 2, 6, 4, 3, 2, 3, 6, 5, 2, 3, 1, 2, 3, 4, 3, 6, 6, 6, 3, 2, 2, 1, 5, 1, 4, 3, 5, 2, 6, 4, 1, 4, 6, 5, 6, 5, 6, 5, 5, 4, 6, 1, 1, 3, 4, 2, 5, 6, 6, 4, 6, 4, 3, 2, 6, 6, 2, 4, 6, 1, 5, 2, 5, 4, 4, 5, 5, 2, 2, 6, 6, 1, 6, 6, 2, 5, 4, 2, 1, 6, 3, 1, 2, 3, 2, 2, 3, 3, 4, 3, 4, 2, 3, 3, 1, 1, 4, 5, 3, 1, 4, 5, 5, 1, 5, 4, 5, 6, 4, 2, 4, 1, 1, 5, 6, 2, 6, 4, 5, 2, 6, 1, 2, 3, 4, 2, 1, 2, 2, 3, 4, 4, 5, 5, 2, 1, 3, 1, 4, 2, 5, 3, 6, 2, 3, 3, 4, 4, 2, 5, 6, 2, 1, 2, 1, 6, 6, 5, 3, 2, 6, 3, 4, 3, 2, 4, 3, 4, 4, 2, 4, 3, 6, 5, 1, 6, 1, 2, 6, 2, 4, 1, 3, 3, 3, 5, 1, 6, 6, 4, 6, 5, 4, 6, 1, 6, 5, 6, 1, 1, 1, 6, 2, 4, 1, 4, 5, 1, 2, 5, 5, 6, 3, 3, 1, 4, 1, 1, 5, 3, 6, 6, 2, 2, 6, 5, 3, 2, 2, 5, 1, 5, 2, 3, 3, 6, 1, 2, 1, 3, 3, 4, 4, 2, 3, 2, 2, 6, 3, 4, 5, 4, 5, 3, 2, 6, 3, 3, 6, 5, 1, 6, 1, 2, 5, 4, 1, 1, 2, 5, 4, 4, 3, 4, 4, 5, 5, 1, 3, 2, 5, 6, 4, 5, 5, 5, 3, 5, 3, 6, 5, 3, 2, 6, 5, 3, 3, 2, 1, 3, 4, 4, 3, 6, 3, 4, 6, 3, 2, 6, 4, 6, 2, 5, 2, 6, 2, 2, 3, 5, 4, 6, 2, 1, 3, 6, 5, 1, 1, 5, 2, 2, 5, 2, 6, 3, 4, 4, 2, 5, 6, 4, 3, 2, 3, 3, 3, 1, 3, 3, 4, 5, 5, 2, 5, 5, 2, 1, 6, 6, 6, 5, 4, 6, 3, 2, 3, 6, 2, 4, 3, 2, 4, 4, 3, 5, 1, 6, 5, 2, 2, 2, 2, 6]\n",
      "[8, 3, 7, 11, 8, 9, 10, 10, 8, 8, 8, 4, 11, 2, 7, 10, 8, 7, 9, 10, 10, 4, 8, 10, 7, 8, 12, 7, 4, 8, 7, 11, 4, 5, 8, 11, 11, 8, 7, 5, 8, 10, 12, 5, 11, 6, 11, 6, 11, 5, 7, 8, 10, 9, 4, 9, 9, 7, 9, 8, 2, 2, 8, 5, 9, 8, 7, 11, 10, 9, 7, 10, 9, 6, 10, 7, 8, 7, 6, 9, 5, 6, 9, 10, 9, 5, 3, 9, 6, 4, 4, 4, 7, 7, 9, 6, 9, 11, 8, 8, 5, 9, 9, 6, 7, 5, 3, 6, 5, 6, 10, 10, 3, 7, 12, 10, 6, 5, 6, 8, 5, 7, 12, 8, 6, 7, 4, 6, 5, 4, 8, 6, 12, 3, 8, 6, 3, 6, 4, 10, 9, 6, 7, 9, 6, 6, 9, 12, 9, 9, 5, 7, 4, 6, 6, 10, 3, 4, 7, 3, 12, 7, 3, 5, 2, 3, 3, 9, 10, 10, 6, 6, 5, 7, 4, 6, 7, 6, 6, 3, 4, 4, 8, 5, 8, 3, 5, 11, 11, 9, 9, 10, 7, 6, 8, 5, 4, 5, 6, 6, 9, 2, 5, 5, 10, 6, 7, 4, 7, 5, 8, 8, 7, 7, 10, 6, 5, 9, 7, 4, 4, 7, 7, 10, 7, 10, 8, 6, 3, 5, 7, 4, 5, 7, 3, 4, 12, 9, 8, 8, 10, 7, 2, 7, 3, 3, 2, 8, 7, 12, 4, 8, 10, 11, 8, 9, 7, 6, 8, 9, 2, 4, 10, 6, 4, 10, 8, 5, 5, 8, 8, 5, 3, 10, 9, 10, 4, 6, 10, 7, 4, 7, 4, 9, 5, 8, 12, 11, 9, 6, 7, 10, 6, 6, 11, 3, 8, 8, 9, 4, 6, 6, 8, 11, 9, 12, 6, 8, 7, 9, 5, 6, 4, 12, 6, 9, 10, 9, 6, 9, 3, 4, 4, 7, 4, 10, 10, 5, 10, 8, 6, 6, 3, 12, 7, 10, 6, 9, 11, 5, 8, 11, 4, 7, 6, 8, 4, 6, 10, 6, 3, 10, 8, 4, 5, 6, 5, 6, 8, 9, 6, 5, 6, 6, 4, 7, 11, 6, 7, 7, 5, 7, 8, 9, 7, 6, 7, 6, 7, 7, 6, 6, 5, 9, 9, 5, 7, 6, 6, 5, 5, 5, 4, 7, 9, 6, 8, 5, 8, 8, 6, 4, 6, 3, 9, 8, 11, 8, 6, 6, 9, 8, 9, 7, 6, 7, 5, 8, 8, 3, 5, 8, 9, 4, 3, 8, 5, 6, 5, 9, 9, 4, 8, 7, 8, 7, 11, 9, 10, 8, 9, 7, 9, 6, 7, 10, 8, 11, 4, 8, 12, 5, 8, 10, 8, 3, 8, 8, 10, 7, 5, 8, 11, 4, 7, 10, 6, 4, 11, 10, 5, 6, 5, 12, 7, 5, 5, 3, 8, 12, 5, 2, 5, 4, 3, 6, 8, 7, 5, 7, 7, 12, 5, 8, 6, 6, 10, 3, 8, 7, 7, 7, 9, 8, 4, 9, 2, 7, 6, 6, 6, 7, 4, 7, 4, 5, 6, 7, 7, 8, 6, 9, 5, 10, 9, 5, 7, 3, 10, 3, 6, 3, 7, 6, 8, 2, 10, 3, 7, 9, 5, 9, 7, 8, 6, 6, 9, 5, 8, 8, 6, 5, 8, 9, 6, 5, 4, 6, 10, 10, 8, 9, 5, 10, 9, 12, 6, 5, 9, 4, 12, 6, 5, 6, 10, 10, 7, 3, 7, 7, 8, 12, 7, 8, 5, 3, 10, 5, 4, 6, 7, 8, 4, 4, 10, 9, 10, 6, 5, 8, 3, 5, 8, 4, 8, 3, 8, 9, 5, 4, 8, 9, 6, 10, 10, 5, 4, 11, 6, 8, 6, 8, 8, 6, 3, 6, 3, 7, 9, 10, 8, 12, 12, 11, 9, 5, 4, 6, 6, 4, 5, 7, 10, 5, 12, 7, 2, 5, 12, 10, 9, 11, 7, 6, 11, 9, 8, 3, 2, 7, 10, 3, 9, 11, 8, 9, 10, 9, 9, 3, 11, 8, 8, 5, 9, 2, 9, 8, 8, 7, 7, 7, 10, 8, 8, 9, 10, 3, 8, 11, 7, 7, 8, 4, 5, 9, 6, 6, 6, 5, 4, 3, 4, 9, 9, 6, 6, 8, 6, 7, 4, 5, 5, 8, 5, 4, 6, 11, 11, 3, 10, 5, 10, 9, 6, 7, 10, 5, 7, 6, 10, 8, 9, 6, 9, 4, 12, 2, 8, 6, 10, 6, 4, 3, 3, 6, 9, 7, 7, 6, 7, 6, 8, 6, 8, 7, 6, 9, 11, 6, 4, 9, 5, 5, 3, 7, 8, 8, 7, 5, 3, 10, 9, 11, 4, 3, 10, 9, 9, 7, 3, 8, 9, 10, 6, 8, 10, 6, 10, 11, 4, 12, 4, 7, 9, 8, 9, 2, 5, 5, 6, 11, 2, 12, 10, 7, 8, 6, 7, 9, 6, 8, 7, 8, 2, 4, 3, 8, 8, 10, 2, 10, 6, 2, 8, 7, 7, 11, 7, 9, 7, 9, 6, 4, 9, 5, 11, 8, 4, 4, 8, 7, 4, 7, 6, 8, 3, 8, 7, 7, 8, 9, 3, 6, 5, 6, 5, 5, 7, 4, 6, 6, 8, 12, 5, 9, 11, 9, 11, 4, 4, 10, 5, 4, 11, 7, 4, 12, 7, 5, 9, 7, 5, 7, 6, 11, 9, 7, 9, 10, 8, 10, 7, 4, 8, 4, 6, 11, 5, 10, 9, 11, 8, 10, 8, 12, 6, 5, 6, 11, 11, 6, 5, 8, 3, 7, 5, 6, 4, 10, 8, 6, 12, 4, 6, 11, 6, 7, 7, 7, 7, 10, 7, 6, 6, 11, 8, 7, 8, 4, 5, 8, 8, 5, 7, 10, 3, 5, 9, 4, 12, 4, 7, 7, 3, 11, 8, 5, 9, 7, 8, 4, 4, 7, 9, 8, 9, 6, 9, 8, 6, 9, 6, 6, 10, 12, 7, 8, 5, 7, 4, 7, 5, 10, 5, 5, 8, 3, 10, 5, 6, 8, 7, 7, 11, 4, 8, 3, 3, 11]\n"
     ]
    }
   ],
   "source": [
    "print(dice_1)\n",
    "print(dice_2)\n",
    "print(sums)"
   ]
  },
  {
   "cell_type": "code",
   "execution_count": 9,
   "metadata": {},
   "outputs": [
    {
     "data": {
      "text/plain": [
       "<matplotlib.axes._subplots.AxesSubplot at 0x1c59316dd90>"
      ]
     },
     "execution_count": 9,
     "metadata": {},
     "output_type": "execute_result"
    },
    {
     "data": {
      "image/png": "[encoded data removed]",
      "text/plain": [
       "<Figure size 864x288 with 2 Axes>"
      ]
     },
     "metadata": {
      "needs_background": "light"
     },
     "output_type": "display_data"
    }
   ],
   "source": [
    "fig, (ax1, ax2) = plt.subplots(ncols=2, sharey = True, figsize=(12,4))\n",
    "sns.countplot(dice_1, ax=ax1)\n",
    "sns.countplot(dice_2, ax=ax2)"
   ]
  },
  {
   "cell_type": "code",
   "execution_count": 10,
   "metadata": {},
   "outputs": [
    {
     "data": {
      "text/plain": [
       "<matplotlib.axes._subplots.AxesSubplot at 0x1c5932487c0>"
      ]
     },
     "execution_count": 10,
     "metadata": {},
     "output_type": "execute_result"
    },
    {
     "data": {
      "image/png": "[encoded data removed]",
      "text/plain": [
       "<Figure size 432x288 with 1 Axes>"
      ]
     },
     "metadata": {
      "needs_background": "light"
     },
     "output_type": "display_data"
    }
   ],
   "source": [
    "sns.countplot(sums)"
   ]
  },
  {
   "cell_type": "markdown",
   "metadata": {},
   "source": [
    "## Combinatoric Generators"
   ]
  },
  {
   "cell_type": "markdown",
   "metadata": {},
   "source": [
    "### Product"
   ]
  },
  {
   "cell_type": "code",
   "execution_count": 12,
   "metadata": {},
   "outputs": [],
   "source": [
    "import itertools as it"
   ]
  },
  {
   "cell_type": "code",
   "execution_count": 14,
   "metadata": {},
   "outputs": [
    {
     "data": {
      "text/plain": [
       "[('1', '1'),\n",
       " ('1', '2'),\n",
       " ('1', '3'),\n",
       " ('1', '4'),\n",
       " ('1', '5'),\n",
       " ('2', '1'),\n",
       " ('2', '2'),\n",
       " ('2', '3'),\n",
       " ('2', '4'),\n",
       " ('2', '5'),\n",
       " ('3', '1'),\n",
       " ('3', '2'),\n",
       " ('3', '3'),\n",
       " ('3', '4'),\n",
       " ('3', '5'),\n",
       " ('4', '1'),\n",
       " ('4', '2'),\n",
       " ('4', '3'),\n",
       " ('4', '4'),\n",
       " ('4', '5'),\n",
       " ('5', '1'),\n",
       " ('5', '2'),\n",
       " ('5', '3'),\n",
       " ('5', '4'),\n",
       " ('5', '5')]"
      ]
     },
     "execution_count": 14,
     "metadata": {},
     "output_type": "execute_result"
    }
   ],
   "source": [
    "list(it.product('12345', repeat=2))"
   ]
  },
  {
   "cell_type": "code",
   "execution_count": 17,
   "metadata": {},
   "outputs": [
    {
     "name": "stdout",
     "output_type": "stream",
     "text": [
      "[('H', 'H', 'H'), ('H', 'H', 'T'), ('H', 'T', 'H'), ('H', 'T', 'T'), ('T', 'H', 'H'), ('T', 'H', 'T'), ('T', 'T', 'H'), ('T', 'T', 'T')]\n"
     ]
    }
   ],
   "source": [
    "cp = list(it.product('HT', repeat=3))\n",
    "print(cp)"
   ]
  },
  {
   "cell_type": "code",
   "execution_count": 18,
   "metadata": {},
   "outputs": [
    {
     "data": {
      "text/plain": [
       "8"
      ]
     },
     "execution_count": 18,
     "metadata": {},
     "output_type": "execute_result"
    }
   ],
   "source": [
    "len(cp)"
   ]
  },
  {
   "cell_type": "code",
   "execution_count": 19,
   "metadata": {},
   "outputs": [
    {
     "name": "stdout",
     "output_type": "stream",
     "text": [
      "[('1', 'H'), ('1', 'T'), ('2', 'H'), ('2', 'T'), ('3', 'H'), ('3', 'T'), ('4', 'H'), ('4', 'T'), ('5', 'H'), ('5', 'T'), ('6', 'H'), ('6', 'T')]\n"
     ]
    }
   ],
   "source": [
    "cp2 = list(it.product('123456',['H','T']))\n",
    "print(cp2)"
   ]
  },
  {
   "cell_type": "markdown",
   "metadata": {},
   "source": [
    "## Permutations"
   ]
  },
  {
   "cell_type": "code",
   "execution_count": 21,
   "metadata": {},
   "outputs": [
    {
     "data": {
      "text/plain": [
       "24"
      ]
     },
     "execution_count": 21,
     "metadata": {},
     "output_type": "execute_result"
    }
   ],
   "source": [
    "import math\n",
    "math.factorial(4)"
   ]
  },
  {
   "cell_type": "code",
   "execution_count": 22,
   "metadata": {},
   "outputs": [],
   "source": [
    "def permutation(n,r):\n",
    "    return math.factorial(n)/math.factorial(n-r)"
   ]
  },
  {
   "cell_type": "code",
   "execution_count": 23,
   "metadata": {},
   "outputs": [
    {
     "data": {
      "text/plain": [
       "12.0"
      ]
     },
     "execution_count": 23,
     "metadata": {},
     "output_type": "execute_result"
    }
   ],
   "source": [
    "permutation(4,2)"
   ]
  },
  {
   "cell_type": "code",
   "execution_count": 24,
   "metadata": {},
   "outputs": [
    {
     "name": "stdout",
     "output_type": "stream",
     "text": [
      "('G', 'R')\n",
      "('G', 'Y')\n",
      "('G', 'B')\n",
      "('R', 'G')\n",
      "('R', 'Y')\n",
      "('R', 'B')\n",
      "('Y', 'G')\n",
      "('Y', 'R')\n",
      "('Y', 'B')\n",
      "('B', 'G')\n",
      "('B', 'R')\n",
      "('B', 'Y')\n"
     ]
    }
   ],
   "source": [
    "perm = it.permutations('GRYB',2)\n",
    "\n",
    "for i in list(perm):\n",
    "    print(i)"
   ]
  },
  {
   "cell_type": "markdown",
   "metadata": {},
   "source": [
    "## Combinations"
   ]
  },
  {
   "cell_type": "code",
   "execution_count": 25,
   "metadata": {},
   "outputs": [],
   "source": [
    "def combinations(n,r):\n",
    "    return math.factorial(n)/(math.factorial(r)*math.factorial(n-r))"
   ]
  },
  {
   "cell_type": "code",
   "execution_count": 26,
   "metadata": {},
   "outputs": [
    {
     "data": {
      "text/plain": [
       "10.0"
      ]
     },
     "execution_count": 26,
     "metadata": {},
     "output_type": "execute_result"
    }
   ],
   "source": [
    "combinations(5,3)"
   ]
  },
  {
   "cell_type": "code",
   "execution_count": 27,
   "metadata": {},
   "outputs": [
    {
     "data": {
      "text/plain": [
       "60.0"
      ]
     },
     "execution_count": 27,
     "metadata": {},
     "output_type": "execute_result"
    }
   ],
   "source": [
    "permutation(5,3)"
   ]
  },
  {
   "cell_type": "code",
   "execution_count": 28,
   "metadata": {},
   "outputs": [],
   "source": [
    "comb = it.combinations('GRYB',2)"
   ]
  },
  {
   "cell_type": "code",
   "execution_count": 29,
   "metadata": {},
   "outputs": [
    {
     "name": "stdout",
     "output_type": "stream",
     "text": [
      "('G', 'R')\n",
      "('G', 'Y')\n",
      "('G', 'B')\n",
      "('R', 'Y')\n",
      "('R', 'B')\n",
      "('Y', 'B')\n"
     ]
    }
   ],
   "source": [
    "for i in list(comb):\n",
    "    print(i)"
   ]
  },
  {
   "cell_type": "code",
   "execution_count": 30,
   "metadata": {},
   "outputs": [],
   "source": [
    "comb2 = it.combinations('GGYB',2)"
   ]
  },
  {
   "cell_type": "code",
   "execution_count": 31,
   "metadata": {},
   "outputs": [
    {
     "name": "stdout",
     "output_type": "stream",
     "text": [
      "('G', 'G')\n",
      "('G', 'Y')\n",
      "('G', 'B')\n",
      "('G', 'Y')\n",
      "('G', 'B')\n",
      "('Y', 'B')\n"
     ]
    }
   ],
   "source": [
    "for i in list(comb2):\n",
    "    print(i)"
   ]
  },
  {
   "cell_type": "code",
   "execution_count": 32,
   "metadata": {},
   "outputs": [],
   "source": [
    "comb3 = it.combinations_with_replacement('GGYB',2)"
   ]
  },
  {
   "cell_type": "code",
   "execution_count": 33,
   "metadata": {},
   "outputs": [
    {
     "name": "stdout",
     "output_type": "stream",
     "text": [
      "('G', 'G')\n",
      "('G', 'G')\n",
      "('G', 'Y')\n",
      "('G', 'B')\n",
      "('G', 'G')\n",
      "('G', 'Y')\n",
      "('G', 'B')\n",
      "('Y', 'Y')\n",
      "('Y', 'B')\n",
      "('B', 'B')\n"
     ]
    }
   ],
   "source": [
    "for i in list(comb3):\n",
    "    print(i)"
   ]
  },
  {
   "cell_type": "markdown",
   "metadata": {},
   "source": [
    "### https://docs.python.org/2/library/itertools.html"
   ]
  },
  {
   "cell_type": "code",
   "execution_count": null,
   "metadata": {},
   "outputs": [],
   "source": []
  }
 ],
 "metadata": {
  "kernelspec": {
   "display_name": "Python 3",
   "language": "python",
   "name": "python3"
  },
  "language_info": {
   "codemirror_mode": {
    "name": "ipython",
    "version": 3
   },
   "file_extension": ".py",
   "mimetype": "text/x-python",
   "name": "python",
   "nbconvert_exporter": "python",
   "pygments_lexer": "ipython3",
   "version": "3.8.3"
  }
 },
 "nbformat": 4,
 "nbformat_minor": 4
}
