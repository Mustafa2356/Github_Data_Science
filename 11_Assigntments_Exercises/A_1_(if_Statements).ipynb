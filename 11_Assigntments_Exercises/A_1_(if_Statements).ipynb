{
 "cells": [
  {
   "cell_type": "code",
   "execution_count": 1,
   "metadata": {
    "tags": []
   },
   "outputs": [
    {
     "name": "stdout",
     "output_type": "stream",
     "text": [
      "what is your name?: as\n",
      "Hello, As! See you later.\n"
     ]
    }
   ],
   "source": [
    "# Assignment - 1 (if-Statements)\n",
    "name = input(\"what is your name?: \").title().strip()\n",
    "if name == \"Joseph\" :\n",
    "     # message = \"Hello, {name1}! The password is : W@12\".format(name1 = name)\n",
    "    print(\"Hello, {name1}! The password is : W@12\".format(name1 = name))\n",
    "else :\n",
    "    print(\"Hello, {name1}! See you later.\".format(name1=name))"
   ]
  },
  {
   "cell_type": "code",
   "execution_count": null,
   "metadata": {},
   "outputs": [],
   "source": []
  }
 ],
 "metadata": {
  "kernelspec": {
   "display_name": "Python 3",
   "language": "python",
   "name": "python3"
  },
  "language_info": {
   "codemirror_mode": {
    "name": "ipython",
    "version": 3
   },
   "file_extension": ".py",
   "mimetype": "text/x-python",
   "name": "python",
   "nbconvert_exporter": "python",
   "pygments_lexer": "ipython3",
   "version": "3.8.3"
  }
 },
 "nbformat": 4,
 "nbformat_minor": 2
}
