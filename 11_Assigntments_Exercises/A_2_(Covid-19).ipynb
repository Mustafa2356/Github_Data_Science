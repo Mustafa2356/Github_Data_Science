{
 "cells": [
  {
   "cell_type": "code",
   "execution_count": 1,
   "metadata": {
    "tags": []
   },
   "outputs": [
    {
     "output_type": "stream",
     "name": "stdout",
     "text": "False False False\nYou are not in risky group\n"
    }
   ],
   "source": [
    "# Asignment - 2 (Covid-19)\n",
    "age =  str(input(\"Are you a cigarette addict older than 75 years old?: (True/False)\")).title().strip()# can be assigned only True/False\n",
    "chronic = str(input(\"Do you have a severe chronic disease?: (True/False)\")).title().strip()  # can be assigned only True/False  \n",
    "immune =  str(input(\"Is your immune system too weak?:(True/False)\")).title().strip() # can be assigned only True/False\n",
    "print(age, chronic,immune)\n",
    "risk = age or chronic or immune\n",
    "if risk==True :\n",
    "    print(\"You are in risky group\")\n",
    "else :\n",
    "    print(\"You are not in risky group\")"
   ]
  },
  {
   "cell_type": "code",
   "execution_count": null,
   "metadata": {},
   "outputs": [],
   "source": []
  }
 ],
 "metadata": {
  "language_info": {
   "codemirror_mode": {
    "name": "ipython",
    "version": 3
   },
   "file_extension": ".py",
   "mimetype": "text/x-python",
   "name": "python",
   "nbconvert_exporter": "python",
   "pygments_lexer": "ipython3",
   "version": "3.8.3-final"
  },
  "orig_nbformat": 2,
  "kernelspec": {
   "name": "python38332bitf162a26e88d04d15950a1edaee5d1676",
   "display_name": "Python 3.8.3 32-bit"
  }
 },
 "nbformat": 4,
 "nbformat_minor": 2
}