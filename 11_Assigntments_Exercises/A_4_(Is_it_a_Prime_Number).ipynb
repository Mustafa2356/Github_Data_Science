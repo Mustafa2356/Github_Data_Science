{
 "cells": [
  {
   "cell_type": "code",
   "execution_count": 6,
   "metadata": {
    "tags": []
   },
   "outputs": [
    {
     "output_type": "stream",
     "name": "stdout",
     "text": "4 is not a prime number\n"
    }
   ],
   "source": [
    "num = int(input(\"Enter an integer value:\"))\n",
    "if num >1 :\n",
    "    for i in range(2, num): # sayi 2 den baslayarak num-1 e kadar butun sayilari bolunebirligini denetler\n",
    "        if num%i ==0 :\n",
    "            print(\"{} is not a prime number\".format(num))\n",
    "            break\n",
    "        else :\n",
    "            print(\"{} is a prime number\".format(num))\n",
    "            break\n",
    "else :\n",
    "    print(\"{} is not a prime number\".format(num))"
   ]
  },
  {
   "cell_type": "code",
   "execution_count": null,
   "metadata": {},
   "outputs": [],
   "source": []
  }
 ],
 "metadata": {
  "language_info": {
   "codemirror_mode": {
    "name": "ipython",
    "version": 3
   },
   "file_extension": ".py",
   "mimetype": "text/x-python",
   "name": "python",
   "nbconvert_exporter": "python",
   "pygments_lexer": "ipython3",
   "version": 3
  },
  "orig_nbformat": 2,
  "kernelspec": {
   "name": "python_defaultSpec_1594557841619",
   "display_name": "Python 3.8.3 32-bit"
  }
 },
 "nbformat": 4,
 "nbformat_minor": 2
}