{
 "cells": [
  {
   "cell_type": "code",
   "execution_count": 2,
   "metadata": {
    "tags": []
   },
   "outputs": [
    {
     "output_type": "stream",
     "name": "stdout",
     "text": "It is an invalid entry. Don't use non-numeric, float, or negative values!\n"
    }
   ],
   "source": [
    "sayi = (input(\"Sayıyı Giriniz:\"))\n",
    "basamak = str(sayi)\n",
    "toplam = 0\n",
    "if basamak.isdecimal():\n",
    "    for x in basamak:\n",
    "        rakam = int(x)**len(basamak)\n",
    "        toplam += rakam \n",
    "    if(int(sayi) == toplam):\n",
    "        print(\"{} is an Armstrong number.\".format(sayi))\n",
    "    else:\n",
    "        print(\"{} is not an Armstrong numbers.\".format(sayi))\n",
    "else :\n",
    "    print(\"It is an invalid entry. Don't use non-numeric, float, or negative values!\")"
   ]
  },
  {
   "cell_type": "code",
   "execution_count": null,
   "metadata": {},
   "outputs": [],
   "source": []
  }
 ],
 "metadata": {
  "language_info": {
   "codemirror_mode": {
    "name": "ipython",
    "version": 3
   },
   "file_extension": ".py",
   "mimetype": "text/x-python",
   "name": "python",
   "nbconvert_exporter": "python",
   "pygments_lexer": "ipython3",
   "version": 3
  },
  "orig_nbformat": 2,
  "kernelspec": {
   "name": "python_defaultSpec_1594553419380",
   "display_name": "Python 3.8.3 32-bit"
  }
 },
 "nbformat": 4,
 "nbformat_minor": 2
}