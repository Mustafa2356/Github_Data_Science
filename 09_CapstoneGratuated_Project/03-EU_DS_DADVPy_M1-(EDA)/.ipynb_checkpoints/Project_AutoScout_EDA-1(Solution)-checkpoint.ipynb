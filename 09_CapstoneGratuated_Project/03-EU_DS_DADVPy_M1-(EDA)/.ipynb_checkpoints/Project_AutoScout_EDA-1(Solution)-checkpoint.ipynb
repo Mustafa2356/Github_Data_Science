{
 "cells": [
  {
   "cell_type": "markdown",
   "metadata": {},
   "source": [
    "___\n",
    "\n",
    "<p style=\"text-align: center;\"><img src=\"https://docs.google.com/uc?id=1lY0Uj5R04yMY3-ZppPWxqCr5pvBLYPnV\" class=\"img-fluid\" alt=\"CLRSWY\"></p>\n",
    "\n",
    "___"
   ]
  },
  {
   "cell_type": "markdown",
   "metadata": {},
   "source": [
    "# Exploratory Data Analysis Project (Part - 1) - Session - 3"
   ]
  },
  {
   "cell_type": "markdown",
   "metadata": {},
   "source": [
    "<blockquote style=\"background: #f9f9f9;padding: 0.5em 10px;\" class=\"\">\n",
    "<img src=\"https://docs.google.com/uc?id=1FOcuE9AkAqc0JU6dUly-cuoUg3bOp92H\" class=\"img-fluid\" width=\"200\" height=\"85\"> <h1>EDA for Car Price Prediction Model</h1>\n",
    "</blockquote>"
   ]
  },
  {
   "cell_type": "code",
   "execution_count": 1,
   "metadata": {},
   "outputs": [],
   "source": [
    "import pandas as pd\n",
    "import numpy as np\n",
    "import warnings \n",
    "\n",
    "pd.set_option('display.max_columns', 500)\n",
    "pd.set_option('display.max_colwidth', 500)\n",
    "pd.set_option('display.max_info_columns', 500)\n",
    "pd.set_option('display.max_info_rows', 2000)\n",
    "pd.set_option('display.expand_frame_repr', True)\n",
    "pd.set_option('display.width', 2000)\n",
    "\n",
    "warnings.filterwarnings(\"ignore\")\n",
    "warnings.warn(\"this will not show\")"
   ]
  },
  {
   "cell_type": "code",
   "execution_count": 2,
   "metadata": {},
   "outputs": [],
   "source": [
    "oto = pd.read_json(\"scout_car.json\", orient = \"records\", lines = True)"
   ]
  },
  {
   "cell_type": "code",
   "execution_count": 3,
   "metadata": {},
   "outputs": [
    {
     "data": {
      "text/html": [
       "<div>\n",
       "<style scoped>\n",
       "    .dataframe tbody tr th:only-of-type {\n",
       "        vertical-align: middle;\n",
       "    }\n",
       "\n",
       "    .dataframe tbody tr th {\n",
       "        vertical-align: top;\n",
       "    }\n",
       "\n",
       "    .dataframe thead th {\n",
       "        text-align: right;\n",
       "    }\n",
       "</style>\n",
       "<table border=\"1\" class=\"dataframe\">\n",
       "  <thead>\n",
       "    <tr style=\"text-align: right;\">\n",
       "      <th></th>\n",
       "      <th>url</th>\n",
       "      <th>make_model</th>\n",
       "      <th>short_description</th>\n",
       "      <th>body_type</th>\n",
       "      <th>price</th>\n",
       "      <th>vat</th>\n",
       "      <th>km</th>\n",
       "      <th>registration</th>\n",
       "      <th>prev_owner</th>\n",
       "      <th>kW</th>\n",
       "      <th>hp</th>\n",
       "      <th>Type</th>\n",
       "      <th>Previous Owners</th>\n",
       "      <th>Next Inspection</th>\n",
       "      <th>Inspection new</th>\n",
       "      <th>Warranty</th>\n",
       "      <th>Full Service</th>\n",
       "      <th>Non-smoking Vehicle</th>\n",
       "      <th>null</th>\n",
       "      <th>Make</th>\n",
       "      <th>Model</th>\n",
       "      <th>Offer Number</th>\n",
       "      <th>First Registration</th>\n",
       "      <th>Body Color</th>\n",
       "      <th>Paint Type</th>\n",
       "      <th>Body Color Original</th>\n",
       "      <th>Upholstery</th>\n",
       "      <th>Body</th>\n",
       "      <th>Nr. of Doors</th>\n",
       "      <th>Nr. of Seats</th>\n",
       "      <th>Model Code</th>\n",
       "      <th>Gearing Type</th>\n",
       "      <th>Displacement</th>\n",
       "      <th>Cylinders</th>\n",
       "      <th>Weight</th>\n",
       "      <th>Drive chain</th>\n",
       "      <th>Fuel</th>\n",
       "      <th>Consumption</th>\n",
       "      <th>CO2 Emission</th>\n",
       "      <th>Emission Class</th>\n",
       "      <th>\\nComfort &amp; Convenience\\n</th>\n",
       "      <th>\\nEntertainment &amp; Media\\n</th>\n",
       "      <th>\\nExtras\\n</th>\n",
       "      <th>\\nSafety &amp; Security\\n</th>\n",
       "      <th>description</th>\n",
       "      <th>Emission Label</th>\n",
       "      <th>Gears</th>\n",
       "      <th>Country version</th>\n",
       "      <th>Electricity consumption</th>\n",
       "      <th>Last Service Date</th>\n",
       "      <th>Other Fuel Types</th>\n",
       "      <th>Availability</th>\n",
       "      <th>Last Timing Belt Service Date</th>\n",
       "      <th>Available from</th>\n",
       "    </tr>\n",
       "  </thead>\n",
       "  <tbody>\n",
       "    <tr>\n",
       "      <th>0</th>\n",
       "      <td>https://www.autoscout24.com//offers/audi-a1-sportback-1-4-tdi-s-tronic-xenon-navi-klima-diesel-black-bdab349a-caa5-41b0-98eb-c1345b84445e</td>\n",
       "      <td>Audi A1</td>\n",
       "      <td>Sportback 1.4 TDI S-tronic Xenon Navi Klima</td>\n",
       "      <td>Sedans</td>\n",
       "      <td>15770</td>\n",
       "      <td>VAT deductible</td>\n",
       "      <td>56,013 km</td>\n",
       "      <td>01/2016</td>\n",
       "      <td>2 previous owners</td>\n",
       "      <td>NaN</td>\n",
       "      <td>66 kW</td>\n",
       "      <td>[, Used, , Diesel (Particulate Filter)]</td>\n",
       "      <td>\\n2\\n</td>\n",
       "      <td>[\\n06/2021\\n, \\n99 g CO2/km (comb)\\n]</td>\n",
       "      <td>[\\nYes\\n, \\nEuro 6\\n]</td>\n",
       "      <td>[\\n, \\n, \\n4 (Green)\\n]</td>\n",
       "      <td>[\\n, \\n]</td>\n",
       "      <td>[\\n, \\n]</td>\n",
       "      <td>[]</td>\n",
       "      <td>\\nAudi\\n</td>\n",
       "      <td>[\\n, A1, \\n]</td>\n",
       "      <td>[\\nLR-062483\\n]</td>\n",
       "      <td>[\\n, 2016, \\n]</td>\n",
       "      <td>[\\n, Black, \\n]</td>\n",
       "      <td>[\\nMetallic\\n]</td>\n",
       "      <td>[\\nMythosschwarz\\n]</td>\n",
       "      <td>[\\nCloth, Black\\n]</td>\n",
       "      <td>[\\n, Sedans, \\n]</td>\n",
       "      <td>[\\n5\\n]</td>\n",
       "      <td>[\\n5\\n]</td>\n",
       "      <td>[\\n0588/BDF\\n]</td>\n",
       "      <td>[\\n, Automatic, \\n]</td>\n",
       "      <td>[\\n1,422 cc\\n]</td>\n",
       "      <td>[\\n3\\n]</td>\n",
       "      <td>[\\n1,220 kg\\n]</td>\n",
       "      <td>[\\nfront\\n]</td>\n",
       "      <td>[\\n, Diesel (Particulate Filter), \\n]</td>\n",
       "      <td>[[3.8 l/100 km (comb)], [4.3 l/100 km (city)], [3.5 l/100 km (country)]]</td>\n",
       "      <td>[\\n99 g CO2/km (comb)\\n]</td>\n",
       "      <td>[\\nEuro 6\\n]</td>\n",
       "      <td>[Air conditioning, Armrest, Automatic climate control, Cruise control, Electrical side mirrors, Hill Holder, Leather steering wheel, Light sensor, Multi-function steering wheel, Navigation system, Park Distance Control, Parking assist system sensors rear, Power windows, Rain sensor, Seat heating, Start-stop system]</td>\n",
       "      <td>[Bluetooth, Hands-free equipment, On-board computer, Radio]</td>\n",
       "      <td>[Alloy wheels, Catalytic Converter, Voice Control]</td>\n",
       "      <td>[ABS, Central door lock, Daytime running lights, Driver-side airbag, Electronic stability control, Fog lights, Immobilizer, Isofix, Passenger-side airbag, Power steering, Side airbag, Tire pressure monitoring system, Traction control, Xenon headlights]</td>\n",
       "      <td>[\\n, Sicherheit:,  , Deaktivierung für Beifahrer-Airbag,  , ESC mit elektronischer Quersperre,  , Tagfahrlicht,  , Reifendruck-Kontrollanzeige,  , Kopfairbag-System mit Seiten-Airbags vorn,  , Sicherheitslenksäule, Assistenzsysteme:,  , Berganfahrassistent, Komfort:,  , Scheinwerferreinigung,  , Xenon plus inklusive Scheinwerfer-Reinigungsanlage,  , Scheinwerfer-Reinigungsanlage,  , Einparkhilfe hinten,  , Licht-/Regensensor,  , Funkfernbedienung,  , Elektrische Luftzusatzheizung, Interieur:...</td>\n",
       "      <td>NaN</td>\n",
       "      <td>NaN</td>\n",
       "      <td>NaN</td>\n",
       "      <td>NaN</td>\n",
       "      <td>NaN</td>\n",
       "      <td>NaN</td>\n",
       "      <td>NaN</td>\n",
       "      <td>NaN</td>\n",
       "      <td>NaN</td>\n",
       "    </tr>\n",
       "    <tr>\n",
       "      <th>1</th>\n",
       "      <td>https://www.autoscout24.com//offers/audi-a1-1-8-tfsi-sport-gasoline-red-b2547f8a-e83f-6237-e053-e250040a56df</td>\n",
       "      <td>Audi A1</td>\n",
       "      <td>1.8 TFSI sport</td>\n",
       "      <td>Sedans</td>\n",
       "      <td>14500</td>\n",
       "      <td>Price negotiable</td>\n",
       "      <td>80,000 km</td>\n",
       "      <td>03/2017</td>\n",
       "      <td>None</td>\n",
       "      <td>NaN</td>\n",
       "      <td>141 kW</td>\n",
       "      <td>[, Used, , Gasoline]</td>\n",
       "      <td>NaN</td>\n",
       "      <td>NaN</td>\n",
       "      <td>NaN</td>\n",
       "      <td>NaN</td>\n",
       "      <td>NaN</td>\n",
       "      <td>NaN</td>\n",
       "      <td>[]</td>\n",
       "      <td>\\nAudi\\n</td>\n",
       "      <td>[\\n, A1, \\n]</td>\n",
       "      <td>NaN</td>\n",
       "      <td>[\\n, 2017, \\n]</td>\n",
       "      <td>[\\n, Red, \\n]</td>\n",
       "      <td>NaN</td>\n",
       "      <td>NaN</td>\n",
       "      <td>[\\nCloth, Grey\\n]</td>\n",
       "      <td>[\\n, Sedans, \\n]</td>\n",
       "      <td>[\\n3\\n]</td>\n",
       "      <td>[\\n4\\n]</td>\n",
       "      <td>[\\n0588/BCY\\n]</td>\n",
       "      <td>[\\n, Automatic, \\n]</td>\n",
       "      <td>[\\n1,798 cc\\n]</td>\n",
       "      <td>[\\n4\\n]</td>\n",
       "      <td>[\\n1,255 kg\\n]</td>\n",
       "      <td>[\\nfront\\n]</td>\n",
       "      <td>[\\n, Gasoline, \\n]</td>\n",
       "      <td>[[5.6 l/100 km (comb)], [7.1 l/100 km (city)], [4.7 l/100 km (country)]]</td>\n",
       "      <td>[\\n129 g CO2/km (comb)\\n]</td>\n",
       "      <td>[\\nEuro 6\\n]</td>\n",
       "      <td>[Air conditioning, Automatic climate control, Hill Holder, Leather steering wheel, Lumbar support, Parking assist system sensors rear, Power windows, Start-stop system, Tinted windows]</td>\n",
       "      <td>[Bluetooth, Hands-free equipment, On-board computer, Radio, Sound system]</td>\n",
       "      <td>[Alloy wheels, Sport seats, Sport suspension, Voice Control]</td>\n",
       "      <td>[ABS, Central door lock, Central door lock with remote control, Daytime running lights, Driver-side airbag, Electronic stability control, Head airbag, Immobilizer, Isofix, Passenger-side airbag, Power steering, Side airbag, Tire pressure monitoring system, Traction control, Xenon headlights]</td>\n",
       "      <td>[\\nLangstreckenfahrzeug daher die hohe Kilometerleistung. , Bremsen neu bei 62000 km. , Gut gepflegter A1\\n]</td>\n",
       "      <td>[\\n4 (Green)\\n]</td>\n",
       "      <td>[\\n7\\n]</td>\n",
       "      <td>NaN</td>\n",
       "      <td>NaN</td>\n",
       "      <td>NaN</td>\n",
       "      <td>NaN</td>\n",
       "      <td>NaN</td>\n",
       "      <td>NaN</td>\n",
       "      <td>NaN</td>\n",
       "    </tr>\n",
       "    <tr>\n",
       "      <th>2</th>\n",
       "      <td>https://www.autoscout24.com//offers/audi-a1-sportback-1-6-tdi-s-tronic-einparkhilfe-plus-music-diesel-black-6183cb6a-8570-4b86-a132-9b54214bca88</td>\n",
       "      <td>Audi A1</td>\n",
       "      <td>Sportback 1.6 TDI S tronic Einparkhilfe plus+music</td>\n",
       "      <td>Sedans</td>\n",
       "      <td>14640</td>\n",
       "      <td>VAT deductible</td>\n",
       "      <td>83,450 km</td>\n",
       "      <td>02/2016</td>\n",
       "      <td>1 previous owner</td>\n",
       "      <td>NaN</td>\n",
       "      <td>85 kW</td>\n",
       "      <td>[, Used, , Diesel (Particulate Filter)]</td>\n",
       "      <td>\\n1\\n</td>\n",
       "      <td>NaN</td>\n",
       "      <td>NaN</td>\n",
       "      <td>[\\n, \\n, \\n99 g CO2/km (comb)\\n]</td>\n",
       "      <td>NaN</td>\n",
       "      <td>NaN</td>\n",
       "      <td>[]</td>\n",
       "      <td>\\nAudi\\n</td>\n",
       "      <td>[\\n, A1, \\n]</td>\n",
       "      <td>[\\nAM-95365\\n]</td>\n",
       "      <td>[\\n, 2016, \\n]</td>\n",
       "      <td>[\\n, Black, \\n]</td>\n",
       "      <td>[\\nMetallic\\n]</td>\n",
       "      <td>[\\nmythosschwarz metallic\\n]</td>\n",
       "      <td>[\\nCloth, Black\\n]</td>\n",
       "      <td>[\\n, Sedans, \\n]</td>\n",
       "      <td>[\\n4\\n]</td>\n",
       "      <td>[\\n4\\n]</td>\n",
       "      <td>NaN</td>\n",
       "      <td>[\\n, Automatic, \\n]</td>\n",
       "      <td>[\\n1,598 cc\\n]</td>\n",
       "      <td>NaN</td>\n",
       "      <td>NaN</td>\n",
       "      <td>[\\nfront\\n]</td>\n",
       "      <td>[\\n, Diesel (Particulate Filter), \\n]</td>\n",
       "      <td>[[3.8 l/100 km (comb)], [4.4 l/100 km (city)], [3.4 l/100 km (country)]]</td>\n",
       "      <td>[\\n99 g CO2/km (comb)\\n]</td>\n",
       "      <td>[\\nEuro 6\\n]</td>\n",
       "      <td>[Air conditioning, Cruise control, Electrical side mirrors, Hill Holder, Leather steering wheel, Multi-function steering wheel, Navigation system, Park Distance Control, Parking assist system sensors front, Parking assist system sensors rear, Power windows, Seat heating, Start-stop system]</td>\n",
       "      <td>[MP3, On-board computer]</td>\n",
       "      <td>[Alloy wheels, Voice Control]</td>\n",
       "      <td>[ABS, Central door lock, Daytime running lights, Driver-side airbag, Electronic stability control, Immobilizer, Isofix, Passenger-side airbag, Power steering, Side airbag, Tire pressure monitoring system, Traction control]</td>\n",
       "      <td>[\\n, Fahrzeug-Nummer: AM-95365,  , Ehem. UPE 24.640 EUR,  , Komfort,  , Klimaanlage,  , Elektrische Fensterheber,  , Sitzheizung,  , Tempomat,  , Zentralverriegelung,  , Leder-Lenkrad,  , Elektrische Spiegel,  , Wärmedämmendes Glas,  , Anfahrassistent,  , Sicherheit,  , Window/Kopfairbags,  , ESP (el. Stabilitäts Programm),  , Elektronische Wegfahrsperre,  , Reifendruckkontrolle,  , Tagfahrlicht,  , Exterieur,  , Alufelgen 16 Zoll,  , Einparkhilfe vo + hi,  , Interieur,  , Stoff Zeitgeist,  ...</td>\n",
       "      <td>[\\n4 (Green)\\n]</td>\n",
       "      <td>NaN</td>\n",
       "      <td>NaN</td>\n",
       "      <td>NaN</td>\n",
       "      <td>NaN</td>\n",
       "      <td>NaN</td>\n",
       "      <td>NaN</td>\n",
       "      <td>NaN</td>\n",
       "      <td>NaN</td>\n",
       "    </tr>\n",
       "    <tr>\n",
       "      <th>3</th>\n",
       "      <td>https://www.autoscout24.com//offers/audi-a1-1-4-tdi-design-s-tronic-diesel-brown-35c86585-2727-d61e-e053-e250040ad640</td>\n",
       "      <td>Audi A1</td>\n",
       "      <td>1.4 TDi Design S tronic</td>\n",
       "      <td>Sedans</td>\n",
       "      <td>14500</td>\n",
       "      <td>None</td>\n",
       "      <td>73,000 km</td>\n",
       "      <td>08/2016</td>\n",
       "      <td>1 previous owner</td>\n",
       "      <td>NaN</td>\n",
       "      <td>66 kW</td>\n",
       "      <td>[, Used, , Diesel (Particulate Filter)]</td>\n",
       "      <td>\\n1\\n</td>\n",
       "      <td>NaN</td>\n",
       "      <td>NaN</td>\n",
       "      <td>NaN</td>\n",
       "      <td>[\\n, \\n, \\n99 g CO2/km (comb)\\n]</td>\n",
       "      <td>[\\n, \\n, \\nEuro 6\\n]</td>\n",
       "      <td>[]</td>\n",
       "      <td>\\nAudi\\n</td>\n",
       "      <td>[\\n, A1, \\n]</td>\n",
       "      <td>NaN</td>\n",
       "      <td>[\\n, 2016, \\n]</td>\n",
       "      <td>[\\n, Brown, \\n]</td>\n",
       "      <td>[\\nMetallic\\n]</td>\n",
       "      <td>NaN</td>\n",
       "      <td>NaN</td>\n",
       "      <td>[\\n, Sedans, \\n]</td>\n",
       "      <td>[\\n3\\n]</td>\n",
       "      <td>[\\n4\\n]</td>\n",
       "      <td>NaN</td>\n",
       "      <td>[\\n, Automatic, \\n]</td>\n",
       "      <td>[\\n1,422 cc\\n]</td>\n",
       "      <td>[\\n3\\n]</td>\n",
       "      <td>[\\n1,195 kg\\n]</td>\n",
       "      <td>NaN</td>\n",
       "      <td>[\\n, Diesel (Particulate Filter), \\n]</td>\n",
       "      <td>[[3.8 l/100 km (comb)], [4.3 l/100 km (city)], [3.5 l/100 km (country)]]</td>\n",
       "      <td>[\\n99 g CO2/km (comb)\\n]</td>\n",
       "      <td>[\\nEuro 6\\n]</td>\n",
       "      <td>[Air suspension, Armrest, Auxiliary heating, Electrical side mirrors, Heads-up display, Hill Holder, Leather steering wheel, Light sensor, Lumbar support, Multi-function steering wheel, Navigation system, Power windows, Rain sensor, Seat heating, Split rear seats, Start-stop system]</td>\n",
       "      <td>[Bluetooth, CD player, Hands-free equipment, MP3, On-board computer, Radio, Sound system, USB]</td>\n",
       "      <td>[Alloy wheels, Sport seats, Voice Control]</td>\n",
       "      <td>[ABS, Alarm system, Central door lock with remote control, Driver drowsiness detection, Driver-side airbag, Electronic stability control, Emergency system, Head airbag, Immobilizer, Isofix, Passenger-side airbag, Power steering, Side airbag, Tire pressure monitoring system]</td>\n",
       "      <td>[\\nAudi A1: , - 1e eigenaar , - Perfecte staat: schade/ongevalvrij , - Onderhoudsboekje Audi garage , - Full option!, - S-line opties, - Automaat, lederen bekleding, navi-pro, Xenon lampen, zetelverwarming, automatische airco,...\\n]</td>\n",
       "      <td>NaN</td>\n",
       "      <td>[\\n6\\n]</td>\n",
       "      <td>NaN</td>\n",
       "      <td>NaN</td>\n",
       "      <td>NaN</td>\n",
       "      <td>NaN</td>\n",
       "      <td>NaN</td>\n",
       "      <td>NaN</td>\n",
       "      <td>NaN</td>\n",
       "    </tr>\n",
       "    <tr>\n",
       "      <th>4</th>\n",
       "      <td>https://www.autoscout24.com//offers/audi-a1-sportback-1-4-tdi-s-tronic-s-line-ext-admired-xe-diesel-black-b86b55d8-9c7c-4a58-b658-b97008a51efc</td>\n",
       "      <td>Audi A1</td>\n",
       "      <td>Sportback 1.4 TDI S-Tronic S-Line Ext. admired, Xe</td>\n",
       "      <td>Sedans</td>\n",
       "      <td>16790</td>\n",
       "      <td>None</td>\n",
       "      <td>16,200 km</td>\n",
       "      <td>05/2016</td>\n",
       "      <td>1 previous owner</td>\n",
       "      <td>NaN</td>\n",
       "      <td>66 kW</td>\n",
       "      <td>[, Used, , Diesel (Particulate Filter)]</td>\n",
       "      <td>\\n1\\n</td>\n",
       "      <td>NaN</td>\n",
       "      <td>[\\nYes\\n, \\n109 g CO2/km (comb)\\n]</td>\n",
       "      <td>[\\n, \\n, \\nEuro 6\\n]</td>\n",
       "      <td>[\\n, \\n, \\n4 (Green)\\n]</td>\n",
       "      <td>[\\n, \\n]</td>\n",
       "      <td>[]</td>\n",
       "      <td>\\nAudi\\n</td>\n",
       "      <td>[\\n, A1, \\n]</td>\n",
       "      <td>[\\nC1626\\n]</td>\n",
       "      <td>[\\n, 2016, \\n]</td>\n",
       "      <td>[\\n, Black, \\n]</td>\n",
       "      <td>[\\nMetallic\\n]</td>\n",
       "      <td>[\\nMythosschwarz Metallic\\n]</td>\n",
       "      <td>[\\nCloth, Black\\n]</td>\n",
       "      <td>[\\n, Sedans, \\n]</td>\n",
       "      <td>[\\n5\\n]</td>\n",
       "      <td>[\\n5\\n]</td>\n",
       "      <td>[\\n0588/BDF\\n]</td>\n",
       "      <td>[\\n, Automatic, \\n]</td>\n",
       "      <td>[\\n1,422 cc\\n]</td>\n",
       "      <td>[\\n3\\n]</td>\n",
       "      <td>NaN</td>\n",
       "      <td>[\\nfront\\n]</td>\n",
       "      <td>[\\n, Diesel (Particulate Filter), \\n]</td>\n",
       "      <td>[[4.1 l/100 km (comb)], [4.6 l/100 km (city)], [3.8 l/100 km (country)]]</td>\n",
       "      <td>[\\n109 g CO2/km (comb)\\n]</td>\n",
       "      <td>[\\nEuro 6\\n]</td>\n",
       "      <td>[Air conditioning, Armrest, Automatic climate control, Electrical side mirrors, Hill Holder, Leather steering wheel, Light sensor, Multi-function steering wheel, Park Distance Control, Parking assist system sensors rear, Power windows, Rain sensor, Start-stop system]</td>\n",
       "      <td>[Bluetooth, CD player, Hands-free equipment, MP3, On-board computer, Radio, USB]</td>\n",
       "      <td>[Alloy wheels, Sport package, Sport suspension, Voice Control]</td>\n",
       "      <td>[ABS, Central door lock, Driver-side airbag, Electronic stability control, Fog lights, Immobilizer, Isofix, Passenger-side airbag, Power steering, Side airbag, Tire pressure monitoring system, Traction control, Xenon headlights]</td>\n",
       "      <td>[\\n, Technik &amp; Sicherheit:, Xenon plus, Klimaautomatik, Einparkhilfe hinten, Scheinwerferreinigungsanlage, Nebelscheinwerfer, Zentralverriegelung mit Fernbedienung, Außenspiegel elek. einstellbar, Fensterheber elek, Start/Stop Anlage, 6 Airbag inkl. Kopfairbag, Euro 6, Multimedia:, Radio CD Concert, audi music interface, Handyvorbereitung (Bluetooth), Sprachsteuerung, USB Anschluss, Assistenzsysteme:, Lichtsensor, Regensensor, Berganfahrassistent, Reifendruckkontrolle, ESP inkl. ABS, Interie...</td>\n",
       "      <td>NaN</td>\n",
       "      <td>NaN</td>\n",
       "      <td>[\\nGermany\\n]</td>\n",
       "      <td>NaN</td>\n",
       "      <td>NaN</td>\n",
       "      <td>NaN</td>\n",
       "      <td>NaN</td>\n",
       "      <td>NaN</td>\n",
       "      <td>NaN</td>\n",
       "    </tr>\n",
       "  </tbody>\n",
       "</table>\n",
       "</div>"
      ],
      "text/plain": [
       "                                                                                                                                                url make_model                                   short_description body_type  price               vat         km registration         prev_owner  kW      hp                                     Type Previous Owners                        Next Inspection                      Inspection new                          Warranty                      Full Service   Non-smoking Vehicle null      Make         Model     Offer Number First Registration       Body Color      Paint Type           Body Color Original          Upholstery              Body Nr. of Doors Nr. of Seats      Model Code         Gearing Type    Displacement Cylinders          Weight  Drive chain                                   Fuel                                                               Consumption               CO2 Emission Emission Class                                                                                                                                                                                                                                                                                                     \\nComfort & Convenience\\n                                                                       \\nEntertainment & Media\\n                                                      \\nExtras\\n                                                                                                                                                                                                                                                                                 \\nSafety & Security\\n  \\\n",
       "0         https://www.autoscout24.com//offers/audi-a1-sportback-1-4-tdi-s-tronic-xenon-navi-klima-diesel-black-bdab349a-caa5-41b0-98eb-c1345b84445e    Audi A1         Sportback 1.4 TDI S-tronic Xenon Navi Klima    Sedans  15770    VAT deductible  56,013 km      01/2016  2 previous owners NaN   66 kW  [, Used, , Diesel (Particulate Filter)]           \\n2\\n  [\\n06/2021\\n, \\n99 g CO2/km (comb)\\n]               [\\nYes\\n, \\nEuro 6\\n]           [\\n, \\n, \\n4 (Green)\\n]                          [\\n, \\n]              [\\n, \\n]   []  \\nAudi\\n  [\\n, A1, \\n]  [\\nLR-062483\\n]     [\\n, 2016, \\n]  [\\n, Black, \\n]  [\\nMetallic\\n]           [\\nMythosschwarz\\n]  [\\nCloth, Black\\n]  [\\n, Sedans, \\n]      [\\n5\\n]      [\\n5\\n]  [\\n0588/BDF\\n]  [\\n, Automatic, \\n]  [\\n1,422 cc\\n]   [\\n3\\n]  [\\n1,220 kg\\n]  [\\nfront\\n]  [\\n, Diesel (Particulate Filter), \\n]  [[3.8 l/100 km (comb)], [4.3 l/100 km (city)], [3.5 l/100 km (country)]]   [\\n99 g CO2/km (comb)\\n]   [\\nEuro 6\\n]  [Air conditioning, Armrest, Automatic climate control, Cruise control, Electrical side mirrors, Hill Holder, Leather steering wheel, Light sensor, Multi-function steering wheel, Navigation system, Park Distance Control, Parking assist system sensors rear, Power windows, Rain sensor, Seat heating, Start-stop system]                                     [Bluetooth, Hands-free equipment, On-board computer, Radio]              [Alloy wheels, Catalytic Converter, Voice Control]                                          [ABS, Central door lock, Daytime running lights, Driver-side airbag, Electronic stability control, Fog lights, Immobilizer, Isofix, Passenger-side airbag, Power steering, Side airbag, Tire pressure monitoring system, Traction control, Xenon headlights]   \n",
       "1                                      https://www.autoscout24.com//offers/audi-a1-1-8-tfsi-sport-gasoline-red-b2547f8a-e83f-6237-e053-e250040a56df    Audi A1                                      1.8 TFSI sport    Sedans  14500  Price negotiable  80,000 km      03/2017               None NaN  141 kW                     [, Used, , Gasoline]             NaN                                    NaN                                 NaN                               NaN                               NaN                   NaN   []  \\nAudi\\n  [\\n, A1, \\n]              NaN     [\\n, 2017, \\n]    [\\n, Red, \\n]             NaN                           NaN   [\\nCloth, Grey\\n]  [\\n, Sedans, \\n]      [\\n3\\n]      [\\n4\\n]  [\\n0588/BCY\\n]  [\\n, Automatic, \\n]  [\\n1,798 cc\\n]   [\\n4\\n]  [\\n1,255 kg\\n]  [\\nfront\\n]                     [\\n, Gasoline, \\n]  [[5.6 l/100 km (comb)], [7.1 l/100 km (city)], [4.7 l/100 km (country)]]  [\\n129 g CO2/km (comb)\\n]   [\\nEuro 6\\n]                                                                                                                                      [Air conditioning, Automatic climate control, Hill Holder, Leather steering wheel, Lumbar support, Parking assist system sensors rear, Power windows, Start-stop system, Tinted windows]                       [Bluetooth, Hands-free equipment, On-board computer, Radio, Sound system]    [Alloy wheels, Sport seats, Sport suspension, Voice Control]  [ABS, Central door lock, Central door lock with remote control, Daytime running lights, Driver-side airbag, Electronic stability control, Head airbag, Immobilizer, Isofix, Passenger-side airbag, Power steering, Side airbag, Tire pressure monitoring system, Traction control, Xenon headlights]   \n",
       "2  https://www.autoscout24.com//offers/audi-a1-sportback-1-6-tdi-s-tronic-einparkhilfe-plus-music-diesel-black-6183cb6a-8570-4b86-a132-9b54214bca88    Audi A1  Sportback 1.6 TDI S tronic Einparkhilfe plus+music    Sedans  14640    VAT deductible  83,450 km      02/2016   1 previous owner NaN   85 kW  [, Used, , Diesel (Particulate Filter)]           \\n1\\n                                    NaN                                 NaN  [\\n, \\n, \\n99 g CO2/km (comb)\\n]                               NaN                   NaN   []  \\nAudi\\n  [\\n, A1, \\n]   [\\nAM-95365\\n]     [\\n, 2016, \\n]  [\\n, Black, \\n]  [\\nMetallic\\n]  [\\nmythosschwarz metallic\\n]  [\\nCloth, Black\\n]  [\\n, Sedans, \\n]      [\\n4\\n]      [\\n4\\n]             NaN  [\\n, Automatic, \\n]  [\\n1,598 cc\\n]       NaN             NaN  [\\nfront\\n]  [\\n, Diesel (Particulate Filter), \\n]  [[3.8 l/100 km (comb)], [4.4 l/100 km (city)], [3.4 l/100 km (country)]]   [\\n99 g CO2/km (comb)\\n]   [\\nEuro 6\\n]                            [Air conditioning, Cruise control, Electrical side mirrors, Hill Holder, Leather steering wheel, Multi-function steering wheel, Navigation system, Park Distance Control, Parking assist system sensors front, Parking assist system sensors rear, Power windows, Seat heating, Start-stop system]                                                                        [MP3, On-board computer]                                   [Alloy wheels, Voice Control]                                                                        [ABS, Central door lock, Daytime running lights, Driver-side airbag, Electronic stability control, Immobilizer, Isofix, Passenger-side airbag, Power steering, Side airbag, Tire pressure monitoring system, Traction control]   \n",
       "3                             https://www.autoscout24.com//offers/audi-a1-1-4-tdi-design-s-tronic-diesel-brown-35c86585-2727-d61e-e053-e250040ad640    Audi A1                             1.4 TDi Design S tronic    Sedans  14500              None  73,000 km      08/2016   1 previous owner NaN   66 kW  [, Used, , Diesel (Particulate Filter)]           \\n1\\n                                    NaN                                 NaN                               NaN  [\\n, \\n, \\n99 g CO2/km (comb)\\n]  [\\n, \\n, \\nEuro 6\\n]   []  \\nAudi\\n  [\\n, A1, \\n]              NaN     [\\n, 2016, \\n]  [\\n, Brown, \\n]  [\\nMetallic\\n]                           NaN                 NaN  [\\n, Sedans, \\n]      [\\n3\\n]      [\\n4\\n]             NaN  [\\n, Automatic, \\n]  [\\n1,422 cc\\n]   [\\n3\\n]  [\\n1,195 kg\\n]          NaN  [\\n, Diesel (Particulate Filter), \\n]  [[3.8 l/100 km (comb)], [4.3 l/100 km (city)], [3.5 l/100 km (country)]]   [\\n99 g CO2/km (comb)\\n]   [\\nEuro 6\\n]                                   [Air suspension, Armrest, Auxiliary heating, Electrical side mirrors, Heads-up display, Hill Holder, Leather steering wheel, Light sensor, Lumbar support, Multi-function steering wheel, Navigation system, Power windows, Rain sensor, Seat heating, Split rear seats, Start-stop system]  [Bluetooth, CD player, Hands-free equipment, MP3, On-board computer, Radio, Sound system, USB]                      [Alloy wheels, Sport seats, Voice Control]                    [ABS, Alarm system, Central door lock with remote control, Driver drowsiness detection, Driver-side airbag, Electronic stability control, Emergency system, Head airbag, Immobilizer, Isofix, Passenger-side airbag, Power steering, Side airbag, Tire pressure monitoring system]   \n",
       "4    https://www.autoscout24.com//offers/audi-a1-sportback-1-4-tdi-s-tronic-s-line-ext-admired-xe-diesel-black-b86b55d8-9c7c-4a58-b658-b97008a51efc    Audi A1  Sportback 1.4 TDI S-Tronic S-Line Ext. admired, Xe    Sedans  16790              None  16,200 km      05/2016   1 previous owner NaN   66 kW  [, Used, , Diesel (Particulate Filter)]           \\n1\\n                                    NaN  [\\nYes\\n, \\n109 g CO2/km (comb)\\n]              [\\n, \\n, \\nEuro 6\\n]           [\\n, \\n, \\n4 (Green)\\n]              [\\n, \\n]   []  \\nAudi\\n  [\\n, A1, \\n]      [\\nC1626\\n]     [\\n, 2016, \\n]  [\\n, Black, \\n]  [\\nMetallic\\n]  [\\nMythosschwarz Metallic\\n]  [\\nCloth, Black\\n]  [\\n, Sedans, \\n]      [\\n5\\n]      [\\n5\\n]  [\\n0588/BDF\\n]  [\\n, Automatic, \\n]  [\\n1,422 cc\\n]   [\\n3\\n]             NaN  [\\nfront\\n]  [\\n, Diesel (Particulate Filter), \\n]  [[4.1 l/100 km (comb)], [4.6 l/100 km (city)], [3.8 l/100 km (country)]]  [\\n109 g CO2/km (comb)\\n]   [\\nEuro 6\\n]                                                   [Air conditioning, Armrest, Automatic climate control, Electrical side mirrors, Hill Holder, Leather steering wheel, Light sensor, Multi-function steering wheel, Park Distance Control, Parking assist system sensors rear, Power windows, Rain sensor, Start-stop system]                [Bluetooth, CD player, Hands-free equipment, MP3, On-board computer, Radio, USB]  [Alloy wheels, Sport package, Sport suspension, Voice Control]                                                                  [ABS, Central door lock, Driver-side airbag, Electronic stability control, Fog lights, Immobilizer, Isofix, Passenger-side airbag, Power steering, Side airbag, Tire pressure monitoring system, Traction control, Xenon headlights]   \n",
       "\n",
       "                                                                                                                                                                                                                                                                                                                                                                                                                                                                                                           description   Emission Label    Gears Country version Electricity consumption Last Service Date Other Fuel Types Availability Last Timing Belt Service Date Available from  \n",
       "0  [\\n, Sicherheit:,  , Deaktivierung für Beifahrer-Airbag,  , ESC mit elektronischer Quersperre,  , Tagfahrlicht,  , Reifendruck-Kontrollanzeige,  , Kopfairbag-System mit Seiten-Airbags vorn,  , Sicherheitslenksäule, Assistenzsysteme:,  , Berganfahrassistent, Komfort:,  , Scheinwerferreinigung,  , Xenon plus inklusive Scheinwerfer-Reinigungsanlage,  , Scheinwerfer-Reinigungsanlage,  , Einparkhilfe hinten,  , Licht-/Regensensor,  , Funkfernbedienung,  , Elektrische Luftzusatzheizung, Interieur:...              NaN      NaN             NaN                     NaN               NaN              NaN          NaN                           NaN            NaN  \n",
       "1                                                                                                                                                                                                                                                                                                                                                                                                         [\\nLangstreckenfahrzeug daher die hohe Kilometerleistung. , Bremsen neu bei 62000 km. , Gut gepflegter A1\\n]  [\\n4 (Green)\\n]  [\\n7\\n]             NaN                     NaN               NaN              NaN          NaN                           NaN            NaN  \n",
       "2  [\\n, Fahrzeug-Nummer: AM-95365,  , Ehem. UPE 24.640 EUR,  , Komfort,  , Klimaanlage,  , Elektrische Fensterheber,  , Sitzheizung,  , Tempomat,  , Zentralverriegelung,  , Leder-Lenkrad,  , Elektrische Spiegel,  , Wärmedämmendes Glas,  , Anfahrassistent,  , Sicherheit,  , Window/Kopfairbags,  , ESP (el. Stabilitäts Programm),  , Elektronische Wegfahrsperre,  , Reifendruckkontrolle,  , Tagfahrlicht,  , Exterieur,  , Alufelgen 16 Zoll,  , Einparkhilfe vo + hi,  , Interieur,  , Stoff Zeitgeist,  ...  [\\n4 (Green)\\n]      NaN             NaN                     NaN               NaN              NaN          NaN                           NaN            NaN  \n",
       "3                                                                                                                                                                                                                                                                             [\\nAudi A1: , - 1e eigenaar , - Perfecte staat: schade/ongevalvrij , - Onderhoudsboekje Audi garage , - Full option!, - S-line opties, - Automaat, lederen bekleding, navi-pro, Xenon lampen, zetelverwarming, automatische airco,...\\n]              NaN  [\\n6\\n]             NaN                     NaN               NaN              NaN          NaN                           NaN            NaN  \n",
       "4  [\\n, Technik & Sicherheit:, Xenon plus, Klimaautomatik, Einparkhilfe hinten, Scheinwerferreinigungsanlage, Nebelscheinwerfer, Zentralverriegelung mit Fernbedienung, Außenspiegel elek. einstellbar, Fensterheber elek, Start/Stop Anlage, 6 Airbag inkl. Kopfairbag, Euro 6, Multimedia:, Radio CD Concert, audi music interface, Handyvorbereitung (Bluetooth), Sprachsteuerung, USB Anschluss, Assistenzsysteme:, Lichtsensor, Regensensor, Berganfahrassistent, Reifendruckkontrolle, ESP inkl. ABS, Interie...              NaN      NaN   [\\nGermany\\n]                     NaN               NaN              NaN          NaN                           NaN            NaN  "
      ]
     },
     "execution_count": 3,
     "metadata": {},
     "output_type": "execute_result"
    }
   ],
   "source": [
    "oto.head()"
   ]
  },
  {
   "cell_type": "code",
   "execution_count": null,
   "metadata": {},
   "outputs": [],
   "source": []
  },
  {
   "cell_type": "markdown",
   "metadata": {},
   "source": [
    "##  Now let's try to examine our dataframe (oto)"
   ]
  },
  {
   "cell_type": "code",
   "execution_count": 4,
   "metadata": {},
   "outputs": [
    {
     "name": "stdout",
     "output_type": "stream",
     "text": [
      "<class 'pandas.core.frame.DataFrame'>\n",
      "RangeIndex: 15919 entries, 0 to 15918\n",
      "Data columns (total 54 columns):\n",
      " #   Column                         Dtype  \n",
      "---  ------                         -----  \n",
      " 0   url                            object \n",
      " 1   make_model                     object \n",
      " 2   short_description              object \n",
      " 3   body_type                      object \n",
      " 4   price                          int64  \n",
      " 5   vat                            object \n",
      " 6   km                             object \n",
      " 7   registration                   object \n",
      " 8   prev_owner                     object \n",
      " 9   kW                             float64\n",
      " 10  hp                             object \n",
      " 11  Type                           object \n",
      " 12  Previous Owners                object \n",
      " 13  Next Inspection                object \n",
      " 14  Inspection new                 object \n",
      " 15  Warranty                       object \n",
      " 16  Full Service                   object \n",
      " 17  Non-smoking Vehicle            object \n",
      " 18  null                           object \n",
      " 19  Make                           object \n",
      " 20  Model                          object \n",
      " 21  Offer Number                   object \n",
      " 22  First Registration             object \n",
      " 23  Body Color                     object \n",
      " 24  Paint Type                     object \n",
      " 25  Body Color Original            object \n",
      " 26  Upholstery                     object \n",
      " 27  Body                           object \n",
      " 28  Nr. of Doors                   object \n",
      " 29  Nr. of Seats                   object \n",
      " 30  Model Code                     object \n",
      " 31  Gearing Type                   object \n",
      " 32  Displacement                   object \n",
      " 33  Cylinders                      object \n",
      " 34  Weight                         object \n",
      " 35  Drive chain                    object \n",
      " 36  Fuel                           object \n",
      " 37  Consumption                    object \n",
      " 38  CO2 Emission                   object \n",
      " 39  Emission Class                 object \n",
      " 40  \n",
      "Comfort & Convenience\n",
      "        object \n",
      " 41  \n",
      "Entertainment & Media\n",
      "        object \n",
      " 42  \n",
      "Extras\n",
      "                       object \n",
      " 43  \n",
      "Safety & Security\n",
      "            object \n",
      " 44  description                    object \n",
      " 45  Emission Label                 object \n",
      " 46  Gears                          object \n",
      " 47  Country version                object \n",
      " 48  Electricity consumption        object \n",
      " 49  Last Service Date              object \n",
      " 50  Other Fuel Types               object \n",
      " 51  Availability                   object \n",
      " 52  Last Timing Belt Service Date  object \n",
      " 53  Available from                 object \n",
      "dtypes: float64(1), int64(1), object(52)\n",
      "memory usage: 6.6+ MB\n"
     ]
    }
   ],
   "source": [
    "oto.info()"
   ]
  },
  {
   "cell_type": "code",
   "execution_count": 33,
   "metadata": {},
   "outputs": [
    {
     "data": {
      "text/html": [
       "<div>\n",
       "<style scoped>\n",
       "    .dataframe tbody tr th:only-of-type {\n",
       "        vertical-align: middle;\n",
       "    }\n",
       "\n",
       "    .dataframe tbody tr th {\n",
       "        vertical-align: top;\n",
       "    }\n",
       "\n",
       "    .dataframe thead th {\n",
       "        text-align: right;\n",
       "    }\n",
       "</style>\n",
       "<table border=\"1\" class=\"dataframe\">\n",
       "  <thead>\n",
       "    <tr style=\"text-align: right;\">\n",
       "      <th></th>\n",
       "      <th>price</th>\n",
       "      <th>kW</th>\n",
       "    </tr>\n",
       "  </thead>\n",
       "  <tbody>\n",
       "    <tr>\n",
       "      <th>count</th>\n",
       "      <td>15919.000000</td>\n",
       "      <td>0.0</td>\n",
       "    </tr>\n",
       "    <tr>\n",
       "      <th>mean</th>\n",
       "      <td>18019.896727</td>\n",
       "      <td>NaN</td>\n",
       "    </tr>\n",
       "    <tr>\n",
       "      <th>std</th>\n",
       "      <td>7386.169409</td>\n",
       "      <td>NaN</td>\n",
       "    </tr>\n",
       "    <tr>\n",
       "      <th>min</th>\n",
       "      <td>13.000000</td>\n",
       "      <td>NaN</td>\n",
       "    </tr>\n",
       "    <tr>\n",
       "      <th>25%</th>\n",
       "      <td>12850.000000</td>\n",
       "      <td>NaN</td>\n",
       "    </tr>\n",
       "    <tr>\n",
       "      <th>50%</th>\n",
       "      <td>16900.000000</td>\n",
       "      <td>NaN</td>\n",
       "    </tr>\n",
       "    <tr>\n",
       "      <th>75%</th>\n",
       "      <td>21900.000000</td>\n",
       "      <td>NaN</td>\n",
       "    </tr>\n",
       "    <tr>\n",
       "      <th>max</th>\n",
       "      <td>74600.000000</td>\n",
       "      <td>NaN</td>\n",
       "    </tr>\n",
       "  </tbody>\n",
       "</table>\n",
       "</div>"
      ],
      "text/plain": [
       "              price   kW\n",
       "count  15919.000000  0.0\n",
       "mean   18019.896727  NaN\n",
       "std     7386.169409  NaN\n",
       "min       13.000000  NaN\n",
       "25%    12850.000000  NaN\n",
       "50%    16900.000000  NaN\n",
       "75%    21900.000000  NaN\n",
       "max    74600.000000  NaN"
      ]
     },
     "execution_count": 33,
     "metadata": {},
     "output_type": "execute_result"
    }
   ],
   "source": [
    "oto.describe()"
   ]
  },
  {
   "cell_type": "code",
   "execution_count": null,
   "metadata": {},
   "outputs": [],
   "source": []
  },
  {
   "cell_type": "markdown",
   "metadata": {},
   "source": [
    "## Handling with Missing Values."
   ]
  },
  {
   "cell_type": "markdown",
   "metadata": {},
   "source": [
    "- **Identifying the amount of the Missing Values**"
   ]
  },
  {
   "cell_type": "code",
   "execution_count": 5,
   "metadata": {},
   "outputs": [
    {
     "data": {
      "text/plain": [
       "15919"
      ]
     },
     "execution_count": 5,
     "metadata": {},
     "output_type": "execute_result"
    }
   ],
   "source": [
    "oto.shape[0]"
   ]
  },
  {
   "cell_type": "code",
   "execution_count": 6,
   "metadata": {},
   "outputs": [
    {
     "data": {
      "text/plain": [
       "url                                0.000000\n",
       "make_model                         0.000000\n",
       "short_description                  0.288963\n",
       "body_type                          0.376908\n",
       "price                              0.000000\n",
       "vat                               28.349771\n",
       "km                                 0.000000\n",
       "registration                       0.000000\n",
       "prev_owner                        42.892141\n",
       "kW                               100.000000\n",
       "hp                                 0.000000\n",
       "Type                               0.012564\n",
       "Previous Owners                   41.711163\n",
       "Next Inspection                   77.793831\n",
       "Inspection new                    75.299956\n",
       "Warranty                          34.047365\n",
       "Full Service                      48.395000\n",
       "Non-smoking Vehicle               54.915510\n",
       "null                               0.000000\n",
       "Make                               0.000000\n",
       "Model                              0.000000\n",
       "Offer Number                      19.944720\n",
       "First Registration                10.032037\n",
       "Body Color                         3.750236\n",
       "Paint Type                        36.258559\n",
       "Body Color Original               23.613292\n",
       "Upholstery                        23.368302\n",
       "Body                               0.376908\n",
       "Nr. of Doors                       1.331742\n",
       "Nr. of Seats                       6.137320\n",
       "Model Code                        68.729192\n",
       "Gearing Type                       0.000000\n",
       "Displacement                       3.115774\n",
       "Cylinders                         35.680633\n",
       "Weight                            43.809285\n",
       "Drive chain                       43.080596\n",
       "Fuel                               0.000000\n",
       "Consumption                       11.973114\n",
       "CO2 Emission                      11.357497\n",
       "Emission Class                    18.977323\n",
       "\\nComfort & Convenience\\n          5.779257\n",
       "\\nEntertainment & Media\\n          8.631195\n",
       "\\nExtras\\n                        18.606696\n",
       "\\nSafety & Security\\n              6.168729\n",
       "description                        0.000000\n",
       "Emission Label                    74.967021\n",
       "Gears                             29.599849\n",
       "Country version                   52.346253\n",
       "Electricity consumption           99.139393\n",
       "Last Service Date                 96.444500\n",
       "Other Fuel Types                  94.472015\n",
       "Availability                      96.011056\n",
       "Last Timing Belt Service Date     99.899491\n",
       "Available from                    98.291350\n",
       "dtype: float64"
      ]
     },
     "execution_count": 6,
     "metadata": {},
     "output_type": "execute_result"
    }
   ],
   "source": [
    "oto.isnull().sum()*100/oto.shape[0]"
   ]
  },
  {
   "cell_type": "code",
   "execution_count": 36,
   "metadata": {},
   "outputs": [],
   "source": [
    "col_list = list(oto.columns)"
   ]
  },
  {
   "cell_type": "code",
   "execution_count": 37,
   "metadata": {},
   "outputs": [
    {
     "data": {
      "text/plain": [
       "['url',\n",
       " 'make_model',\n",
       " 'short_description',\n",
       " 'body_type',\n",
       " 'price',\n",
       " 'vat',\n",
       " 'km',\n",
       " 'registration',\n",
       " 'prev_owner',\n",
       " 'kW',\n",
       " 'hp',\n",
       " 'Type',\n",
       " 'Previous Owners',\n",
       " 'Next Inspection',\n",
       " 'Inspection new',\n",
       " 'Warranty',\n",
       " 'Full Service',\n",
       " 'Non-smoking Vehicle',\n",
       " 'null',\n",
       " 'Make',\n",
       " 'Model',\n",
       " 'Offer Number',\n",
       " 'First Registration',\n",
       " 'Body Color',\n",
       " 'Paint Type',\n",
       " 'Body Color Original',\n",
       " 'Upholstery',\n",
       " 'Body',\n",
       " 'Nr. of Doors',\n",
       " 'Nr. of Seats',\n",
       " 'Model Code',\n",
       " 'Gearing Type',\n",
       " 'Displacement',\n",
       " 'Cylinders',\n",
       " 'Weight',\n",
       " 'Drive chain',\n",
       " 'Fuel',\n",
       " 'Consumption',\n",
       " 'CO2 Emission',\n",
       " 'Emission Class',\n",
       " '\\nComfort & Convenience\\n',\n",
       " '\\nEntertainment & Media\\n',\n",
       " '\\nExtras\\n',\n",
       " '\\nSafety & Security\\n',\n",
       " 'description',\n",
       " 'Emission Label',\n",
       " 'Gears',\n",
       " 'Country version',\n",
       " 'Electricity consumption',\n",
       " 'Last Service Date',\n",
       " 'Other Fuel Types',\n",
       " 'Availability',\n",
       " 'Last Timing Belt Service Date',\n",
       " 'Available from']"
      ]
     },
     "execution_count": 37,
     "metadata": {},
     "output_type": "execute_result"
    }
   ],
   "source": [
    "col_list"
   ]
  },
  {
   "cell_type": "markdown",
   "metadata": {},
   "source": [
    "## Let's begin to implement EDA Process to all *columns*"
   ]
  },
  {
   "cell_type": "markdown",
   "metadata": {},
   "source": [
    "> ### We'll begin with the variables which has high percentage of missing values(NaNs). \n",
    "> ### We can remove some of them. At the begining we can focus on the columns that have %35 precentage and higher of missing values."
   ]
  },
  {
   "cell_type": "code",
   "execution_count": 38,
   "metadata": {},
   "outputs": [
    {
     "data": {
      "text/plain": [
       "prev_owner                        42.892141\n",
       "kW                               100.000000\n",
       "Previous Owners                   41.711163\n",
       "Next Inspection                   77.793831\n",
       "Inspection new                    75.299956\n",
       "Full Service                      48.395000\n",
       "Non-smoking Vehicle               54.915510\n",
       "Paint Type                        36.258559\n",
       "Model Code                        68.729192\n",
       "Cylinders                         35.680633\n",
       "Weight                            43.809285\n",
       "Drive chain                       43.080596\n",
       "Emission Label                    74.967021\n",
       "Country version                   52.346253\n",
       "Electricity consumption           99.139393\n",
       "Last Service Date                 96.444500\n",
       "Other Fuel Types                  94.472015\n",
       "Availability                      96.011056\n",
       "Last Timing Belt Service Date     99.899491\n",
       "Available from                    98.291350\n",
       "dtype: float64"
      ]
     },
     "execution_count": 38,
     "metadata": {},
     "output_type": "execute_result"
    }
   ],
   "source": [
    "def show_nans(oto, limit):\n",
    "    missing = oto.isnull().sum()*100/oto.shape[0]\n",
    "    return missing.loc[lambda x : x > limit]\n",
    "show_nans(oto, 35)"
   ]
  },
  {
   "cell_type": "markdown",
   "metadata": {},
   "source": [
    "- We can drop the columns which have 90 percentage or high of missing values."
   ]
  },
  {
   "cell_type": "markdown",
   "metadata": {},
   "source": [
    "- ``'Availability'``, ``'Available from'``, ``'Electricity consumption'``, ``'Last Service Date'``, ``'Last Timing Belt Service Date'``, ``'Other Fuel Types'``, ``'kW'``"
   ]
  },
  {
   "cell_type": "code",
   "execution_count": 7,
   "metadata": {},
   "outputs": [],
   "source": [
    "drop_list1 = ['Availability','Available from','Electricity consumption','Last Service Date','Last Timing Belt Service Date',\n",
    "         'Other Fuel Types','kW']"
   ]
  },
  {
   "cell_type": "code",
   "execution_count": 8,
   "metadata": {},
   "outputs": [],
   "source": [
    "oto.drop(drop_list1, axis=1, inplace=True)"
   ]
  },
  {
   "cell_type": "markdown",
   "metadata": {},
   "source": [
    "``'prev_owner'`` is very similar to ``'Previous Owners'``.  ``'Weight'`` and ``'Non-smoking Vehicle'`` are assumed that they don't have meaningful  effect on the result. So we can drop them all."
   ]
  },
  {
   "cell_type": "markdown",
   "metadata": {},
   "source": [
    "### ``\"prev_owner\"`` and ``\"Previous Owners\"``"
   ]
  },
  {
   "cell_type": "code",
   "execution_count": 9,
   "metadata": {},
   "outputs": [
    {
     "data": {
      "text/html": [
       "<div>\n",
       "<style scoped>\n",
       "    .dataframe tbody tr th:only-of-type {\n",
       "        vertical-align: middle;\n",
       "    }\n",
       "\n",
       "    .dataframe tbody tr th {\n",
       "        vertical-align: top;\n",
       "    }\n",
       "\n",
       "    .dataframe thead th {\n",
       "        text-align: right;\n",
       "    }\n",
       "</style>\n",
       "<table border=\"1\" class=\"dataframe\">\n",
       "  <thead>\n",
       "    <tr style=\"text-align: right;\">\n",
       "      <th></th>\n",
       "      <th>prev_owner</th>\n",
       "      <th>Previous Owners</th>\n",
       "    </tr>\n",
       "  </thead>\n",
       "  <tbody>\n",
       "    <tr>\n",
       "      <th>0</th>\n",
       "      <td>2 previous owners</td>\n",
       "      <td>\\n2\\n</td>\n",
       "    </tr>\n",
       "    <tr>\n",
       "      <th>1</th>\n",
       "      <td>None</td>\n",
       "      <td>NaN</td>\n",
       "    </tr>\n",
       "    <tr>\n",
       "      <th>2</th>\n",
       "      <td>1 previous owner</td>\n",
       "      <td>\\n1\\n</td>\n",
       "    </tr>\n",
       "    <tr>\n",
       "      <th>3</th>\n",
       "      <td>1 previous owner</td>\n",
       "      <td>\\n1\\n</td>\n",
       "    </tr>\n",
       "    <tr>\n",
       "      <th>4</th>\n",
       "      <td>1 previous owner</td>\n",
       "      <td>\\n1\\n</td>\n",
       "    </tr>\n",
       "    <tr>\n",
       "      <th>...</th>\n",
       "      <td>...</td>\n",
       "      <td>...</td>\n",
       "    </tr>\n",
       "    <tr>\n",
       "      <th>15914</th>\n",
       "      <td>None</td>\n",
       "      <td>NaN</td>\n",
       "    </tr>\n",
       "    <tr>\n",
       "      <th>15915</th>\n",
       "      <td>1 previous owner</td>\n",
       "      <td>[\\n1\\n, \\n, 7.4 l/100 km (comb), \\n, 9.2 l/100 km (city), \\n, 6.3 l/100 km (country), \\n]</td>\n",
       "    </tr>\n",
       "    <tr>\n",
       "      <th>15916</th>\n",
       "      <td>1 previous owner</td>\n",
       "      <td>[\\n1\\n, \\n139 g CO2/km (comb)\\n]</td>\n",
       "    </tr>\n",
       "    <tr>\n",
       "      <th>15917</th>\n",
       "      <td>None</td>\n",
       "      <td>NaN</td>\n",
       "    </tr>\n",
       "    <tr>\n",
       "      <th>15918</th>\n",
       "      <td>1 previous owner</td>\n",
       "      <td>\\n1\\n</td>\n",
       "    </tr>\n",
       "  </tbody>\n",
       "</table>\n",
       "<p>15919 rows × 2 columns</p>\n",
       "</div>"
      ],
      "text/plain": [
       "              prev_owner                                                                            Previous Owners\n",
       "0      2 previous owners                                                                                      \\n2\\n\n",
       "1                   None                                                                                        NaN\n",
       "2       1 previous owner                                                                                      \\n1\\n\n",
       "3       1 previous owner                                                                                      \\n1\\n\n",
       "4       1 previous owner                                                                                      \\n1\\n\n",
       "...                  ...                                                                                        ...\n",
       "15914               None                                                                                        NaN\n",
       "15915   1 previous owner  [\\n1\\n, \\n, 7.4 l/100 km (comb), \\n, 9.2 l/100 km (city), \\n, 6.3 l/100 km (country), \\n]\n",
       "15916   1 previous owner                                                           [\\n1\\n, \\n139 g CO2/km (comb)\\n]\n",
       "15917               None                                                                                        NaN\n",
       "15918   1 previous owner                                                                                      \\n1\\n\n",
       "\n",
       "[15919 rows x 2 columns]"
      ]
     },
     "execution_count": 9,
     "metadata": {},
     "output_type": "execute_result"
    }
   ],
   "source": [
    "oto[[\"prev_owner\", \"Previous Owners\"]]"
   ]
  },
  {
   "cell_type": "markdown",
   "metadata": {},
   "source": [
    "#### These two columns are very similar to each other. Let's choose better of them."
   ]
  },
  {
   "cell_type": "code",
   "execution_count": 10,
   "metadata": {},
   "outputs": [
    {
     "data": {
      "text/plain": [
       "0                                                                                            \\n2\\n\n",
       "1                                                                                              NaN\n",
       "2                                                                                            \\n1\\n\n",
       "3                                                                                            \\n1\\n\n",
       "4                                                                                            \\n1\\n\n",
       "                                                   ...                                            \n",
       "15914                                                                                          NaN\n",
       "15915    [\\n1\\n, \\n, 7.4 l/100 km (comb), \\n, 9.2 l/100 km (city), \\n, 6.3 l/100 km (country), \\n]\n",
       "15916                                                             [\\n1\\n, \\n139 g CO2/km (comb)\\n]\n",
       "15917                                                                                          NaN\n",
       "15918                                                                                        \\n1\\n\n",
       "Name: Previous Owners, Length: 15919, dtype: object"
      ]
     },
     "execution_count": 10,
     "metadata": {},
     "output_type": "execute_result"
    }
   ],
   "source": [
    "oto[\"Previous Owners\"]"
   ]
  },
  {
   "cell_type": "code",
   "execution_count": 11,
   "metadata": {},
   "outputs": [
    {
     "data": {
      "text/plain": [
       "0        2 previous owners\n",
       "1                     None\n",
       "2         1 previous owner\n",
       "3         1 previous owner\n",
       "4         1 previous owner\n",
       "               ...        \n",
       "15914                 None\n",
       "15915     1 previous owner\n",
       "15916     1 previous owner\n",
       "15917                 None\n",
       "15918     1 previous owner\n",
       "Name: prev_owner, Length: 15919, dtype: object"
      ]
     },
     "execution_count": 11,
     "metadata": {},
     "output_type": "execute_result"
    }
   ],
   "source": [
    "oto[\"prev_owner\"]"
   ]
  },
  {
   "cell_type": "code",
   "execution_count": 12,
   "metadata": {},
   "outputs": [
    {
     "ename": "TypeError",
     "evalue": "unhashable type: 'list'",
     "output_type": "error",
     "traceback": [
      "\u001b[1;31m---------------------------------------------------------------------------\u001b[0m",
      "\u001b[1;31mTypeError\u001b[0m                                 Traceback (most recent call last)",
      "\u001b[1;32mpandas\\_libs\\hashtable_class_helper.pxi\u001b[0m in \u001b[0;36mpandas._libs.hashtable.PyObjectHashTable.map_locations\u001b[1;34m()\u001b[0m\n",
      "\u001b[1;31mTypeError\u001b[0m: unhashable type: 'list'"
     ]
    },
    {
     "name": "stderr",
     "output_type": "stream",
     "text": [
      "Exception ignored in: 'pandas._libs.index.IndexEngine._call_map_locations'\n",
      "Traceback (most recent call last):\n",
      "  File \"pandas\\_libs\\hashtable_class_helper.pxi\", line 1653, in pandas._libs.hashtable.PyObjectHashTable.map_locations\n",
      "TypeError: unhashable type: 'list'\n"
     ]
    },
    {
     "data": {
      "text/plain": [
       "\\n1\\n                                                                                        8101\n",
       "NaN                                                                                          6640\n",
       "\\n2\\n                                                                                         766\n",
       "\\n0\\n                                                                                         163\n",
       "\\n3\\n                                                                                          17\n",
       "                                                                                             ... \n",
       "[\\n1\\n, \\n96 g CO2/km (comb)\\n]                                                                 1\n",
       "[\\n1\\n, \\n181 g CO2/km (comb)\\n]                                                                1\n",
       "[\\n1\\n, \\n, 6.6 l/100 km (comb), \\n, 8.2 l/100 km (city), \\n, 5.6 l/100 km (country), \\n]       1\n",
       "[\\n1\\n, \\n, 6.7 l/100 km (comb), \\n, 8.6 l/100 km (city), \\n, 5.6 l/100 km (country), \\n]       1\n",
       "[\\n1\\n, \\n102 g CO2/km (comb)\\n]                                                                1\n",
       "Name: Previous Owners, Length: 103, dtype: int64"
      ]
     },
     "execution_count": 12,
     "metadata": {},
     "output_type": "execute_result"
    }
   ],
   "source": [
    "oto[\"Previous Owners\"].value_counts(dropna = False)"
   ]
  },
  {
   "cell_type": "code",
   "execution_count": 13,
   "metadata": {},
   "outputs": [
    {
     "data": {
      "text/plain": [
       "1 previous owner     8294\n",
       "NaN                  6828\n",
       "2 previous owners     778\n",
       "3 previous owners      17\n",
       "4 previous owners       2\n",
       "Name: prev_owner, dtype: int64"
      ]
     },
     "execution_count": 13,
     "metadata": {},
     "output_type": "execute_result"
    }
   ],
   "source": [
    "oto[\"prev_owner\"].value_counts(dropna = False)"
   ]
  },
  {
   "cell_type": "markdown",
   "metadata": {},
   "source": [
    "### ``'Previous Owners'``"
   ]
  },
  {
   "cell_type": "code",
   "execution_count": 14,
   "metadata": {},
   "outputs": [
    {
     "data": {
      "text/plain": [
       "0          2\n",
       "1        NaN\n",
       "2          1\n",
       "3          1\n",
       "4          1\n",
       "        ... \n",
       "15914    NaN\n",
       "15915    NaN\n",
       "15916    NaN\n",
       "15917    NaN\n",
       "15918      1\n",
       "Name: Previous Owners, Length: 15919, dtype: object"
      ]
     },
     "execution_count": 14,
     "metadata": {},
     "output_type": "execute_result"
    }
   ],
   "source": [
    "oto[\"Previous Owners\"].str.strip(\"\\n\")"
   ]
  },
  {
   "cell_type": "code",
   "execution_count": 15,
   "metadata": {},
   "outputs": [
    {
     "data": {
      "text/plain": [
       "1      8101\n",
       "NaN    6870\n",
       "2       766\n",
       "0       163\n",
       "3        17\n",
       "4         2\n",
       "Name: Previous Owners, dtype: int64"
      ]
     },
     "execution_count": 15,
     "metadata": {},
     "output_type": "execute_result"
    }
   ],
   "source": [
    "oto[\"Previous Owners\"].str.strip(\"\\n\").value_counts(dropna = False)"
   ]
  },
  {
   "cell_type": "code",
   "execution_count": 16,
   "metadata": {},
   "outputs": [
    {
     "data": {
      "text/plain": [
       "0           \\n\n",
       "1          NaN\n",
       "2           \\n\n",
       "3           \\n\n",
       "4           \\n\n",
       "         ...  \n",
       "15914      NaN\n",
       "15915    \\n1\\n\n",
       "15916    \\n1\\n\n",
       "15917      NaN\n",
       "15918       \\n\n",
       "Name: Previous Owners, Length: 15919, dtype: object"
      ]
     },
     "execution_count": 16,
     "metadata": {},
     "output_type": "execute_result"
    }
   ],
   "source": [
    "oto[\"Previous Owners\"].str[0]"
   ]
  },
  {
   "cell_type": "code",
   "execution_count": 17,
   "metadata": {},
   "outputs": [
    {
     "data": {
      "text/plain": [
       "0        NaN\n",
       "1        NaN\n",
       "2        NaN\n",
       "3        NaN\n",
       "4        NaN\n",
       "        ... \n",
       "15914    NaN\n",
       "15915      1\n",
       "15916      1\n",
       "15917    NaN\n",
       "15918    NaN\n",
       "Name: Previous Owners, Length: 15919, dtype: object"
      ]
     },
     "execution_count": 17,
     "metadata": {},
     "output_type": "execute_result"
    }
   ],
   "source": [
    "oto['Previous Owners'].str[0].str[1]"
   ]
  },
  {
   "cell_type": "code",
   "execution_count": 18,
   "metadata": {},
   "outputs": [
    {
     "data": {
      "text/plain": [
       "NaN    15689\n",
       "1        193\n",
       "0         25\n",
       "2         12\n",
       "Name: Previous Owners, dtype: int64"
      ]
     },
     "execution_count": 18,
     "metadata": {},
     "output_type": "execute_result"
    }
   ],
   "source": [
    "oto['Previous Owners'].str[0].str[1].value_counts(dropna = False)"
   ]
  },
  {
   "cell_type": "markdown",
   "metadata": {},
   "source": [
    "> ### We catch the values inside the lists.\n",
    "\n",
    "> ### There are 230 new values which are not visible in previous format.\n",
    "\n",
    "1   →     193\n",
    "\n",
    "0   →     25\n",
    "\n",
    "2   →     12"
   ]
  },
  {
   "cell_type": "code",
   "execution_count": 19,
   "metadata": {},
   "outputs": [
    {
     "data": {
      "text/plain": [
       "0        NaN\n",
       "1        NaN\n",
       "2        NaN\n",
       "3        NaN\n",
       "4        NaN\n",
       "        ... \n",
       "15914    NaN\n",
       "15915      1\n",
       "15916      1\n",
       "15917    NaN\n",
       "15918    NaN\n",
       "Name: Previous_Owner1, Length: 15919, dtype: object"
      ]
     },
     "execution_count": 19,
     "metadata": {},
     "output_type": "execute_result"
    }
   ],
   "source": [
    "oto[\"Previous_Owner1\"] = oto['Previous Owners'].str[0].str[1]\n",
    "oto[\"Previous_Owner1\"]"
   ]
  },
  {
   "cell_type": "code",
   "execution_count": 20,
   "metadata": {},
   "outputs": [
    {
     "data": {
      "text/plain": [
       "0          2\n",
       "1        NaN\n",
       "2          1\n",
       "3          1\n",
       "4          1\n",
       "        ... \n",
       "15914    NaN\n",
       "15915    NaN\n",
       "15916    NaN\n",
       "15917    NaN\n",
       "15918      1\n",
       "Name: Previous_Owner, Length: 15919, dtype: object"
      ]
     },
     "execution_count": 20,
     "metadata": {},
     "output_type": "execute_result"
    }
   ],
   "source": [
    "oto['Previous_Owner'] = oto['Previous Owners'].str.strip('\\n')\n",
    "oto['Previous_Owner']"
   ]
  },
  {
   "cell_type": "code",
   "execution_count": 21,
   "metadata": {},
   "outputs": [
    {
     "data": {
      "text/plain": [
       "1      8294\n",
       "NaN    6640\n",
       "2       778\n",
       "0       188\n",
       "3        17\n",
       "4         2\n",
       "Name: Previous_Owner, dtype: int64"
      ]
     },
     "execution_count": 21,
     "metadata": {},
     "output_type": "execute_result"
    }
   ],
   "source": [
    "oto.Previous_Owner.fillna(oto.Previous_Owner1, inplace=True)\n",
    "oto.Previous_Owner.value_counts(dropna=False) "
   ]
  },
  {
   "cell_type": "markdown",
   "metadata": {},
   "source": [
    "### ``\"Previous_Owner\"`` our new column. Now, we have to fillna this column in the most convenient way"
   ]
  },
  {
   "cell_type": "markdown",
   "metadata": {},
   "source": [
    "### We can fill the missing values with proportion of other existing values using `bfill` method."
   ]
  },
  {
   "cell_type": "code",
   "execution_count": 22,
   "metadata": {},
   "outputs": [],
   "source": [
    "oto[\"Previous_Owner\"].fillna(method='bfill', inplace=True) "
   ]
  },
  {
   "cell_type": "code",
   "execution_count": 23,
   "metadata": {},
   "outputs": [
    {
     "data": {
      "text/plain": [
       "1    14169\n",
       "2     1179\n",
       "0      531\n",
       "3       38\n",
       "4        2\n",
       "Name: Previous_Owner, dtype: int64"
      ]
     },
     "execution_count": 23,
     "metadata": {},
     "output_type": "execute_result"
    }
   ],
   "source": [
    "oto[\"Previous_Owner\"].value_counts(dropna = False)"
   ]
  },
  {
   "cell_type": "markdown",
   "metadata": {},
   "source": [
    "### ``\"prev_owner\"``"
   ]
  },
  {
   "cell_type": "code",
   "execution_count": 24,
   "metadata": {},
   "outputs": [
    {
     "data": {
      "text/plain": [
       "1 previous owner     8294\n",
       "NaN                  6828\n",
       "2 previous owners     778\n",
       "3 previous owners      17\n",
       "4 previous owners       2\n",
       "Name: prev_owner, dtype: int64"
      ]
     },
     "execution_count": 24,
     "metadata": {},
     "output_type": "execute_result"
    }
   ],
   "source": [
    "oto.prev_owner.value_counts(dropna = False)"
   ]
  },
  {
   "cell_type": "code",
   "execution_count": 25,
   "metadata": {},
   "outputs": [],
   "source": [
    "oto[\"prev_owner\"] = oto[\"prev_owner\"].str.replace(\" previous owner\", \"\").str.replace(\"s\", \"\")"
   ]
  },
  {
   "cell_type": "code",
   "execution_count": 26,
   "metadata": {},
   "outputs": [
    {
     "data": {
      "text/plain": [
       "1      8294\n",
       "NaN    6828\n",
       "2       778\n",
       "3        17\n",
       "4         2\n",
       "Name: prev_owner, dtype: int64"
      ]
     },
     "execution_count": 26,
     "metadata": {},
     "output_type": "execute_result"
    }
   ],
   "source": [
    "oto.prev_owner.value_counts(dropna = False)"
   ]
  },
  {
   "cell_type": "code",
   "execution_count": 27,
   "metadata": {},
   "outputs": [],
   "source": [
    "oto[\"prev_owner\"].fillna(method='bfill', inplace=True)"
   ]
  },
  {
   "cell_type": "code",
   "execution_count": 28,
   "metadata": {},
   "outputs": [
    {
     "data": {
      "text/plain": [
       "1    14692\n",
       "2     1187\n",
       "3       38\n",
       "4        2\n",
       "Name: prev_owner, dtype: int64"
      ]
     },
     "execution_count": 28,
     "metadata": {},
     "output_type": "execute_result"
    }
   ],
   "source": [
    "oto.prev_owner.value_counts(dropna = False)"
   ]
  },
  {
   "cell_type": "code",
   "execution_count": 29,
   "metadata": {},
   "outputs": [
    {
     "data": {
      "text/plain": [
       "1    14169\n",
       "2     1179\n",
       "0      531\n",
       "3       38\n",
       "4        2\n",
       "Name: Previous_Owner, dtype: int64"
      ]
     },
     "execution_count": 29,
     "metadata": {},
     "output_type": "execute_result"
    }
   ],
   "source": [
    "oto[\"Previous_Owner\"].value_counts()"
   ]
  },
  {
   "cell_type": "markdown",
   "metadata": {},
   "source": [
    "**It's better to drop ``\"prev_owner\"`` column in order to benefit more from ``\"Previous_Owner\"``. By the way, It is time to drop the other useless columns : `\"Weight\"`, `'Non-smoking Vehicle'`.**"
   ]
  },
  {
   "cell_type": "code",
   "execution_count": 30,
   "metadata": {},
   "outputs": [],
   "source": [
    "drop_list2 = [\"prev_owner\", 'Weight','Non-smoking Vehicle']"
   ]
  },
  {
   "cell_type": "code",
   "execution_count": 31,
   "metadata": {},
   "outputs": [],
   "source": [
    "oto.drop(drop_list2, axis = 1, inplace = True)"
   ]
  },
  {
   "cell_type": "markdown",
   "metadata": {},
   "source": [
    "### ``'body_type'`` is also very similar to ``'Body'``."
   ]
  },
  {
   "cell_type": "markdown",
   "metadata": {},
   "source": [
    "- **Defining a Function**"
   ]
  },
  {
   "cell_type": "code",
   "execution_count": 35,
   "metadata": {},
   "outputs": [],
   "source": [
    "def fill_most(oto, group_col, col_name):\n",
    "    for group in list(oto[group_col].unique()) :\n",
    "        grp_inx = list(oto[oto[group_col] == group][col_name].index)\n",
    "        oto[col_name].iloc[grp_inx] = oto[col_name].iloc[grp_inx].fillna(oto[oto[group_col] == group][col_name].mode()[0])"
   ]
  },
  {
   "cell_type": "code",
   "execution_count": null,
   "metadata": {},
   "outputs": [],
   "source": [
    "#fill_most(oto, \"make_model\", \"body_type\")"
   ]
  },
  {
   "cell_type": "code",
   "execution_count": null,
   "metadata": {},
   "outputs": [],
   "source": [
    "#fill_most(oto, \"make_model\", \"Extras\")"
   ]
  },
  {
   "cell_type": "code",
   "execution_count": null,
   "metadata": {},
   "outputs": [],
   "source": [
    "#fill_most(oto, \"make_model\", \"Comfort&Convenience\")"
   ]
  },
  {
   "cell_type": "code",
   "execution_count": 19,
   "metadata": {},
   "outputs": [
    {
     "data": {
      "text/plain": [
       "array(['Audi A1', 'Audi A2', 'Audi A3', 'Opel Astra', 'Opel Corsa',\n",
       "       'Opel Insignia', 'Renault Clio', 'Renault Duster',\n",
       "       'Renault Espace'], dtype=object)"
      ]
     },
     "execution_count": 19,
     "metadata": {},
     "output_type": "execute_result"
    }
   ],
   "source": [
    "#oto[\"make_model\"].unique()"
   ]
  },
  {
   "cell_type": "code",
   "execution_count": 51,
   "metadata": {},
   "outputs": [
    {
     "data": {
      "text/plain": [
       "2615      Convertible\n",
       "2616           Sedans\n",
       "2617           Sedans\n",
       "2618           Sedans\n",
       "2619           Sedans\n",
       "            ...      \n",
       "5707           Sedans\n",
       "5708           Sedans\n",
       "5709    Station wagon\n",
       "5710           Sedans\n",
       "5711           Sedans\n",
       "Name: body_type, Length: 3097, dtype: object"
      ]
     },
     "execution_count": 51,
     "metadata": {},
     "output_type": "execute_result"
    }
   ],
   "source": [
    "oto[\"body_type\"].iloc[grp_inx]"
   ]
  },
  {
   "cell_type": "code",
   "execution_count": 53,
   "metadata": {},
   "outputs": [
    {
     "data": {
      "text/plain": [
       "2615      Convertible\n",
       "2616           Sedans\n",
       "2617           Sedans\n",
       "2618           Sedans\n",
       "2619           Sedans\n",
       "            ...      \n",
       "5707           Sedans\n",
       "5708           Sedans\n",
       "5709    Station wagon\n",
       "5710           Sedans\n",
       "5711           Sedans\n",
       "Name: body_type, Length: 3097, dtype: object"
      ]
     },
     "execution_count": 53,
     "metadata": {},
     "output_type": "execute_result"
    }
   ],
   "source": [
    "oto[oto[\"make_model\"] == \"Audi A3\"][\"body_type\"]"
   ]
  },
  {
   "cell_type": "code",
   "execution_count": 39,
   "metadata": {},
   "outputs": [],
   "source": [
    "grp_inx = list(oto[oto[\"make_model\"] == \"Audi A3\"][\"body_type\"].index)"
   ]
  },
  {
   "cell_type": "code",
   "execution_count": 45,
   "metadata": {
    "collapsed": true
   },
   "outputs": [
    {
     "data": {
      "text/plain": [
       "[2615,\n",
       " 2616,\n",
       " 2617,\n",
       " 2618,\n",
       " 2619,\n",
       " 2620,\n",
       " 2621,\n",
       " 2622,\n",
       " 2623,\n",
       " 2624,\n",
       " 2625,\n",
       " 2626,\n",
       " 2627,\n",
       " 2628,\n",
       " 2629,\n",
       " 2630,\n",
       " 2631,\n",
       " 2632,\n",
       " 2633,\n",
       " 2634,\n",
       " 2635,\n",
       " 2636,\n",
       " 2637,\n",
       " 2638,\n",
       " 2639,\n",
       " 2640,\n",
       " 2641,\n",
       " 2642,\n",
       " 2643,\n",
       " 2644,\n",
       " 2645,\n",
       " 2646,\n",
       " 2647,\n",
       " 2648,\n",
       " 2649,\n",
       " 2650,\n",
       " 2651,\n",
       " 2652,\n",
       " 2653,\n",
       " 2654,\n",
       " 2655,\n",
       " 2656,\n",
       " 2657,\n",
       " 2658,\n",
       " 2659,\n",
       " 2660,\n",
       " 2661,\n",
       " 2662,\n",
       " 2663,\n",
       " 2664,\n",
       " 2665,\n",
       " 2666,\n",
       " 2667,\n",
       " 2668,\n",
       " 2669,\n",
       " 2670,\n",
       " 2671,\n",
       " 2672,\n",
       " 2673,\n",
       " 2674,\n",
       " 2675,\n",
       " 2676,\n",
       " 2677,\n",
       " 2678,\n",
       " 2679,\n",
       " 2680,\n",
       " 2681,\n",
       " 2682,\n",
       " 2683,\n",
       " 2684,\n",
       " 2685,\n",
       " 2686,\n",
       " 2687,\n",
       " 2688,\n",
       " 2689,\n",
       " 2690,\n",
       " 2691,\n",
       " 2692,\n",
       " 2693,\n",
       " 2694,\n",
       " 2695,\n",
       " 2696,\n",
       " 2697,\n",
       " 2698,\n",
       " 2699,\n",
       " 2700,\n",
       " 2701,\n",
       " 2702,\n",
       " 2703,\n",
       " 2704,\n",
       " 2705,\n",
       " 2706,\n",
       " 2707,\n",
       " 2708,\n",
       " 2709,\n",
       " 2710,\n",
       " 2711,\n",
       " 2712,\n",
       " 2713,\n",
       " 2714,\n",
       " 2715,\n",
       " 2716,\n",
       " 2717,\n",
       " 2718,\n",
       " 2719,\n",
       " 2720,\n",
       " 2721,\n",
       " 2722,\n",
       " 2723,\n",
       " 2724,\n",
       " 2725,\n",
       " 2726,\n",
       " 2727,\n",
       " 2728,\n",
       " 2729,\n",
       " 2730,\n",
       " 2731,\n",
       " 2732,\n",
       " 2733,\n",
       " 2734,\n",
       " 2735,\n",
       " 2736,\n",
       " 2737,\n",
       " 2738,\n",
       " 2739,\n",
       " 2740,\n",
       " 2741,\n",
       " 2742,\n",
       " 2743,\n",
       " 2744,\n",
       " 2745,\n",
       " 2746,\n",
       " 2747,\n",
       " 2748,\n",
       " 2749,\n",
       " 2750,\n",
       " 2751,\n",
       " 2752,\n",
       " 2753,\n",
       " 2754,\n",
       " 2755,\n",
       " 2756,\n",
       " 2757,\n",
       " 2758,\n",
       " 2759,\n",
       " 2760,\n",
       " 2761,\n",
       " 2762,\n",
       " 2763,\n",
       " 2764,\n",
       " 2765,\n",
       " 2766,\n",
       " 2767,\n",
       " 2768,\n",
       " 2769,\n",
       " 2770,\n",
       " 2771,\n",
       " 2772,\n",
       " 2773,\n",
       " 2774,\n",
       " 2775,\n",
       " 2776,\n",
       " 2777,\n",
       " 2778,\n",
       " 2779,\n",
       " 2780,\n",
       " 2781,\n",
       " 2782,\n",
       " 2783,\n",
       " 2784,\n",
       " 2785,\n",
       " 2786,\n",
       " 2787,\n",
       " 2788,\n",
       " 2789,\n",
       " 2790,\n",
       " 2791,\n",
       " 2792,\n",
       " 2793,\n",
       " 2794,\n",
       " 2795,\n",
       " 2796,\n",
       " 2797,\n",
       " 2798,\n",
       " 2799,\n",
       " 2800,\n",
       " 2801,\n",
       " 2802,\n",
       " 2803,\n",
       " 2804,\n",
       " 2805,\n",
       " 2806,\n",
       " 2807,\n",
       " 2808,\n",
       " 2809,\n",
       " 2810,\n",
       " 2811,\n",
       " 2812,\n",
       " 2813,\n",
       " 2814,\n",
       " 2815,\n",
       " 2816,\n",
       " 2817,\n",
       " 2818,\n",
       " 2819,\n",
       " 2820,\n",
       " 2821,\n",
       " 2822,\n",
       " 2823,\n",
       " 2824,\n",
       " 2825,\n",
       " 2826,\n",
       " 2827,\n",
       " 2828,\n",
       " 2829,\n",
       " 2830,\n",
       " 2831,\n",
       " 2832,\n",
       " 2833,\n",
       " 2834,\n",
       " 2835,\n",
       " 2836,\n",
       " 2837,\n",
       " 2838,\n",
       " 2839,\n",
       " 2840,\n",
       " 2841,\n",
       " 2842,\n",
       " 2843,\n",
       " 2844,\n",
       " 2845,\n",
       " 2846,\n",
       " 2847,\n",
       " 2848,\n",
       " 2849,\n",
       " 2850,\n",
       " 2851,\n",
       " 2852,\n",
       " 2853,\n",
       " 2854,\n",
       " 2855,\n",
       " 2856,\n",
       " 2857,\n",
       " 2858,\n",
       " 2859,\n",
       " 2860,\n",
       " 2861,\n",
       " 2862,\n",
       " 2863,\n",
       " 2864,\n",
       " 2865,\n",
       " 2866,\n",
       " 2867,\n",
       " 2868,\n",
       " 2869,\n",
       " 2870,\n",
       " 2871,\n",
       " 2872,\n",
       " 2873,\n",
       " 2874,\n",
       " 2875,\n",
       " 2876,\n",
       " 2877,\n",
       " 2878,\n",
       " 2879,\n",
       " 2880,\n",
       " 2881,\n",
       " 2882,\n",
       " 2883,\n",
       " 2884,\n",
       " 2885,\n",
       " 2886,\n",
       " 2887,\n",
       " 2888,\n",
       " 2889,\n",
       " 2890,\n",
       " 2891,\n",
       " 2892,\n",
       " 2893,\n",
       " 2894,\n",
       " 2895,\n",
       " 2896,\n",
       " 2897,\n",
       " 2898,\n",
       " 2899,\n",
       " 2900,\n",
       " 2901,\n",
       " 2902,\n",
       " 2903,\n",
       " 2904,\n",
       " 2905,\n",
       " 2906,\n",
       " 2907,\n",
       " 2908,\n",
       " 2909,\n",
       " 2910,\n",
       " 2911,\n",
       " 2912,\n",
       " 2913,\n",
       " 2914,\n",
       " 2915,\n",
       " 2916,\n",
       " 2917,\n",
       " 2918,\n",
       " 2919,\n",
       " 2920,\n",
       " 2921,\n",
       " 2922,\n",
       " 2923,\n",
       " 2924,\n",
       " 2925,\n",
       " 2926,\n",
       " 2927,\n",
       " 2928,\n",
       " 2929,\n",
       " 2930,\n",
       " 2931,\n",
       " 2932,\n",
       " 2933,\n",
       " 2934,\n",
       " 2935,\n",
       " 2936,\n",
       " 2937,\n",
       " 2938,\n",
       " 2939,\n",
       " 2940,\n",
       " 2941,\n",
       " 2942,\n",
       " 2943,\n",
       " 2944,\n",
       " 2945,\n",
       " 2946,\n",
       " 2947,\n",
       " 2948,\n",
       " 2949,\n",
       " 2950,\n",
       " 2951,\n",
       " 2952,\n",
       " 2953,\n",
       " 2954,\n",
       " 2955,\n",
       " 2956,\n",
       " 2957,\n",
       " 2958,\n",
       " 2959,\n",
       " 2960,\n",
       " 2961,\n",
       " 2962,\n",
       " 2963,\n",
       " 2964,\n",
       " 2965,\n",
       " 2966,\n",
       " 2967,\n",
       " 2968,\n",
       " 2969,\n",
       " 2970,\n",
       " 2971,\n",
       " 2972,\n",
       " 2973,\n",
       " 2974,\n",
       " 2975,\n",
       " 2976,\n",
       " 2977,\n",
       " 2978,\n",
       " 2979,\n",
       " 2980,\n",
       " 2981,\n",
       " 2982,\n",
       " 2983,\n",
       " 2984,\n",
       " 2985,\n",
       " 2986,\n",
       " 2987,\n",
       " 2988,\n",
       " 2989,\n",
       " 2990,\n",
       " 2991,\n",
       " 2992,\n",
       " 2993,\n",
       " 2994,\n",
       " 2995,\n",
       " 2996,\n",
       " 2997,\n",
       " 2998,\n",
       " 2999,\n",
       " 3000,\n",
       " 3001,\n",
       " 3002,\n",
       " 3003,\n",
       " 3004,\n",
       " 3005,\n",
       " 3006,\n",
       " 3007,\n",
       " 3008,\n",
       " 3009,\n",
       " 3010,\n",
       " 3011,\n",
       " 3012,\n",
       " 3013,\n",
       " 3014,\n",
       " 3015,\n",
       " 3016,\n",
       " 3017,\n",
       " 3018,\n",
       " 3019,\n",
       " 3020,\n",
       " 3021,\n",
       " 3022,\n",
       " 3023,\n",
       " 3024,\n",
       " 3025,\n",
       " 3026,\n",
       " 3027,\n",
       " 3028,\n",
       " 3029,\n",
       " 3030,\n",
       " 3031,\n",
       " 3032,\n",
       " 3033,\n",
       " 3034,\n",
       " 3035,\n",
       " 3036,\n",
       " 3037,\n",
       " 3038,\n",
       " 3039,\n",
       " 3040,\n",
       " 3041,\n",
       " 3042,\n",
       " 3043,\n",
       " 3044,\n",
       " 3045,\n",
       " 3046,\n",
       " 3047,\n",
       " 3048,\n",
       " 3049,\n",
       " 3050,\n",
       " 3051,\n",
       " 3052,\n",
       " 3053,\n",
       " 3054,\n",
       " 3055,\n",
       " 3056,\n",
       " 3057,\n",
       " 3058,\n",
       " 3059,\n",
       " 3060,\n",
       " 3061,\n",
       " 3062,\n",
       " 3063,\n",
       " 3064,\n",
       " 3065,\n",
       " 3066,\n",
       " 3067,\n",
       " 3068,\n",
       " 3069,\n",
       " 3070,\n",
       " 3071,\n",
       " 3072,\n",
       " 3073,\n",
       " 3074,\n",
       " 3075,\n",
       " 3076,\n",
       " 3077,\n",
       " 3078,\n",
       " 3079,\n",
       " 3080,\n",
       " 3081,\n",
       " 3082,\n",
       " 3083,\n",
       " 3084,\n",
       " 3085,\n",
       " 3086,\n",
       " 3087,\n",
       " 3088,\n",
       " 3089,\n",
       " 3090,\n",
       " 3091,\n",
       " 3092,\n",
       " 3093,\n",
       " 3094,\n",
       " 3095,\n",
       " 3096,\n",
       " 3097,\n",
       " 3098,\n",
       " 3099,\n",
       " 3100,\n",
       " 3101,\n",
       " 3102,\n",
       " 3103,\n",
       " 3104,\n",
       " 3105,\n",
       " 3106,\n",
       " 3107,\n",
       " 3108,\n",
       " 3109,\n",
       " 3110,\n",
       " 3111,\n",
       " 3112,\n",
       " 3113,\n",
       " 3114,\n",
       " 3115,\n",
       " 3116,\n",
       " 3117,\n",
       " 3118,\n",
       " 3119,\n",
       " 3120,\n",
       " 3121,\n",
       " 3122,\n",
       " 3123,\n",
       " 3124,\n",
       " 3125,\n",
       " 3126,\n",
       " 3127,\n",
       " 3128,\n",
       " 3129,\n",
       " 3130,\n",
       " 3131,\n",
       " 3132,\n",
       " 3133,\n",
       " 3134,\n",
       " 3135,\n",
       " 3136,\n",
       " 3137,\n",
       " 3138,\n",
       " 3139,\n",
       " 3140,\n",
       " 3141,\n",
       " 3142,\n",
       " 3143,\n",
       " 3144,\n",
       " 3145,\n",
       " 3146,\n",
       " 3147,\n",
       " 3148,\n",
       " 3149,\n",
       " 3150,\n",
       " 3151,\n",
       " 3152,\n",
       " 3153,\n",
       " 3154,\n",
       " 3155,\n",
       " 3156,\n",
       " 3157,\n",
       " 3158,\n",
       " 3159,\n",
       " 3160,\n",
       " 3161,\n",
       " 3162,\n",
       " 3163,\n",
       " 3164,\n",
       " 3165,\n",
       " 3166,\n",
       " 3167,\n",
       " 3168,\n",
       " 3169,\n",
       " 3170,\n",
       " 3171,\n",
       " 3172,\n",
       " 3173,\n",
       " 3174,\n",
       " 3175,\n",
       " 3176,\n",
       " 3177,\n",
       " 3178,\n",
       " 3179,\n",
       " 3180,\n",
       " 3181,\n",
       " 3182,\n",
       " 3183,\n",
       " 3184,\n",
       " 3185,\n",
       " 3186,\n",
       " 3187,\n",
       " 3188,\n",
       " 3189,\n",
       " 3190,\n",
       " 3191,\n",
       " 3192,\n",
       " 3193,\n",
       " 3194,\n",
       " 3195,\n",
       " 3196,\n",
       " 3197,\n",
       " 3198,\n",
       " 3199,\n",
       " 3200,\n",
       " 3201,\n",
       " 3202,\n",
       " 3203,\n",
       " 3204,\n",
       " 3205,\n",
       " 3206,\n",
       " 3207,\n",
       " 3208,\n",
       " 3209,\n",
       " 3210,\n",
       " 3211,\n",
       " 3212,\n",
       " 3213,\n",
       " 3214,\n",
       " 3215,\n",
       " 3216,\n",
       " 3217,\n",
       " 3218,\n",
       " 3219,\n",
       " 3220,\n",
       " 3221,\n",
       " 3222,\n",
       " 3223,\n",
       " 3224,\n",
       " 3225,\n",
       " 3226,\n",
       " 3227,\n",
       " 3228,\n",
       " 3229,\n",
       " 3230,\n",
       " 3231,\n",
       " 3232,\n",
       " 3233,\n",
       " 3234,\n",
       " 3235,\n",
       " 3236,\n",
       " 3237,\n",
       " 3238,\n",
       " 3239,\n",
       " 3240,\n",
       " 3241,\n",
       " 3242,\n",
       " 3243,\n",
       " 3244,\n",
       " 3245,\n",
       " 3246,\n",
       " 3247,\n",
       " 3248,\n",
       " 3249,\n",
       " 3250,\n",
       " 3251,\n",
       " 3252,\n",
       " 3253,\n",
       " 3254,\n",
       " 3255,\n",
       " 3256,\n",
       " 3257,\n",
       " 3258,\n",
       " 3259,\n",
       " 3260,\n",
       " 3261,\n",
       " 3262,\n",
       " 3263,\n",
       " 3264,\n",
       " 3265,\n",
       " 3266,\n",
       " 3267,\n",
       " 3268,\n",
       " 3269,\n",
       " 3270,\n",
       " 3271,\n",
       " 3272,\n",
       " 3273,\n",
       " 3274,\n",
       " 3275,\n",
       " 3276,\n",
       " 3277,\n",
       " 3278,\n",
       " 3279,\n",
       " 3280,\n",
       " 3281,\n",
       " 3282,\n",
       " 3283,\n",
       " 3284,\n",
       " 3285,\n",
       " 3286,\n",
       " 3287,\n",
       " 3288,\n",
       " 3289,\n",
       " 3290,\n",
       " 3291,\n",
       " 3292,\n",
       " 3293,\n",
       " 3294,\n",
       " 3295,\n",
       " 3296,\n",
       " 3297,\n",
       " 3298,\n",
       " 3299,\n",
       " 3300,\n",
       " 3301,\n",
       " 3302,\n",
       " 3303,\n",
       " 3304,\n",
       " 3305,\n",
       " 3306,\n",
       " 3307,\n",
       " 3308,\n",
       " 3309,\n",
       " 3310,\n",
       " 3311,\n",
       " 3312,\n",
       " 3313,\n",
       " 3314,\n",
       " 3315,\n",
       " 3316,\n",
       " 3317,\n",
       " 3318,\n",
       " 3319,\n",
       " 3320,\n",
       " 3321,\n",
       " 3322,\n",
       " 3323,\n",
       " 3324,\n",
       " 3325,\n",
       " 3326,\n",
       " 3327,\n",
       " 3328,\n",
       " 3329,\n",
       " 3330,\n",
       " 3331,\n",
       " 3332,\n",
       " 3333,\n",
       " 3334,\n",
       " 3335,\n",
       " 3336,\n",
       " 3337,\n",
       " 3338,\n",
       " 3339,\n",
       " 3340,\n",
       " 3341,\n",
       " 3342,\n",
       " 3343,\n",
       " 3344,\n",
       " 3345,\n",
       " 3346,\n",
       " 3347,\n",
       " 3348,\n",
       " 3349,\n",
       " 3350,\n",
       " 3351,\n",
       " 3352,\n",
       " 3353,\n",
       " 3354,\n",
       " 3355,\n",
       " 3356,\n",
       " 3357,\n",
       " 3358,\n",
       " 3359,\n",
       " 3360,\n",
       " 3361,\n",
       " 3362,\n",
       " 3363,\n",
       " 3364,\n",
       " 3365,\n",
       " 3366,\n",
       " 3367,\n",
       " 3368,\n",
       " 3369,\n",
       " 3370,\n",
       " 3371,\n",
       " 3372,\n",
       " 3373,\n",
       " 3374,\n",
       " 3375,\n",
       " 3376,\n",
       " 3377,\n",
       " 3378,\n",
       " 3379,\n",
       " 3380,\n",
       " 3381,\n",
       " 3382,\n",
       " 3383,\n",
       " 3384,\n",
       " 3385,\n",
       " 3386,\n",
       " 3387,\n",
       " 3388,\n",
       " 3389,\n",
       " 3390,\n",
       " 3391,\n",
       " 3392,\n",
       " 3393,\n",
       " 3394,\n",
       " 3395,\n",
       " 3396,\n",
       " 3397,\n",
       " 3398,\n",
       " 3399,\n",
       " 3400,\n",
       " 3401,\n",
       " 3402,\n",
       " 3403,\n",
       " 3404,\n",
       " 3405,\n",
       " 3406,\n",
       " 3407,\n",
       " 3408,\n",
       " 3409,\n",
       " 3410,\n",
       " 3411,\n",
       " 3412,\n",
       " 3413,\n",
       " 3414,\n",
       " 3415,\n",
       " 3416,\n",
       " 3417,\n",
       " 3418,\n",
       " 3419,\n",
       " 3420,\n",
       " 3421,\n",
       " 3422,\n",
       " 3423,\n",
       " 3424,\n",
       " 3425,\n",
       " 3426,\n",
       " 3427,\n",
       " 3428,\n",
       " 3429,\n",
       " 3430,\n",
       " 3431,\n",
       " 3432,\n",
       " 3433,\n",
       " 3434,\n",
       " 3435,\n",
       " 3436,\n",
       " 3437,\n",
       " 3438,\n",
       " 3439,\n",
       " 3440,\n",
       " 3441,\n",
       " 3442,\n",
       " 3443,\n",
       " 3444,\n",
       " 3445,\n",
       " 3446,\n",
       " 3447,\n",
       " 3448,\n",
       " 3449,\n",
       " 3450,\n",
       " 3451,\n",
       " 3452,\n",
       " 3453,\n",
       " 3454,\n",
       " 3455,\n",
       " 3456,\n",
       " 3457,\n",
       " 3458,\n",
       " 3459,\n",
       " 3460,\n",
       " 3461,\n",
       " 3462,\n",
       " 3463,\n",
       " 3464,\n",
       " 3465,\n",
       " 3466,\n",
       " 3467,\n",
       " 3468,\n",
       " 3469,\n",
       " 3470,\n",
       " 3471,\n",
       " 3472,\n",
       " 3473,\n",
       " 3474,\n",
       " 3475,\n",
       " 3476,\n",
       " 3477,\n",
       " 3478,\n",
       " 3479,\n",
       " 3480,\n",
       " 3481,\n",
       " 3482,\n",
       " 3483,\n",
       " 3484,\n",
       " 3485,\n",
       " 3486,\n",
       " 3487,\n",
       " 3488,\n",
       " 3489,\n",
       " 3490,\n",
       " 3491,\n",
       " 3492,\n",
       " 3493,\n",
       " 3494,\n",
       " 3495,\n",
       " 3496,\n",
       " 3497,\n",
       " 3498,\n",
       " 3499,\n",
       " 3500,\n",
       " 3501,\n",
       " 3502,\n",
       " 3503,\n",
       " 3504,\n",
       " 3505,\n",
       " 3506,\n",
       " 3507,\n",
       " 3508,\n",
       " 3509,\n",
       " 3510,\n",
       " 3511,\n",
       " 3512,\n",
       " 3513,\n",
       " 3514,\n",
       " 3515,\n",
       " 3516,\n",
       " 3517,\n",
       " 3518,\n",
       " 3519,\n",
       " 3520,\n",
       " 3521,\n",
       " 3522,\n",
       " 3523,\n",
       " 3524,\n",
       " 3525,\n",
       " 3526,\n",
       " 3527,\n",
       " 3528,\n",
       " 3529,\n",
       " 3530,\n",
       " 3531,\n",
       " 3532,\n",
       " 3533,\n",
       " 3534,\n",
       " 3535,\n",
       " 3536,\n",
       " 3537,\n",
       " 3538,\n",
       " 3539,\n",
       " 3540,\n",
       " 3541,\n",
       " 3542,\n",
       " 3543,\n",
       " 3544,\n",
       " 3545,\n",
       " 3546,\n",
       " 3547,\n",
       " 3548,\n",
       " 3549,\n",
       " 3550,\n",
       " 3551,\n",
       " 3552,\n",
       " 3553,\n",
       " 3554,\n",
       " 3555,\n",
       " 3556,\n",
       " 3557,\n",
       " 3558,\n",
       " 3559,\n",
       " 3560,\n",
       " 3561,\n",
       " 3562,\n",
       " 3563,\n",
       " 3564,\n",
       " 3565,\n",
       " 3566,\n",
       " 3567,\n",
       " 3568,\n",
       " 3569,\n",
       " 3570,\n",
       " 3571,\n",
       " 3572,\n",
       " 3573,\n",
       " 3574,\n",
       " 3575,\n",
       " 3576,\n",
       " 3577,\n",
       " 3578,\n",
       " 3579,\n",
       " 3580,\n",
       " 3581,\n",
       " 3582,\n",
       " 3583,\n",
       " 3584,\n",
       " 3585,\n",
       " 3586,\n",
       " 3587,\n",
       " 3588,\n",
       " 3589,\n",
       " 3590,\n",
       " 3591,\n",
       " 3592,\n",
       " 3593,\n",
       " 3594,\n",
       " 3595,\n",
       " 3596,\n",
       " 3597,\n",
       " 3598,\n",
       " 3599,\n",
       " 3600,\n",
       " 3601,\n",
       " 3602,\n",
       " 3603,\n",
       " 3604,\n",
       " 3605,\n",
       " 3606,\n",
       " 3607,\n",
       " 3608,\n",
       " 3609,\n",
       " 3610,\n",
       " 3611,\n",
       " 3612,\n",
       " 3613,\n",
       " 3614,\n",
       " ...]"
      ]
     },
     "execution_count": 45,
     "metadata": {},
     "output_type": "execute_result"
    }
   ],
   "source": [
    "grp_inx"
   ]
  },
  {
   "cell_type": "code",
   "execution_count": 50,
   "metadata": {},
   "outputs": [
    {
     "data": {
      "text/plain": [
       "'Sedans'"
      ]
     },
     "execution_count": 50,
     "metadata": {},
     "output_type": "execute_result"
    }
   ],
   "source": [
    "oto[\"body_type\"].iloc[2680]"
   ]
  },
  {
   "cell_type": "code",
   "execution_count": null,
   "metadata": {},
   "outputs": [],
   "source": [
    "# oto[col_name].iloc[grp_inx] = oto[col_name].iloc[grp_inx].fillna()"
   ]
  },
  {
   "cell_type": "code",
   "execution_count": 44,
   "metadata": {},
   "outputs": [
    {
     "data": {
      "text/plain": [
       "2615      Convertible\n",
       "2616           Sedans\n",
       "2617           Sedans\n",
       "2618           Sedans\n",
       "2619           Sedans\n",
       "            ...      \n",
       "5707           Sedans\n",
       "5708           Sedans\n",
       "5709    Station wagon\n",
       "5710           Sedans\n",
       "5711           Sedans\n",
       "Name: body_type, Length: 3097, dtype: object"
      ]
     },
     "execution_count": 44,
     "metadata": {},
     "output_type": "execute_result"
    }
   ],
   "source": [
    "# oto[oto[\"make_model\"] == \"Audi A3\"][\"body_type\"].fillna(\"Sedans\")"
   ]
  },
  {
   "cell_type": "code",
   "execution_count": 26,
   "metadata": {},
   "outputs": [
    {
     "data": {
      "text/plain": [
       "'Sedans'"
      ]
     },
     "execution_count": 26,
     "metadata": {},
     "output_type": "execute_result"
    }
   ],
   "source": [
    "oto[oto[\"make_model\"] == \"Audi A3\"][\"body_type\"].mode()[0]"
   ]
  },
  {
   "cell_type": "code",
   "execution_count": 27,
   "metadata": {},
   "outputs": [
    {
     "data": {
      "text/plain": [
       "'Sedans'"
      ]
     },
     "execution_count": 27,
     "metadata": {},
     "output_type": "execute_result"
    }
   ],
   "source": [
    "oto[oto[\"make_model\"] == \"Audi A1\"][\"body_type\"].mode()[0]"
   ]
  },
  {
   "cell_type": "code",
   "execution_count": 28,
   "metadata": {},
   "outputs": [
    {
     "data": {
      "text/plain": [
       "'Van'"
      ]
     },
     "execution_count": 28,
     "metadata": {},
     "output_type": "execute_result"
    }
   ],
   "source": [
    "oto[oto[\"make_model\"] == \"Renault Espace\"][\"body_type\"].mode()[0]"
   ]
  },
  {
   "cell_type": "markdown",
   "metadata": {},
   "source": [
    "***\n",
    "***"
   ]
  },
  {
   "cell_type": "markdown",
   "metadata": {},
   "source": [
    "### ``'body_type'``"
   ]
  },
  {
   "cell_type": "code",
   "execution_count": 32,
   "metadata": {},
   "outputs": [
    {
     "data": {
      "text/plain": [
       "Sedans           7903\n",
       "Station wagon    3553\n",
       "Compact          3153\n",
       "Van               783\n",
       "Other             290\n",
       "Transporter        88\n",
       "NaN                60\n",
       "Off-Road           56\n",
       "Coupe              25\n",
       "Convertible         8\n",
       "Name: body_type, dtype: int64"
      ]
     },
     "execution_count": 32,
     "metadata": {},
     "output_type": "execute_result"
    }
   ],
   "source": [
    "oto[\"body_type\"].value_counts(dropna = False)"
   ]
  },
  {
   "cell_type": "code",
   "execution_count": 34,
   "metadata": {},
   "outputs": [
    {
     "data": {
      "text/plain": [
       "make_model      body_type    \n",
       "Audi A1         Sedans           1538\n",
       "                Compact          1039\n",
       "                Station wagon      21\n",
       "                Other              13\n",
       "                Coupe               2\n",
       "                Van                 1\n",
       "Audi A2         Off-Road            1\n",
       "Audi A3         Sedans           2598\n",
       "                Station wagon     282\n",
       "                Compact           182\n",
       "                Other              16\n",
       "                Convertible         8\n",
       "                NaN                 7\n",
       "                Coupe               4\n",
       "Opel Astra      Station wagon    1211\n",
       "                Sedans           1053\n",
       "                Compact           185\n",
       "                Other              67\n",
       "                NaN                 7\n",
       "                Coupe               2\n",
       "                Off-Road            1\n",
       "Opel Corsa      Compact          1230\n",
       "                Sedans            875\n",
       "                Other              87\n",
       "                Coupe              13\n",
       "                Transporter         7\n",
       "                Off-Road            3\n",
       "                NaN                 2\n",
       "                Van                 2\n",
       "Opel Insignia   Station wagon    1611\n",
       "                Sedans            900\n",
       "                Other              48\n",
       "                Compact            27\n",
       "                Off-Road            7\n",
       "                NaN                 3\n",
       "                Coupe               1\n",
       "                Van                 1\n",
       "Renault Clio    Sedans            918\n",
       "                Compact           484\n",
       "                Station wagon     337\n",
       "                Other              51\n",
       "                Transporter        29\n",
       "                NaN                15\n",
       "                Off-Road            2\n",
       "                Van                 2\n",
       "                Coupe               1\n",
       "Renault Duster  Off-Road           34\n",
       "Renault Espace  Van               777\n",
       "                Station wagon      91\n",
       "                Transporter        52\n",
       "                NaN                26\n",
       "                Sedans             21\n",
       "                Off-Road            8\n",
       "                Other               8\n",
       "                Compact             6\n",
       "                Coupe               2\n",
       "Name: body_type, dtype: int64"
      ]
     },
     "execution_count": 34,
     "metadata": {},
     "output_type": "execute_result"
    }
   ],
   "source": [
    "oto.groupby(\"make_model\")[\"body_type\"].value_counts(dropna = False)"
   ]
  },
  {
   "cell_type": "code",
   "execution_count": 36,
   "metadata": {},
   "outputs": [],
   "source": [
    "fill_most(oto, \"make_model\", \"body_type\")"
   ]
  },
  {
   "cell_type": "code",
   "execution_count": 37,
   "metadata": {},
   "outputs": [
    {
     "data": {
      "text/plain": [
       "Sedans           7925\n",
       "Station wagon    3563\n",
       "Compact          3155\n",
       "Van               809\n",
       "Other             290\n",
       "Transporter        88\n",
       "Off-Road           56\n",
       "Coupe              25\n",
       "Convertible         8\n",
       "Name: body_type, dtype: int64"
      ]
     },
     "execution_count": 37,
     "metadata": {},
     "output_type": "execute_result"
    }
   ],
   "source": [
    "oto.body_type.value_counts(dropna = False)"
   ]
  },
  {
   "cell_type": "markdown",
   "metadata": {},
   "source": [
    "### ``\"Body\"``"
   ]
  },
  {
   "cell_type": "code",
   "execution_count": 33,
   "metadata": {},
   "outputs": [
    {
     "ename": "TypeError",
     "evalue": "unhashable type: 'list'",
     "output_type": "error",
     "traceback": [
      "\u001b[1;31m---------------------------------------------------------------------------\u001b[0m",
      "\u001b[1;31mTypeError\u001b[0m                                 Traceback (most recent call last)",
      "\u001b[1;32mpandas\\_libs\\hashtable_class_helper.pxi\u001b[0m in \u001b[0;36mpandas._libs.hashtable.PyObjectHashTable.map_locations\u001b[1;34m()\u001b[0m\n",
      "\u001b[1;31mTypeError\u001b[0m: unhashable type: 'list'"
     ]
    },
    {
     "name": "stderr",
     "output_type": "stream",
     "text": [
      "Exception ignored in: 'pandas._libs.index.IndexEngine._call_map_locations'\n",
      "Traceback (most recent call last):\n",
      "  File \"pandas\\_libs\\hashtable_class_helper.pxi\", line 1653, in pandas._libs.hashtable.PyObjectHashTable.map_locations\n",
      "TypeError: unhashable type: 'list'\n"
     ]
    },
    {
     "data": {
      "text/plain": [
       "[\\n, Sedans, \\n]           7903\n",
       "[\\n, Station wagon, \\n]    3553\n",
       "[\\n, Compact, \\n]          3153\n",
       "[\\n, Van, \\n]               783\n",
       "[\\n, Other, \\n]             290\n",
       "[\\n, Transporter, \\n]        88\n",
       "NaN                          60\n",
       "[\\n, Off-Road, \\n]           56\n",
       "[\\n, Coupe, \\n]              25\n",
       "[\\n, Convertible, \\n]         8\n",
       "Name: Body, dtype: int64"
      ]
     },
     "execution_count": 33,
     "metadata": {},
     "output_type": "execute_result"
    }
   ],
   "source": [
    "oto[\"Body\"].value_counts(dropna = False)"
   ]
  },
  {
   "cell_type": "code",
   "execution_count": null,
   "metadata": {},
   "outputs": [],
   "source": []
  },
  {
   "cell_type": "markdown",
   "metadata": {},
   "source": [
    "### It seems that ``\"Body\"`` deserves to be dropped"
   ]
  },
  {
   "cell_type": "code",
   "execution_count": 38,
   "metadata": {},
   "outputs": [],
   "source": [
    "oto.drop(\"Body\", axis = 1, inplace = True)"
   ]
  },
  {
   "cell_type": "markdown",
   "metadata": {},
   "source": [
    "***"
   ]
  },
  {
   "cell_type": "markdown",
   "metadata": {},
   "source": [
    "### ``'Inspection new'``"
   ]
  },
  {
   "cell_type": "code",
   "execution_count": 39,
   "metadata": {},
   "outputs": [
    {
     "data": {
      "text/plain": [
       "0.7529995602738866"
      ]
     },
     "execution_count": 39,
     "metadata": {},
     "output_type": "execute_result"
    }
   ],
   "source": [
    "oto[\"Inspection new\"].isnull().sum()/len(oto[\"Inspection new\"])"
   ]
  },
  {
   "cell_type": "markdown",
   "metadata": {},
   "source": [
    "#### It has high percentage of missing values, but it is important feature for the result (predicting price). We should keep it for now and we can assume missing values as 'no',  so that we can fillna missing values with string ``'no'``."
   ]
  },
  {
   "cell_type": "code",
   "execution_count": 40,
   "metadata": {},
   "outputs": [
    {
     "ename": "TypeError",
     "evalue": "unhashable type: 'list'",
     "output_type": "error",
     "traceback": [
      "\u001b[1;31m---------------------------------------------------------------------------\u001b[0m",
      "\u001b[1;31mTypeError\u001b[0m                                 Traceback (most recent call last)",
      "\u001b[1;32mpandas\\_libs\\hashtable_class_helper.pxi\u001b[0m in \u001b[0;36mpandas._libs.hashtable.PyObjectHashTable.map_locations\u001b[1;34m()\u001b[0m\n",
      "\u001b[1;31mTypeError\u001b[0m: unhashable type: 'list'"
     ]
    },
    {
     "name": "stderr",
     "output_type": "stream",
     "text": [
      "Exception ignored in: 'pandas._libs.index.IndexEngine._call_map_locations'\n",
      "Traceback (most recent call last):\n",
      "  File \"pandas\\_libs\\hashtable_class_helper.pxi\", line 1653, in pandas._libs.hashtable.PyObjectHashTable.map_locations\n",
      "TypeError: unhashable type: 'list'\n"
     ]
    },
    {
     "data": {
      "text/plain": [
       "NaN                                                                                            11987\n",
       "[\\nYes\\n, \\nEuro 6\\n]                                                                            523\n",
       "\\nYes\\n                                                                                          362\n",
       "[\\nYes\\n, \\n102 g CO2/km (comb)\\n]                                                               174\n",
       "[\\nYes\\n, \\n4 (Green)\\n]                                                                         166\n",
       "                                                                                               ...  \n",
       "[\\nYes\\n, \\n1 (No sticker)\\n]                                                                      1\n",
       "[\\nYes\\n, \\n, 5.2 l/100 km (comb), \\n, 6.6 l/100 km (city), \\n, 4.3 l/100 km (country), \\n]        1\n",
       "[\\nYes\\n, \\n, 5.7 l/100 km (comb), \\n, 7.3 l/100 km (city), \\n, 4.9 l/100 km (country), \\n]        1\n",
       "[\\nYes\\n, \\n, 5.2 l/100 km (comb), \\n, 6.8 l/100 km (city), \\n, 4.3 l/100 km (country), \\n]        1\n",
       "[\\nYes\\n, \\n, 6.7 l/100 km (comb), \\n, 8.7 l/100 km (city), \\n, 5.6 l/100 km (country), \\n]        1\n",
       "Name: Inspection new, Length: 203, dtype: int64"
      ]
     },
     "execution_count": 40,
     "metadata": {},
     "output_type": "execute_result"
    }
   ],
   "source": [
    "oto[\"Inspection new\"].value_counts(dropna = False)"
   ]
  },
  {
   "cell_type": "code",
   "execution_count": 41,
   "metadata": {},
   "outputs": [
    {
     "data": {
      "text/plain": [
       "NaN        11987\n",
       "\\nYes\\n     3570\n",
       "\\n           362\n",
       "Name: Inspection new, dtype: int64"
      ]
     },
     "execution_count": 41,
     "metadata": {},
     "output_type": "execute_result"
    }
   ],
   "source": [
    "oto['Inspection new'].str[0].value_counts(dropna = False)"
   ]
  },
  {
   "cell_type": "markdown",
   "metadata": {},
   "source": [
    "#### We chose the ``'\\n'`` string in ``'.contains()'``. So we cover both variables in the lists and out of the lists\n",
    "#### ``'*'`` 1 → gives us 1 or 0 according to True/False"
   ]
  },
  {
   "cell_type": "code",
   "execution_count": 42,
   "metadata": {},
   "outputs": [
    {
     "data": {
      "text/plain": [
       "0         True\n",
       "1        False\n",
       "2        False\n",
       "3        False\n",
       "4         True\n",
       "         ...  \n",
       "15914    False\n",
       "15915    False\n",
       "15916     True\n",
       "15917    False\n",
       "15918     True\n",
       "Name: Inspection new, Length: 15919, dtype: bool"
      ]
     },
     "execution_count": 42,
     "metadata": {},
     "output_type": "execute_result"
    }
   ],
   "source": [
    "oto['Inspection new'].str[0].str.contains(\"\\n\", na = False)"
   ]
  },
  {
   "cell_type": "code",
   "execution_count": 43,
   "metadata": {},
   "outputs": [
    {
     "data": {
      "text/plain": [
       "1"
      ]
     },
     "execution_count": 43,
     "metadata": {},
     "output_type": "execute_result"
    }
   ],
   "source": [
    "True * 1"
   ]
  },
  {
   "cell_type": "code",
   "execution_count": 44,
   "metadata": {},
   "outputs": [
    {
     "data": {
      "text/plain": [
       "0"
      ]
     },
     "execution_count": 44,
     "metadata": {},
     "output_type": "execute_result"
    }
   ],
   "source": [
    "False * 1"
   ]
  },
  {
   "cell_type": "code",
   "execution_count": 45,
   "metadata": {},
   "outputs": [],
   "source": [
    "oto[\"Inspection_New_Bool\"] = oto['Inspection new'].str[0].str.contains(\"\\n\", na = False)*1"
   ]
  },
  {
   "cell_type": "code",
   "execution_count": 46,
   "metadata": {},
   "outputs": [
    {
     "data": {
      "text/plain": [
       "0    11987\n",
       "1     3932\n",
       "Name: Inspection_New_Bool, dtype: int64"
      ]
     },
     "execution_count": 46,
     "metadata": {},
     "output_type": "execute_result"
    }
   ],
   "source": [
    "oto[\"Inspection_New_Bool\"].value_counts(dropna = False)"
   ]
  },
  {
   "cell_type": "markdown",
   "metadata": {},
   "source": [
    "***"
   ]
  },
  {
   "cell_type": "markdown",
   "metadata": {},
   "source": [
    "### ``'Next Inspection'``"
   ]
  },
  {
   "cell_type": "code",
   "execution_count": 47,
   "metadata": {},
   "outputs": [
    {
     "data": {
      "text/plain": [
       "0.7779383127080847"
      ]
     },
     "execution_count": 47,
     "metadata": {},
     "output_type": "execute_result"
    }
   ],
   "source": [
    "oto['Next Inspection'].isnull().sum()/len(oto['Next Inspection'])"
   ]
  },
  {
   "cell_type": "code",
   "execution_count": 54,
   "metadata": {},
   "outputs": [
    {
     "data": {
      "text/plain": [
       "0         [\\n06/2021\\n, \\n99 g CO2/km (comb)\\n]\n",
       "1                                           NaN\n",
       "2                                           NaN\n",
       "3                                           NaN\n",
       "4                                           NaN\n",
       "                          ...                  \n",
       "15914                                       NaN\n",
       "15915    [\\n01/2022\\n, \\n168 g CO2/km (comb)\\n]\n",
       "15916                                       NaN\n",
       "15917                                       NaN\n",
       "15918                                       NaN\n",
       "Name: Next Inspection, Length: 15919, dtype: object"
      ]
     },
     "execution_count": 54,
     "metadata": {},
     "output_type": "execute_result"
    }
   ],
   "source": [
    "oto[\"Next Inspection\"]"
   ]
  },
  {
   "cell_type": "code",
   "execution_count": 48,
   "metadata": {},
   "outputs": [
    {
     "ename": "TypeError",
     "evalue": "unhashable type: 'list'",
     "output_type": "error",
     "traceback": [
      "\u001b[1;31m---------------------------------------------------------------------------\u001b[0m",
      "\u001b[1;31mTypeError\u001b[0m                                 Traceback (most recent call last)",
      "\u001b[1;32mpandas\\_libs\\hashtable_class_helper.pxi\u001b[0m in \u001b[0;36mpandas._libs.hashtable.PyObjectHashTable.map_locations\u001b[1;34m()\u001b[0m\n",
      "\u001b[1;31mTypeError\u001b[0m: unhashable type: 'list'"
     ]
    },
    {
     "name": "stderr",
     "output_type": "stream",
     "text": [
      "Exception ignored in: 'pandas._libs.index.IndexEngine._call_map_locations'\n",
      "Traceback (most recent call last):\n",
      "  File \"pandas\\_libs\\hashtable_class_helper.pxi\", line 1653, in pandas._libs.hashtable.PyObjectHashTable.map_locations\n",
      "TypeError: unhashable type: 'list'\n"
     ]
    },
    {
     "data": {
      "text/plain": [
       "NaN                                       12384\n",
       "\\n04/2022\\n                                  62\n",
       "\\n03/2021\\n                                  38\n",
       "\\n03/2022\\n                                  36\n",
       "\\n06/2021\\n                                  34\n",
       "                                          ...  \n",
       "[\\n07/2021\\n, \\n116 g CO2/km (comb)\\n]        1\n",
       "[\\n08/2021\\n, \\n110 g CO2/km (comb)\\n]        1\n",
       "[\\n02/2021\\n, \\n149 g CO2/km (comb)\\n]        1\n",
       "[\\n11/2021\\n, \\n161 g CO2/km (comb)\\n]        1\n",
       "[\\n02/2022\\n, \\n114 g CO2/km (comb)\\n]        1\n",
       "Name: Next Inspection, Length: 1400, dtype: int64"
      ]
     },
     "execution_count": 48,
     "metadata": {},
     "output_type": "execute_result"
    }
   ],
   "source": [
    "oto[\"Next Inspection\"].value_counts(dropna = False)"
   ]
  },
  {
   "cell_type": "code",
   "execution_count": 49,
   "metadata": {},
   "outputs": [],
   "source": [
    "a = [\"I am a list\"]"
   ]
  },
  {
   "cell_type": "code",
   "execution_count": 50,
   "metadata": {},
   "outputs": [
    {
     "data": {
      "text/plain": [
       "True"
      ]
     },
     "execution_count": 50,
     "metadata": {},
     "output_type": "execute_result"
    }
   ],
   "source": [
    "type(a) == list"
   ]
  },
  {
   "cell_type": "code",
   "execution_count": 51,
   "metadata": {},
   "outputs": [
    {
     "data": {
      "text/plain": [
       "'I am a list'"
      ]
     },
     "execution_count": 51,
     "metadata": {},
     "output_type": "execute_result"
    }
   ],
   "source": [
    "\"\".join(a).strip()"
   ]
  },
  {
   "cell_type": "code",
   "execution_count": 52,
   "metadata": {},
   "outputs": [],
   "source": [
    "nxtins_list = [\"\".join(item).strip() if type(item) == list else item for item in oto['Next Inspection']]\n",
    "oto['next_inspection'] = pd.DataFrame(nxtins_list)"
   ]
  },
  {
   "cell_type": "code",
   "execution_count": 53,
   "metadata": {},
   "outputs": [
    {
     "data": {
      "text/plain": [
       "NaN                                                                            12384\n",
       "\\n04/2022\\n                                                                       62\n",
       "\\n03/2021\\n                                                                       38\n",
       "\\n03/2022\\n                                                                       36\n",
       "\\n06/2021\\n                                                                       34\n",
       "                                                                               ...  \n",
       "06/2021\\n\\n6.1 l/100 km (comb)\\n7.7 l/100 km (city)\\n5.2 l/100 km (country)        1\n",
       "12/2019\\n\\n139 g CO2/km (comb)                                                     1\n",
       "11/2019\\n\\n149 g CO2/km (comb)                                                     1\n",
       "04/2021\\n\\n101 g CO2/km (comb)                                                     1\n",
       "05/2019\\n\\n4.9 l/100 km (comb)\\n6.2 l/100 km (city)\\n4.2 l/100 km (country)        1\n",
       "Name: next_inspection, Length: 1400, dtype: int64"
      ]
     },
     "execution_count": 53,
     "metadata": {},
     "output_type": "execute_result"
    }
   ],
   "source": [
    "oto.next_inspection.value_counts(dropna = False)"
   ]
  },
  {
   "cell_type": "code",
   "execution_count": 54,
   "metadata": {},
   "outputs": [],
   "source": [
    "oto[\"next_inspection\"] = oto.next_inspection.str.extract(\"(\\d\\d/\\d\\d\\d\\d)\")"
   ]
  },
  {
   "cell_type": "code",
   "execution_count": 55,
   "metadata": {},
   "outputs": [
    {
     "data": {
      "text/plain": [
       "NaN        12384\n",
       "06/2021      471\n",
       "03/2021      210\n",
       "05/2021      180\n",
       "04/2021      171\n",
       "           ...  \n",
       "11/2022        1\n",
       "05/2014        1\n",
       "04/2016        1\n",
       "01/1955        1\n",
       "03/2024        1\n",
       "Name: next_inspection, Length: 78, dtype: int64"
      ]
     },
     "execution_count": 55,
     "metadata": {},
     "output_type": "execute_result"
    }
   ],
   "source": [
    "oto.next_inspection.value_counts(dropna = False)"
   ]
  },
  {
   "cell_type": "code",
   "execution_count": 56,
   "metadata": {},
   "outputs": [],
   "source": [
    "oto.next_inspection = pd.to_datetime(oto.next_inspection, format = \"%m/%Y\")"
   ]
  },
  {
   "cell_type": "code",
   "execution_count": 57,
   "metadata": {},
   "outputs": [
    {
     "data": {
      "text/plain": [
       "NaT           12384\n",
       "2021-06-01      471\n",
       "2021-03-01      210\n",
       "2021-05-01      180\n",
       "2021-04-01      171\n",
       "              ...  \n",
       "2016-04-01        1\n",
       "1955-01-01        1\n",
       "1999-01-01        1\n",
       "2017-05-01        1\n",
       "2016-05-01        1\n",
       "Name: next_inspection, Length: 78, dtype: int64"
      ]
     },
     "execution_count": 57,
     "metadata": {},
     "output_type": "execute_result"
    }
   ],
   "source": [
    "oto.next_inspection.value_counts(dropna=False)"
   ]
  },
  {
   "cell_type": "markdown",
   "metadata": {},
   "source": [
    "### `\"next_inspection\"` has %77 percent of missing value. For now, let's leave it as it is. We can take a look at it again later."
   ]
  },
  {
   "cell_type": "markdown",
   "metadata": {},
   "source": [
    "### ``'Paint Type'``"
   ]
  },
  {
   "cell_type": "code",
   "execution_count": 58,
   "metadata": {},
   "outputs": [
    {
     "data": {
      "text/plain": [
       "36.25855895470821"
      ]
     },
     "execution_count": 58,
     "metadata": {},
     "output_type": "execute_result"
    }
   ],
   "source": [
    "oto[\"Paint Type\"].isnull().sum()/len(oto[\"Paint Type\"])*100"
   ]
  },
  {
   "cell_type": "code",
   "execution_count": 59,
   "metadata": {},
   "outputs": [
    {
     "ename": "TypeError",
     "evalue": "unhashable type: 'list'",
     "output_type": "error",
     "traceback": [
      "\u001b[1;31m---------------------------------------------------------------------------\u001b[0m",
      "\u001b[1;31mTypeError\u001b[0m                                 Traceback (most recent call last)",
      "\u001b[1;32mpandas\\_libs\\hashtable_class_helper.pxi\u001b[0m in \u001b[0;36mpandas._libs.hashtable.PyObjectHashTable.map_locations\u001b[1;34m()\u001b[0m\n",
      "\u001b[1;31mTypeError\u001b[0m: unhashable type: 'list'"
     ]
    },
    {
     "name": "stderr",
     "output_type": "stream",
     "text": [
      "Exception ignored in: 'pandas._libs.index.IndexEngine._call_map_locations'\n",
      "Traceback (most recent call last):\n",
      "  File \"pandas\\_libs\\hashtable_class_helper.pxi\", line 1653, in pandas._libs.hashtable.PyObjectHashTable.map_locations\n",
      "TypeError: unhashable type: 'list'\n"
     ]
    },
    {
     "data": {
      "text/plain": [
       "[\\nMetallic\\n]       9794\n",
       "NaN                  5772\n",
       "[\\nUni/basic\\n]       347\n",
       "[\\nPerl effect\\n]       6\n",
       "Name: Paint Type, dtype: int64"
      ]
     },
     "execution_count": 59,
     "metadata": {},
     "output_type": "execute_result"
    }
   ],
   "source": [
    "oto[\"Paint Type\"].value_counts(dropna = False)"
   ]
  },
  {
   "cell_type": "code",
   "execution_count": 60,
   "metadata": {},
   "outputs": [
    {
     "data": {
      "text/plain": [
       "0        \\nMetallic\\n\n",
       "1                 NaN\n",
       "2        \\nMetallic\\n\n",
       "3        \\nMetallic\\n\n",
       "4        \\nMetallic\\n\n",
       "             ...     \n",
       "15914    \\nMetallic\\n\n",
       "15915    \\nMetallic\\n\n",
       "15916             NaN\n",
       "15917             NaN\n",
       "15918    \\nMetallic\\n\n",
       "Name: Paint Type, Length: 15919, dtype: object"
      ]
     },
     "execution_count": 60,
     "metadata": {},
     "output_type": "execute_result"
    }
   ],
   "source": [
    "oto[\"Paint Type\"].str[0]"
   ]
  },
  {
   "cell_type": "code",
   "execution_count": 62,
   "metadata": {},
   "outputs": [
    {
     "data": {
      "text/plain": [
       "Metallic       9794\n",
       "NaN            5772\n",
       "Uni/basic       347\n",
       "Perl effect       6\n",
       "Name: Paint Type, dtype: int64"
      ]
     },
     "execution_count": 62,
     "metadata": {},
     "output_type": "execute_result"
    }
   ],
   "source": [
    "oto[\"Paint Type\"].str[0].str.strip(\"\\n\").value_counts(dropna = False)"
   ]
  },
  {
   "cell_type": "markdown",
   "metadata": {},
   "source": [
    "### We should decide or specify its importance or value level for price prediction."
   ]
  },
  {
   "cell_type": "code",
   "execution_count": 63,
   "metadata": {},
   "outputs": [],
   "source": [
    "oto['paint_type'] = oto['Paint Type'].str[0].str.strip('\\n')"
   ]
  },
  {
   "cell_type": "code",
   "execution_count": 64,
   "metadata": {},
   "outputs": [
    {
     "data": {
      "text/plain": [
       "Metallic       9794\n",
       "NaN            5772\n",
       "Uni/basic       347\n",
       "Perl effect       6\n",
       "Name: paint_type, dtype: int64"
      ]
     },
     "execution_count": 64,
     "metadata": {},
     "output_type": "execute_result"
    }
   ],
   "source": [
    "oto['paint_type'].value_counts(dropna = False)"
   ]
  },
  {
   "cell_type": "code",
   "execution_count": null,
   "metadata": {},
   "outputs": [],
   "source": []
  },
  {
   "cell_type": "markdown",
   "metadata": {},
   "source": [
    "***"
   ]
  },
  {
   "cell_type": "markdown",
   "metadata": {},
   "source": [
    "### ``'Country version'``"
   ]
  },
  {
   "cell_type": "code",
   "execution_count": 65,
   "metadata": {},
   "outputs": [
    {
     "data": {
      "text/plain": [
       "0.5234625290533325"
      ]
     },
     "execution_count": 65,
     "metadata": {},
     "output_type": "execute_result"
    }
   ],
   "source": [
    "oto[\"Country version\"].isnull().sum()/len(oto[\"Country version\"])"
   ]
  },
  {
   "cell_type": "markdown",
   "metadata": {},
   "source": [
    "### It seems more than half of the data are missing."
   ]
  },
  {
   "cell_type": "code",
   "execution_count": 66,
   "metadata": {},
   "outputs": [
    {
     "ename": "TypeError",
     "evalue": "unhashable type: 'list'",
     "output_type": "error",
     "traceback": [
      "\u001b[1;31m---------------------------------------------------------------------------\u001b[0m",
      "\u001b[1;31mTypeError\u001b[0m                                 Traceback (most recent call last)",
      "\u001b[1;32mpandas\\_libs\\hashtable_class_helper.pxi\u001b[0m in \u001b[0;36mpandas._libs.hashtable.PyObjectHashTable.map_locations\u001b[1;34m()\u001b[0m\n",
      "\u001b[1;31mTypeError\u001b[0m: unhashable type: 'list'"
     ]
    },
    {
     "name": "stderr",
     "output_type": "stream",
     "text": [
      "Exception ignored in: 'pandas._libs.index.IndexEngine._call_map_locations'\n",
      "Traceback (most recent call last):\n",
      "  File \"pandas\\_libs\\hashtable_class_helper.pxi\", line 1653, in pandas._libs.hashtable.PyObjectHashTable.map_locations\n",
      "TypeError: unhashable type: 'list'\n"
     ]
    },
    {
     "data": {
      "text/plain": [
       "NaN                     8333\n",
       "[\\nGermany\\n]           4502\n",
       "[\\nItaly\\n]             1038\n",
       "[\\nEuropean Union\\n]     507\n",
       "[\\nNetherlands\\n]        464\n",
       "[\\nSpain\\n]              325\n",
       "[\\nBelgium\\n]            314\n",
       "[\\nAustria\\n]            208\n",
       "[\\nCzech Republic\\n]      52\n",
       "[\\nPoland\\n]              49\n",
       "[\\nFrance\\n]              38\n",
       "[\\nDenmark\\n]             33\n",
       "[\\nHungary\\n]             28\n",
       "[\\nJapan\\n]                8\n",
       "[\\nSlovakia\\n]             4\n",
       "[\\nCroatia\\n]              4\n",
       "[\\nSweden\\n]               3\n",
       "[\\nRomania\\n]              2\n",
       "[\\nBulgaria\\n]             2\n",
       "[\\nSerbia\\n]               1\n",
       "[\\nLuxembourg\\n]           1\n",
       "[\\nSwitzerland\\n]          1\n",
       "[\\nSlovenia\\n]             1\n",
       "[\\nEgypt\\n]                1\n",
       "Name: Country version, dtype: int64"
      ]
     },
     "execution_count": 66,
     "metadata": {},
     "output_type": "execute_result"
    }
   ],
   "source": [
    "oto[\"Country version\"].value_counts(dropna = False)"
   ]
  },
  {
   "cell_type": "code",
   "execution_count": 67,
   "metadata": {},
   "outputs": [
    {
     "data": {
      "text/plain": [
       "NaN               8333\n",
       "Germany           4502\n",
       "Italy             1038\n",
       "European Union     507\n",
       "Netherlands        464\n",
       "Spain              325\n",
       "Belgium            314\n",
       "Austria            208\n",
       "Czech Republic      52\n",
       "Poland              49\n",
       "France              38\n",
       "Denmark             33\n",
       "Hungary             28\n",
       "Japan                8\n",
       "Slovakia             4\n",
       "Croatia              4\n",
       "Sweden               3\n",
       "Bulgaria             2\n",
       "Romania              2\n",
       "Egypt                1\n",
       "Slovenia             1\n",
       "Luxembourg           1\n",
       "Serbia               1\n",
       "Switzerland          1\n",
       "Name: Country version, dtype: int64"
      ]
     },
     "execution_count": 67,
     "metadata": {},
     "output_type": "execute_result"
    }
   ],
   "source": [
    "oto['Country version'].str[0].str.strip('\\n').value_counts(dropna=False) "
   ]
  },
  {
   "cell_type": "code",
   "execution_count": null,
   "metadata": {},
   "outputs": [],
   "source": []
  },
  {
   "cell_type": "markdown",
   "metadata": {},
   "source": [
    "### It's not essential for the result (price) but we can keep it.\n",
    "### May be we can fillna using weight-mean in terms of values respectively"
   ]
  },
  {
   "cell_type": "code",
   "execution_count": 68,
   "metadata": {},
   "outputs": [],
   "source": [
    "oto['country'] = oto['Country version'].str[0].str.strip('\\n')"
   ]
  },
  {
   "cell_type": "markdown",
   "metadata": {},
   "source": [
    "***"
   ]
  },
  {
   "cell_type": "markdown",
   "metadata": {},
   "source": [
    "### ``'Cylinders'``"
   ]
  },
  {
   "cell_type": "code",
   "execution_count": 69,
   "metadata": {},
   "outputs": [
    {
     "data": {
      "text/plain": [
       "0.3568063320560337"
      ]
     },
     "execution_count": 69,
     "metadata": {},
     "output_type": "execute_result"
    }
   ],
   "source": [
    "oto.Cylinders.isnull().sum()/len(oto.Cylinders)"
   ]
  },
  {
   "cell_type": "code",
   "execution_count": 70,
   "metadata": {},
   "outputs": [
    {
     "ename": "TypeError",
     "evalue": "unhashable type: 'list'",
     "output_type": "error",
     "traceback": [
      "\u001b[1;31m---------------------------------------------------------------------------\u001b[0m",
      "\u001b[1;31mTypeError\u001b[0m                                 Traceback (most recent call last)",
      "\u001b[1;32mpandas\\_libs\\hashtable_class_helper.pxi\u001b[0m in \u001b[0;36mpandas._libs.hashtable.PyObjectHashTable.map_locations\u001b[1;34m()\u001b[0m\n",
      "\u001b[1;31mTypeError\u001b[0m: unhashable type: 'list'"
     ]
    },
    {
     "name": "stderr",
     "output_type": "stream",
     "text": [
      "Exception ignored in: 'pandas._libs.index.IndexEngine._call_map_locations'\n",
      "Traceback (most recent call last):\n",
      "  File \"pandas\\_libs\\hashtable_class_helper.pxi\", line 1653, in pandas._libs.hashtable.PyObjectHashTable.map_locations\n",
      "TypeError: unhashable type: 'list'\n"
     ]
    },
    {
     "data": {
      "text/plain": [
       "[\\n4\\n]    8105\n",
       "NaN        5680\n",
       "[\\n3\\n]    2104\n",
       "[\\n5\\n]      22\n",
       "[\\n6\\n]       3\n",
       "[\\n2\\n]       2\n",
       "[\\n8\\n]       2\n",
       "[\\n1\\n]       1\n",
       "Name: Cylinders, dtype: int64"
      ]
     },
     "execution_count": 70,
     "metadata": {},
     "output_type": "execute_result"
    }
   ],
   "source": [
    "oto.Cylinders.value_counts(dropna = False)"
   ]
  },
  {
   "cell_type": "code",
   "execution_count": 71,
   "metadata": {},
   "outputs": [
    {
     "data": {
      "text/plain": [
       "4      8105\n",
       "NaN    5680\n",
       "3      2104\n",
       "5        22\n",
       "6         3\n",
       "8         2\n",
       "2         2\n",
       "1         1\n",
       "Name: Cylinders, dtype: int64"
      ]
     },
     "execution_count": 71,
     "metadata": {},
     "output_type": "execute_result"
    }
   ],
   "source": [
    "oto['Cylinders'].str[0].str.strip('\\n').value_counts(dropna=False) "
   ]
  },
  {
   "cell_type": "markdown",
   "metadata": {},
   "source": [
    "### We can handle with the missing values later. Let's keep it for now."
   ]
  },
  {
   "cell_type": "code",
   "execution_count": 72,
   "metadata": {},
   "outputs": [],
   "source": [
    "oto['Cylinders'] = oto['Cylinders'].str[0].str.strip('\\n')"
   ]
  },
  {
   "cell_type": "markdown",
   "metadata": {},
   "source": [
    "***"
   ]
  },
  {
   "cell_type": "markdown",
   "metadata": {},
   "source": [
    "### ``'Emission Label'``"
   ]
  },
  {
   "cell_type": "code",
   "execution_count": 73,
   "metadata": {},
   "outputs": [
    {
     "data": {
      "text/plain": [
       "0.749670205414913"
      ]
     },
     "execution_count": 73,
     "metadata": {},
     "output_type": "execute_result"
    }
   ],
   "source": [
    "oto['Emission Label'].isnull().sum()/len(oto['Emission Label'])"
   ]
  },
  {
   "cell_type": "markdown",
   "metadata": {},
   "source": [
    "### It has very high percentage of missing values. The percent of the missing values is high enough to drop but let's keep it for now."
   ]
  },
  {
   "cell_type": "code",
   "execution_count": 74,
   "metadata": {},
   "outputs": [
    {
     "ename": "TypeError",
     "evalue": "unhashable type: 'list'",
     "output_type": "error",
     "traceback": [
      "\u001b[1;31m---------------------------------------------------------------------------\u001b[0m",
      "\u001b[1;31mTypeError\u001b[0m                                 Traceback (most recent call last)",
      "\u001b[1;32mpandas\\_libs\\hashtable_class_helper.pxi\u001b[0m in \u001b[0;36mpandas._libs.hashtable.PyObjectHashTable.map_locations\u001b[1;34m()\u001b[0m\n",
      "\u001b[1;31mTypeError\u001b[0m: unhashable type: 'list'"
     ]
    },
    {
     "name": "stderr",
     "output_type": "stream",
     "text": [
      "Exception ignored in: 'pandas._libs.index.IndexEngine._call_map_locations'\n",
      "Traceback (most recent call last):\n",
      "  File \"pandas\\_libs\\hashtable_class_helper.pxi\", line 1653, in pandas._libs.hashtable.PyObjectHashTable.map_locations\n",
      "TypeError: unhashable type: 'list'\n"
     ]
    },
    {
     "data": {
      "text/plain": [
       "NaN                     11934\n",
       "[\\n4 (Green)\\n]          3553\n",
       "[\\n1 (No sticker)\\n]      381\n",
       "[[], [], []]               40\n",
       "[\\n5 (Blue)\\n]              8\n",
       "[\\n3 (Yellow)\\n]            2\n",
       "[\\n2 (Red)\\n]               1\n",
       "Name: Emission Label, dtype: int64"
      ]
     },
     "execution_count": 74,
     "metadata": {},
     "output_type": "execute_result"
    }
   ],
   "source": [
    "oto[\"Emission Label\"].value_counts(dropna = False)"
   ]
  },
  {
   "cell_type": "code",
   "execution_count": 75,
   "metadata": {},
   "outputs": [
    {
     "data": {
      "text/plain": [
       "NaN               11974\n",
       "4 (Green)          3553\n",
       "1 (No sticker)      381\n",
       "5 (Blue)              8\n",
       "3 (Yellow)            2\n",
       "2 (Red)               1\n",
       "Name: Emission Label, dtype: int64"
      ]
     },
     "execution_count": 75,
     "metadata": {},
     "output_type": "execute_result"
    }
   ],
   "source": [
    "oto['Emission Label'].str[0].str.strip('\\n').value_counts(dropna=False) "
   ]
  },
  {
   "cell_type": "code",
   "execution_count": 76,
   "metadata": {},
   "outputs": [],
   "source": [
    "oto['emission_label'] = oto['Emission Label'].str[0].str.strip('\\n')"
   ]
  },
  {
   "cell_type": "code",
   "execution_count": 77,
   "metadata": {},
   "outputs": [
    {
     "data": {
      "text/plain": [
       "NaN               11974\n",
       "4 (Green)          3553\n",
       "1 (No sticker)      381\n",
       "5 (Blue)              8\n",
       "3 (Yellow)            2\n",
       "2 (Red)               1\n",
       "Name: emission_label, dtype: int64"
      ]
     },
     "execution_count": 77,
     "metadata": {},
     "output_type": "execute_result"
    }
   ],
   "source": [
    "oto.emission_label.value_counts(dropna = False)"
   ]
  },
  {
   "cell_type": "markdown",
   "metadata": {},
   "source": [
    "***"
   ]
  },
  {
   "cell_type": "markdown",
   "metadata": {},
   "source": [
    "### ``'Full Service'``"
   ]
  },
  {
   "cell_type": "code",
   "execution_count": 80,
   "metadata": {},
   "outputs": [
    {
     "data": {
      "text/plain": [
       "48.394999685909916"
      ]
     },
     "execution_count": 80,
     "metadata": {},
     "output_type": "execute_result"
    }
   ],
   "source": [
    "oto['Full Service'].isnull().sum()/len(oto['Full Service'])*100"
   ]
  },
  {
   "cell_type": "code",
   "execution_count": 78,
   "metadata": {},
   "outputs": [
    {
     "ename": "TypeError",
     "evalue": "unhashable type: 'list'",
     "output_type": "error",
     "traceback": [
      "\u001b[1;31m---------------------------------------------------------------------------\u001b[0m",
      "\u001b[1;31mTypeError\u001b[0m                                 Traceback (most recent call last)",
      "\u001b[1;32mpandas\\_libs\\hashtable_class_helper.pxi\u001b[0m in \u001b[0;36mpandas._libs.hashtable.PyObjectHashTable.map_locations\u001b[1;34m()\u001b[0m\n",
      "\u001b[1;31mTypeError\u001b[0m: unhashable type: 'list'"
     ]
    },
    {
     "name": "stderr",
     "output_type": "stream",
     "text": [
      "Exception ignored in: 'pandas._libs.index.IndexEngine._call_map_locations'\n",
      "Traceback (most recent call last):\n",
      "  File \"pandas\\_libs\\hashtable_class_helper.pxi\", line 1653, in pandas._libs.hashtable.PyObjectHashTable.map_locations\n",
      "TypeError: unhashable type: 'list'\n"
     ]
    },
    {
     "data": {
      "text/plain": [
       "NaN                                                                                           7704\n",
       "[\\n, \\n, \\n4 (Green)\\n]                                                                       2235\n",
       "[\\n, \\n, \\nEuro 6\\n]                                                                          2097\n",
       "[\\n, \\n]                                                                                      1702\n",
       "[\\n, \\n, \\nEuro 6d-TEMP\\n]                                                                     399\n",
       "                                                                                              ... \n",
       "[\\n, \\n, \\n, 6 l/100 km (comb), \\n, 7.5 l/100 km (city), \\n, 5.2 l/100 km (country), \\n]         1\n",
       "[\\n, \\n, \\n, 5.5 l/100 km (comb), \\n, 7.2 l/100 km (city), \\n, 4.5 l/100 km (country), \\n]       1\n",
       "[\\n, \\n, \\n, 5.8 l/100 km (comb), \\n, 7.4 l/100 km (city), \\n, 4.9 l/100 km (country), \\n]       1\n",
       "[\\n, \\n, \\n, 5.4 l/100 km (comb), \\n, 7 l/100 km (city), \\n, 4.5 l/100 km (country), \\n]         1\n",
       "[\\n, \\n, \\n, 5.4 l/100 km (comb), \\n, 7.3 l/100 km (city), \\n, 4.2 l/100 km (country), \\n]       1\n",
       "Name: Full Service, Length: 123, dtype: int64"
      ]
     },
     "execution_count": 78,
     "metadata": {},
     "output_type": "execute_result"
    }
   ],
   "source": [
    "oto['Full Service'].value_counts(dropna=False)"
   ]
  },
  {
   "cell_type": "code",
   "execution_count": 81,
   "metadata": {},
   "outputs": [
    {
     "data": {
      "text/plain": [
       "[nan,\n",
       " ['\\n', '\\n', '\\n4 (Green)\\n'],\n",
       " ['\\n', '\\n', '\\nEuro 6\\n'],\n",
       " ['\\n', '\\n'],\n",
       " ['\\n', '\\n', '\\nEuro 6d-TEMP\\n'],\n",
       " '\\n',\n",
       " ['\\n', '\\n', '\\n120 g CO2/km (comb)\\n'],\n",
       " ['\\n', '\\n', '\\n126 g CO2/km (comb)\\n'],\n",
       " ['\\n', '\\n', '\\n104 g CO2/km (comb)\\n'],\n",
       " ['\\n', '\\n', '\\n97 g CO2/km (comb)\\n'],\n",
       " ['\\n', '\\n', '\\n124 g CO2/km (comb)\\n'],\n",
       " ['\\n', '\\n', '\\n99 g CO2/km (comb)\\n'],\n",
       " ['\\n', '\\n', '\\n128 g CO2/km (comb)\\n'],\n",
       " ['\\n', '\\n', '\\n119 g CO2/km (comb)\\n'],\n",
       " ['\\n', '\\n', '\\n140 g CO2/km (comb)\\n'],\n",
       " ['\\n', '\\n', '\\n106 g CO2/km (comb)\\n'],\n",
       " ['\\n', '\\n', '\\n92 g CO2/km (comb)\\n'],\n",
       " ['\\n', '\\n', '\\n107 g CO2/km (comb)\\n'],\n",
       " ['\\n', '\\n', '\\n114 g CO2/km (comb)\\n'],\n",
       " ['\\n', '\\n', '\\n1 (No sticker)\\n'],\n",
       " ['\\n', '\\n', '\\n102 g CO2/km (comb)\\n'],\n",
       " ['\\n', '\\n', '\\n103 g CO2/km (comb)\\n'],\n",
       " ['\\n', '\\n', '\\nEuro 6c\\n'],\n",
       " ['\\n', '\\n', '\\n117 g CO2/km (comb)\\n'],\n",
       " ['\\n', '\\n', '\\n139 g CO2/km (comb)\\n'],\n",
       " ['\\n', '\\n', '\\n127 g CO2/km (comb)\\n'],\n",
       " ['\\n', '\\n', '\\n141 g CO2/km (comb)\\n'],\n",
       " ['\\n', '\\n', '\\n125 g CO2/km (comb)\\n'],\n",
       " ['\\n', '\\n', '\\n136 g CO2/km (comb)\\n'],\n",
       " ['\\n', '\\n', '\\n85 g CO2/km (comb)\\n'],\n",
       " ['\\n', '\\n', '\\n108 g CO2/km (comb)\\n'],\n",
       " ['\\n', '\\n', '\\n112 g CO2/km (comb)\\n'],\n",
       " ['\\n', '\\n', '\\n5 (Blue)\\n'],\n",
       " ['\\n', '\\n', '\\n109 g CO2/km (comb)\\n'],\n",
       " ['\\n', '\\n', '\\n129 g CO2/km (comb)\\n'],\n",
       " ['\\n', '\\n', '\\n150 g CO2/km (comb)\\n'],\n",
       " ['\\n', '\\n', '\\n130 g CO2/km (comb)\\n'],\n",
       " ['\\n', '\\n', '\\n154 g CO2/km (comb)\\n'],\n",
       " ['\\n', '\\n', '\\n113 g CO2/km (comb)\\n'],\n",
       " ['\\n', '\\n', '\\n133 g CO2/km (comb)\\n'],\n",
       " ['\\n', '\\n', '\\n135 g CO2/km (comb)\\n'],\n",
       " ['\\n', '\\n', '\\n116 g CO2/km (comb)\\n'],\n",
       " ['\\n', '\\n', '\\n110 g CO2/km (comb)\\n'],\n",
       " ['\\n', '\\n', '\\n143 g CO2/km (comb)\\n'],\n",
       " ['\\n', '\\n', '\\n123 g CO2/km (comb)\\n'],\n",
       " ['\\n', '\\n', '\\n137 g CO2/km (comb)\\n'],\n",
       " ['\\n', '\\n', '\\nEuro 6d\\n'],\n",
       " ['\\n', '\\n', '\\n105 g CO2/km (comb)\\n'],\n",
       " ['\\n', '\\n', '\\n95 g CO2/km (comb)\\n'],\n",
       " ['\\n', '\\n', '\\n101 g CO2/km (comb)\\n'],\n",
       " ['\\n', '\\n', '\\n132 g CO2/km (comb)\\n'],\n",
       " ['\\n', '\\n', '\\n118 g CO2/km (comb)\\n'],\n",
       " ['\\n', '\\n', '\\n111 g CO2/km (comb)\\n'],\n",
       " ['\\n', '\\n', '\\n149 g CO2/km (comb)\\n'],\n",
       " ['\\n', '\\n', '\\n91 g CO2/km (comb)\\n'],\n",
       " ['\\n', '\\n', '\\n147 g CO2/km (comb)\\n'],\n",
       " ['\\n', '\\n', '\\n145 g CO2/km (comb)\\n'],\n",
       " ['\\n', '\\n', '\\nEuro 5\\n'],\n",
       " ['\\n', '\\n', '\\n121 g CO2/km (comb)\\n'],\n",
       " ['\\n', '\\n', '\\n96 g CO2/km (comb)\\n'],\n",
       " ['\\n', '\\n', '\\n138 g CO2/km (comb)\\n'],\n",
       " ['\\n', '\\n', '\\n134 g CO2/km (comb)\\n'],\n",
       " ['\\n', '\\n', '\\n142 g CO2/km (comb)\\n'],\n",
       " ['\\n', '\\n', '\\n82 g CO2/km (comb)\\n'],\n",
       " ['\\n', '\\n', '\\n148 g CO2/km (comb)\\n'],\n",
       " ['\\n', '\\n', '\\n89 g CO2/km (comb)\\n'],\n",
       " ['\\n', '\\n', '\\n189 g CO2/km (comb)\\n'],\n",
       " ['\\n', '\\n', '\\n131 g CO2/km (comb)\\n'],\n",
       " ['\\n',\n",
       "  '\\n',\n",
       "  '\\n',\n",
       "  '6.6 l/100 km (comb)',\n",
       "  '\\n',\n",
       "  '8.2 l/100 km (city)',\n",
       "  '\\n',\n",
       "  '5.6 l/100 km (country)',\n",
       "  '\\n'],\n",
       " ['\\n', '\\n', '\\n94 g CO2/km (comb)\\n'],\n",
       " ['\\n', '\\n', '\\n115 g CO2/km (comb)\\n'],\n",
       " ['\\n', '\\n', '\\n153 g CO2/km (comb)\\n'],\n",
       " ['\\n', '\\n', '\\n122 g CO2/km (comb)\\n'],\n",
       " ['\\n', '\\n', '\\n152 g CO2/km (comb)\\n'],\n",
       " ['\\n',\n",
       "  '\\n',\n",
       "  '\\n',\n",
       "  '4.9 l/100 km (comb)',\n",
       "  '\\n',\n",
       "  '6 l/100 km (city)',\n",
       "  '\\n',\n",
       "  '4.2 l/100 km (country)',\n",
       "  '\\n'],\n",
       " ['\\n', '\\n', '\\n151 g CO2/km (comb)\\n'],\n",
       " ['\\n', '\\n', '\\n98 g CO2/km (comb)\\n'],\n",
       " ['\\n',\n",
       "  '\\n',\n",
       "  '\\n',\n",
       "  '5.7 l/100 km (comb)',\n",
       "  '\\n',\n",
       "  '7.3 l/100 km (city)',\n",
       "  '\\n',\n",
       "  '4.8 l/100 km (country)',\n",
       "  '\\n'],\n",
       " ['\\n',\n",
       "  '\\n',\n",
       "  '\\n',\n",
       "  '4.8 l/100 km (comb)',\n",
       "  '\\n',\n",
       "  '5.9 l/100 km (city)',\n",
       "  '\\n',\n",
       "  '4.2 l/100 km (country)',\n",
       "  '\\n'],\n",
       " ['\\n', '\\n', '\\n169 g CO2/km (comb)\\n'],\n",
       " ['\\n', '\\n', '\\n0 kWh/100 km (comb)\\n'],\n",
       " ['\\n', '\\n', '\\n166 g CO2/km (comb)\\n'],\n",
       " ['\\n', '\\n', '\\n93 g CO2/km (comb)\\n'],\n",
       " ['\\n', '\\n', '\\n', '5.4 l/100 km (comb)', '\\n', '\\n', '\\n'],\n",
       " ['\\n', '\\n', '\\n157 g CO2/km (comb)\\n'],\n",
       " ['\\n',\n",
       "  '\\n',\n",
       "  '\\n',\n",
       "  '6.3 l/100 km (comb)',\n",
       "  '\\n',\n",
       "  '7.8 l/100 km (city)',\n",
       "  '\\n',\n",
       "  '5.4 l/100 km (country)',\n",
       "  '\\n'],\n",
       " ['\\n', '\\n', '\\n188 g CO2/km (comb)\\n'],\n",
       " ['\\n', '\\n', '\\n144 g CO2/km (comb)\\n'],\n",
       " ['\\n',\n",
       "  '\\n',\n",
       "  '\\n',\n",
       "  '5.4 l/100 km (comb)',\n",
       "  '\\n',\n",
       "  '6.7 l/100 km (city)',\n",
       "  '\\n',\n",
       "  '4.6 l/100 km (country)',\n",
       "  '\\n'],\n",
       " ['\\n',\n",
       "  '\\n',\n",
       "  '\\n',\n",
       "  '4.4 l/100 km (comb)',\n",
       "  '\\n',\n",
       "  '5.2 l/100 km (city)',\n",
       "  '\\n',\n",
       "  '3.9 l/100 km (country)',\n",
       "  '\\n'],\n",
       " ['\\n', '\\n', '\\n146 g CO2/km (comb)\\n'],\n",
       " ['\\n', '\\n', '\\n90 g CO2/km (comb)\\n'],\n",
       " ['\\n',\n",
       "  '\\n',\n",
       "  '\\n',\n",
       "  '5.7 l/100 km (comb)',\n",
       "  '\\n',\n",
       "  '7.2 l/100 km (city)',\n",
       "  '\\n',\n",
       "  '4.8 l/100 km (country)',\n",
       "  '\\n'],\n",
       " ['\\n',\n",
       "  '\\n',\n",
       "  '\\n',\n",
       "  '5.9 l/100 km (comb)',\n",
       "  '\\n',\n",
       "  '7.8 l/100 km (city)',\n",
       "  '\\n',\n",
       "  '4.8 l/100 km (country)',\n",
       "  '\\n'],\n",
       " ['\\n', '\\n', '\\n88 g CO2/km (comb)\\n'],\n",
       " ['\\n',\n",
       "  '\\n',\n",
       "  '\\n',\n",
       "  '5.9 l/100 km (comb)',\n",
       "  '\\n',\n",
       "  '7.6 l/100 km (city)',\n",
       "  '\\n',\n",
       "  '5.1 l/100 km (country)',\n",
       "  '\\n'],\n",
       " ['\\n', '\\n', '\\nEuro 4\\n'],\n",
       " ['\\n',\n",
       "  '\\n',\n",
       "  '\\n',\n",
       "  '5.9 l/100 km (comb)',\n",
       "  '\\n',\n",
       "  '7.6 l/100 km (city)',\n",
       "  '\\n',\n",
       "  '4.9 l/100 km (country)',\n",
       "  '\\n'],\n",
       " ['\\n',\n",
       "  '\\n',\n",
       "  '\\n',\n",
       "  '4.6 l/100 km (comb)',\n",
       "  '\\n',\n",
       "  '5.8 l/100 km (city)',\n",
       "  '\\n',\n",
       "  '3.9 l/100 km (country)',\n",
       "  '\\n'],\n",
       " ['\\n',\n",
       "  '\\n',\n",
       "  '\\n',\n",
       "  '5.7 l/100 km (comb)',\n",
       "  '\\n',\n",
       "  '7.3 l/100 km (city)',\n",
       "  '\\n',\n",
       "  '4.9 l/100 km (country)',\n",
       "  '\\n'],\n",
       " ['\\n',\n",
       "  '\\n',\n",
       "  '\\n',\n",
       "  '6.6 l/100 km (comb)',\n",
       "  '\\n',\n",
       "  '8.4 l/100 km (city)',\n",
       "  '\\n',\n",
       "  '5.6 l/100 km (country)',\n",
       "  '\\n'],\n",
       " ['\\n',\n",
       "  '\\n',\n",
       "  '\\n',\n",
       "  '6.6 l/100 km (comb)',\n",
       "  '\\n',\n",
       "  '8.3 l/100 km (city)',\n",
       "  '\\n',\n",
       "  '5.6 l/100 km (country)',\n",
       "  '\\n'],\n",
       " ['\\n', '\\n', '\\n197 g CO2/km (comb)\\n'],\n",
       " ['\\n', '\\n', '\\n13,983 g CO2/km (comb)\\n'],\n",
       " ['\\n',\n",
       "  '\\n',\n",
       "  '\\n',\n",
       "  '6.5 l/100 km (comb)',\n",
       "  '\\n',\n",
       "  '8.1 l/100 km (city)',\n",
       "  '\\n',\n",
       "  '5.5 l/100 km (country)',\n",
       "  '\\n'],\n",
       " ['\\n', '\\n', '\\n164 g CO2/km (comb)\\n'],\n",
       " ['\\n', '\\n', '\\n253 g CO2/km (comb)\\n'],\n",
       " ['\\n', '\\n', '\\n159 g CO2/km (comb)\\n'],\n",
       " ['\\n', '\\n', '\\n156 g CO2/km (comb)\\n'],\n",
       " ['\\n',\n",
       "  '\\n',\n",
       "  '\\n',\n",
       "  '6.2 l/100 km (comb)',\n",
       "  '\\n',\n",
       "  '7.7 l/100 km (city)',\n",
       "  '\\n',\n",
       "  '5.4 l/100 km (country)',\n",
       "  '\\n'],\n",
       " ['\\n', '\\n', '\\n87 g CO2/km (comb)\\n'],\n",
       " ['\\n',\n",
       "  '\\n',\n",
       "  '\\n',\n",
       "  '4.3 l/100 km (comb)',\n",
       "  '\\n',\n",
       "  '5.2 l/100 km (city)',\n",
       "  '\\n',\n",
       "  '3.9 l/100 km (country)',\n",
       "  '\\n'],\n",
       " ['\\n', '\\n', '\\n84 g CO2/km (comb)\\n'],\n",
       " ['\\n',\n",
       "  '\\n',\n",
       "  '\\n',\n",
       "  '6 l/100 km (comb)',\n",
       "  '\\n',\n",
       "  '8 l/100 km (city)',\n",
       "  '\\n',\n",
       "  '4.9 l/100 km (country)',\n",
       "  '\\n'],\n",
       " ['\\n',\n",
       "  '\\n',\n",
       "  '\\n',\n",
       "  '4.9 l/100 km (comb)',\n",
       "  '\\n',\n",
       "  '6.2 l/100 km (city)',\n",
       "  '\\n',\n",
       "  '4.1 l/100 km (country)',\n",
       "  '\\n'],\n",
       " ['\\n',\n",
       "  '\\n',\n",
       "  '\\n',\n",
       "  '5 l/100 km (comb)',\n",
       "  '\\n',\n",
       "  '5.9 l/100 km (city)',\n",
       "  '\\n',\n",
       "  '4.5 l/100 km (country)',\n",
       "  '\\n'],\n",
       " ['\\n',\n",
       "  '\\n',\n",
       "  '\\n',\n",
       "  '4.7 l/100 km (comb)',\n",
       "  '\\n',\n",
       "  '5.4 l/100 km (city)',\n",
       "  '\\n',\n",
       "  '4.2 l/100 km (country)',\n",
       "  '\\n'],\n",
       " ['\\n', '\\n', '\\n80 g CO2/km (comb)\\n'],\n",
       " ['\\n',\n",
       "  '\\n',\n",
       "  '\\n',\n",
       "  '6 l/100 km (comb)',\n",
       "  '\\n',\n",
       "  '7.5 l/100 km (city)',\n",
       "  '\\n',\n",
       "  '5.2 l/100 km (country)',\n",
       "  '\\n'],\n",
       " ['\\n',\n",
       "  '\\n',\n",
       "  '\\n',\n",
       "  '5.5 l/100 km (comb)',\n",
       "  '\\n',\n",
       "  '7.2 l/100 km (city)',\n",
       "  '\\n',\n",
       "  '4.5 l/100 km (country)',\n",
       "  '\\n'],\n",
       " ['\\n',\n",
       "  '\\n',\n",
       "  '\\n',\n",
       "  '5.8 l/100 km (comb)',\n",
       "  '\\n',\n",
       "  '7.4 l/100 km (city)',\n",
       "  '\\n',\n",
       "  '4.9 l/100 km (country)',\n",
       "  '\\n'],\n",
       " ['\\n',\n",
       "  '\\n',\n",
       "  '\\n',\n",
       "  '5.4 l/100 km (comb)',\n",
       "  '\\n',\n",
       "  '7 l/100 km (city)',\n",
       "  '\\n',\n",
       "  '4.5 l/100 km (country)',\n",
       "  '\\n'],\n",
       " ['\\n',\n",
       "  '\\n',\n",
       "  '\\n',\n",
       "  '5.4 l/100 km (comb)',\n",
       "  '\\n',\n",
       "  '7.3 l/100 km (city)',\n",
       "  '\\n',\n",
       "  '4.2 l/100 km (country)',\n",
       "  '\\n']]"
      ]
     },
     "execution_count": 81,
     "metadata": {},
     "output_type": "execute_result"
    }
   ],
   "source": [
    "list(oto['Full Service'].value_counts(dropna=False).index)"
   ]
  },
  {
   "cell_type": "code",
   "execution_count": 82,
   "metadata": {},
   "outputs": [],
   "source": [
    "oto.drop(\"Full Service\", axis = 1, inplace = True)"
   ]
  },
  {
   "cell_type": "markdown",
   "metadata": {},
   "source": [
    "***"
   ]
  },
  {
   "cell_type": "markdown",
   "metadata": {},
   "source": [
    "### ``'Comfort & Convenience'``"
   ]
  },
  {
   "cell_type": "code",
   "execution_count": 83,
   "metadata": {},
   "outputs": [
    {
     "data": {
      "text/plain": [
       "0                                                                                                                                                                                               [Air conditioning, Armrest, Automatic climate control, Cruise control, Electrical side mirrors, Hill Holder, Leather steering wheel, Light sensor, Multi-function steering wheel, Navigation system, Park Distance Control, Parking assist system sensors rear, Power windows, Rain sensor, Seat heating, Start-stop system]\n",
       "1                                                                                                                                                                                                                                                                                                                                   [Air conditioning, Automatic climate control, Hill Holder, Leather steering wheel, Lumbar support, Parking assist system sensors rear, Power windows, Start-stop system, Tinted windows]\n",
       "2                                                                                                                                                                                                                         [Air conditioning, Cruise control, Electrical side mirrors, Hill Holder, Leather steering wheel, Multi-function steering wheel, Navigation system, Park Distance Control, Parking assist system sensors front, Parking assist system sensors rear, Power windows, Seat heating, Start-stop system]\n",
       "3                                                                                                                                                                                                                                [Air suspension, Armrest, Auxiliary heating, Electrical side mirrors, Heads-up display, Hill Holder, Leather steering wheel, Light sensor, Lumbar support, Multi-function steering wheel, Navigation system, Power windows, Rain sensor, Seat heating, Split rear seats, Start-stop system]\n",
       "4                                                                                                                                                                                                                                                [Air conditioning, Armrest, Automatic climate control, Electrical side mirrors, Hill Holder, Leather steering wheel, Light sensor, Multi-function steering wheel, Park Distance Control, Parking assist system sensors rear, Power windows, Rain sensor, Start-stop system]\n",
       "                                                                                                                                                                                                                                                                ...                                                                                                                                                                                                                                                         \n",
       "15914                                                                  [Air conditioning, Automatic climate control, Cruise control, Electrically adjustable seats, Electrical side mirrors, Hill Holder, Keyless central door lock, Leather steering wheel, Light sensor, Massage seats, Multi-function steering wheel, Navigation system, Park Distance Control, Parking assist system sensors front, Parking assist system sensors rear, Power windows, Rain sensor, Split rear seats, Start-stop system, Tinted windows]\n",
       "15915    [Air conditioning, Automatic climate control, Cruise control, Electrically heated windshield, Electrical side mirrors, Electric tailgate, Heads-up display, Heated steering wheel, Hill Holder, Keyless central door lock, Leather steering wheel, Light sensor, Lumbar support, Navigation system, Park Distance Control, Parking assist system camera, Parking assist system self-steering, Parking assist system sensors front, Parking assist system sensors rear, Power windows, Rain sensor, Seat heating,...\n",
       "15916    [Air conditioning, Armrest, Automatic climate control, Cruise control, Electrically heated windshield, Electrical side mirrors, Electric tailgate, Heads-up display, Heated steering wheel, Leather steering wheel, Light sensor, Massage seats, Multi-function steering wheel, Navigation system, Panorama roof, Park Distance Control, Parking assist system camera, Parking assist system sensors front, Parking assist system sensors rear, Power windows, Rain sensor, Seat heating, Seat ventilation, Sunr...\n",
       "15917                                                                                                                                                                                                                                                                                                   [Air conditioning, Automatic climate control, Cruise control, Electrically adjustable seats, Electrical side mirrors, Leather steering wheel, Light sensor, Park Distance Control, Power windows, Start-stop system]\n",
       "15918                                                                                                                                                                                                                                                                                          [Air conditioning, Automatic climate control, Cruise control, Electrically adjustable seats, Electrical side mirrors, Electric tailgate, Hill Holder, Leather steering wheel, Navigation system, Power windows, Seat heating]\n",
       "Name: \\nComfort & Convenience\\n, Length: 15919, dtype: object"
      ]
     },
     "execution_count": 83,
     "metadata": {},
     "output_type": "execute_result"
    }
   ],
   "source": [
    "oto[\"\\nComfort & Convenience\\n\"]"
   ]
  },
  {
   "cell_type": "code",
   "execution_count": 84,
   "metadata": {},
   "outputs": [
    {
     "ename": "TypeError",
     "evalue": "unhashable type: 'list'",
     "output_type": "error",
     "traceback": [
      "\u001b[1;31m---------------------------------------------------------------------------\u001b[0m",
      "\u001b[1;31mTypeError\u001b[0m                                 Traceback (most recent call last)",
      "\u001b[1;32mpandas\\_libs\\hashtable_class_helper.pxi\u001b[0m in \u001b[0;36mpandas._libs.hashtable.PyObjectHashTable.map_locations\u001b[1;34m()\u001b[0m\n",
      "\u001b[1;31mTypeError\u001b[0m: unhashable type: 'list'"
     ]
    },
    {
     "name": "stderr",
     "output_type": "stream",
     "text": [
      "Exception ignored in: 'pandas._libs.index.IndexEngine._call_map_locations'\n",
      "Traceback (most recent call last):\n",
      "  File \"pandas\\_libs\\hashtable_class_helper.pxi\", line 1653, in pandas._libs.hashtable.PyObjectHashTable.map_locations\n",
      "TypeError: unhashable type: 'list'\n"
     ]
    },
    {
     "data": {
      "text/plain": [
       "NaN                                                                                                                                                                                                                                                                                                                                                                     920\n",
       "[Air conditioning, Electrical side mirrors, Hill Holder, Power windows]                                                                                                                                                                                                                                                                                                 216\n",
       "[Air conditioning, Electrical side mirrors, Power windows]                                                                                                                                                                                                                                                                                                              134\n",
       "[Air conditioning, Power windows]                                                                                                                                                                                                                                                                                                                                       130\n",
       "[Air conditioning, Armrest, Automatic climate control, Cruise control, Electrical side mirrors, Leather steering wheel, Light sensor, Lumbar support, Multi-function steering wheel, Navigation system, Park Distance Control, Parking assist system sensors front, Parking assist system sensors rear, Power windows, Rain sensor, Seat heating, Start-stop system]    105\n",
       "                                                                                                                                                                                                                                                                                                                                                                       ... \n",
       "[Air conditioning, Armrest, Automatic climate control, Cruise control, Leather steering wheel, Lumbar support, Multi-function steering wheel, Navigation system, Park Distance Control, Parking assist system sensors front, Parking assist system sensors rear, Power windows, Rain sensor]                                                                              1\n",
       "[Air conditioning, Armrest, Automatic climate control, Electrical side mirrors, Hill Holder, Keyless central door lock, Leather steering wheel, Light sensor, Park Distance Control, Parking assist system sensors rear, Power windows, Rain sensor]                                                                                                                      1\n",
       "[Air conditioning, Automatic climate control, Cruise control, Electrical side mirrors, Leather steering wheel, Light sensor, Multi-function steering wheel, Navigation system, Park Distance Control, Parking assist system sensors rear, Power windows, Rain sensor, Start-stop system]                                                                                  1\n",
       "[Air conditioning, Armrest, Cruise control, Electrical side mirrors, Leather steering wheel, Light sensor, Multi-function steering wheel, Park Distance Control, Parking assist system camera, Parking assist system sensors front, Parking assist system sensors rear, Power windows, Rain sensor, Seat heating, Start-stop system]                                      1\n",
       "[Air conditioning, Armrest, Automatic climate control, Auxiliary heating, Electrical side mirrors, Leather steering wheel, Light sensor, Multi-function steering wheel, Navigation system, Park Distance Control, Parking assist system sensors front, Parking assist system sensors rear, Power windows, Seat heating]                                                   1\n",
       "Name: \\nComfort & Convenience\\n, Length: 6199, dtype: int64"
      ]
     },
     "execution_count": 84,
     "metadata": {},
     "output_type": "execute_result"
    }
   ],
   "source": [
    "oto['\\nComfort & Convenience\\n'].value_counts(dropna = False)"
   ]
  },
  {
   "cell_type": "code",
   "execution_count": 85,
   "metadata": {},
   "outputs": [
    {
     "ename": "TypeError",
     "evalue": "unhashable type: 'list'",
     "output_type": "error",
     "traceback": [
      "\u001b[1;31m---------------------------------------------------------------------------\u001b[0m",
      "\u001b[1;31mTypeError\u001b[0m                                 Traceback (most recent call last)",
      "\u001b[1;32mpandas\\_libs\\hashtable_class_helper.pxi\u001b[0m in \u001b[0;36mpandas._libs.hashtable.PyObjectHashTable.map_locations\u001b[1;34m()\u001b[0m\n",
      "\u001b[1;31mTypeError\u001b[0m: unhashable type: 'list'"
     ]
    },
    {
     "name": "stderr",
     "output_type": "stream",
     "text": [
      "Exception ignored in: 'pandas._libs.index.IndexEngine._call_map_locations'\n",
      "Traceback (most recent call last):\n",
      "  File \"pandas\\_libs\\hashtable_class_helper.pxi\", line 1653, in pandas._libs.hashtable.PyObjectHashTable.map_locations\n",
      "TypeError: unhashable type: 'list'\n"
     ]
    },
    {
     "data": {
      "text/plain": [
       "NaN                                                                                                                                                                                                                                                                                                                                                                                                                                                                                                                    920\n",
       "[Air conditioning, Electrical side mirrors, Hill Holder, Power windows]                                                                                                                                                                                                                                                                                                                                                                                                                                                216\n",
       "[Air conditioning, Electrical side mirrors, Power windows]                                                                                                                                                                                                                                                                                                                                                                                                                                                             134\n",
       "[Air conditioning, Power windows]                                                                                                                                                                                                                                                                                                                                                                                                                                                                                      130\n",
       "[Air conditioning, Armrest, Automatic climate control, Cruise control, Electrical side mirrors, Leather steering wheel, Light sensor, Lumbar support, Multi-function steering wheel, Navigation system, Park Distance Control, Parking assist system sensors front, Parking assist system sensors rear, Power windows, Rain sensor, Seat heating, Start-stop system]                                                                                                                                                   105\n",
       "[Air conditioning, Armrest, Automatic climate control, Cruise control, Electrical side mirrors, Hill Holder, Leather steering wheel, Light sensor, Multi-function steering wheel, Navigation system, Park Distance Control, Parking assist system sensors rear, Power windows, Rain sensor, Seat heating, Start-stop system]                                                                                                                                                                                            92\n",
       "[Air conditioning, Automatic climate control, Cruise control, Multi-function steering wheel, Park Distance Control, Power windows]                                                                                                                                                                                                                                                                                                                                                                                      89\n",
       "[Air conditioning, Power windows, Seat ventilation, Split rear seats]                                                                                                                                                                                                                                                                                                                                                                                                                                                   82\n",
       "[Air conditioning]                                                                                                                                                                                                                                                                                                                                                                                                                                                                                                      79\n",
       "[Air conditioning, Seat ventilation, Split rear seats]                                                                                                                                                                                                                                                                                                                                                                                                                                                                  79\n",
       "[Air conditioning, Electrical side mirrors, Hill Holder, Multi-function steering wheel, Power windows]                                                                                                                                                                                                                                                                                                                                                                                                                  78\n",
       "[Air conditioning, Cruise control, Electrical side mirrors, Hill Holder, Leather steering wheel, Multi-function steering wheel, Power windows]                                                                                                                                                                                                                                                                                                                                                                          77\n",
       "[Air conditioning, Cruise control, Electrically heated windshield, Electrical side mirrors, Heated steering wheel, Hill Holder, Leather steering wheel, Light sensor, Multi-function steering wheel, Park Distance Control, Parking assist system camera, Parking assist system sensors front, Parking assist system sensors rear, Power windows, Rain sensor, Seat heating]                                                                                                                                            72\n",
       "[Air conditioning, Cruise control, Electrical side mirrors, Heated steering wheel, Hill Holder, Leather steering wheel, Multi-function steering wheel, Park Distance Control, Parking assist system sensors rear, Power windows, Seat heating]                                                                                                                                                                                                                                                                          64\n",
       "[Air conditioning, Armrest, Automatic climate control, Cruise control, Electrically adjustable seats, Electrical side mirrors, Electric tailgate, Heated steering wheel, Hill Holder, Keyless central door lock, Leather steering wheel, Light sensor, Lumbar support, Multi-function steering wheel, Navigation system, Park Distance Control, Parking assist system camera, Parking assist system sensors front, Parking assist system sensors rear, Power windows, Rain sensor, Seat heating, Start-stop system]     58\n",
       "[Air conditioning, Armrest, Automatic climate control, Electrical side mirrors, Hill Holder, Keyless central door lock, Leather steering wheel, Light sensor, Lumbar support, Multi-function steering wheel, Navigation system, Park Distance Control, Parking assist system sensors rear, Power windows, Rain sensor, Seat heating, Start-stop system]                                                                                                                                                                 57\n",
       "[Air conditioning, Armrest, Automatic climate control, Cruise control, Electrical side mirrors, Leather steering wheel, Light sensor, Multi-function steering wheel, Navigation system, Park Distance Control, Parking assist system sensors rear, Power windows, Rain sensor, Seat heating, Start-stop system]                                                                                                                                                                                                         53\n",
       "[Air conditioning, Cruise control, Electrical side mirrors, Multi-function steering wheel, Power windows]                                                                                                                                                                                                                                                                                                                                                                                                               53\n",
       "[Air conditioning, Armrest, Automatic climate control, Electrical side mirrors, Leather steering wheel, Light sensor, Multi-function steering wheel, Park Distance Control, Parking assist system sensors rear, Power windows, Rain sensor, Seat heating, Start-stop system]                                                                                                                                                                                                                                            51\n",
       "[Cruise control]                                                                                                                                                                                                                                                                                                                                                                                                                                                                                                        49\n",
       "[Air conditioning, Armrest, Automatic climate control, Cruise control, Electrical side mirrors, Heated steering wheel, Hill Holder, Leather steering wheel, Light sensor, Lumbar support, Multi-function steering wheel, Navigation system, Park Distance Control, Parking assist system camera, Parking assist system sensors front, Parking assist system sensors rear, Power windows, Rain sensor, Seat heating, Start-stop system]                                                                                  48\n",
       "[Cruise control, Electrical side mirrors, Power windows]                                                                                                                                                                                                                                                                                                                                                                                                                                                                48\n",
       "[Air conditioning, Cruise control, Hill Holder, Multi-function steering wheel, Power windows, Start-stop system]                                                                                                                                                                                                                                                                                                                                                                                                        48\n",
       "[Air conditioning, Armrest, Automatic climate control, Electrical side mirrors, Hill Holder, Leather steering wheel, Light sensor, Multi-function steering wheel, Navigation system, Park Distance Control, Parking assist system sensors rear, Power windows, Rain sensor, Seat heating, Start-stop system]                                                                                                                                                                                                            45\n",
       "[Air conditioning, Armrest, Automatic climate control, Cruise control, Electrical side mirrors, Hill Holder, Leather steering wheel, Light sensor, Multi-function steering wheel, Navigation system, Park Distance Control, Parking assist system sensors front, Parking assist system sensors rear, Power windows, Rain sensor, Seat heating, Start-stop system]                                                                                                                                                       45\n",
       "[Air conditioning, Armrest, Automatic climate control, Cruise control, Electrical side mirrors, Hill Holder, Leather steering wheel, Light sensor, Lumbar support, Multi-function steering wheel, Navigation system, Park Distance Control, Parking assist system sensors front, Parking assist system sensors rear, Power windows, Rain sensor, Seat heating, Start-stop system]                                                                                                                                       44\n",
       "[Air conditioning, Electrical side mirrors, Multi-function steering wheel, Power windows]                                                                                                                                                                                                                                                                                                                                                                                                                               44\n",
       "[Air conditioning, Cruise control, Electrical side mirrors, Hill Holder, Keyless central door lock, Navigation system, Power windows, Start-stop system]                                                                                                                                                                                                                                                                                                                                                                44\n",
       "[Air conditioning, Multi-function steering wheel, Power windows]                                                                                                                                                                                                                                                                                                                                                                                                                                                        42\n",
       "[Air conditioning, Armrest, Automatic climate control, Electrical side mirrors, Leather steering wheel, Light sensor, Lumbar support, Multi-function steering wheel, Park Distance Control, Parking assist system sensors rear, Power windows, Rain sensor, Seat heating, Start-stop system]                                                                                                                                                                                                                            41\n",
       "[Air conditioning, Automatic climate control, Power windows, Split rear seats]                                                                                                                                                                                                                                                                                                                                                                                                                                          40\n",
       "[Air conditioning, Automatic climate control]                                                                                                                                                                                                                                                                                                                                                                                                                                                                           39\n",
       "[Air conditioning, Cruise control, Electrical side mirrors, Hill Holder, Light sensor, Multi-function steering wheel, Park Distance Control, Parking assist system sensors rear, Power windows, Start-stop system]                                                                                                                                                                                                                                                                                                      39\n",
       "[Air conditioning, Automatic climate control, Cruise control, Electrical side mirrors, Light sensor, Multi-function steering wheel, Navigation system, Park Distance Control, Parking assist system sensors front, Parking assist system sensors rear, Power windows, Rain sensor, Start-stop system]                                                                                                                                                                                                                   39\n",
       "[Air conditioning, Automatic climate control, Cruise control, Electrically adjustable seats, Electrical side mirrors, Hill Holder, Leather steering wheel, Park Distance Control, Parking assist system sensors rear, Power windows, Start-stop system]                                                                                                                                                                                                                                                                 38\n",
       "[Air conditioning, Armrest, Automatic climate control, Cruise control, Electrical side mirrors, Electric tailgate, Heated steering wheel, Hill Holder, Keyless central door lock, Leather steering wheel, Light sensor, Lumbar support, Multi-function steering wheel, Navigation system, Park Distance Control, Parking assist system camera, Parking assist system sensors front, Parking assist system sensors rear, Power windows, Rain sensor, Seat heating, Start-stop system]                                    38\n",
       "[Air conditioning, Automatic climate control, Cruise control]                                                                                                                                                                                                                                                                                                                                                                                                                                                           37\n",
       "[Air conditioning, Armrest, Automatic climate control, Cruise control, Electrical side mirrors, Leather steering wheel, Light sensor, Multi-function steering wheel, Navigation system, Park Distance Control, Parking assist system sensors front, Parking assist system sensors rear, Power windows, Rain sensor, Start-stop system]                                                                                                                                                                                  36\n",
       "[Air conditioning, Armrest, Automatic climate control, Cruise control, Electrical side mirrors, Leather steering wheel, Light sensor, Multi-function steering wheel, Navigation system, Park Distance Control, Parking assist system sensors front, Parking assist system sensors rear, Power windows, Rain sensor, Seat heating, Start-stop system]                                                                                                                                                                    36\n",
       "[Air conditioning, Armrest, Automatic climate control, Electrical side mirrors, Hill Holder, Leather steering wheel, Light sensor, Lumbar support, Multi-function steering wheel, Park Distance Control, Parking assist system sensors rear, Power windows, Rain sensor, Seat heating, Start-stop system]                                                                                                                                                                                                               35\n",
       "[Air conditioning, Armrest, Automatic climate control, Cruise control, Electrical side mirrors, Leather steering wheel, Light sensor, Multi-function steering wheel, Park Distance Control, Parking assist system sensors rear, Power windows, Rain sensor, Seat heating, Start-stop system]                                                                                                                                                                                                                            34\n",
       "[Air conditioning, Automatic climate control, Cruise control, Electrical side mirrors, Heated steering wheel, Hill Holder, Leather steering wheel, Light sensor, Multi-function steering wheel, Navigation system, Park Distance Control, Parking assist system camera, Parking assist system sensors rear, Power windows, Rain sensor, Seat heating, Start-stop system]                                                                                                                                                33\n",
       "[Air conditioning, Armrest, Cruise control, Electrical side mirrors, Heated steering wheel, Hill Holder, Leather steering wheel, Light sensor, Lumbar support, Multi-function steering wheel, Navigation system, Park Distance Control, Parking assist system camera, Parking assist system sensors front, Parking assist system sensors rear, Power windows, Rain sensor, Seat heating, Start-stop system]                                                                                                             31\n",
       "[Air conditioning, Automatic climate control, Cruise control, Electrical side mirrors, Leather steering wheel, Light sensor, Multi-function steering wheel, Navigation system, Park Distance Control, Parking assist system sensors rear, Power windows, Rain sensor, Seat heating, Start-stop system]                                                                                                                                                                                                                  31\n",
       "[Air conditioning, Cruise control, Power windows]                                                                                                                                                                                                                                                                                                                                                                                                                                                                       31\n",
       "[Air conditioning, Armrest, Automatic climate control, Electrical side mirrors, Keyless central door lock, Leather steering wheel, Light sensor, Lumbar support, Multi-function steering wheel, Park Distance Control, Parking assist system sensors rear, Power windows, Rain sensor, Seat heating, Start-stop system]                                                                                                                                                                                                 30\n",
       "[Air conditioning, Armrest, Automatic climate control, Cruise control, Electrically adjustable seats, Electrical side mirrors, Heated steering wheel, Hill Holder, Keyless central door lock, Leather steering wheel, Light sensor, Lumbar support, Multi-function steering wheel, Navigation system, Park Distance Control, Parking assist system camera, Parking assist system sensors front, Parking assist system sensors rear, Power windows, Rain sensor, Seat heating, Start-stop system]                        28\n",
       "[Air conditioning, Cruise control, Electrical side mirrors, Hill Holder, Keyless central door lock, Leather steering wheel, Multi-function steering wheel, Navigation system, Power windows]                                                                                                                                                                                                                                                                                                                            28\n",
       "[Air conditioning, Electrical side mirrors, Hill Holder, Power windows, Start-stop system]                                                                                                                                                                                                                                                                                                                                                                                                                              28\n",
       "[Air conditioning, Armrest, Automatic climate control, Cruise control, Electrical side mirrors, Leather steering wheel, Light sensor, Lumbar support, Multi-function steering wheel, Navigation system, Park Distance Control, Parking assist system sensors rear, Power windows, Rain sensor, Seat heating, Start-stop system]                                                                                                                                                                                         28\n",
       "Name: \\nComfort & Convenience\\n, dtype: int64"
      ]
     },
     "execution_count": 85,
     "metadata": {},
     "output_type": "execute_result"
    }
   ],
   "source": [
    "oto['\\nComfort & Convenience\\n'].value_counts(dropna = False).head(50)"
   ]
  },
  {
   "cell_type": "code",
   "execution_count": 86,
   "metadata": {},
   "outputs": [
    {
     "ename": "TypeError",
     "evalue": "unhashable type: 'list'",
     "output_type": "error",
     "traceback": [
      "\u001b[1;31m---------------------------------------------------------------------------\u001b[0m",
      "\u001b[1;31mTypeError\u001b[0m                                 Traceback (most recent call last)",
      "\u001b[1;32mpandas\\_libs\\hashtable_class_helper.pxi\u001b[0m in \u001b[0;36mpandas._libs.hashtable.PyObjectHashTable.map_locations\u001b[1;34m()\u001b[0m\n",
      "\u001b[1;31mTypeError\u001b[0m: unhashable type: 'list'"
     ]
    },
    {
     "name": "stderr",
     "output_type": "stream",
     "text": [
      "Exception ignored in: 'pandas._libs.index.IndexEngine._call_map_locations'\n",
      "Traceback (most recent call last):\n",
      "  File \"pandas\\_libs\\hashtable_class_helper.pxi\", line 1653, in pandas._libs.hashtable.PyObjectHashTable.map_locations\n",
      "TypeError: unhashable type: 'list'\n"
     ]
    },
    {
     "data": {
      "text/plain": [
       "[Air conditioning, Automatic climate control, Cruise control, Electrically adjustable seats, Electrical side mirrors, Heated steering wheel, Hill Holder, Leather steering wheel, Lumbar support, Multi-function steering wheel, Navigation system, Power windows, Rain sensor, Seat heating, Seat ventilation]                                                                                                                                        1\n",
       "[Air conditioning, Armrest, Automatic climate control, Cruise control, Electrical side mirrors, Leather steering wheel, Multi-function steering wheel, Park Distance Control, Parking assist system sensors front, Parking assist system sensors rear, Split rear seats, Start-stop system]                                                                                                                                                            1\n",
       "[Air conditioning, Armrest, Automatic climate control, Cruise control, Electrical side mirrors, Electric tailgate, Heads-up display, Hill Holder, Keyless central door lock, Leather steering wheel, Light sensor, Multi-function steering wheel, Navigation system, Park Distance Control, Parking assist system sensors front, Parking assist system sensors rear, Power windows, Rain sensor, Seat heating, Split rear seats, Start-stop system]    1\n",
       "[Air conditioning, Armrest, Automatic climate control, Cruise control, Electrical side mirrors, Electric tailgate, Hill Holder, Leather steering wheel, Light sensor, Lumbar support, Multi-function steering wheel, Park Distance Control, Parking assist system sensors front, Parking assist system sensors rear, Power windows, Rain sensor, Seat heating, Split rear seats, Start-stop system, Tinted windows]                                    1\n",
       "[Air conditioning, Automatic climate control, Cruise control, Hill Holder, Leather steering wheel, Light sensor, Lumbar support, Multi-function steering wheel, Navigation system, Park Distance Control, Parking assist system sensors rear, Power windows, Rain sensor]                                                                                                                                                                              1\n",
       "[Air conditioning, Automatic climate control, Cruise control, Electrically adjustable seats, Electrical side mirrors, Multi-function steering wheel, Navigation system, Park Distance Control, Parking assist system camera, Parking assist system self-steering, Parking assist system sensors front, Parking assist system sensors rear, Power windows, Seat heating]                                                                                1\n",
       "[Air conditioning, Armrest, Automatic climate control, Cruise control, Electrically adjustable seats, Electrically heated windshield, Electrical side mirrors, Leather steering wheel, Lumbar support, Multi-function steering wheel, Navigation system, Park Distance Control, Parking assist system sensors rear, Power windows, Seat heating, Start-stop system]                                                                                    1\n",
       "[Air conditioning, Cruise control, Electrical side mirrors, Hill Holder, Leather steering wheel, Navigation system, Park Distance Control, Parking assist system sensors front, Parking assist system sensors rear, Power windows, Seat heating, Start-stop system]                                                                                                                                                                                    1\n",
       "[Air conditioning, Electrical side mirrors, Light sensor, Navigation system, Parking assist system sensors front, Parking assist system sensors rear, Power windows, Rain sensor, Seat heating, Split rear seats, Start-stop system]                                                                                                                                                                                                                   1\n",
       "[Air conditioning, Armrest, Automatic climate control, Cruise control, Electrical side mirrors, Navigation system, Power windows, Seat heating]                                                                                                                                                                                                                                                                                                        1\n",
       "[Air conditioning, Armrest, Cruise control, Electrically adjustable seats, Electrically heated windshield, Electrical side mirrors, Electric tailgate, Keyless central door lock, Leather steering wheel, Multi-function steering wheel, Navigation system, Park Distance Control, Power windows, Start-stop system]                                                                                                                                   1\n",
       "[Air conditioning, Armrest, Automatic climate control, Hill Holder, Multi-function steering wheel, Navigation system, Panorama roof, Park Distance Control, Parking assist system sensors front, Parking assist system sensors rear, Power windows, Start-stop system, Sunroof]                                                                                                                                                                        1\n",
       "[Air conditioning, Cruise control, Electrical side mirrors, Keyless central door lock, Light sensor, Multi-function steering wheel, Navigation system, Park Distance Control, Parking assist system camera, Power windows, Rain sensor, Seat heating]                                                                                                                                                                                                  1\n",
       "[Air conditioning, Cruise control, Electrical side mirrors, Multi-function steering wheel, Power windows, Seat heating]                                                                                                                                                                                                                                                                                                                                1\n",
       "[Air conditioning, Automatic climate control, Cruise control, Electrical side mirrors, Hill Holder, Leather steering wheel, Light sensor, Navigation system, Park Distance Control, Parking assist system sensors rear, Power windows, Rain sensor, Split rear seats, Start-stop system]                                                                                                                                                               1\n",
       "[Air conditioning, Armrest, Automatic climate control, Cruise control, Electrically adjustable seats, Electrical side mirrors, Electric tailgate, Leather steering wheel, Light sensor, Multi-function steering wheel, Park Distance Control, Parking assist system sensors front, Parking assist system sensors rear, Power windows, Rain sensor, Tinted windows]                                                                                     1\n",
       "[Air conditioning, Automatic climate control, Cruise control, Electrical side mirrors, Leather steering wheel, Multi-function steering wheel, Navigation system, Park Distance Control, Parking assist system sensors rear, Power windows, Start-stop system]                                                                                                                                                                                          1\n",
       "[Air conditioning, Armrest, Automatic climate control, Cruise control, Electrical side mirrors, Hill Holder, Leather steering wheel, Lumbar support, Multi-function steering wheel, Navigation system, Park Distance Control, Parking assist system sensors front, Parking assist system sensors rear, Power windows, Rain sensor, Split rear seats]                                                                                                   1\n",
       "[Armrest, Cruise control, Electrical side mirrors, Leather steering wheel, Light sensor, Multi-function steering wheel, Navigation system, Parking assist system sensors rear, Power windows, Rain sensor, Seat heating, Split rear seats, Start-stop system]                                                                                                                                                                                          1\n",
       "[Air conditioning, Armrest, Automatic climate control, Cruise control, Electrically adjustable seats, Electrical side mirrors, Leather steering wheel, Light sensor, Lumbar support, Multi-function steering wheel, Navigation system, Power windows, Rain sensor, Split rear seats, Start-stop system, Tinted windows]                                                                                                                                1\n",
       "[Air conditioning, Electrical side mirrors, Hill Holder, Leather steering wheel, Multi-function steering wheel, Split rear seats, Start-stop system]                                                                                                                                                                                                                                                                                                   1\n",
       "[Air conditioning, Armrest, Automatic climate control, Cruise control, Electrical side mirrors, Leather steering wheel, Light sensor, Multi-function steering wheel, Navigation system, Panorama roof, Park Distance Control, Parking assist system sensors rear, Power windows, Rain sensor, Seat heating, Split rear seats, Start-stop system, Sunroof, Tinted windows]                                                                              1\n",
       "[Air conditioning, Armrest, Automatic climate control, Cruise control, Leather steering wheel, Multi-function steering wheel, Navigation system, Park Distance Control, Parking assist system sensors rear, Power windows, Tinted windows]                                                                                                                                                                                                             1\n",
       "[Cruise control, Heads-up display, Navigation system]                                                                                                                                                                                                                                                                                                                                                                                                  1\n",
       "[Air conditioning, Auxiliary heating, Cruise control, Electrical side mirrors, Hill Holder, Light sensor, Multi-function steering wheel, Park Distance Control, Parking assist system sensors rear, Power windows, Start-stop system]                                                                                                                                                                                                                  1\n",
       "[Air conditioning, Armrest, Automatic climate control, Cruise control, Electrical side mirrors, Leather steering wheel, Light sensor, Multi-function steering wheel, Navigation system, Park Distance Control, Parking assist system self-steering, Parking assist system sensors front, Parking assist system sensors rear, Power windows, Rain sensor, Start-stop system, Tinted windows]                                                            1\n",
       "[Air conditioning, Automatic climate control, Electrical side mirrors, Leather steering wheel, Light sensor, Multi-function steering wheel, Park Distance Control, Parking assist system sensors front, Parking assist system sensors rear, Power windows, Rain sensor, Split rear seats, Start-stop system]                                                                                                                                           1\n",
       "[Air conditioning, Armrest, Leather steering wheel, Parking assist system camera, Power windows, Rain sensor, Seat ventilation, Start-stop system]                                                                                                                                                                                                                                                                                                     1\n",
       "[Air conditioning, Automatic climate control, Cruise control, Navigation system, Park Distance Control, Parking assist system sensors front, Parking assist system sensors rear, Power windows, Rain sensor, Seat heating, Start-stop system, Tinted windows]                                                                                                                                                                                          1\n",
       "[Air conditioning, Armrest, Automatic climate control, Cruise control, Leather steering wheel, Lumbar support, Multi-function steering wheel, Navigation system, Park Distance Control, Parking assist system sensors rear, Power windows, Rain sensor]                                                                                                                                                                                                1\n",
       "[Air conditioning, Armrest, Automatic climate control, Cruise control, Electrical side mirrors, Heated steering wheel, Hill Holder, Leather steering wheel, Multi-function steering wheel, Park Distance Control, Parking assist system sensors front, Parking assist system sensors rear, Power windows, Seat heating]                                                                                                                                1\n",
       "[Air conditioning, Multi-function steering wheel, Parking assist system sensors front, Parking assist system sensors rear, Power windows, Seat ventilation, Split rear seats]                                                                                                                                                                                                                                                                          1\n",
       "[Air conditioning, Armrest, Automatic climate control, Cruise control, Electrical side mirrors, Electric tailgate, Leather steering wheel, Light sensor, Multi-function steering wheel, Navigation system, Park Distance Control, Parking assist system camera, Parking assist system sensors front, Parking assist system sensors rear, Power windows, Rain sensor, Seat heating]                                                                     1\n",
       "[Air conditioning, Armrest, Automatic climate control, Cruise control, Electrically heated windshield, Electrical side mirrors, Hill Holder, Leather steering wheel, Light sensor, Multi-function steering wheel, Navigation system, Park Distance Control, Parking assist system sensors front, Parking assist system sensors rear, Power windows, Rain sensor, Seat ventilation, Split rear seats, Wind deflector]                                   1\n",
       "[Air conditioning, Armrest, Cruise control, Electrical side mirrors, Heads-up display, Leather steering wheel, Light sensor, Multi-function steering wheel, Park Distance Control, Parking assist system sensors front, Parking assist system sensors rear, Power windows, Rain sensor, Split rear seats]                                                                                                                                              1\n",
       "[Air conditioning, Armrest, Automatic climate control, Cruise control, Electrical side mirrors, Keyless central door lock, Leather steering wheel, Light sensor, Multi-function steering wheel, Navigation system, Panorama roof, Park Distance Control, Parking assist system sensors front, Parking assist system sensors rear, Power windows, Rain sensor, Split rear seats, Tinted windows]                                                        1\n",
       "[Air conditioning, Armrest, Automatic climate control, Cruise control, Electrical side mirrors, Light sensor, Multi-function steering wheel, Navigation system, Park Distance Control, Parking assist system sensors front, Parking assist system sensors rear, Power windows, Rain sensor, Split rear seats, Start-stop system]                                                                                                                       1\n",
       "[Air conditioning, Cruise control, Hill Holder, Navigation system, Park Distance Control, Parking assist system sensors rear, Rain sensor]                                                                                                                                                                                                                                                                                                             1\n",
       "[Air conditioning, Armrest, Automatic climate control, Cruise control, Electrically heated windshield, Electrical side mirrors, Hill Holder, Leather steering wheel, Light sensor, Multi-function steering wheel, Navigation system, Park Distance Control, Parking assist system sensors front, Parking assist system sensors rear, Power windows, Rain sensor, Seat ventilation, Split rear seats]                                                   1\n",
       "[Air conditioning, Armrest, Automatic climate control, Cruise control, Heated steering wheel, Leather steering wheel, Light sensor, Multi-function steering wheel, Navigation system, Park Distance Control, Parking assist system sensors front, Parking assist system sensors rear, Power windows, Rain sensor, Seat heating]                                                                                                                        1\n",
       "[Air conditioning, Armrest, Automatic climate control, Cruise control, Electrically adjustable seats, Electrical side mirrors, Leather steering wheel, Multi-function steering wheel, Navigation system, Park Distance Control, Parking assist system camera, Parking assist system sensors front, Parking assist system sensors rear, Power windows, Rain sensor, Start-stop system]                                                                  1\n",
       "[Air conditioning, Armrest, Cruise control, Electrical side mirrors, Hill Holder, Leather steering wheel, Multi-function steering wheel, Power windows, Seat heating]                                                                                                                                                                                                                                                                                  1\n",
       "[Air conditioning, Armrest, Automatic climate control, Cruise control, Electrical side mirrors, Keyless central door lock, Leather steering wheel, Light sensor, Multi-function steering wheel, Navigation system, Park Distance Control, Parking assist system camera, Parking assist system sensors rear, Power windows, Rain sensor, Seat heating, Start-stop system]                                                                               1\n",
       "[Air conditioning, Automatic climate control, Cruise control, Electrical side mirrors, Leather steering wheel, Light sensor, Multi-function steering wheel, Navigation system, Park Distance Control, Parking assist system sensors rear, Power windows, Rain sensor, Seat heating]                                                                                                                                                                    1\n",
       "[Air conditioning, Cruise control, Electrical side mirrors, Hill Holder, Keyless central door lock, Multi-function steering wheel, Navigation system, Power windows, Start-stop system]                                                                                                                                                                                                                                                                1\n",
       "[Air conditioning, Armrest, Automatic climate control, Cruise control, Leather steering wheel, Lumbar support, Multi-function steering wheel, Navigation system, Park Distance Control, Parking assist system sensors front, Parking assist system sensors rear, Power windows, Rain sensor]                                                                                                                                                           1\n",
       "[Air conditioning, Armrest, Automatic climate control, Electrical side mirrors, Hill Holder, Keyless central door lock, Leather steering wheel, Light sensor, Park Distance Control, Parking assist system sensors rear, Power windows, Rain sensor]                                                                                                                                                                                                   1\n",
       "[Air conditioning, Automatic climate control, Cruise control, Electrical side mirrors, Leather steering wheel, Light sensor, Multi-function steering wheel, Navigation system, Park Distance Control, Parking assist system sensors rear, Power windows, Rain sensor, Start-stop system]                                                                                                                                                               1\n",
       "[Air conditioning, Armrest, Cruise control, Electrical side mirrors, Leather steering wheel, Light sensor, Multi-function steering wheel, Park Distance Control, Parking assist system camera, Parking assist system sensors front, Parking assist system sensors rear, Power windows, Rain sensor, Seat heating, Start-stop system]                                                                                                                   1\n",
       "[Air conditioning, Armrest, Automatic climate control, Auxiliary heating, Electrical side mirrors, Leather steering wheel, Light sensor, Multi-function steering wheel, Navigation system, Park Distance Control, Parking assist system sensors front, Parking assist system sensors rear, Power windows, Seat heating]                                                                                                                                1\n",
       "Name: \\nComfort & Convenience\\n, dtype: int64"
      ]
     },
     "execution_count": 86,
     "metadata": {},
     "output_type": "execute_result"
    }
   ],
   "source": [
    "oto['\\nComfort & Convenience\\n'].value_counts(dropna = False).tail(50)"
   ]
  },
  {
   "cell_type": "markdown",
   "metadata": {},
   "source": [
    "> ### May be this column contains the most important data for prediction of the price.\n",
    "> ### Because there are some variables that have list in list, so we have to see all 'combined' values the variables have. \n",
    "> ### We have to examine the unique values. We produce two function to do that.  First we convert ``NaN`` values to empty list than combine all values using ``set().update()`` syntax."
   ]
  },
  {
   "cell_type": "code",
   "execution_count": 89,
   "metadata": {},
   "outputs": [],
   "source": [
    "# We can't operate with NaNs. We have to examine the unique values of this column.\n",
    "\n",
    "#uni = set()\n",
    "#uni.update(np.nan)\n",
    "#uni.update([\"a\", \"b\", \"a\"])\n",
    "#list(uni)"
   ]
  },
  {
   "cell_type": "code",
   "execution_count": 123,
   "metadata": {},
   "outputs": [],
   "source": [
    "# The new version of this data is a string. We have to convert its elments backto the list type.\n",
    "# In order to use .get_dummies() method, we have to do that.\n",
    "\n",
    "#oto['Comfort&Convenience'][0]"
   ]
  },
  {
   "cell_type": "markdown",
   "metadata": {},
   "source": [
    "- **Defining a Function**"
   ]
  },
  {
   "cell_type": "code",
   "execution_count": 94,
   "metadata": {},
   "outputs": [],
   "source": [
    "def unique_values(data, column_name):\n",
    "    unique_vals = set()\n",
    "    for rows in data[column_name]:\n",
    "        unique_vals.update(rows)\n",
    "    return list(unique_vals)"
   ]
  },
  {
   "cell_type": "code",
   "execution_count": 91,
   "metadata": {},
   "outputs": [],
   "source": [
    "nans = oto['\\nComfort & Convenience\\n'].isnull()"
   ]
  },
  {
   "cell_type": "code",
   "execution_count": 92,
   "metadata": {},
   "outputs": [
    {
     "data": {
      "text/plain": [
       "9        NaN\n",
       "30       NaN\n",
       "53       NaN\n",
       "168      NaN\n",
       "191      NaN\n",
       "        ... \n",
       "15791    NaN\n",
       "15804    NaN\n",
       "15805    NaN\n",
       "15854    NaN\n",
       "15864    NaN\n",
       "Name: \\nComfort & Convenience\\n, Length: 920, dtype: object"
      ]
     },
     "execution_count": 92,
     "metadata": {},
     "output_type": "execute_result"
    }
   ],
   "source": [
    "oto.loc[nans, '\\nComfort & Convenience\\n']"
   ]
  },
  {
   "cell_type": "code",
   "execution_count": 96,
   "metadata": {},
   "outputs": [],
   "source": [
    "def Nan_to_list(data, column_name):\n",
    "    NaN_rows = data[column_name].isnull()\n",
    "    data.loc[NaN_rows, column_name] = data.loc[NaN_rows, column_name].apply(lambda x : [])"
   ]
  },
  {
   "cell_type": "code",
   "execution_count": 97,
   "metadata": {},
   "outputs": [
    {
     "data": {
      "text/plain": [
       "['Keyless central door lock',\n",
       " 'Windshield',\n",
       " 'Parking assist system camera',\n",
       " 'Air conditioning',\n",
       " 'Electrically heated windshield',\n",
       " 'Rain sensor',\n",
       " 'Power windows',\n",
       " 'Electric tailgate',\n",
       " 'Armrest',\n",
       " 'Electrically adjustable seats',\n",
       " 'Multi-function steering wheel',\n",
       " 'Panorama roof',\n",
       " 'Electric Starter',\n",
       " 'Navigation system',\n",
       " 'Split rear seats',\n",
       " 'Hill Holder',\n",
       " 'Heated steering wheel',\n",
       " 'Sunroof',\n",
       " 'Air suspension',\n",
       " 'Parking assist system self-steering',\n",
       " 'Seat heating',\n",
       " 'Parking assist system sensors front',\n",
       " 'Leather steering wheel',\n",
       " 'Tinted windows',\n",
       " 'Light sensor',\n",
       " 'Leather seats',\n",
       " 'Automatic climate control',\n",
       " 'Auxiliary heating',\n",
       " 'Cruise control',\n",
       " 'Start-stop system',\n",
       " 'Lumbar support',\n",
       " 'Heads-up display',\n",
       " 'Massage seats',\n",
       " 'Seat ventilation',\n",
       " 'Parking assist system sensors rear',\n",
       " 'Electrical side mirrors',\n",
       " 'Park Distance Control',\n",
       " 'Wind deflector']"
      ]
     },
     "execution_count": 97,
     "metadata": {},
     "output_type": "execute_result"
    }
   ],
   "source": [
    "Nan_to_list(oto, '\\nComfort & Convenience\\n')\n",
    "unique_values(oto, '\\nComfort & Convenience\\n')"
   ]
  },
  {
   "cell_type": "code",
   "execution_count": 98,
   "metadata": {},
   "outputs": [],
   "source": [
    "nxtins_list = [\",\".join(item).strip() if type(item) == list else item for item in oto['\\nComfort & Convenience\\n']]"
   ]
  },
  {
   "cell_type": "code",
   "execution_count": 99,
   "metadata": {},
   "outputs": [],
   "source": [
    "oto[\"Comfort&Convenience\"] = pd.DataFrame(nxtins_list)"
   ]
  },
  {
   "cell_type": "code",
   "execution_count": 100,
   "metadata": {},
   "outputs": [
    {
     "data": {
      "text/plain": [
       "                                                                                                                                                                                                                                                                                                                                                                                                                                                                     920\n",
       "Air conditioning,Electrical side mirrors,Hill Holder,Power windows                                                                                                                                                                                                                                                                                                                                                                                                   216\n",
       "Air conditioning,Electrical side mirrors,Power windows                                                                                                                                                                                                                                                                                                                                                                                                               134\n",
       "Air conditioning,Power windows                                                                                                                                                                                                                                                                                                                                                                                                                                       130\n",
       "Air conditioning,Armrest,Automatic climate control,Cruise control,Electrical side mirrors,Leather steering wheel,Light sensor,Lumbar support,Multi-function steering wheel,Navigation system,Park Distance Control,Parking assist system sensors front,Parking assist system sensors rear,Power windows,Rain sensor,Seat heating,Start-stop system                                                                                                                   105\n",
       "                                                                                                                                                                                                                                                                                                                                                                                                                                                                    ... \n",
       "Air conditioning,Armrest,Automatic climate control,Cruise control,Electrically heated windshield,Electrical side mirrors,Hill Holder,Leather steering wheel,Lumbar support,Multi-function steering wheel,Navigation system,Park Distance Control,Parking assist system camera,Parking assist system self-steering,Power windows,Rain sensor,Seat heating,Split rear seats,Start-stop system,Sunroof,Tinted windows                                                     1\n",
       "Air conditioning,Armrest,Automatic climate control,Cruise control,Electrical side mirrors,Electric tailgate,Leather steering wheel,Light sensor,Multi-function steering wheel,Navigation system,Power windows,Rain sensor,Start-stop system                                                                                                                                                                                                                            1\n",
       "Air conditioning,Automatic climate control,Cruise control,Navigation system,Park Distance Control,Parking assist system camera,Parking assist system sensors rear,Power windows,Rain sensor,Start-stop system,Tinted windows                                                                                                                                                                                                                                           1\n",
       "Air conditioning,Armrest,Automatic climate control,Cruise control,Electrical side mirrors,Heads-up display,Hill Holder,Leather steering wheel,Light sensor,Lumbar support,Multi-function steering wheel,Navigation system,Park Distance Control,Parking assist system camera,Parking assist system self-steering,Parking assist system sensors front,Parking assist system sensors rear,Power windows,Rain sensor,Seat heating,Split rear seats,Start-stop system      1\n",
       "Air conditioning,Automatic climate control,Electrical side mirrors,Multi-function steering wheel,Navigation system,Park Distance Control,Parking assist system sensors front,Parking assist system sensors rear,Power windows,Start-stop system                                                                                                                                                                                                                        1\n",
       "Name: Comfort&Convenience, Length: 6199, dtype: int64"
      ]
     },
     "execution_count": 100,
     "metadata": {},
     "output_type": "execute_result"
    }
   ],
   "source": [
    "oto['Comfort&Convenience'].value_counts(dropna=False)"
   ]
  },
  {
   "cell_type": "code",
   "execution_count": 103,
   "metadata": {},
   "outputs": [
    {
     "data": {
      "text/html": [
       "<div>\n",
       "<style scoped>\n",
       "    .dataframe tbody tr th:only-of-type {\n",
       "        vertical-align: middle;\n",
       "    }\n",
       "\n",
       "    .dataframe tbody tr th {\n",
       "        vertical-align: top;\n",
       "    }\n",
       "\n",
       "    .dataframe thead th {\n",
       "        text-align: right;\n",
       "    }\n",
       "</style>\n",
       "<table border=\"1\" class=\"dataframe\">\n",
       "  <thead>\n",
       "    <tr style=\"text-align: right;\">\n",
       "      <th></th>\n",
       "      <th>url</th>\n",
       "      <th>make_model</th>\n",
       "      <th>short_description</th>\n",
       "      <th>body_type</th>\n",
       "      <th>price</th>\n",
       "      <th>vat</th>\n",
       "      <th>km</th>\n",
       "      <th>registration</th>\n",
       "      <th>hp</th>\n",
       "      <th>Type</th>\n",
       "      <th>Previous Owners</th>\n",
       "      <th>Next Inspection</th>\n",
       "      <th>Inspection new</th>\n",
       "      <th>Warranty</th>\n",
       "      <th>null</th>\n",
       "      <th>Make</th>\n",
       "      <th>Model</th>\n",
       "      <th>Offer Number</th>\n",
       "      <th>First Registration</th>\n",
       "      <th>Body Color</th>\n",
       "      <th>Paint Type</th>\n",
       "      <th>Body Color Original</th>\n",
       "      <th>Upholstery</th>\n",
       "      <th>Nr. of Doors</th>\n",
       "      <th>Nr. of Seats</th>\n",
       "      <th>Model Code</th>\n",
       "      <th>Gearing Type</th>\n",
       "      <th>Displacement</th>\n",
       "      <th>Cylinders</th>\n",
       "      <th>Drive chain</th>\n",
       "      <th>Fuel</th>\n",
       "      <th>Consumption</th>\n",
       "      <th>CO2 Emission</th>\n",
       "      <th>Emission Class</th>\n",
       "      <th>\\nComfort &amp; Convenience\\n</th>\n",
       "      <th>\\nEntertainment &amp; Media\\n</th>\n",
       "      <th>\\nExtras\\n</th>\n",
       "      <th>\\nSafety &amp; Security\\n</th>\n",
       "      <th>description</th>\n",
       "      <th>Emission Label</th>\n",
       "      <th>Gears</th>\n",
       "      <th>Country version</th>\n",
       "      <th>Previous_Owner1</th>\n",
       "      <th>Previous_Owner</th>\n",
       "      <th>Inspection_New_Bool</th>\n",
       "      <th>next_inspection</th>\n",
       "      <th>paint_type</th>\n",
       "      <th>country</th>\n",
       "      <th>emission_label</th>\n",
       "      <th>Comfort&amp;Convenience</th>\n",
       "    </tr>\n",
       "  </thead>\n",
       "  <tbody>\n",
       "    <tr>\n",
       "      <th>9</th>\n",
       "      <td>https://www.autoscout24.com//offers/audi-a1-sportback-tfsi-ultra-95-s-tronic-amb-gasoline-white-e2c49a42-6aaa-4039-9af1-7546a20c110e</td>\n",
       "      <td>Audi A1</td>\n",
       "      <td>SPORTBACK TFSI ULTRA 95 S-TRONIC AMB.</td>\n",
       "      <td>Sedans</td>\n",
       "      <td>17990</td>\n",
       "      <td>None</td>\n",
       "      <td>16,103 km</td>\n",
       "      <td>06/2017</td>\n",
       "      <td>70 kW</td>\n",
       "      <td>[, Used, , Gasoline]</td>\n",
       "      <td>NaN</td>\n",
       "      <td>NaN</td>\n",
       "      <td>NaN</td>\n",
       "      <td>\\n3 months\\n</td>\n",
       "      <td>[]</td>\n",
       "      <td>\\nAudi\\n</td>\n",
       "      <td>[\\n, A1, \\n]</td>\n",
       "      <td>NaN</td>\n",
       "      <td>[\\n, 2017, \\n]</td>\n",
       "      <td>[\\n, White, \\n]</td>\n",
       "      <td>NaN</td>\n",
       "      <td>[\\nBlanc\\n]</td>\n",
       "      <td>NaN</td>\n",
       "      <td>[\\n5\\n]</td>\n",
       "      <td>[\\n4\\n]</td>\n",
       "      <td>NaN</td>\n",
       "      <td>[\\n, Automatic, \\n]</td>\n",
       "      <td>[\\n999 cc\\n]</td>\n",
       "      <td>NaN</td>\n",
       "      <td>NaN</td>\n",
       "      <td>[\\n, Gasoline, \\n]</td>\n",
       "      <td>NaN</td>\n",
       "      <td>NaN</td>\n",
       "      <td>NaN</td>\n",
       "      <td>[]</td>\n",
       "      <td>NaN</td>\n",
       "      <td>NaN</td>\n",
       "      <td>NaN</td>\n",
       "      <td>[\\nClim automatique,Ecran multifonction couleur,Capteur de pluie,Capteur de luminosité,Contrôle élect. de la pression des pneus,Régulateur de vitesse,EBD,ESP,8 Haut parleurs,ABS,Airbag conducteur,Airbag passager,Airbags latéraux avant,Airbags rideaux AV et AR,Antidémarrage électronique,Antipatinage,Appui-tête conducteur réglable hauteur,Appui-tête passager réglable en hauteur,Arrêt et redémarrage auto. du moteur,Bacs de portes avant,Banquette 1/3-2/3,Banquette AR rabattable,Boite à gant ferm...</td>\n",
       "      <td>NaN</td>\n",
       "      <td>[\\n7\\n]</td>\n",
       "      <td>NaN</td>\n",
       "      <td>NaN</td>\n",
       "      <td>1</td>\n",
       "      <td>0</td>\n",
       "      <td>NaT</td>\n",
       "      <td>NaN</td>\n",
       "      <td>NaN</td>\n",
       "      <td>NaN</td>\n",
       "      <td></td>\n",
       "    </tr>\n",
       "    <tr>\n",
       "      <th>30</th>\n",
       "      <td>https://www.autoscout24.com//offers/audi-a1-sportback-1-4tdi-attraction-diesel-black-be5e7705-5e6e-4ca0-a7df-fc6153d6e384</td>\n",
       "      <td>Audi A1</td>\n",
       "      <td>Sportback 1.4TDI Attraction</td>\n",
       "      <td>Compact</td>\n",
       "      <td>11290</td>\n",
       "      <td>None</td>\n",
       "      <td>38,400 km</td>\n",
       "      <td>06/2016</td>\n",
       "      <td>66 kW</td>\n",
       "      <td>[, Used, , Diesel]</td>\n",
       "      <td>NaN</td>\n",
       "      <td>NaN</td>\n",
       "      <td>NaN</td>\n",
       "      <td>\\n12 months\\n</td>\n",
       "      <td>[]</td>\n",
       "      <td>\\nAudi\\n</td>\n",
       "      <td>[\\n, A1, \\n]</td>\n",
       "      <td>[\\n2780690\\n]</td>\n",
       "      <td>[\\n, 2016, \\n]</td>\n",
       "      <td>[\\n, Black, \\n]</td>\n",
       "      <td>NaN</td>\n",
       "      <td>[\\nNegro\\n]</td>\n",
       "      <td>NaN</td>\n",
       "      <td>[\\n5\\n]</td>\n",
       "      <td>[\\n5\\n]</td>\n",
       "      <td>NaN</td>\n",
       "      <td>[\\n, Manual, \\n]</td>\n",
       "      <td>[\\n1,422 cc\\n]</td>\n",
       "      <td>3</td>\n",
       "      <td>[\\nfront\\n]</td>\n",
       "      <td>[\\n, Diesel, \\n]</td>\n",
       "      <td>[[3 l/100 km (comb)], [3 l/100 km (city)], [3 l/100 km (country)]]</td>\n",
       "      <td>NaN</td>\n",
       "      <td>NaN</td>\n",
       "      <td>[]</td>\n",
       "      <td>NaN</td>\n",
       "      <td>NaN</td>\n",
       "      <td>NaN</td>\n",
       "      <td>[\\nVEHÍCULO NACIONAL, PROCEDE DE CONCESIONARIO OFICIAL , KMTS CERTIFICADOS CON LIBRO DE REVISIONES EN CONCESIONARIO OFICIAL, MUY BUEN ESTADO GENERAL Y MECANICO (21% IVA INCLUIDO EN EL PRECIO), AUX, SROP&amp;GO, 5 PLAZAS, CIERRE CENTRALIZADO , ESPEJOS AUT..., ACEPTAMOS VEHICULO COMO PAGO , GESTIONAMOS SU FINANCIACION , GARANTIA MECANICA 12 MESES INCLUIDA, CAMBIO DE TITULAR +190 €, Este anuncio tiene caracter informarivo, puede contener errores, no tiene valor contractual.,  , Detalles de la finan...</td>\n",
       "      <td>NaN</td>\n",
       "      <td>[\\n5\\n]</td>\n",
       "      <td>NaN</td>\n",
       "      <td>NaN</td>\n",
       "      <td>1</td>\n",
       "      <td>0</td>\n",
       "      <td>NaT</td>\n",
       "      <td>NaN</td>\n",
       "      <td>NaN</td>\n",
       "      <td>NaN</td>\n",
       "      <td></td>\n",
       "    </tr>\n",
       "    <tr>\n",
       "      <th>53</th>\n",
       "      <td>https://www.autoscout24.com//offers/audi-a1-sportback-1-6tdi-attraction-diesel-black-7ca7c3ad-80da-440a-b166-3766bda27464</td>\n",
       "      <td>Audi A1</td>\n",
       "      <td>Sportback 1.6TDI Attraction</td>\n",
       "      <td>Compact</td>\n",
       "      <td>11100</td>\n",
       "      <td>None</td>\n",
       "      <td>111,670 km</td>\n",
       "      <td>06/2016</td>\n",
       "      <td>85 kW</td>\n",
       "      <td>[, Used, , Diesel]</td>\n",
       "      <td>NaN</td>\n",
       "      <td>NaN</td>\n",
       "      <td>NaN</td>\n",
       "      <td>\\n12 months\\n</td>\n",
       "      <td>[]</td>\n",
       "      <td>\\nAudi\\n</td>\n",
       "      <td>[\\n, A1, \\n]</td>\n",
       "      <td>[\\n2902210\\n]</td>\n",
       "      <td>[\\n, 2016, \\n]</td>\n",
       "      <td>[\\n, Black, \\n]</td>\n",
       "      <td>NaN</td>\n",
       "      <td>[\\nNegro\\n]</td>\n",
       "      <td>NaN</td>\n",
       "      <td>[\\n5\\n]</td>\n",
       "      <td>[\\n5\\n]</td>\n",
       "      <td>NaN</td>\n",
       "      <td>[\\n, Manual, \\n]</td>\n",
       "      <td>[\\n1,598 cc\\n]</td>\n",
       "      <td>4</td>\n",
       "      <td>[\\nfront\\n]</td>\n",
       "      <td>[\\n, Diesel, \\n]</td>\n",
       "      <td>[[3 l/100 km (comb)], [4 l/100 km (city)], [3 l/100 km (country)]]</td>\n",
       "      <td>NaN</td>\n",
       "      <td>NaN</td>\n",
       "      <td>[]</td>\n",
       "      <td>NaN</td>\n",
       "      <td>NaN</td>\n",
       "      <td>NaN</td>\n",
       "      <td>[\\nEn Traverauto (Desde 1978,Opel desde 1986), Te damos precios llave en mano, PAGA AL CONTADO 12.600 € , ! TE FINANCIAMOS DESDE 4'99% ¡, SI PREFIERES DESCUENTO ...FINANCIA: 11.100 € (desde 158 €/MES), En ambos casos tendrás incluido :, Coche en perfecto estado, 12 Meses Garantía Nacional sin límite de kms, 100% Revisado con aceite y filtros cambiados, Transferencia, Impuestos, Certificado kilometraje, Certificado de no siniestralidad, Te tasamos tu coche online, ENTREGA EN LA PUERTA DE TU C...</td>\n",
       "      <td>NaN</td>\n",
       "      <td>[\\n5\\n]</td>\n",
       "      <td>NaN</td>\n",
       "      <td>NaN</td>\n",
       "      <td>1</td>\n",
       "      <td>0</td>\n",
       "      <td>NaT</td>\n",
       "      <td>NaN</td>\n",
       "      <td>NaN</td>\n",
       "      <td>NaN</td>\n",
       "      <td></td>\n",
       "    </tr>\n",
       "    <tr>\n",
       "      <th>168</th>\n",
       "      <td>https://www.autoscout24.com//offers/audi-a1-spb-1-0-tfsi-ultra-s-tronic-admired-gasoline-blue-d7717886-d0b5-cb17-e053-e250040a03a9</td>\n",
       "      <td>Audi A1</td>\n",
       "      <td>SPB 1.0 TFSI ultra S tronic Admired</td>\n",
       "      <td>Sedans</td>\n",
       "      <td>17500</td>\n",
       "      <td>None</td>\n",
       "      <td>15,000 km</td>\n",
       "      <td>07/2017</td>\n",
       "      <td>70 kW</td>\n",
       "      <td>[, Used, , Gasoline]</td>\n",
       "      <td>NaN</td>\n",
       "      <td>NaN</td>\n",
       "      <td>NaN</td>\n",
       "      <td>NaN</td>\n",
       "      <td>[]</td>\n",
       "      <td>\\nAudi\\n</td>\n",
       "      <td>[\\n, A1, \\n]</td>\n",
       "      <td>NaN</td>\n",
       "      <td>[\\n, 2017, \\n]</td>\n",
       "      <td>[\\n, Blue, \\n]</td>\n",
       "      <td>NaN</td>\n",
       "      <td>NaN</td>\n",
       "      <td>NaN</td>\n",
       "      <td>[\\n5\\n]</td>\n",
       "      <td>[\\n4\\n]</td>\n",
       "      <td>NaN</td>\n",
       "      <td>[\\n, Automatic, \\n]</td>\n",
       "      <td>[\\n999 cc\\n]</td>\n",
       "      <td>3</td>\n",
       "      <td>NaN</td>\n",
       "      <td>[\\n, Gasoline, \\n]</td>\n",
       "      <td>[[4.4 l/100 km (comb)], [5.4 l/100 km (city)], [3.8 l/100 km (country)]]</td>\n",
       "      <td>[\\n102 g CO2/km (comb)\\n]</td>\n",
       "      <td>[\\nEuro 6\\n]</td>\n",
       "      <td>[]</td>\n",
       "      <td>NaN</td>\n",
       "      <td>[Alloy wheels]</td>\n",
       "      <td>NaN</td>\n",
       "      <td>[\\nFari a led e xenon , Bracciolo centrale anteriore, Navigatore, Cerchi da 17 extra , Ruote invernali da 16 con cerchi e gomme originali audi\\n]</td>\n",
       "      <td>NaN</td>\n",
       "      <td>[\\n7\\n]</td>\n",
       "      <td>NaN</td>\n",
       "      <td>NaN</td>\n",
       "      <td>1</td>\n",
       "      <td>0</td>\n",
       "      <td>NaT</td>\n",
       "      <td>NaN</td>\n",
       "      <td>NaN</td>\n",
       "      <td>NaN</td>\n",
       "      <td></td>\n",
       "    </tr>\n",
       "    <tr>\n",
       "      <th>191</th>\n",
       "      <td>https://www.autoscout24.com//offers/audi-a1-sportback-sportback-1-4-tdi-s-tronic-adrenalin2-diesel-grey-8bbc9cf9-2598-4f9b-a6cb-35e6d48c12b3</td>\n",
       "      <td>Audi A1</td>\n",
       "      <td>Sportback Sportback 1.4 TDI S tronic Adrenalin2</td>\n",
       "      <td>Compact</td>\n",
       "      <td>17900</td>\n",
       "      <td>None</td>\n",
       "      <td>11,300 km</td>\n",
       "      <td>11/2016</td>\n",
       "      <td>66 kW</td>\n",
       "      <td>[, Used, , Diesel]</td>\n",
       "      <td>NaN</td>\n",
       "      <td>NaN</td>\n",
       "      <td>NaN</td>\n",
       "      <td>\\n12 months\\n</td>\n",
       "      <td>[]</td>\n",
       "      <td>\\nAudi\\n</td>\n",
       "      <td>[\\n, A1, \\n]</td>\n",
       "      <td>[\\n174585\\n]</td>\n",
       "      <td>[\\n, 2016, \\n]</td>\n",
       "      <td>[\\n, Grey, \\n]</td>\n",
       "      <td>[\\nMetallic\\n]</td>\n",
       "      <td>[\\nGris Metalizado\\n]</td>\n",
       "      <td>NaN</td>\n",
       "      <td>[\\n5\\n]</td>\n",
       "      <td>[\\n4\\n]</td>\n",
       "      <td>NaN</td>\n",
       "      <td>[\\n, Automatic, \\n]</td>\n",
       "      <td>NaN</td>\n",
       "      <td>NaN</td>\n",
       "      <td>NaN</td>\n",
       "      <td>[\\n, Diesel, \\n]</td>\n",
       "      <td>NaN</td>\n",
       "      <td>NaN</td>\n",
       "      <td>NaN</td>\n",
       "      <td>[]</td>\n",
       "      <td>NaN</td>\n",
       "      <td>NaN</td>\n",
       "      <td>NaN</td>\n",
       "      <td>[\\n\\AUTOSI, La gran exposición del Vallés., Concesionarios Oficiales: Jeep, KIA, Alfa Romeo, Fiat y Abarth., Precio al contado: 16.900€, Precio financiado: 15.900€ (desde 243€/mes) financiando el 100%., Cambio de nombre: +325€, Vehículo revisado 100% por nuestro taller oficial., Aceptamos tu coche como parte de pago. IVA deducible. Entrega en la puerta de tu casa., Garantía propia 12 meses., Coche nacional con la certificación más completa del mercado, incluyendo kilometraje garantizado e hi...</td>\n",
       "      <td>NaN</td>\n",
       "      <td>[\\n7\\n]</td>\n",
       "      <td>NaN</td>\n",
       "      <td>NaN</td>\n",
       "      <td>1</td>\n",
       "      <td>0</td>\n",
       "      <td>NaT</td>\n",
       "      <td>Metallic</td>\n",
       "      <td>NaN</td>\n",
       "      <td>NaN</td>\n",
       "      <td></td>\n",
       "    </tr>\n",
       "    <tr>\n",
       "      <th>...</th>\n",
       "      <td>...</td>\n",
       "      <td>...</td>\n",
       "      <td>...</td>\n",
       "      <td>...</td>\n",
       "      <td>...</td>\n",
       "      <td>...</td>\n",
       "      <td>...</td>\n",
       "      <td>...</td>\n",
       "      <td>...</td>\n",
       "      <td>...</td>\n",
       "      <td>...</td>\n",
       "      <td>...</td>\n",
       "      <td>...</td>\n",
       "      <td>...</td>\n",
       "      <td>...</td>\n",
       "      <td>...</td>\n",
       "      <td>...</td>\n",
       "      <td>...</td>\n",
       "      <td>...</td>\n",
       "      <td>...</td>\n",
       "      <td>...</td>\n",
       "      <td>...</td>\n",
       "      <td>...</td>\n",
       "      <td>...</td>\n",
       "      <td>...</td>\n",
       "      <td>...</td>\n",
       "      <td>...</td>\n",
       "      <td>...</td>\n",
       "      <td>...</td>\n",
       "      <td>...</td>\n",
       "      <td>...</td>\n",
       "      <td>...</td>\n",
       "      <td>...</td>\n",
       "      <td>...</td>\n",
       "      <td>...</td>\n",
       "      <td>...</td>\n",
       "      <td>...</td>\n",
       "      <td>...</td>\n",
       "      <td>...</td>\n",
       "      <td>...</td>\n",
       "      <td>...</td>\n",
       "      <td>...</td>\n",
       "      <td>...</td>\n",
       "      <td>...</td>\n",
       "      <td>...</td>\n",
       "      <td>...</td>\n",
       "      <td>...</td>\n",
       "      <td>...</td>\n",
       "      <td>...</td>\n",
       "      <td>...</td>\n",
       "    </tr>\n",
       "    <tr>\n",
       "      <th>15791</th>\n",
       "      <td>https://www.autoscout24.com//offers/renault-espace-v-dci-160-energy-twin-turbo-diesel-grey-0559a598-97ea-42a9-94d8-ad86c545d631</td>\n",
       "      <td>Renault Espace</td>\n",
       "      <td>V dCi 160 Energy Twin Turbo</td>\n",
       "      <td>Van</td>\n",
       "      <td>33990</td>\n",
       "      <td>VAT deductible</td>\n",
       "      <td>10,803 km</td>\n",
       "      <td>05/2018</td>\n",
       "      <td>- kW</td>\n",
       "      <td>[, Used, , Diesel]</td>\n",
       "      <td>NaN</td>\n",
       "      <td>NaN</td>\n",
       "      <td>NaN</td>\n",
       "      <td>\\n12 months\\n</td>\n",
       "      <td>[]</td>\n",
       "      <td>\\nRenault\\n</td>\n",
       "      <td>[\\n, Espace, \\n]</td>\n",
       "      <td>[\\nVO003105\\n]</td>\n",
       "      <td>[\\n, 2018, \\n]</td>\n",
       "      <td>[\\n, Grey, \\n]</td>\n",
       "      <td>NaN</td>\n",
       "      <td>[\\ngris\\n]</td>\n",
       "      <td>NaN</td>\n",
       "      <td>[\\n5\\n]</td>\n",
       "      <td>NaN</td>\n",
       "      <td>NaN</td>\n",
       "      <td>[\\n, Automatic, \\n]</td>\n",
       "      <td>NaN</td>\n",
       "      <td>NaN</td>\n",
       "      <td>NaN</td>\n",
       "      <td>[\\n, Diesel, \\n]</td>\n",
       "      <td>[[4.6 l/100 km (comb)], [], []]</td>\n",
       "      <td>NaN</td>\n",
       "      <td>NaN</td>\n",
       "      <td>[]</td>\n",
       "      <td>NaN</td>\n",
       "      <td>NaN</td>\n",
       "      <td>NaN</td>\n",
       "      <td>[\\nV dCi 160 Energy Twin Turbo Initiale Paris EDC, diesel, gris, 04/05/2018, Peinture Gris Cassiopée, Roue de secours\\n]</td>\n",
       "      <td>NaN</td>\n",
       "      <td>NaN</td>\n",
       "      <td>NaN</td>\n",
       "      <td>NaN</td>\n",
       "      <td>1</td>\n",
       "      <td>0</td>\n",
       "      <td>NaT</td>\n",
       "      <td>NaN</td>\n",
       "      <td>NaN</td>\n",
       "      <td>NaN</td>\n",
       "      <td></td>\n",
       "    </tr>\n",
       "    <tr>\n",
       "      <th>15804</th>\n",
       "      <td>https://www.autoscout24.com//offers/renault-espace-initiale-paris-blue-dci-200-edc-diesel-blue-67d89e07-74b6-454e-b4fc-6c20716cb5cb</td>\n",
       "      <td>Renault Espace</td>\n",
       "      <td>Initiale Paris Blue dCi 200 EDC</td>\n",
       "      <td>Van</td>\n",
       "      <td>44500</td>\n",
       "      <td>None</td>\n",
       "      <td>9,000 km</td>\n",
       "      <td>03/2019</td>\n",
       "      <td>147 kW</td>\n",
       "      <td>[, Used, , Diesel]</td>\n",
       "      <td>NaN</td>\n",
       "      <td>NaN</td>\n",
       "      <td>NaN</td>\n",
       "      <td>NaN</td>\n",
       "      <td>[]</td>\n",
       "      <td>\\nRenault\\n</td>\n",
       "      <td>[\\n, Espace, \\n]</td>\n",
       "      <td>[\\nVN023381\\n]</td>\n",
       "      <td>[\\n, 2019, \\n]</td>\n",
       "      <td>[\\n, Blue, \\n]</td>\n",
       "      <td>NaN</td>\n",
       "      <td>[\\nbleu\\n]</td>\n",
       "      <td>NaN</td>\n",
       "      <td>[\\n5\\n]</td>\n",
       "      <td>[\\n7\\n]</td>\n",
       "      <td>NaN</td>\n",
       "      <td>[\\n, Automatic, \\n]</td>\n",
       "      <td>NaN</td>\n",
       "      <td>NaN</td>\n",
       "      <td>NaN</td>\n",
       "      <td>[\\n, Diesel, \\n]</td>\n",
       "      <td>NaN</td>\n",
       "      <td>[[], [], []]</td>\n",
       "      <td>NaN</td>\n",
       "      <td>[]</td>\n",
       "      <td>NaN</td>\n",
       "      <td>NaN</td>\n",
       "      <td>NaN</td>\n",
       "      <td>[\\nInitiale Paris Blue dCi 200 EDC, diesel, bleu, 22/03/2019, Peinture Bleu Cosmos, Pack 7 places\\n]</td>\n",
       "      <td>NaN</td>\n",
       "      <td>NaN</td>\n",
       "      <td>NaN</td>\n",
       "      <td>NaN</td>\n",
       "      <td>1</td>\n",
       "      <td>0</td>\n",
       "      <td>NaT</td>\n",
       "      <td>NaN</td>\n",
       "      <td>NaN</td>\n",
       "      <td>NaN</td>\n",
       "      <td></td>\n",
       "    </tr>\n",
       "    <tr>\n",
       "      <th>15805</th>\n",
       "      <td>https://www.autoscout24.com//offers/renault-espace-init-p-blue-dci-147kw-200cv-edc-18-leomotor-diesel-black-a38eb852-05ed-495d-8f3d-f001571f97ea</td>\n",
       "      <td>Renault Espace</td>\n",
       "      <td>Init. P. Blue dCi 147kW (200CV) EDC - 18 Leomotor</td>\n",
       "      <td>Compact</td>\n",
       "      <td>43000</td>\n",
       "      <td>None</td>\n",
       "      <td>1,000 km</td>\n",
       "      <td>03/2019</td>\n",
       "      <td>147 kW</td>\n",
       "      <td>[, Used, , Diesel]</td>\n",
       "      <td>NaN</td>\n",
       "      <td>NaN</td>\n",
       "      <td>NaN</td>\n",
       "      <td>\\n24 months\\n</td>\n",
       "      <td>[]</td>\n",
       "      <td>\\nRenault\\n</td>\n",
       "      <td>[\\n, Espace, \\n]</td>\n",
       "      <td>[\\n386482\\n]</td>\n",
       "      <td>[\\n, 2019, \\n]</td>\n",
       "      <td>[\\n, Black, \\n]</td>\n",
       "      <td>[\\nMetallic\\n]</td>\n",
       "      <td>[\\nNegro Amatista (metalizado esp\\n]</td>\n",
       "      <td>NaN</td>\n",
       "      <td>[\\n5\\n]</td>\n",
       "      <td>[\\n5\\n]</td>\n",
       "      <td>NaN</td>\n",
       "      <td>[\\n, Automatic, \\n]</td>\n",
       "      <td>NaN</td>\n",
       "      <td>NaN</td>\n",
       "      <td>NaN</td>\n",
       "      <td>[\\n, Diesel, \\n]</td>\n",
       "      <td>NaN</td>\n",
       "      <td>NaN</td>\n",
       "      <td>NaN</td>\n",
       "      <td>[]</td>\n",
       "      <td>NaN</td>\n",
       "      <td>NaN</td>\n",
       "      <td>NaN</td>\n",
       "      <td>[]</td>\n",
       "      <td>NaN</td>\n",
       "      <td>[\\n6\\n]</td>\n",
       "      <td>NaN</td>\n",
       "      <td>NaN</td>\n",
       "      <td>1</td>\n",
       "      <td>0</td>\n",
       "      <td>NaT</td>\n",
       "      <td>Metallic</td>\n",
       "      <td>NaN</td>\n",
       "      <td>NaN</td>\n",
       "      <td></td>\n",
       "    </tr>\n",
       "    <tr>\n",
       "      <th>15854</th>\n",
       "      <td>https://www.autoscout24.com//offers/renault-espace-2-0dci-tt-initiale-paris-blue-edc-147kw-diesel-fa37074f-8ae1-49cb-b593-cc1f08d17bae</td>\n",
       "      <td>Renault Espace</td>\n",
       "      <td>2.0dCi TT Initiale Paris Blue EDC 147kW</td>\n",
       "      <td>Van</td>\n",
       "      <td>43911</td>\n",
       "      <td>None</td>\n",
       "      <td>- km</td>\n",
       "      <td>-/-</td>\n",
       "      <td>147 kW</td>\n",
       "      <td>[, New, , Diesel]</td>\n",
       "      <td>NaN</td>\n",
       "      <td>NaN</td>\n",
       "      <td>NaN</td>\n",
       "      <td>NaN</td>\n",
       "      <td>[]</td>\n",
       "      <td>\\nRenault\\n</td>\n",
       "      <td>[\\n, Espace, \\n]</td>\n",
       "      <td>[\\n2504321\\n]</td>\n",
       "      <td>NaN</td>\n",
       "      <td>NaN</td>\n",
       "      <td>NaN</td>\n",
       "      <td>NaN</td>\n",
       "      <td>NaN</td>\n",
       "      <td>[\\n5\\n]</td>\n",
       "      <td>[\\n5\\n]</td>\n",
       "      <td>NaN</td>\n",
       "      <td>[\\n, Automatic, \\n]</td>\n",
       "      <td>[\\n1,997 cc\\n]</td>\n",
       "      <td>4</td>\n",
       "      <td>[\\nfront\\n]</td>\n",
       "      <td>[\\n, Diesel, \\n]</td>\n",
       "      <td>[[5 l/100 km (comb)], [5 l/100 km (city)], [4 l/100 km (country)]]</td>\n",
       "      <td>NaN</td>\n",
       "      <td>NaN</td>\n",
       "      <td>[]</td>\n",
       "      <td>NaN</td>\n",
       "      <td>NaN</td>\n",
       "      <td>NaN</td>\n",
       "      <td>[]</td>\n",
       "      <td>NaN</td>\n",
       "      <td>[\\n6\\n]</td>\n",
       "      <td>NaN</td>\n",
       "      <td>NaN</td>\n",
       "      <td>1</td>\n",
       "      <td>0</td>\n",
       "      <td>NaT</td>\n",
       "      <td>NaN</td>\n",
       "      <td>NaN</td>\n",
       "      <td>NaN</td>\n",
       "      <td></td>\n",
       "    </tr>\n",
       "    <tr>\n",
       "      <th>15864</th>\n",
       "      <td>https://www.autoscout24.com//offers/renault-espace-1-8-tce-gpf-initiale-paris-edc-gasoline-321bb168-821a-44b0-8784-958b10fa8ab7</td>\n",
       "      <td>Renault Espace</td>\n",
       "      <td>1.8 TCe GPF Initiale París EDC</td>\n",
       "      <td>Van</td>\n",
       "      <td>43315</td>\n",
       "      <td>None</td>\n",
       "      <td>- km</td>\n",
       "      <td>-/-</td>\n",
       "      <td>165 kW</td>\n",
       "      <td>[, New, , Gasoline]</td>\n",
       "      <td>NaN</td>\n",
       "      <td>NaN</td>\n",
       "      <td>NaN</td>\n",
       "      <td>NaN</td>\n",
       "      <td>[]</td>\n",
       "      <td>\\nRenault\\n</td>\n",
       "      <td>[\\n, Espace, \\n]</td>\n",
       "      <td>[\\n2447574\\n]</td>\n",
       "      <td>NaN</td>\n",
       "      <td>NaN</td>\n",
       "      <td>NaN</td>\n",
       "      <td>NaN</td>\n",
       "      <td>NaN</td>\n",
       "      <td>[\\n5\\n]</td>\n",
       "      <td>[\\n5\\n]</td>\n",
       "      <td>NaN</td>\n",
       "      <td>[\\n, Automatic, \\n]</td>\n",
       "      <td>[\\n1,798 cc\\n]</td>\n",
       "      <td>4</td>\n",
       "      <td>[\\nfront\\n]</td>\n",
       "      <td>[\\n, Gasoline, \\n]</td>\n",
       "      <td>[[6 l/100 km (comb)], [8 l/100 km (city)], [5 l/100 km (country)]]</td>\n",
       "      <td>NaN</td>\n",
       "      <td>NaN</td>\n",
       "      <td>[]</td>\n",
       "      <td>NaN</td>\n",
       "      <td>NaN</td>\n",
       "      <td>NaN</td>\n",
       "      <td>[]</td>\n",
       "      <td>NaN</td>\n",
       "      <td>[\\n7\\n]</td>\n",
       "      <td>NaN</td>\n",
       "      <td>NaN</td>\n",
       "      <td>1</td>\n",
       "      <td>0</td>\n",
       "      <td>NaT</td>\n",
       "      <td>NaN</td>\n",
       "      <td>NaN</td>\n",
       "      <td>NaN</td>\n",
       "      <td></td>\n",
       "    </tr>\n",
       "  </tbody>\n",
       "</table>\n",
       "<p>920 rows × 50 columns</p>\n",
       "</div>"
      ],
      "text/plain": [
       "                                                                                                                                                    url      make_model                                  short_description body_type  price             vat          km registration      hp                  Type Previous Owners Next Inspection Inspection new       Warranty null         Make             Model    Offer Number First Registration       Body Color      Paint Type                   Body Color Original Upholstery Nr. of Doors Nr. of Seats Model Code         Gearing Type    Displacement Cylinders  Drive chain                Fuel                                                               Consumption               CO2 Emission Emission Class \\nComfort & Convenience\\n \\nEntertainment & Media\\n      \\nExtras\\n \\nSafety & Security\\n                                                                                                                                                                                                                                                                                                                                                                                                                                                                                                          description Emission Label    Gears Country version Previous_Owner1 Previous_Owner  Inspection_New_Bool next_inspection paint_type country emission_label Comfort&Convenience\n",
       "9                  https://www.autoscout24.com//offers/audi-a1-sportback-tfsi-ultra-95-s-tronic-amb-gasoline-white-e2c49a42-6aaa-4039-9af1-7546a20c110e         Audi A1              SPORTBACK TFSI ULTRA 95 S-TRONIC AMB.    Sedans  17990            None   16,103 km      06/2017   70 kW  [, Used, , Gasoline]             NaN             NaN            NaN   \\n3 months\\n   []     \\nAudi\\n      [\\n, A1, \\n]             NaN     [\\n, 2017, \\n]  [\\n, White, \\n]             NaN                           [\\nBlanc\\n]        NaN      [\\n5\\n]      [\\n4\\n]        NaN  [\\n, Automatic, \\n]    [\\n999 cc\\n]       NaN          NaN  [\\n, Gasoline, \\n]                                                                       NaN                        NaN            NaN                        []                       NaN             NaN                   NaN  [\\nClim automatique,Ecran multifonction couleur,Capteur de pluie,Capteur de luminosité,Contrôle élect. de la pression des pneus,Régulateur de vitesse,EBD,ESP,8 Haut parleurs,ABS,Airbag conducteur,Airbag passager,Airbags latéraux avant,Airbags rideaux AV et AR,Antidémarrage électronique,Antipatinage,Appui-tête conducteur réglable hauteur,Appui-tête passager réglable en hauteur,Arrêt et redémarrage auto. du moteur,Bacs de portes avant,Banquette 1/3-2/3,Banquette AR rabattable,Boite à gant ferm...            NaN  [\\n7\\n]             NaN             NaN              1                    0             NaT        NaN     NaN            NaN                    \n",
       "30                            https://www.autoscout24.com//offers/audi-a1-sportback-1-4tdi-attraction-diesel-black-be5e7705-5e6e-4ca0-a7df-fc6153d6e384         Audi A1                        Sportback 1.4TDI Attraction   Compact  11290            None   38,400 km      06/2016   66 kW    [, Used, , Diesel]             NaN             NaN            NaN  \\n12 months\\n   []     \\nAudi\\n      [\\n, A1, \\n]   [\\n2780690\\n]     [\\n, 2016, \\n]  [\\n, Black, \\n]             NaN                           [\\nNegro\\n]        NaN      [\\n5\\n]      [\\n5\\n]        NaN     [\\n, Manual, \\n]  [\\n1,422 cc\\n]         3  [\\nfront\\n]    [\\n, Diesel, \\n]        [[3 l/100 km (comb)], [3 l/100 km (city)], [3 l/100 km (country)]]                        NaN            NaN                        []                       NaN             NaN                   NaN  [\\nVEHÍCULO NACIONAL, PROCEDE DE CONCESIONARIO OFICIAL , KMTS CERTIFICADOS CON LIBRO DE REVISIONES EN CONCESIONARIO OFICIAL, MUY BUEN ESTADO GENERAL Y MECANICO (21% IVA INCLUIDO EN EL PRECIO), AUX, SROP&GO, 5 PLAZAS, CIERRE CENTRALIZADO , ESPEJOS AUT..., ACEPTAMOS VEHICULO COMO PAGO , GESTIONAMOS SU FINANCIACION , GARANTIA MECANICA 12 MESES INCLUIDA, CAMBIO DE TITULAR +190 €, Este anuncio tiene caracter informarivo, puede contener errores, no tiene valor contractual.,  , Detalles de la finan...            NaN  [\\n5\\n]             NaN             NaN              1                    0             NaT        NaN     NaN            NaN                    \n",
       "53                            https://www.autoscout24.com//offers/audi-a1-sportback-1-6tdi-attraction-diesel-black-7ca7c3ad-80da-440a-b166-3766bda27464         Audi A1                        Sportback 1.6TDI Attraction   Compact  11100            None  111,670 km      06/2016   85 kW    [, Used, , Diesel]             NaN             NaN            NaN  \\n12 months\\n   []     \\nAudi\\n      [\\n, A1, \\n]   [\\n2902210\\n]     [\\n, 2016, \\n]  [\\n, Black, \\n]             NaN                           [\\nNegro\\n]        NaN      [\\n5\\n]      [\\n5\\n]        NaN     [\\n, Manual, \\n]  [\\n1,598 cc\\n]         4  [\\nfront\\n]    [\\n, Diesel, \\n]        [[3 l/100 km (comb)], [4 l/100 km (city)], [3 l/100 km (country)]]                        NaN            NaN                        []                       NaN             NaN                   NaN  [\\nEn Traverauto (Desde 1978,Opel desde 1986), Te damos precios llave en mano, PAGA AL CONTADO 12.600 € , ! TE FINANCIAMOS DESDE 4'99% ¡, SI PREFIERES DESCUENTO ...FINANCIA: 11.100 € (desde 158 €/MES), En ambos casos tendrás incluido :, Coche en perfecto estado, 12 Meses Garantía Nacional sin límite de kms, 100% Revisado con aceite y filtros cambiados, Transferencia, Impuestos, Certificado kilometraje, Certificado de no siniestralidad, Te tasamos tu coche online, ENTREGA EN LA PUERTA DE TU C...            NaN  [\\n5\\n]             NaN             NaN              1                    0             NaT        NaN     NaN            NaN                    \n",
       "168                  https://www.autoscout24.com//offers/audi-a1-spb-1-0-tfsi-ultra-s-tronic-admired-gasoline-blue-d7717886-d0b5-cb17-e053-e250040a03a9         Audi A1                SPB 1.0 TFSI ultra S tronic Admired    Sedans  17500            None   15,000 km      07/2017   70 kW  [, Used, , Gasoline]             NaN             NaN            NaN            NaN   []     \\nAudi\\n      [\\n, A1, \\n]             NaN     [\\n, 2017, \\n]   [\\n, Blue, \\n]             NaN                                   NaN        NaN      [\\n5\\n]      [\\n4\\n]        NaN  [\\n, Automatic, \\n]    [\\n999 cc\\n]         3          NaN  [\\n, Gasoline, \\n]  [[4.4 l/100 km (comb)], [5.4 l/100 km (city)], [3.8 l/100 km (country)]]  [\\n102 g CO2/km (comb)\\n]   [\\nEuro 6\\n]                        []                       NaN  [Alloy wheels]                   NaN                                                                                                                                                                                                                                                                                                                                                                    [\\nFari a led e xenon , Bracciolo centrale anteriore, Navigatore, Cerchi da 17 extra , Ruote invernali da 16 con cerchi e gomme originali audi\\n]            NaN  [\\n7\\n]             NaN             NaN              1                    0             NaT        NaN     NaN            NaN                    \n",
       "191        https://www.autoscout24.com//offers/audi-a1-sportback-sportback-1-4-tdi-s-tronic-adrenalin2-diesel-grey-8bbc9cf9-2598-4f9b-a6cb-35e6d48c12b3         Audi A1    Sportback Sportback 1.4 TDI S tronic Adrenalin2   Compact  17900            None   11,300 km      11/2016   66 kW    [, Used, , Diesel]             NaN             NaN            NaN  \\n12 months\\n   []     \\nAudi\\n      [\\n, A1, \\n]    [\\n174585\\n]     [\\n, 2016, \\n]   [\\n, Grey, \\n]  [\\nMetallic\\n]                 [\\nGris Metalizado\\n]        NaN      [\\n5\\n]      [\\n4\\n]        NaN  [\\n, Automatic, \\n]             NaN       NaN          NaN    [\\n, Diesel, \\n]                                                                       NaN                        NaN            NaN                        []                       NaN             NaN                   NaN  [\\n\\AUTOSI, La gran exposición del Vallés., Concesionarios Oficiales: Jeep, KIA, Alfa Romeo, Fiat y Abarth., Precio al contado: 16.900€, Precio financiado: 15.900€ (desde 243€/mes) financiando el 100%., Cambio de nombre: +325€, Vehículo revisado 100% por nuestro taller oficial., Aceptamos tu coche como parte de pago. IVA deducible. Entrega en la puerta de tu casa., Garantía propia 12 meses., Coche nacional con la certificación más completa del mercado, incluyendo kilometraje garantizado e hi...            NaN  [\\n7\\n]             NaN             NaN              1                    0             NaT   Metallic     NaN            NaN                    \n",
       "...                                                                                                                                                 ...             ...                                                ...       ...    ...             ...         ...          ...     ...                   ...             ...             ...            ...            ...  ...          ...               ...             ...                ...              ...             ...                                   ...        ...          ...          ...        ...                  ...             ...       ...          ...                 ...                                                                       ...                        ...            ...                       ...                       ...             ...                   ...                                                                                                                                                                                                                                                                                                                                                                                                                                                                                                                  ...            ...      ...             ...             ...            ...                  ...             ...        ...     ...            ...                 ...\n",
       "15791                   https://www.autoscout24.com//offers/renault-espace-v-dci-160-energy-twin-turbo-diesel-grey-0559a598-97ea-42a9-94d8-ad86c545d631  Renault Espace                        V dCi 160 Energy Twin Turbo       Van  33990  VAT deductible   10,803 km      05/2018    - kW    [, Used, , Diesel]             NaN             NaN            NaN  \\n12 months\\n   []  \\nRenault\\n  [\\n, Espace, \\n]  [\\nVO003105\\n]     [\\n, 2018, \\n]   [\\n, Grey, \\n]             NaN                            [\\ngris\\n]        NaN      [\\n5\\n]          NaN        NaN  [\\n, Automatic, \\n]             NaN       NaN          NaN    [\\n, Diesel, \\n]                                           [[4.6 l/100 km (comb)], [], []]                        NaN            NaN                        []                       NaN             NaN                   NaN                                                                                                                                                                                                                                                                                                                                                                                             [\\nV dCi 160 Energy Twin Turbo Initiale Paris EDC, diesel, gris, 04/05/2018, Peinture Gris Cassiopée, Roue de secours\\n]            NaN      NaN             NaN             NaN              1                    0             NaT        NaN     NaN            NaN                    \n",
       "15804               https://www.autoscout24.com//offers/renault-espace-initiale-paris-blue-dci-200-edc-diesel-blue-67d89e07-74b6-454e-b4fc-6c20716cb5cb  Renault Espace                    Initiale Paris Blue dCi 200 EDC       Van  44500            None    9,000 km      03/2019  147 kW    [, Used, , Diesel]             NaN             NaN            NaN            NaN   []  \\nRenault\\n  [\\n, Espace, \\n]  [\\nVN023381\\n]     [\\n, 2019, \\n]   [\\n, Blue, \\n]             NaN                            [\\nbleu\\n]        NaN      [\\n5\\n]      [\\n7\\n]        NaN  [\\n, Automatic, \\n]             NaN       NaN          NaN    [\\n, Diesel, \\n]                                                                       NaN               [[], [], []]            NaN                        []                       NaN             NaN                   NaN                                                                                                                                                                                                                                                                                                                                                                                                                 [\\nInitiale Paris Blue dCi 200 EDC, diesel, bleu, 22/03/2019, Peinture Bleu Cosmos, Pack 7 places\\n]            NaN      NaN             NaN             NaN              1                    0             NaT        NaN     NaN            NaN                    \n",
       "15805  https://www.autoscout24.com//offers/renault-espace-init-p-blue-dci-147kw-200cv-edc-18-leomotor-diesel-black-a38eb852-05ed-495d-8f3d-f001571f97ea  Renault Espace  Init. P. Blue dCi 147kW (200CV) EDC - 18 Leomotor   Compact  43000            None    1,000 km      03/2019  147 kW    [, Used, , Diesel]             NaN             NaN            NaN  \\n24 months\\n   []  \\nRenault\\n  [\\n, Espace, \\n]    [\\n386482\\n]     [\\n, 2019, \\n]  [\\n, Black, \\n]  [\\nMetallic\\n]  [\\nNegro Amatista (metalizado esp\\n]        NaN      [\\n5\\n]      [\\n5\\n]        NaN  [\\n, Automatic, \\n]             NaN       NaN          NaN    [\\n, Diesel, \\n]                                                                       NaN                        NaN            NaN                        []                       NaN             NaN                   NaN                                                                                                                                                                                                                                                                                                                                                                                                                                                                                                                   []            NaN  [\\n6\\n]             NaN             NaN              1                    0             NaT   Metallic     NaN            NaN                    \n",
       "15854            https://www.autoscout24.com//offers/renault-espace-2-0dci-tt-initiale-paris-blue-edc-147kw-diesel-fa37074f-8ae1-49cb-b593-cc1f08d17bae  Renault Espace            2.0dCi TT Initiale Paris Blue EDC 147kW       Van  43911            None        - km          -/-  147 kW     [, New, , Diesel]             NaN             NaN            NaN            NaN   []  \\nRenault\\n  [\\n, Espace, \\n]   [\\n2504321\\n]                NaN              NaN             NaN                                   NaN        NaN      [\\n5\\n]      [\\n5\\n]        NaN  [\\n, Automatic, \\n]  [\\n1,997 cc\\n]         4  [\\nfront\\n]    [\\n, Diesel, \\n]        [[5 l/100 km (comb)], [5 l/100 km (city)], [4 l/100 km (country)]]                        NaN            NaN                        []                       NaN             NaN                   NaN                                                                                                                                                                                                                                                                                                                                                                                                                                                                                                                   []            NaN  [\\n6\\n]             NaN             NaN              1                    0             NaT        NaN     NaN            NaN                    \n",
       "15864                   https://www.autoscout24.com//offers/renault-espace-1-8-tce-gpf-initiale-paris-edc-gasoline-321bb168-821a-44b0-8784-958b10fa8ab7  Renault Espace                     1.8 TCe GPF Initiale París EDC       Van  43315            None        - km          -/-  165 kW   [, New, , Gasoline]             NaN             NaN            NaN            NaN   []  \\nRenault\\n  [\\n, Espace, \\n]   [\\n2447574\\n]                NaN              NaN             NaN                                   NaN        NaN      [\\n5\\n]      [\\n5\\n]        NaN  [\\n, Automatic, \\n]  [\\n1,798 cc\\n]         4  [\\nfront\\n]  [\\n, Gasoline, \\n]        [[6 l/100 km (comb)], [8 l/100 km (city)], [5 l/100 km (country)]]                        NaN            NaN                        []                       NaN             NaN                   NaN                                                                                                                                                                                                                                                                                                                                                                                                                                                                                                                   []            NaN  [\\n7\\n]             NaN             NaN              1                    0             NaT        NaN     NaN            NaN                    \n",
       "\n",
       "[920 rows x 50 columns]"
      ]
     },
     "execution_count": 103,
     "metadata": {},
     "output_type": "execute_result"
    }
   ],
   "source": [
    "oto[oto['Comfort&Convenience'] == \"\"]"
   ]
  },
  {
   "cell_type": "code",
   "execution_count": 104,
   "metadata": {},
   "outputs": [
    {
     "data": {
      "text/plain": [
       "0"
      ]
     },
     "execution_count": 104,
     "metadata": {},
     "output_type": "execute_result"
    }
   ],
   "source": [
    "oto['Comfort&Convenience'].isnull().sum()"
   ]
  },
  {
   "cell_type": "code",
   "execution_count": 105,
   "metadata": {},
   "outputs": [
    {
     "data": {
      "text/plain": [
       "['Air conditioning,Armrest,Automatic climate control,Cruise control,Electrical side mirrors,Hill Holder,Leather steering wheel,Light sensor,Multi-function steering wheel,Navigation system,Park Distance Control,Parking assist system sensors rear,Power windows,Rain sensor,Seat heating,Start-stop system',\n",
       " 'Air conditioning,Automatic climate control,Hill Holder,Leather steering wheel,Lumbar support,Parking assist system sensors rear,Power windows,Start-stop system,Tinted windows',\n",
       " 'Air conditioning,Cruise control,Electrical side mirrors,Hill Holder,Leather steering wheel,Multi-function steering wheel,Navigation system,Park Distance Control,Parking assist system sensors front,Parking assist system sensors rear,Power windows,Seat heating,Start-stop system',\n",
       " 'Air suspension,Armrest,Auxiliary heating,Electrical side mirrors,Heads-up display,Hill Holder,Leather steering wheel,Light sensor,Lumbar support,Multi-function steering wheel,Navigation system,Power windows,Rain sensor,Seat heating,Split rear seats,Start-stop system',\n",
       " 'Air conditioning,Armrest,Automatic climate control,Electrical side mirrors,Hill Holder,Leather steering wheel,Light sensor,Multi-function steering wheel,Park Distance Control,Parking assist system sensors rear,Power windows,Rain sensor,Start-stop system',\n",
       " 'Air conditioning,Armrest,Automatic climate control,Electrical side mirrors,Hill Holder,Keyless central door lock,Leather steering wheel,Light sensor,Lumbar support,Multi-function steering wheel,Navigation system,Park Distance Control,Parking assist system sensors rear,Power windows,Rain sensor,Seat heating,Start-stop system',\n",
       " 'Air conditioning,Armrest,Automatic climate control,Cruise control,Electrical side mirrors,Leather steering wheel,Light sensor,Multi-function steering wheel,Navigation system,Park Distance Control,Parking assist system sensors front,Parking assist system sensors rear,Power windows,Rain sensor,Start-stop system',\n",
       " 'Air conditioning,Armrest,Electrical side mirrors,Light sensor,Park Distance Control,Parking assist system sensors rear,Power windows,Rain sensor,Seat heating,Start-stop system',\n",
       " 'Air conditioning,Power windows',\n",
       " nan,\n",
       " 'Air conditioning,Multi-function steering wheel,Power windows',\n",
       " 'Air conditioning,Automatic climate control,Electrical side mirrors,Hill Holder,Leather steering wheel,Light sensor,Lumbar support,Multi-function steering wheel,Navigation system,Park Distance Control,Parking assist system sensors front,Parking assist system sensors rear,Power windows,Rain sensor,Seat heating,Start-stop system',\n",
       " 'Air conditioning,Armrest,Automatic climate control,Electrical side mirrors,Hill Holder,Leather steering wheel,Light sensor,Lumbar support,Multi-function steering wheel,Navigation system,Park Distance Control,Parking assist system sensors front,Parking assist system sensors rear,Power windows,Rain sensor,Seat heating,Start-stop system',\n",
       " 'Air conditioning,Automatic climate control,Cruise control,Electrical side mirrors,Light sensor,Multi-function steering wheel,Navigation system,Park Distance Control,Power windows,Rain sensor,Split rear seats',\n",
       " 'Air conditioning,Automatic climate control,Cruise control,Electrical side mirrors,Hill Holder,Leather steering wheel,Light sensor,Lumbar support,Multi-function steering wheel,Navigation system,Park Distance Control,Parking assist system sensors rear,Power windows,Rain sensor,Seat heating,Start-stop system',\n",
       " 'Air conditioning,Armrest,Cruise control,Electrical side mirrors,Leather steering wheel,Multi-function steering wheel,Navigation system,Park Distance Control,Parking assist system sensors rear,Power windows,Start-stop system',\n",
       " 'Air conditioning,Leather steering wheel,Power windows',\n",
       " 'Air conditioning,Automatic climate control,Cruise control,Electrical side mirrors,Leather steering wheel,Park Distance Control,Parking assist system sensors rear,Power windows,Rain sensor,Seat heating,Split rear seats,Start-stop system',\n",
       " 'Air conditioning,Armrest,Automatic climate control,Cruise control,Electrical side mirrors,Leather steering wheel,Multi-function steering wheel,Navigation system,Power windows,Rain sensor',\n",
       " 'Air conditioning,Armrest,Auxiliary heating,Electrically heated windshield,Electrical side mirrors,Hill Holder,Leather steering wheel,Multi-function steering wheel,Navigation system,Power windows,Start-stop system',\n",
       " 'Air conditioning,Armrest,Leather steering wheel,Lumbar support,Multi-function steering wheel,Navigation system,Park Distance Control,Parking assist system sensors front,Parking assist system sensors rear,Power windows,Rain sensor,Seat heating,Split rear seats,Start-stop system,Tinted windows',\n",
       " 'Air conditioning,Armrest,Automatic climate control,Cruise control,Electrical side mirrors,Hill Holder,Leather steering wheel,Light sensor,Lumbar support,Multi-function steering wheel,Navigation system,Park Distance Control,Parking assist system sensors front,Parking assist system sensors rear,Power windows,Rain sensor,Seat heating,Start-stop system',\n",
       " 'Air conditioning,Armrest,Automatic climate control,Electrical side mirrors,Keyless central door lock,Light sensor,Multi-function steering wheel,Park Distance Control,Parking assist system sensors front,Parking assist system sensors rear,Power windows,Rain sensor,Seat heating,Split rear seats,Start-stop system',\n",
       " 'Air conditioning,Automatic climate control,Power windows',\n",
       " 'Air conditioning,Armrest,Cruise control,Electrical side mirrors,Leather steering wheel,Light sensor,Multi-function steering wheel,Navigation system,Power windows,Seat heating,Seat ventilation,Split rear seats,Start-stop system,Wind deflector',\n",
       " 'Air conditioning,Electrical side mirrors,Leather steering wheel,Lumbar support,Power windows',\n",
       " 'Air conditioning,Automatic climate control,Electrical side mirrors,Hill Holder,Keyless central door lock,Leather steering wheel,Light sensor,Multi-function steering wheel,Park Distance Control,Parking assist system sensors front,Parking assist system sensors rear,Power windows,Rain sensor,Seat heating,Start-stop system',\n",
       " 'Air conditioning,Electrical side mirrors,Leather steering wheel,Power windows,Start-stop system',\n",
       " 'Air conditioning,Automatic climate control',\n",
       " 'Air conditioning,Electrical side mirrors,Power windows,Rain sensor,Start-stop system',\n",
       " nan,\n",
       " 'Air conditioning,Automatic climate control,Electrical side mirrors,Light sensor,Multi-function steering wheel,Navigation system,Power windows,Rain sensor,Start-stop system',\n",
       " 'Air conditioning,Armrest,Electrical side mirrors,Power windows,Start-stop system',\n",
       " 'Air conditioning,Electrical side mirrors,Heads-up display,Leather steering wheel,Power windows,Start-stop system,Tinted windows',\n",
       " 'Air conditioning,Automatic climate control,Cruise control,Leather steering wheel,Light sensor,Multi-function steering wheel,Navigation system,Parking assist system sensors rear,Rain sensor,Seat ventilation,Split rear seats,Start-stop system',\n",
       " 'Air conditioning,Electrical side mirrors,Power windows,Seat heating,Start-stop system',\n",
       " 'Air conditioning,Armrest,Cruise control,Electrical side mirrors,Hill Holder,Power windows,Seat heating,Start-stop system',\n",
       " 'Air conditioning,Electrical side mirrors,Leather steering wheel,Power windows,Start-stop system,Tinted windows',\n",
       " 'Leather steering wheel,Lumbar support,Power windows,Start-stop system',\n",
       " 'Air conditioning,Automatic climate control,Cruise control,Light sensor,Multi-function steering wheel,Navigation system,Park Distance Control,Parking assist system sensors rear,Power windows,Rain sensor,Start-stop system',\n",
       " 'Air conditioning,Armrest,Cruise control,Electrical side mirrors,Power windows,Start-stop system',\n",
       " 'Air conditioning,Armrest,Automatic climate control,Cruise control,Electrical side mirrors,Leather steering wheel,Multi-function steering wheel,Navigation system,Park Distance Control,Parking assist system sensors rear,Power windows,Rain sensor,Start-stop system',\n",
       " 'Air conditioning,Armrest,Automatic climate control,Cruise control,Electrical side mirrors,Leather steering wheel,Multi-function steering wheel,Navigation system,Park Distance Control,Parking assist system sensors rear,Power windows,Rain sensor,Start-stop system',\n",
       " 'Air conditioning,Automatic climate control,Light sensor,Multi-function steering wheel,Navigation system,Park Distance Control,Parking assist system sensors rear,Power windows,Rain sensor,Start-stop system',\n",
       " 'Air conditioning,Cruise control,Electrical side mirrors,Park Distance Control,Parking assist system sensors front,Parking assist system sensors rear,Power windows,Start-stop system',\n",
       " 'Air conditioning,Automatic climate control,Electrical side mirrors,Light sensor,Multi-function steering wheel,Power windows,Rain sensor,Start-stop system',\n",
       " 'Air conditioning,Automatic climate control,Electrical side mirrors,Leather steering wheel,Light sensor,Multi-function steering wheel,Park Distance Control,Parking assist system sensors rear,Power windows,Rain sensor,Split rear seats,Start-stop system',\n",
       " 'Air conditioning,Electrical side mirrors,Leather steering wheel,Power windows,Start-stop system',\n",
       " 'Air conditioning,Electrical side mirrors,Leather steering wheel,Multi-function steering wheel,Park Distance Control,Parking assist system sensors rear,Power windows,Seat heating,Start-stop system',\n",
       " 'Armrest,Electrical side mirrors,Leather steering wheel,Light sensor,Multi-function steering wheel,Park Distance Control,Parking assist system sensors rear,Power windows,Rain sensor,Seat heating,Start-stop system',\n",
       " 'Air conditioning,Automatic climate control,Electrical side mirrors,Multi-function steering wheel,Navigation system,Park Distance Control,Parking assist system sensors front,Parking assist system sensors rear,Power windows,Rain sensor,Seat heating,Start-stop system',\n",
       " 'Light sensor,Power windows,Rain sensor,Start-stop system',\n",
       " 'Air conditioning,Leather steering wheel,Lumbar support,Power windows,Start-stop system',\n",
       " nan,\n",
       " 'Air conditioning,Armrest,Electrical side mirrors,Light sensor,Power windows,Rain sensor,Start-stop system',\n",
       " 'Air conditioning,Armrest,Automatic climate control,Electrical side mirrors,Power windows,Rain sensor,Start-stop system',\n",
       " 'Air conditioning,Electrical side mirrors,Power windows,Start-stop system',\n",
       " 'Air conditioning,Armrest,Electrical side mirrors,Light sensor,Park Distance Control,Parking assist system sensors rear,Power windows,Rain sensor,Seat heating,Start-stop system',\n",
       " 'Air conditioning,Leather seats,Leather steering wheel,Lumbar support,Power windows,Start-stop system',\n",
       " 'Air conditioning,Electrical side mirrors,Leather steering wheel,Power windows,Start-stop system,Tinted windows',\n",
       " 'Air conditioning,Armrest,Automatic climate control,Cruise control,Electrical side mirrors,Keyless central door lock,Leather steering wheel,Light sensor,Multi-function steering wheel,Navigation system,Park Distance Control,Parking assist system sensors rear,Power windows,Rain sensor,Seat heating,Split rear seats,Start-stop system',\n",
       " 'Air conditioning,Armrest,Automatic climate control,Electrical side mirrors,Leather steering wheel,Light sensor,Multi-function steering wheel,Navigation system,Power windows,Rain sensor,Split rear seats,Start-stop system,Tinted windows',\n",
       " 'Air conditioning,Leather steering wheel,Multi-function steering wheel,Park Distance Control,Parking assist system sensors rear,Power windows,Split rear seats,Start-stop system',\n",
       " 'Air conditioning,Armrest,Electrical side mirrors,Leather steering wheel,Park Distance Control,Parking assist system sensors rear,Power windows,Seat heating,Split rear seats,Start-stop system,Tinted windows',\n",
       " 'Air conditioning,Electrical side mirrors,Hill Holder,Park Distance Control,Parking assist system sensors front,Parking assist system sensors rear,Power windows,Start-stop system',\n",
       " 'Air conditioning,Armrest,Cruise control,Electrical side mirrors,Hill Holder,Leather steering wheel,Multi-function steering wheel,Navigation system,Power windows,Start-stop system',\n",
       " 'Air conditioning,Automatic climate control,Cruise control,Multi-function steering wheel,Navigation system,Park Distance Control,Parking assist system sensors front,Parking assist system sensors rear,Power windows,Rain sensor,Seat heating,Start-stop system,Sunroof',\n",
       " 'Air conditioning,Automatic climate control,Multi-function steering wheel,Park Distance Control,Parking assist system sensors rear,Power windows,Rain sensor,Start-stop system',\n",
       " 'Armrest,Cruise control,Electrical side mirrors,Leather steering wheel,Light sensor,Lumbar support,Multi-function steering wheel,Navigation system,Power windows,Split rear seats,Start-stop system',\n",
       " 'Air conditioning,Armrest,Automatic climate control,Cruise control,Electrical side mirrors,Hill Holder,Leather steering wheel,Light sensor,Lumbar support,Multi-function steering wheel,Navigation system,Park Distance Control,Parking assist system sensors rear,Power windows,Rain sensor,Seat heating',\n",
       " 'Air conditioning,Automatic climate control,Cruise control,Electrical side mirrors,Light sensor,Multi-function steering wheel,Power windows,Rain sensor,Split rear seats',\n",
       " 'Air conditioning,Armrest,Automatic climate control,Electrical side mirrors,Leather steering wheel,Light sensor,Multi-function steering wheel,Park Distance Control,Parking assist system sensors front,Parking assist system sensors rear,Power windows,Rain sensor,Seat heating,Start-stop system',\n",
       " 'Air conditioning,Armrest,Automatic climate control,Electrical side mirrors,Hill Holder,Leather steering wheel,Light sensor,Lumbar support,Multi-function steering wheel,Navigation system,Panorama roof,Park Distance Control,Parking assist system sensors front,Parking assist system sensors rear,Power windows,Rain sensor,Seat heating,Start-stop system',\n",
       " 'Air conditioning,Armrest,Automatic climate control,Electrical side mirrors,Hill Holder,Leather steering wheel,Light sensor,Lumbar support,Multi-function steering wheel,Park Distance Control,Parking assist system sensors front,Parking assist system sensors rear,Power windows,Rain sensor,Start-stop system',\n",
       " 'Air conditioning,Armrest,Automatic climate control,Electrical side mirrors,Hill Holder,Leather steering wheel,Light sensor,Lumbar support,Multi-function steering wheel,Navigation system,Park Distance Control,Parking assist system sensors rear,Power windows,Rain sensor,Seat heating,Start-stop system',\n",
       " 'Air conditioning,Armrest,Automatic climate control,Cruise control,Electrical side mirrors,Hill Holder,Keyless central door lock,Leather steering wheel,Light sensor,Lumbar support,Multi-function steering wheel,Navigation system,Panorama roof,Park Distance Control,Parking assist system sensors front,Parking assist system sensors rear,Power windows,Rain sensor,Seat heating,Start-stop system,Sunroof',\n",
       " 'Air conditioning,Armrest,Automatic climate control,Electrical side mirrors,Hill Holder,Leather steering wheel,Light sensor,Lumbar support,Multi-function steering wheel,Park Distance Control,Parking assist system sensors front,Parking assist system sensors rear,Power windows,Rain sensor,Seat heating,Start-stop system',\n",
       " 'Air conditioning,Armrest,Automatic climate control,Cruise control,Electrical side mirrors,Hill Holder,Light sensor,Multi-function steering wheel,Navigation system,Park Distance Control,Parking assist system sensors front,Parking assist system sensors rear,Power windows,Rain sensor,Seat heating,Start-stop system',\n",
       " 'Air conditioning,Armrest,Automatic climate control,Electrical side mirrors,Hill Holder,Leather steering wheel,Light sensor,Lumbar support,Multi-function steering wheel,Navigation system,Panorama roof,Park Distance Control,Parking assist system sensors rear,Power windows,Rain sensor,Seat heating,Start-stop system,Sunroof',\n",
       " 'Air conditioning,Armrest,Automatic climate control,Electrical side mirrors,Hill Holder,Leather steering wheel,Light sensor,Lumbar support,Multi-function steering wheel,Navigation system,Park Distance Control,Parking assist system sensors rear,Power windows,Rain sensor,Seat heating,Start-stop system',\n",
       " 'Air conditioning,Automatic climate control,Power windows',\n",
       " 'Air conditioning,Armrest,Auxiliary heating,Electrically heated windshield,Electrical side mirrors,Hill Holder,Leather steering wheel,Multi-function steering wheel,Navigation system,Power windows,Start-stop system',\n",
       " 'Air conditioning,Armrest,Automatic climate control,Electrical side mirrors,Hill Holder,Light sensor,Multi-function steering wheel,Panorama roof,Park Distance Control,Parking assist system sensors rear,Power windows,Rain sensor,Seat heating,Start-stop system,Sunroof',\n",
       " 'Air conditioning,Armrest,Automatic climate control,Cruise control,Electrical side mirrors,Hill Holder,Keyless central door lock,Leather steering wheel,Light sensor,Multi-function steering wheel,Panorama roof,Park Distance Control,Parking assist system sensors front,Parking assist system sensors rear,Power windows,Rain sensor,Seat heating,Start-stop system,Sunroof',\n",
       " 'Air conditioning,Automatic climate control,Cruise control,Electrical side mirrors,Light sensor,Multi-function steering wheel,Navigation system,Park Distance Control,Parking assist system sensors front,Parking assist system sensors rear,Power windows,Rain sensor,Seat heating,Start-stop system',\n",
       " 'Air conditioning,Armrest,Automatic climate control,Cruise control,Electrical side mirrors,Hill Holder,Leather steering wheel,Light sensor,Multi-function steering wheel,Navigation system,Park Distance Control,Parking assist system sensors front,Parking assist system sensors rear,Power windows,Rain sensor,Seat heating,Start-stop system',\n",
       " 'Air conditioning,Armrest,Cruise control,Electrical side mirrors,Hill Holder,Leather steering wheel,Light sensor,Multi-function steering wheel,Navigation system,Park Distance Control,Parking assist system sensors rear,Power windows,Rain sensor,Start-stop system',\n",
       " 'Electrical side mirrors,Leather steering wheel,Lumbar support,Power windows,Split rear seats,Start-stop system',\n",
       " 'Air conditioning,Armrest,Electrical side mirrors,Hill Holder,Leather steering wheel,Light sensor,Lumbar support,Park Distance Control,Parking assist system sensors rear,Power windows,Rain sensor,Start-stop system',\n",
       " 'Air conditioning,Armrest,Automatic climate control,Cruise control,Electrical side mirrors,Leather steering wheel,Light sensor,Lumbar support,Multi-function steering wheel,Navigation system,Park Distance Control,Parking assist system sensors front,Parking assist system sensors rear,Power windows,Rain sensor,Seat heating,Start-stop system',\n",
       " 'Air conditioning,Armrest,Automatic climate control,Electrical side mirrors,Hill Holder,Leather steering wheel,Light sensor,Multi-function steering wheel,Navigation system,Park Distance Control,Parking assist system sensors rear,Power windows,Rain sensor,Seat heating,Start-stop system',\n",
       " 'Air conditioning,Armrest,Automatic climate control,Electrical side mirrors,Hill Holder,Leather steering wheel,Light sensor,Lumbar support,Multi-function steering wheel,Park Distance Control,Parking assist system sensors front,Parking assist system sensors rear,Power windows,Rain sensor,Seat heating,Start-stop system',\n",
       " 'Air conditioning,Armrest,Automatic climate control,Electrical side mirrors,Hill Holder,Light sensor,Multi-function steering wheel,Park Distance Control,Parking assist system sensors front,Parking assist system sensors rear,Power windows,Rain sensor,Seat heating,Start-stop system',\n",
       " 'Air conditioning,Armrest,Automatic climate control,Electrical side mirrors,Hill Holder,Leather steering wheel,Light sensor,Lumbar support,Multi-function steering wheel,Park Distance Control,Parking assist system sensors rear,Power windows,Rain sensor,Seat heating,Start-stop system',\n",
       " 'Air conditioning,Armrest,Cruise control,Electrical side mirrors,Hill Holder,Leather steering wheel,Multi-function steering wheel,Power windows,Start-stop system',\n",
       " 'Air conditioning',\n",
       " 'Armrest,Multi-function steering wheel,Panorama roof',\n",
       " 'Air conditioning,Armrest,Leather steering wheel,Multi-function steering wheel,Power windows',\n",
       " 'Air conditioning,Armrest,Cruise control,Electrical side mirrors,Leather steering wheel,Light sensor,Multi-function steering wheel,Power windows,Start-stop system',\n",
       " 'Leather steering wheel,Lumbar support,Power windows,Start-stop system',\n",
       " 'Armrest,Multi-function steering wheel,Panorama roof',\n",
       " 'Armrest,Multi-function steering wheel,Panorama roof',\n",
       " 'Air conditioning,Power windows',\n",
       " 'Armrest,Multi-function steering wheel,Panorama roof',\n",
       " 'Air conditioning,Leather steering wheel,Power windows',\n",
       " 'Air conditioning,Leather steering wheel,Power windows',\n",
       " 'Air conditioning,Leather steering wheel,Power windows',\n",
       " 'Armrest,Multi-function steering wheel,Panorama roof',\n",
       " 'Air conditioning,Leather steering wheel,Power windows',\n",
       " 'Air conditioning,Armrest,Automatic climate control,Cruise control,Electrical side mirrors,Hill Holder,Leather steering wheel,Light sensor,Multi-function steering wheel,Navigation system,Park Distance Control,Parking assist system sensors front,Parking assist system sensors rear,Power windows,Rain sensor,Seat heating,Start-stop system',\n",
       " 'Air conditioning,Leather steering wheel,Power windows',\n",
       " 'Air conditioning,Armrest,Power windows',\n",
       " 'Air conditioning,Armrest,Automatic climate control,Cruise control,Hill Holder,Multi-function steering wheel,Park Distance Control,Parking assist system sensors rear,Power windows,Rain sensor,Start-stop system',\n",
       " 'Air conditioning,Leather steering wheel,Power windows',\n",
       " 'Air conditioning,Armrest,Automatic climate control,Cruise control,Electrical side mirrors,Hill Holder,Leather steering wheel,Light sensor,Multi-function steering wheel,Navigation system,Park Distance Control,Parking assist system sensors rear,Power windows,Rain sensor,Seat heating,Start-stop system',\n",
       " 'Air conditioning,Armrest,Automatic climate control,Cruise control,Electrical side mirrors,Hill Holder,Light sensor,Multi-function steering wheel,Navigation system,Power windows,Rain sensor,Start-stop system',\n",
       " 'Air conditioning,Armrest,Automatic climate control,Electrical side mirrors,Hill Holder,Leather steering wheel,Light sensor,Multi-function steering wheel,Park Distance Control,Parking assist system sensors rear,Power windows,Rain sensor,Seat heating,Start-stop system',\n",
       " 'Air conditioning,Armrest,Electrical side mirrors,Hill Holder,Leather steering wheel,Light sensor,Lumbar support,Multi-function steering wheel,Navigation system,Panorama roof,Park Distance Control,Parking assist system sensors front,Parking assist system sensors rear,Power windows,Rain sensor,Seat heating,Start-stop system',\n",
       " 'Air conditioning,Automatic climate control,Multi-function steering wheel,Park Distance Control,Power windows,Start-stop system',\n",
       " 'Air conditioning,Armrest,Automatic climate control,Electrical side mirrors,Hill Holder,Leather steering wheel,Light sensor,Lumbar support,Multi-function steering wheel,Navigation system,Park Distance Control,Parking assist system sensors front,Parking assist system sensors rear,Power windows,Rain sensor,Seat heating,Start-stop system',\n",
       " 'Air conditioning,Automatic climate control,Cruise control,Electrical side mirrors,Leather steering wheel,Light sensor,Multi-function steering wheel,Navigation system,Park Distance Control,Parking assist system sensors rear,Power windows,Rain sensor,Seat heating,Start-stop system',\n",
       " 'Air conditioning,Armrest,Automatic climate control,Cruise control,Electrical side mirrors,Leather steering wheel,Light sensor,Multi-function steering wheel,Navigation system,Park Distance Control,Parking assist system sensors rear,Power windows,Rain sensor,Seat heating,Start-stop system',\n",
       " 'Air conditioning,Electrical side mirrors,Hill Holder,Light sensor,Power windows,Rain sensor',\n",
       " 'Air conditioning,Armrest,Cruise control,Electrical side mirrors,Leather steering wheel,Multi-function steering wheel,Navigation system,Park Distance Control,Parking assist system sensors rear,Power windows,Start-stop system',\n",
       " 'Air conditioning,Armrest,Automatic climate control,Cruise control,Electrical side mirrors,Hill Holder,Leather steering wheel,Light sensor,Lumbar support,Multi-function steering wheel,Navigation system,Park Distance Control,Parking assist system sensors front,Parking assist system sensors rear,Power windows,Rain sensor,Seat heating,Start-stop system',\n",
       " 'Air conditioning,Armrest,Automatic climate control,Electrical side mirrors,Leather steering wheel,Light sensor,Lumbar support,Multi-function steering wheel,Park Distance Control,Parking assist system sensors rear,Power windows,Rain sensor,Seat heating,Start-stop system',\n",
       " 'Leather steering wheel,Lumbar support,Power windows,Start-stop system',\n",
       " 'Air conditioning,Armrest,Automatic climate control,Cruise control,Electrical side mirrors,Hill Holder,Leather steering wheel,Light sensor,Lumbar support,Multi-function steering wheel,Park Distance Control,Parking assist system sensors rear,Power windows,Rain sensor,Seat heating,Start-stop system',\n",
       " 'Air conditioning,Armrest,Automatic climate control,Electrical side mirrors,Hill Holder,Keyless central door lock,Leather steering wheel,Light sensor,Lumbar support,Multi-function steering wheel,Park Distance Control,Parking assist system sensors front,Parking assist system sensors rear,Power windows,Rain sensor,Seat heating,Start-stop system',\n",
       " 'Air conditioning,Armrest,Automatic climate control,Electrical side mirrors,Hill Holder,Leather steering wheel,Light sensor,Lumbar support,Multi-function steering wheel,Navigation system,Park Distance Control,Parking assist system sensors front,Parking assist system sensors rear,Power windows,Rain sensor,Seat heating,Start-stop system',\n",
       " 'Air conditioning,Seat ventilation,Split rear seats',\n",
       " 'Armrest,Multi-function steering wheel,Panorama roof',\n",
       " 'Air conditioning,Armrest,Automatic climate control,Electrical side mirrors,Leather steering wheel,Light sensor,Multi-function steering wheel,Navigation system,Parking assist system camera,Parking assist system sensors rear,Power windows,Rain sensor,Split rear seats,Start-stop system,Tinted windows',\n",
       " 'Air conditioning,Electrical side mirrors,Hill Holder,Leather steering wheel,Lumbar support,Multi-function steering wheel,Park Distance Control,Parking assist system sensors rear,Power windows,Seat heating,Start-stop system',\n",
       " 'Air conditioning,Armrest,Cruise control,Electrical side mirrors,Multi-function steering wheel,Navigation system',\n",
       " 'Air conditioning,Automatic climate control,Electrical side mirrors,Hill Holder,Keyless central door lock,Leather steering wheel,Light sensor,Lumbar support,Multi-function steering wheel,Navigation system,Park Distance Control,Parking assist system sensors front,Parking assist system sensors rear,Power windows,Rain sensor,Seat heating,Start-stop system',\n",
       " 'Air conditioning,Electrical side mirrors,Hill Holder,Leather steering wheel,Lumbar support,Multi-function steering wheel,Park Distance Control,Parking assist system sensors rear,Power windows,Seat heating,Start-stop system',\n",
       " 'Air conditioning,Electrical side mirrors,Hill Holder,Leather steering wheel,Lumbar support,Multi-function steering wheel,Park Distance Control,Parking assist system sensors rear,Power windows,Seat heating,Start-stop system',\n",
       " 'Air conditioning,Armrest,Automatic climate control,Leather steering wheel,Multi-function steering wheel,Navigation system,Park Distance Control,Parking assist system sensors rear,Power windows,Rain sensor,Seat ventilation,Split rear seats,Start-stop system',\n",
       " 'Air conditioning,Armrest,Automatic climate control,Electrical side mirrors,Hill Holder,Leather steering wheel,Light sensor,Lumbar support,Multi-function steering wheel,Park Distance Control,Power windows,Rain sensor,Seat heating,Start-stop system',\n",
       " 'Air conditioning,Automatic climate control,Multi-function steering wheel,Navigation system,Park Distance Control,Parking assist system sensors rear,Power windows,Rain sensor,Start-stop system',\n",
       " 'Air conditioning,Armrest,Electrical side mirrors,Leather steering wheel,Light sensor,Multi-function steering wheel',\n",
       " 'Air conditioning,Air suspension,Armrest,Automatic climate control,Auxiliary heating,Cruise control,Electrical side mirrors,Hill Holder,Leather steering wheel,Light sensor,Lumbar support,Multi-function steering wheel,Navigation system,Park Distance Control,Parking assist system sensors front,Parking assist system sensors rear,Power windows,Rain sensor,Split rear seats,Start-stop system,Tinted windows,Wind deflector',\n",
       " 'Air conditioning,Armrest,Automatic climate control,Electrical side mirrors,Hill Holder,Keyless central door lock,Leather steering wheel,Light sensor,Multi-function steering wheel,Navigation system,Park Distance Control,Parking assist system sensors front,Parking assist system sensors rear,Power windows,Rain sensor,Seat heating,Start-stop system',\n",
       " 'Air conditioning,Armrest,Automatic climate control,Electrical side mirrors,Hill Holder,Leather steering wheel,Light sensor,Lumbar support,Multi-function steering wheel,Park Distance Control,Parking assist system sensors rear,Power windows,Rain sensor,Split rear seats,Start-stop system,Tinted windows',\n",
       " 'Air conditioning,Armrest,Automatic climate control,Cruise control,Electrical side mirrors,Keyless central door lock,Leather steering wheel,Lumbar support,Multi-function steering wheel,Power windows,Start-stop system',\n",
       " 'Air conditioning,Automatic climate control,Electrical side mirrors,Hill Holder,Leather steering wheel,Light sensor,Multi-function steering wheel,Park Distance Control,Parking assist system sensors front,Parking assist system sensors rear,Power windows,Rain sensor,Seat heating,Start-stop system',\n",
       " 'Air conditioning,Armrest,Automatic climate control,Cruise control,Electrical side mirrors,Hill Holder,Leather steering wheel,Light sensor,Lumbar support,Multi-function steering wheel,Navigation system,Park Distance Control,Parking assist system sensors front,Parking assist system sensors rear,Power windows,Rain sensor,Seat heating,Start-stop system',\n",
       " 'Air conditioning,Armrest,Automatic climate control,Cruise control,Electrical side mirrors,Hill Holder,Leather steering wheel,Light sensor,Lumbar support,Multi-function steering wheel,Park Distance Control,Parking assist system sensors rear,Power windows,Rain sensor,Seat heating,Start-stop system',\n",
       " 'Air conditioning,Automatic climate control,Cruise control,Electrical side mirrors,Hill Holder,Leather steering wheel,Light sensor,Lumbar support,Multi-function steering wheel,Park Distance Control,Parking assist system sensors rear,Power windows,Rain sensor,Seat heating,Start-stop system',\n",
       " 'Air conditioning,Automatic climate control,Cruise control,Electrical side mirrors,Light sensor,Multi-function steering wheel,Power windows,Rain sensor,Split rear seats',\n",
       " 'Air conditioning,Armrest,Cruise control,Electrical side mirrors,Leather steering wheel,Multi-function steering wheel,Power windows,Seat heating,Start-stop system',\n",
       " 'Air conditioning,Armrest,Automatic climate control,Electrical side mirrors,Hill Holder,Leather steering wheel,Light sensor,Multi-function steering wheel,Park Distance Control,Parking assist system sensors front,Parking assist system sensors rear,Power windows,Rain sensor,Seat heating,Start-stop system',\n",
       " 'Air conditioning,Automatic climate control,Electrical side mirrors,Hill Holder,Leather steering wheel,Light sensor,Multi-function steering wheel,Park Distance Control,Parking assist system sensors rear,Power windows,Rain sensor,Seat heating,Start-stop system',\n",
       " 'Air conditioning,Armrest,Electrical side mirrors,Hill Holder,Multi-function steering wheel,Seat heating,Start-stop system',\n",
       " 'Air conditioning,Armrest,Electrical side mirrors,Hill Holder,Light sensor,Multi-function steering wheel,Navigation system,Park Distance Control,Parking assist system sensors rear,Power windows,Rain sensor,Seat heating,Split rear seats,Start-stop system',\n",
       " 'Air conditioning,Armrest,Automatic climate control,Cruise control,Electrical side mirrors,Hill Holder,Keyless central door lock,Leather steering wheel,Light sensor,Lumbar support,Multi-function steering wheel,Navigation system,Park Distance Control,Parking assist system sensors front,Parking assist system sensors rear,Power windows,Rain sensor,Seat heating,Start-stop system',\n",
       " 'Air conditioning,Armrest,Automatic climate control,Electrical side mirrors,Hill Holder,Leather steering wheel,Light sensor,Lumbar support,Multi-function steering wheel,Park Distance Control,Parking assist system sensors rear,Power windows,Rain sensor,Seat heating,Start-stop system',\n",
       " 'Air conditioning,Armrest,Electrical side mirrors,Light sensor,Multi-function steering wheel,Power windows,Rain sensor',\n",
       " 'Air conditioning,Automatic climate control,Electrical side mirrors,Leather steering wheel,Light sensor,Multi-function steering wheel,Park Distance Control,Parking assist system sensors rear,Power windows,Start-stop system',\n",
       " 'Air conditioning,Armrest,Electrical side mirrors,Hill Holder,Leather steering wheel,Light sensor,Lumbar support,Multi-function steering wheel,Park Distance Control,Parking assist system sensors rear,Power windows,Rain sensor,Seat heating,Start-stop system',\n",
       " 'Air conditioning,Electrical side mirrors,Hill Holder,Leather steering wheel,Lumbar support,Multi-function steering wheel,Park Distance Control,Parking assist system sensors rear,Power windows,Seat heating,Start-stop system',\n",
       " 'Air conditioning,Armrest,Automatic climate control,Electrical side mirrors,Hill Holder,Light sensor,Lumbar support,Multi-function steering wheel,Navigation system,Park Distance Control,Parking assist system sensors rear,Power windows,Rain sensor,Seat heating,Start-stop system',\n",
       " 'Air conditioning,Armrest,Automatic climate control,Electrical side mirrors,Hill Holder,Leather steering wheel,Light sensor,Multi-function steering wheel,Navigation system,Park Distance Control,Parking assist system sensors rear,Power windows,Rain sensor,Seat heating,Start-stop system',\n",
       " 'Air conditioning,Armrest,Automatic climate control,Electrical side mirrors,Hill Holder,Leather steering wheel,Light sensor,Lumbar support,Multi-function steering wheel,Panorama roof,Park Distance Control,Parking assist system sensors rear,Power windows,Rain sensor,Seat heating,Start-stop system',\n",
       " 'Air conditioning,Armrest,Automatic climate control,Electrical side mirrors,Hill Holder,Keyless central door lock,Leather steering wheel,Light sensor,Multi-function steering wheel,Navigation system,Panorama roof,Park Distance Control,Parking assist system sensors rear,Power windows,Rain sensor,Seat heating,Split rear seats,Start-stop system,Tinted windows',\n",
       " 'Air conditioning,Armrest,Cruise control,Electrical side mirrors,Navigation system,Park Distance Control,Parking assist system sensors rear,Power windows,Start-stop system',\n",
       " 'Air conditioning,Armrest,Automatic climate control,Cruise control,Electrical side mirrors,Hill Holder,Leather steering wheel,Light sensor,Lumbar support,Multi-function steering wheel,Navigation system,Park Distance Control,Parking assist system sensors rear,Power windows,Rain sensor,Seat heating,Start-stop system,Tinted windows',\n",
       " nan,\n",
       " 'Air conditioning,Armrest,Automatic climate control,Hill Holder,Leather steering wheel,Light sensor,Lumbar support,Multi-function steering wheel,Navigation system,Parking assist system sensors rear,Power windows,Rain sensor,Seat heating,Split rear seats,Start-stop system',\n",
       " 'Air conditioning,Armrest,Automatic climate control,Cruise control,Electrical side mirrors,Hill Holder,Multi-function steering wheel,Park Distance Control,Parking assist system sensors front,Parking assist system sensors rear',\n",
       " 'Air conditioning,Armrest,Automatic climate control,Electrical side mirrors,Leather steering wheel,Light sensor,Park Distance Control,Parking assist system sensors rear,Power windows,Rain sensor',\n",
       " 'Air conditioning,Armrest,Automatic climate control,Cruise control,Electrical side mirrors,Hill Holder,Leather steering wheel,Light sensor,Multi-function steering wheel,Navigation system,Park Distance Control,Parking assist system sensors front,Parking assist system sensors rear,Power windows,Rain sensor,Seat heating,Start-stop system',\n",
       " 'Electrical side mirrors,Power windows,Split rear seats,Start-stop system',\n",
       " 'Air conditioning,Armrest,Automatic climate control,Cruise control,Electrical side mirrors,Hill Holder,Leather steering wheel,Light sensor,Multi-function steering wheel,Navigation system,Park Distance Control,Parking assist system sensors front,Parking assist system sensors rear,Power windows,Rain sensor,Seat heating,Start-stop system',\n",
       " 'Air conditioning,Armrest,Automatic climate control,Electrical side mirrors,Hill Holder,Leather steering wheel,Light sensor,Lumbar support,Multi-function steering wheel,Navigation system,Panorama roof,Park Distance Control,Parking assist system sensors front,Parking assist system sensors rear,Power windows,Rain sensor,Seat heating,Sunroof',\n",
       " 'Air conditioning,Automatic climate control,Cruise control,Electrical side mirrors,Light sensor,Multi-function steering wheel,Power windows,Rain sensor,Split rear seats',\n",
       " 'Air conditioning,Armrest,Automatic climate control,Electrical side mirrors,Hill Holder,Leather steering wheel,Light sensor,Lumbar support,Multi-function steering wheel,Navigation system,Park Distance Control,Parking assist system sensors rear,Power windows,Rain sensor,Seat heating,Start-stop system',\n",
       " 'Air conditioning,Armrest,Automatic climate control,Cruise control,Electrical side mirrors,Leather steering wheel,Light sensor,Multi-function steering wheel,Navigation system,Panorama roof,Park Distance Control,Parking assist system sensors front,Parking assist system sensors rear,Power windows,Rain sensor,Seat heating,Start-stop system,Sunroof',\n",
       " 'Air conditioning,Armrest,Automatic climate control,Electrical side mirrors,Leather steering wheel,Light sensor,Multi-function steering wheel,Park Distance Control,Parking assist system sensors rear,Power windows,Rain sensor,Seat heating,Start-stop system',\n",
       " 'Air conditioning,Electrical side mirrors,Hill Holder,Leather steering wheel,Lumbar support,Multi-function steering wheel,Park Distance Control,Parking assist system sensors rear,Power windows,Seat heating,Start-stop system',\n",
       " 'Air conditioning,Armrest,Automatic climate control,Electrical side mirrors,Hill Holder,Leather steering wheel,Light sensor,Lumbar support,Multi-function steering wheel,Navigation system,Park Distance Control,Parking assist system sensors rear,Power windows,Rain sensor,Seat heating,Start-stop system',\n",
       " 'Air conditioning,Armrest,Automatic climate control,Electrical side mirrors,Hill Holder,Leather steering wheel,Light sensor,Lumbar support,Multi-function steering wheel,Park Distance Control,Parking assist system sensors rear,Power windows,Rain sensor,Seat heating,Start-stop system',\n",
       " 'Air conditioning,Armrest,Automatic climate control,Electrical side mirrors,Hill Holder,Leather steering wheel,Light sensor,Multi-function steering wheel,Park Distance Control,Parking assist system sensors rear,Power windows,Rain sensor,Seat heating,Start-stop system',\n",
       " 'Air conditioning,Armrest,Cruise control,Electrical side mirrors,Hill Holder,Leather steering wheel,Light sensor,Lumbar support,Multi-function steering wheel,Navigation system,Park Distance Control,Parking assist system sensors rear,Power windows,Seat heating,Start-stop system,Tinted windows',\n",
       " 'Air conditioning,Armrest,Automatic climate control,Electrical side mirrors,Leather steering wheel,Light sensor,Multi-function steering wheel,Park Distance Control,Parking assist system sensors rear,Power windows,Rain sensor,Seat heating,Start-stop system',\n",
       " 'Air conditioning,Armrest,Automatic climate control,Cruise control,Electrical side mirrors,Hill Holder,Leather steering wheel,Light sensor,Multi-function steering wheel,Park Distance Control,Parking assist system sensors rear,Power windows,Rain sensor,Seat heating,Start-stop system',\n",
       " 'Air conditioning,Cruise control,Electrical side mirrors,Hill Holder,Leather steering wheel,Light sensor,Multi-function steering wheel,Navigation system,Park Distance Control,Parking assist system sensors rear,Power windows,Start-stop system,Tinted windows',\n",
       " 'Air conditioning,Armrest,Automatic climate control,Electrical side mirrors,Hill Holder,Leather steering wheel,Light sensor,Lumbar support,Multi-function steering wheel,Park Distance Control,Parking assist system sensors front,Parking assist system sensors rear,Power windows,Rain sensor,Seat heating,Start-stop system,Tinted windows',\n",
       " 'Air conditioning,Armrest,Automatic climate control,Electrical side mirrors,Hill Holder,Leather steering wheel,Light sensor,Multi-function steering wheel,Park Distance Control,Parking assist system sensors rear,Power windows,Rain sensor,Seat heating,Start-stop system',\n",
       " 'Air conditioning,Multi-function steering wheel,Power windows,Start-stop system',\n",
       " nan,\n",
       " 'Air conditioning,Armrest,Automatic climate control,Electrical side mirrors,Hill Holder,Light sensor,Multi-function steering wheel,Park Distance Control,Parking assist system sensors rear,Power windows,Rain sensor,Seat heating,Start-stop system',\n",
       " 'Air conditioning,Armrest,Cruise control,Electrical side mirrors,Hill Holder,Leather steering wheel,Light sensor,Lumbar support,Multi-function steering wheel,Power windows,Split rear seats,Start-stop system',\n",
       " 'Air conditioning,Armrest,Electrical side mirrors,Hill Holder,Leather steering wheel,Light sensor,Lumbar support,Multi-function steering wheel,Park Distance Control,Parking assist system sensors front,Parking assist system sensors rear,Power windows,Rain sensor,Seat heating,Start-stop system',\n",
       " 'Air conditioning,Electrical side mirrors,Park Distance Control,Parking assist system sensors rear,Power windows,Split rear seats',\n",
       " 'Air conditioning,Armrest,Automatic climate control,Electrical side mirrors,Leather steering wheel,Light sensor,Lumbar support,Multi-function steering wheel,Navigation system,Park Distance Control,Parking assist system sensors rear,Power windows,Rain sensor,Seat heating,Start-stop system',\n",
       " 'Air conditioning,Auxiliary heating,Electrical side mirrors,Light sensor,Multi-function steering wheel,Navigation system,Park Distance Control,Parking assist system sensors front,Parking assist system sensors rear,Power windows,Rain sensor,Start-stop system',\n",
       " 'Air conditioning,Power windows',\n",
       " 'Air conditioning,Automatic climate control,Power windows',\n",
       " 'Air conditioning,Armrest,Automatic climate control,Cruise control,Electrical side mirrors,Keyless central door lock,Leather steering wheel,Light sensor,Multi-function steering wheel,Navigation system,Park Distance Control,Parking assist system sensors rear,Power windows,Rain sensor,Seat heating,Start-stop system',\n",
       " 'Air conditioning,Auxiliary heating,Electrical side mirrors,Light sensor,Multi-function steering wheel,Navigation system,Park Distance Control,Parking assist system sensors front,Parking assist system sensors rear,Power windows,Rain sensor,Start-stop system',\n",
       " 'Air conditioning,Armrest,Automatic climate control,Electrical side mirrors,Hill Holder,Leather steering wheel,Light sensor,Lumbar support,Park Distance Control,Parking assist system sensors front,Parking assist system sensors rear,Power windows,Rain sensor,Seat heating,Start-stop system',\n",
       " 'Electrical side mirrors,Power windows,Split rear seats,Start-stop system',\n",
       " 'Air conditioning,Armrest,Automatic climate control,Electrical side mirrors,Hill Holder,Light sensor,Multi-function steering wheel,Park Distance Control,Parking assist system sensors rear,Power windows,Rain sensor,Seat heating,Start-stop system',\n",
       " 'Air conditioning,Automatic climate control,Leather steering wheel,Multi-function steering wheel,Park Distance Control,Parking assist system camera,Power windows,Split rear seats',\n",
       " 'Air conditioning,Armrest,Automatic climate control,Cruise control,Electrical side mirrors,Hill Holder,Leather steering wheel,Light sensor,Lumbar support,Multi-function steering wheel,Navigation system,Park Distance Control,Parking assist system sensors rear,Power windows,Rain sensor,Seat heating,Split rear seats,Start-stop system,Tinted windows',\n",
       " 'Air conditioning,Armrest,Automatic climate control,Cruise control,Electrical side mirrors,Leather steering wheel,Light sensor,Lumbar support,Multi-function steering wheel,Navigation system,Park Distance Control,Parking assist system sensors rear,Power windows,Rain sensor,Seat heating,Start-stop system',\n",
       " 'Air conditioning,Automatic climate control,Cruise control,Electrical side mirrors,Light sensor,Multi-function steering wheel,Navigation system,Park Distance Control,Power windows,Rain sensor,Split rear seats',\n",
       " 'Air conditioning,Armrest,Automatic climate control,Cruise control,Electrical side mirrors,Hill Holder,Leather steering wheel,Light sensor,Multi-function steering wheel,Navigation system,Park Distance Control,Parking assist system sensors rear,Power windows,Rain sensor,Seat heating,Split rear seats,Start-stop system,Tinted windows',\n",
       " 'Air conditioning,Automatic climate control,Cruise control,Electrical side mirrors,Light sensor,Multi-function steering wheel,Power windows,Rain sensor,Seat heating,Split rear seats',\n",
       " 'Air conditioning,Armrest,Automatic climate control,Cruise control,Electrical side mirrors,Keyless central door lock,Leather steering wheel,Light sensor,Multi-function steering wheel,Power windows,Rain sensor,Seat heating,Start-stop system',\n",
       " 'Air conditioning,Armrest,Automatic climate control,Electrical side mirrors,Hill Holder,Leather steering wheel,Light sensor,Multi-function steering wheel,Navigation system,Park Distance Control,Parking assist system sensors rear,Power windows,Rain sensor,Seat heating,Start-stop system',\n",
       " 'Air conditioning,Armrest,Electrical side mirrors,Hill Holder,Leather steering wheel,Light sensor,Panorama roof,Park Distance Control,Parking assist system sensors front,Parking assist system sensors rear,Power windows,Rain sensor,Start-stop system',\n",
       " 'Air conditioning,Armrest,Automatic climate control,Electrical side mirrors,Hill Holder,Leather steering wheel,Light sensor,Multi-function steering wheel,Park Distance Control,Parking assist system sensors rear,Power windows,Rain sensor,Seat heating,Start-stop system',\n",
       " 'Air conditioning,Armrest,Automatic climate control,Electrical side mirrors,Leather steering wheel,Light sensor,Multi-function steering wheel,Park Distance Control,Parking assist system sensors rear,Power windows,Rain sensor,Seat heating,Start-stop system',\n",
       " 'Air conditioning,Armrest,Electrical side mirrors,Hill Holder,Leather steering wheel,Light sensor,Lumbar support,Multi-function steering wheel,Park Distance Control,Parking assist system sensors rear,Power windows,Rain sensor',\n",
       " 'Air conditioning,Automatic climate control,Electrical side mirrors,Hill Holder,Leather steering wheel,Light sensor,Multi-function steering wheel,Navigation system,Park Distance Control,Parking assist system sensors rear,Power windows,Rain sensor,Seat heating,Start-stop system',\n",
       " 'Air conditioning,Armrest,Automatic climate control,Electrical side mirrors,Hill Holder,Leather steering wheel,Light sensor,Lumbar support,Multi-function steering wheel,Park Distance Control,Parking assist system sensors rear,Power windows,Rain sensor,Seat heating,Start-stop system',\n",
       " 'Air conditioning,Armrest,Electrically heated windshield,Heads-up display,Hill Holder,Keyless central door lock,Leather steering wheel,Light sensor,Lumbar support,Multi-function steering wheel,Navigation system,Power windows,Rain sensor,Seat heating,Split rear seats,Start-stop system',\n",
       " 'Air conditioning,Armrest,Automatic climate control,Electrical side mirrors,Hill Holder,Leather steering wheel,Light sensor,Multi-function steering wheel,Navigation system,Park Distance Control,Parking assist system sensors rear,Power windows,Rain sensor,Seat heating,Start-stop system',\n",
       " 'Air conditioning,Armrest,Automatic climate control,Electrical side mirrors,Hill Holder,Leather steering wheel,Light sensor,Multi-function steering wheel,Navigation system,Park Distance Control,Parking assist system sensors front,Parking assist system sensors rear,Power windows,Rain sensor,Seat heating,Start-stop system',\n",
       " 'Air conditioning,Armrest,Automatic climate control,Cruise control,Hill Holder,Light sensor,Navigation system,Park Distance Control,Parking assist system sensors rear,Power windows,Rain sensor,Seat heating,Start-stop system',\n",
       " 'Air conditioning,Armrest,Automatic climate control,Electrical side mirrors,Hill Holder,Leather steering wheel,Light sensor,Lumbar support,Multi-function steering wheel,Park Distance Control,Parking assist system sensors rear,Power windows,Rain sensor,Seat heating,Start-stop system',\n",
       " 'Air conditioning,Armrest,Automatic climate control,Leather steering wheel,Multi-function steering wheel,Park Distance Control,Parking assist system sensors rear,Power windows,Start-stop system',\n",
       " 'Air conditioning,Automatic climate control,Electrical side mirrors,Hill Holder,Leather steering wheel,Light sensor,Park Distance Control,Parking assist system sensors front,Parking assist system sensors rear,Power windows,Rain sensor,Seat heating,Start-stop system',\n",
       " 'Air conditioning,Armrest,Automatic climate control,Electrical side mirrors,Leather steering wheel,Light sensor,Multi-function steering wheel,Navigation system,Park Distance Control,Parking assist system sensors rear,Power windows,Rain sensor,Seat heating,Start-stop system',\n",
       " 'Air conditioning,Armrest,Automatic climate control,Cruise control,Electrical side mirrors,Hill Holder,Keyless central door lock,Leather steering wheel,Light sensor,Lumbar support,Multi-function steering wheel,Navigation system,Park Distance Control,Parking assist system sensors front,Parking assist system sensors rear,Power windows,Rain sensor,Seat heating,Start-stop system',\n",
       " 'Air conditioning,Automatic climate control,Navigation system,Park Distance Control,Power windows,Seat heating,Start-stop system',\n",
       " 'Armrest,Multi-function steering wheel,Panorama roof',\n",
       " 'Air conditioning,Armrest,Automatic climate control,Electrical side mirrors,Leather steering wheel,Light sensor,Multi-function steering wheel,Navigation system,Power windows,Rain sensor,Seat heating,Seat ventilation,Split rear seats,Start-stop system,Tinted windows',\n",
       " 'Air conditioning,Automatic climate control,Navigation system,Park Distance Control,Power windows,Seat heating,Start-stop system',\n",
       " 'Air conditioning,Armrest,Electrical side mirrors,Hill Holder,Leather steering wheel,Multi-function steering wheel,Power windows',\n",
       " 'Air conditioning,Automatic climate control,Cruise control,Electrical side mirrors,Light sensor,Multi-function steering wheel,Navigation system,Park Distance Control,Parking assist system sensors rear,Power windows,Rain sensor,Split rear seats',\n",
       " 'Air conditioning,Armrest,Automatic climate control,Electrical side mirrors,Hill Holder,Leather steering wheel,Light sensor,Lumbar support,Multi-function steering wheel,Park Distance Control,Parking assist system sensors rear,Power windows,Rain sensor,Seat heating,Start-stop system',\n",
       " 'Air conditioning,Automatic climate control,Electrical side mirrors,Hill Holder,Leather steering wheel,Light sensor,Multi-function steering wheel,Park Distance Control,Parking assist system sensors rear,Power windows,Rain sensor,Start-stop system',\n",
       " 'Air conditioning,Electrical side mirrors,Hill Holder,Park Distance Control,Parking assist system sensors rear,Power windows,Seat heating,Start-stop system',\n",
       " 'Air conditioning,Automatic climate control,Hill Holder,Leather steering wheel,Light sensor,Multi-function steering wheel,Park Distance Control,Parking assist system sensors front,Parking assist system sensors rear,Power windows,Rain sensor,Seat heating,Start-stop system',\n",
       " 'Air conditioning,Armrest,Automatic climate control,Electrical side mirrors,Leather steering wheel,Light sensor,Lumbar support,Multi-function steering wheel,Navigation system,Park Distance Control,Parking assist system sensors front,Parking assist system sensors rear,Power windows,Rain sensor,Start-stop system',\n",
       " 'Air conditioning,Armrest,Automatic climate control,Electrical side mirrors,Hill Holder,Leather steering wheel,Light sensor,Multi-function steering wheel,Navigation system,Park Distance Control,Parking assist system sensors rear,Power windows,Rain sensor,Seat heating,Start-stop system',\n",
       " 'Air conditioning,Armrest,Automatic climate control,Cruise control,Electrical side mirrors,Hill Holder,Leather steering wheel,Light sensor,Lumbar support,Multi-function steering wheel,Navigation system,Park Distance Control,Parking assist system sensors front,Parking assist system sensors rear,Power windows,Rain sensor,Seat heating,Start-stop system',\n",
       " 'Air conditioning,Armrest,Electrical side mirrors,Hill Holder,Leather steering wheel,Lumbar support,Multi-function steering wheel,Navigation system,Park Distance Control,Parking assist system sensors front,Parking assist system sensors rear,Power windows,Seat heating,Start-stop system',\n",
       " 'Air conditioning,Armrest,Automatic climate control,Electrical side mirrors,Hill Holder,Leather steering wheel,Light sensor,Multi-function steering wheel,Navigation system,Power windows,Rain sensor,Seat heating,Start-stop system',\n",
       " 'Air conditioning,Armrest,Automatic climate control,Cruise control,Electrical side mirrors,Hill Holder,Leather steering wheel,Light sensor,Multi-function steering wheel,Park Distance Control,Parking assist system sensors rear,Power windows,Rain sensor,Seat heating,Start-stop system',\n",
       " 'Armrest,Electrical side mirrors,Leather steering wheel,Multi-function steering wheel,Parking assist system sensors front,Parking assist system sensors rear,Start-stop system',\n",
       " 'Air conditioning,Electrical side mirrors,Hill Holder,Leather steering wheel,Multi-function steering wheel,Navigation system,Power windows,Start-stop system',\n",
       " 'Air conditioning,Armrest,Automatic climate control,Cruise control,Electrical side mirrors,Leather steering wheel,Light sensor,Lumbar support,Multi-function steering wheel,Park Distance Control,Parking assist system sensors rear,Power windows,Rain sensor,Seat heating,Split rear seats,Start-stop system',\n",
       " 'Air conditioning',\n",
       " 'Air conditioning,Armrest,Automatic climate control,Electrical side mirrors,Hill Holder,Leather steering wheel,Light sensor,Multi-function steering wheel,Park Distance Control,Parking assist system sensors rear,Power windows,Rain sensor,Seat heating,Start-stop system',\n",
       " 'Air conditioning,Armrest,Automatic climate control,Cruise control,Electrical side mirrors,Hill Holder,Keyless central door lock,Light sensor,Lumbar support,Multi-function steering wheel,Navigation system,Park Distance Control,Parking assist system sensors rear,Power windows,Rain sensor,Seat heating,Split rear seats,Start-stop system,Tinted windows',\n",
       " 'Air conditioning,Automatic climate control,Cruise control,Electrical side mirrors,Light sensor,Multi-function steering wheel,Power windows,Rain sensor,Split rear seats',\n",
       " 'Armrest,Cruise control,Electrical side mirrors,Leather steering wheel,Light sensor,Lumbar support,Multi-function steering wheel,Parking assist system sensors rear,Power windows,Rain sensor,Seat heating,Split rear seats,Start-stop system',\n",
       " 'Air conditioning,Armrest,Automatic climate control,Cruise control,Electrical side mirrors,Hill Holder,Park Distance Control,Parking assist system sensors rear,Seat heating',\n",
       " 'Air conditioning,Armrest,Automatic climate control,Cruise control,Electrical side mirrors,Hill Holder,Keyless central door lock,Leather steering wheel,Light sensor,Multi-function steering wheel,Park Distance Control,Parking assist system sensors front,Parking assist system sensors rear,Power windows,Rain sensor,Seat heating,Start-stop system',\n",
       " 'Air conditioning,Armrest,Electrical side mirrors,Heads-up display,Leather steering wheel,Multi-function steering wheel,Power windows,Split rear seats,Start-stop system,Tinted windows',\n",
       " 'Air conditioning,Electrical side mirrors,Hill Holder,Leather steering wheel,Lumbar support,Multi-function steering wheel,Park Distance Control,Parking assist system sensors rear,Power windows,Seat heating,Start-stop system',\n",
       " 'Air conditioning,Armrest,Automatic climate control,Cruise control,Electrical side mirrors,Hill Holder,Leather steering wheel,Light sensor,Lumbar support,Multi-function steering wheel,Park Distance Control,Parking assist system sensors rear,Power windows,Rain sensor,Seat heating,Start-stop system',\n",
       " 'Air conditioning,Armrest,Automatic climate control,Cruise control,Electrical side mirrors,Leather steering wheel,Light sensor,Multi-function steering wheel,Navigation system,Park Distance Control,Parking assist system sensors rear,Power windows,Rain sensor,Seat heating,Start-stop system',\n",
       " 'Air conditioning,Automatic climate control,Electrical side mirrors,Hill Holder,Leather steering wheel,Light sensor,Lumbar support,Multi-function steering wheel,Park Distance Control,Parking assist system sensors rear,Power windows,Rain sensor,Seat heating,Start-stop system',\n",
       " 'Air conditioning,Armrest,Automatic climate control,Hill Holder,Leather steering wheel,Light sensor,Lumbar support,Multi-function steering wheel,Navigation system,Park Distance Control,Parking assist system sensors rear,Power windows,Rain sensor,Seat heating,Split rear seats,Start-stop system,Tinted windows',\n",
       " 'Air conditioning,Armrest,Automatic climate control,Electrical side mirrors,Leather steering wheel,Light sensor,Multi-function steering wheel,Navigation system,Panorama roof,Park Distance Control,Parking assist system sensors rear,Power windows,Rain sensor,Seat heating,Start-stop system,Sunroof',\n",
       " 'Air conditioning',\n",
       " 'Air conditioning,Power windows',\n",
       " 'Air conditioning,Armrest,Automatic climate control,Electrical side mirrors,Hill Holder,Keyless central door lock,Leather steering wheel,Light sensor,Multi-function steering wheel,Park Distance Control,Parking assist system sensors front,Parking assist system sensors rear,Power windows,Rain sensor,Seat heating,Start-stop system',\n",
       " 'Air conditioning,Automatic climate control,Electrical side mirrors,Hill Holder,Leather steering wheel,Light sensor,Multi-function steering wheel,Navigation system,Panorama roof,Park Distance Control,Parking assist system sensors front,Parking assist system sensors rear,Power windows,Rain sensor,Seat heating,Start-stop system,Sunroof',\n",
       " 'Air conditioning,Armrest,Automatic climate control,Electrical side mirrors,Hill Holder,Leather steering wheel,Light sensor,Lumbar support,Multi-function steering wheel,Park Distance Control,Parking assist system sensors rear,Power windows,Rain sensor,Seat heating,Start-stop system',\n",
       " 'Air conditioning,Armrest,Automatic climate control,Electrical side mirrors,Hill Holder,Keyless central door lock,Leather steering wheel,Light sensor,Lumbar support,Multi-function steering wheel,Navigation system,Park Distance Control,Parking assist system sensors rear,Power windows,Rain sensor,Seat heating,Start-stop system',\n",
       " 'Air conditioning,Armrest,Automatic climate control,Cruise control,Electrical side mirrors,Hill Holder,Leather steering wheel,Light sensor,Multi-function steering wheel,Park Distance Control,Parking assist system sensors rear,Power windows,Rain sensor,Seat heating,Start-stop system',\n",
       " 'Air conditioning,Armrest,Automatic climate control,Cruise control,Electrical side mirrors,Hill Holder,Leather steering wheel,Light sensor,Lumbar support,Multi-function steering wheel,Navigation system,Park Distance Control,Parking assist system sensors front,Parking assist system sensors rear,Power windows,Rain sensor,Seat heating,Split rear seats,Start-stop system,Tinted windows',\n",
       " 'Air conditioning,Armrest,Automatic climate control,Electrical side mirrors,Hill Holder,Leather steering wheel,Light sensor,Multi-function steering wheel,Park Distance Control,Parking assist system sensors rear,Power windows,Rain sensor,Seat heating,Start-stop system',\n",
       " 'Air conditioning,Automatic climate control,Cruise control,Electrical side mirrors,Light sensor,Multi-function steering wheel,Park Distance Control,Parking assist system sensors rear,Power windows,Rain sensor,Split rear seats',\n",
       " 'Air conditioning,Automatic climate control,Electrical side mirrors,Hill Holder,Leather steering wheel,Light sensor,Lumbar support,Multi-function steering wheel,Navigation system,Park Distance Control,Parking assist system sensors front,Parking assist system sensors rear,Power windows,Rain sensor,Seat heating,Start-stop system',\n",
       " 'Air conditioning,Armrest,Automatic climate control,Electrical side mirrors,Hill Holder,Leather steering wheel,Light sensor,Lumbar support,Multi-function steering wheel,Navigation system,Park Distance Control,Power windows,Rain sensor,Seat heating,Start-stop system',\n",
       " 'Air conditioning,Cruise control,Electrical side mirrors,Hill Holder,Leather steering wheel,Multi-function steering wheel,Navigation system,Park Distance Control,Parking assist system sensors front,Parking assist system sensors rear,Power windows,Seat heating,Start-stop system',\n",
       " 'Air conditioning,Automatic climate control,Power windows,Start-stop system',\n",
       " 'Air conditioning,Automatic climate control,Cruise control,Electrical side mirrors,Light sensor,Multi-function steering wheel,Navigation system,Park Distance Control,Parking assist system sensors rear,Power windows,Rain sensor,Seat heating,Start-stop system',\n",
       " 'Air conditioning,Armrest,Automatic climate control,Cruise control,Electrical side mirrors,Hill Holder,Leather steering wheel,Light sensor,Lumbar support,Multi-function steering wheel,Navigation system,Park Distance Control,Parking assist system sensors rear,Power windows,Rain sensor,Start-stop system',\n",
       " nan,\n",
       " 'Air conditioning,Armrest,Automatic climate control,Cruise control,Hill Holder,Park Distance Control,Parking assist system sensors rear,Power windows,Rain sensor,Seat heating,Start-stop system',\n",
       " 'Air conditioning,Armrest,Automatic climate control,Cruise control,Electrical side mirrors,Leather steering wheel,Light sensor,Lumbar support,Multi-function steering wheel,Navigation system,Parking assist system sensors rear,Power windows,Rain sensor,Seat heating,Split rear seats,Start-stop system',\n",
       " 'Air conditioning,Automatic climate control,Cruise control,Electrical side mirrors,Leather steering wheel,Light sensor,Lumbar support,Multi-function steering wheel,Navigation system,Park Distance Control,Parking assist system sensors rear,Power windows,Rain sensor,Seat heating,Split rear seats,Start-stop system,Tinted windows',\n",
       " 'Air conditioning,Armrest,Electrical side mirrors,Hill Holder,Leather steering wheel,Light sensor,Lumbar support,Multi-function steering wheel,Navigation system,Park Distance Control,Parking assist system sensors rear,Power windows,Rain sensor,Seat heating,Start-stop system',\n",
       " 'Air conditioning,Automatic climate control,Electrical side mirrors,Keyless central door lock,Leather steering wheel,Light sensor,Lumbar support,Multi-function steering wheel,Power windows,Rain sensor,Seat heating,Start-stop system,Tinted windows',\n",
       " 'Air conditioning,Armrest,Automatic climate control,Electrical side mirrors,Hill Holder,Light sensor,Multi-function steering wheel,Navigation system,Park Distance Control,Parking assist system sensors front,Parking assist system sensors rear,Power windows,Rain sensor,Seat heating,Start-stop system',\n",
       " 'Air conditioning,Armrest,Electrical side mirrors,Hill Holder,Leather steering wheel,Multi-function steering wheel,Navigation system,Park Distance Control,Parking assist system sensors front,Parking assist system sensors rear,Power windows,Seat heating,Start-stop system,Tinted windows',\n",
       " 'Air conditioning,Armrest,Hill Holder,Leather steering wheel,Light sensor,Multi-function steering wheel,Navigation system,Park Distance Control,Parking assist system sensors front,Parking assist system sensors rear,Power windows,Rain sensor,Seat heating,Start-stop system',\n",
       " 'Air conditioning,Automatic climate control,Electrical side mirrors,Light sensor,Navigation system,Park Distance Control,Parking assist system sensors front,Parking assist system sensors rear,Power windows,Rain sensor',\n",
       " 'Air conditioning,Armrest,Automatic climate control,Electrical side mirrors,Hill Holder,Keyless central door lock,Leather steering wheel,Light sensor,Lumbar support,Multi-function steering wheel,Navigation system,Park Distance Control,Parking assist system sensors rear,Power windows,Rain sensor,Seat heating,Start-stop system',\n",
       " 'Air conditioning,Armrest,Automatic climate control,Cruise control,Electrically heated windshield,Leather steering wheel,Multi-function steering wheel,Navigation system,Park Distance Control,Parking assist system sensors rear,Power windows,Seat heating,Start-stop system',\n",
       " 'Air conditioning,Automatic climate control,Electrical side mirrors,Hill Holder,Leather steering wheel,Light sensor,Lumbar support,Multi-function steering wheel,Navigation system,Park Distance Control,Parking assist system sensors rear,Power windows,Rain sensor,Seat heating,Start-stop system',\n",
       " 'Air conditioning,Armrest,Electrical side mirrors,Hill Holder,Light sensor,Multi-function steering wheel,Park Distance Control,Parking assist system sensors front,Parking assist system sensors rear,Power windows,Rain sensor,Seat heating,Start-stop system',\n",
       " 'Air conditioning,Armrest,Automatic climate control,Electrical side mirrors,Hill Holder,Keyless central door lock,Leather steering wheel,Light sensor,Lumbar support,Multi-function steering wheel,Navigation system,Park Distance Control,Parking assist system sensors rear,Power windows,Rain sensor,Seat heating,Start-stop system',\n",
       " 'Air conditioning,Armrest,Automatic climate control,Electrical side mirrors,Hill Holder,Keyless central door lock,Leather steering wheel,Light sensor,Lumbar support,Multi-function steering wheel,Navigation system,Park Distance Control,Parking assist system sensors rear,Power windows,Rain sensor,Seat heating,Start-stop system',\n",
       " 'Air conditioning,Armrest,Automatic climate control,Electrical side mirrors,Hill Holder,Keyless central door lock,Leather steering wheel,Light sensor,Lumbar support,Multi-function steering wheel,Navigation system,Park Distance Control,Parking assist system sensors rear,Power windows,Rain sensor,Seat heating,Start-stop system',\n",
       " 'Air conditioning,Armrest,Automatic climate control,Electrical side mirrors,Hill Holder,Keyless central door lock,Leather steering wheel,Light sensor,Lumbar support,Multi-function steering wheel,Navigation system,Park Distance Control,Parking assist system sensors rear,Power windows,Rain sensor,Seat heating,Start-stop system',\n",
       " 'Air conditioning,Armrest,Automatic climate control,Electrical side mirrors,Hill Holder,Keyless central door lock,Leather steering wheel,Light sensor,Lumbar support,Multi-function steering wheel,Navigation system,Park Distance Control,Parking assist system sensors rear,Power windows,Rain sensor,Seat heating,Start-stop system',\n",
       " 'Air conditioning,Armrest,Automatic climate control,Electrical side mirrors,Hill Holder,Keyless central door lock,Leather steering wheel,Light sensor,Lumbar support,Multi-function steering wheel,Navigation system,Park Distance Control,Parking assist system sensors rear,Power windows,Rain sensor,Seat heating,Start-stop system',\n",
       " 'Air conditioning,Armrest,Automatic climate control,Electrical side mirrors,Hill Holder,Keyless central door lock,Leather steering wheel,Light sensor,Lumbar support,Multi-function steering wheel,Navigation system,Park Distance Control,Parking assist system sensors rear,Power windows,Rain sensor,Seat heating,Start-stop system',\n",
       " 'Air conditioning,Armrest,Automatic climate control,Electrical side mirrors,Hill Holder,Keyless central door lock,Leather steering wheel,Light sensor,Lumbar support,Multi-function steering wheel,Navigation system,Park Distance Control,Parking assist system sensors rear,Power windows,Rain sensor,Seat heating,Start-stop system',\n",
       " 'Air conditioning,Armrest,Electrical side mirrors,Leather steering wheel,Park Distance Control,Parking assist system sensors rear,Power windows,Seat ventilation,Split rear seats,Start-stop system',\n",
       " 'Air conditioning,Armrest,Automatic climate control,Electrical side mirrors,Hill Holder,Keyless central door lock,Leather steering wheel,Light sensor,Lumbar support,Multi-function steering wheel,Navigation system,Park Distance Control,Parking assist system sensors rear,Power windows,Rain sensor,Seat heating,Start-stop system',\n",
       " 'Air conditioning,Electrical side mirrors,Hill Holder,Leather steering wheel,Light sensor,Multi-function steering wheel,Navigation system,Park Distance Control,Parking assist system sensors rear,Power windows,Rain sensor,Start-stop system',\n",
       " 'Air conditioning,Armrest,Automatic climate control,Electrical side mirrors,Hill Holder,Keyless central door lock,Leather steering wheel,Light sensor,Lumbar support,Multi-function steering wheel,Navigation system,Park Distance Control,Parking assist system sensors rear,Power windows,Rain sensor,Seat heating,Start-stop system',\n",
       " 'Air conditioning,Armrest,Automatic climate control,Cruise control,Electrical side mirrors,Leather steering wheel,Light sensor,Multi-function steering wheel,Navigation system,Park Distance Control,Parking assist system sensors rear,Power windows,Rain sensor,Seat heating,Start-stop system',\n",
       " 'Air conditioning,Armrest,Automatic climate control,Cruise control,Electrical side mirrors,Hill Holder,Leather steering wheel,Light sensor,Lumbar support,Multi-function steering wheel,Navigation system,Park Distance Control,Parking assist system sensors front,Parking assist system sensors rear,Power windows,Rain sensor,Seat heating,Start-stop system',\n",
       " 'Air conditioning,Automatic climate control,Electrical side mirrors,Hill Holder,Leather steering wheel,Light sensor,Power windows,Rain sensor,Seat heating,Start-stop system',\n",
       " 'Air conditioning,Electrical side mirrors,Leather steering wheel,Park Distance Control,Power windows',\n",
       " 'Air conditioning,Electrical side mirrors,Hill Holder,Leather steering wheel,Multi-function steering wheel,Power windows,Start-stop system',\n",
       " 'Air conditioning,Electrical side mirrors,Light sensor,Park Distance Control,Parking assist system sensors rear,Power windows,Seat heating,Start-stop system',\n",
       " 'Air conditioning,Power windows',\n",
       " 'Air conditioning,Armrest,Automatic climate control,Leather steering wheel,Light sensor,Multi-function steering wheel,Navigation system,Park Distance Control,Parking assist system sensors rear,Power windows,Tinted windows',\n",
       " 'Air conditioning,Armrest,Automatic climate control,Electrical side mirrors,Hill Holder,Keyless central door lock,Leather steering wheel,Light sensor,Lumbar support,Multi-function steering wheel,Navigation system,Park Distance Control,Parking assist system sensors rear,Power windows,Rain sensor,Seat heating,Start-stop system',\n",
       " 'Air conditioning,Armrest,Automatic climate control,Electrical side mirrors,Hill Holder,Keyless central door lock,Leather steering wheel,Light sensor,Lumbar support,Multi-function steering wheel,Navigation system,Park Distance Control,Parking assist system sensors rear,Power windows,Rain sensor,Seat heating,Start-stop system',\n",
       " 'Air conditioning,Armrest,Automatic climate control,Electrical side mirrors,Hill Holder,Keyless central door lock,Leather steering wheel,Light sensor,Lumbar support,Multi-function steering wheel,Navigation system,Park Distance Control,Parking assist system sensors rear,Power windows,Rain sensor,Seat heating,Start-stop system',\n",
       " 'Air conditioning,Armrest,Automatic climate control,Electrical side mirrors,Hill Holder,Keyless central door lock,Leather steering wheel,Light sensor,Lumbar support,Multi-function steering wheel,Navigation system,Park Distance Control,Parking assist system sensors rear,Power windows,Rain sensor,Seat heating,Start-stop system',\n",
       " 'Air conditioning,Armrest,Automatic climate control,Electrical side mirrors,Hill Holder,Keyless central door lock,Leather steering wheel,Light sensor,Lumbar support,Multi-function steering wheel,Navigation system,Park Distance Control,Parking assist system sensors rear,Power windows,Rain sensor,Seat heating,Start-stop system',\n",
       " 'Air conditioning,Armrest,Automatic climate control,Electrical side mirrors,Hill Holder,Keyless central door lock,Leather steering wheel,Light sensor,Lumbar support,Multi-function steering wheel,Navigation system,Park Distance Control,Parking assist system sensors rear,Power windows,Rain sensor,Seat heating,Start-stop system',\n",
       " 'Air conditioning,Armrest,Automatic climate control,Electrical side mirrors,Hill Holder,Keyless central door lock,Leather steering wheel,Light sensor,Lumbar support,Multi-function steering wheel,Navigation system,Park Distance Control,Parking assist system sensors rear,Power windows,Rain sensor,Seat heating,Start-stop system',\n",
       " 'Air conditioning,Armrest,Automatic climate control,Electrical side mirrors,Hill Holder,Keyless central door lock,Leather steering wheel,Light sensor,Lumbar support,Multi-function steering wheel,Navigation system,Park Distance Control,Parking assist system sensors rear,Power windows,Rain sensor,Seat heating,Start-stop system',\n",
       " 'Air conditioning,Armrest,Automatic climate control,Electrical side mirrors,Hill Holder,Keyless central door lock,Leather steering wheel,Light sensor,Lumbar support,Multi-function steering wheel,Navigation system,Park Distance Control,Parking assist system sensors rear,Power windows,Rain sensor,Seat heating,Start-stop system',\n",
       " 'Air conditioning,Armrest,Automatic climate control,Electrical side mirrors,Hill Holder,Keyless central door lock,Leather steering wheel,Light sensor,Lumbar support,Multi-function steering wheel,Navigation system,Park Distance Control,Parking assist system sensors rear,Power windows,Rain sensor,Seat heating,Start-stop system',\n",
       " 'Air conditioning,Armrest,Automatic climate control,Electrical side mirrors,Hill Holder,Keyless central door lock,Leather steering wheel,Light sensor,Lumbar support,Multi-function steering wheel,Navigation system,Park Distance Control,Parking assist system sensors rear,Power windows,Rain sensor,Seat heating,Start-stop system',\n",
       " 'Air conditioning,Armrest,Automatic climate control,Electrical side mirrors,Hill Holder,Keyless central door lock,Leather steering wheel,Light sensor,Lumbar support,Multi-function steering wheel,Navigation system,Park Distance Control,Parking assist system sensors rear,Power windows,Rain sensor,Seat heating,Start-stop system',\n",
       " 'Air conditioning,Electrical side mirrors,Hill Holder,Leather steering wheel,Multi-function steering wheel,Navigation system,Park Distance Control,Parking assist system sensors rear,Power windows',\n",
       " 'Air conditioning,Armrest,Automatic climate control,Electrical side mirrors,Hill Holder,Keyless central door lock,Leather steering wheel,Light sensor,Lumbar support,Multi-function steering wheel,Navigation system,Park Distance Control,Parking assist system sensors rear,Power windows,Rain sensor,Seat heating,Start-stop system',\n",
       " 'Air conditioning,Armrest,Automatic climate control,Electrical side mirrors,Hill Holder,Keyless central door lock,Leather steering wheel,Light sensor,Lumbar support,Multi-function steering wheel,Navigation system,Park Distance Control,Parking assist system sensors rear,Power windows,Rain sensor,Seat heating,Start-stop system',\n",
       " 'Air conditioning,Armrest,Automatic climate control,Electrical side mirrors,Hill Holder,Keyless central door lock,Leather steering wheel,Light sensor,Lumbar support,Multi-function steering wheel,Navigation system,Park Distance Control,Parking assist system sensors rear,Power windows,Rain sensor,Seat heating,Start-stop system',\n",
       " 'Air conditioning,Armrest,Electrical side mirrors,Leather steering wheel,Multi-function steering wheel,Power windows,Start-stop system,Tinted windows',\n",
       " 'Air conditioning,Armrest,Automatic climate control,Cruise control,Electrical side mirrors,Hill Holder,Leather steering wheel,Light sensor,Lumbar support,Multi-function steering wheel,Panorama roof,Park Distance Control,Parking assist system sensors rear,Power windows,Rain sensor,Seat heating,Start-stop system,Sunroof',\n",
       " 'Air conditioning,Armrest,Automatic climate control,Cruise control,Hill Holder,Leather steering wheel,Light sensor,Lumbar support,Navigation system,Park Distance Control,Parking assist system sensors front,Parking assist system sensors rear,Power windows,Seat heating,Split rear seats,Start-stop system',\n",
       " 'Air conditioning,Electrical side mirrors,Keyless central door lock,Leather steering wheel,Light sensor,Multi-function steering wheel,Navigation system,Park Distance Control,Parking assist system sensors rear,Power windows,Rain sensor,Start-stop system',\n",
       " 'Air conditioning,Automatic climate control,Cruise control,Power windows',\n",
       " 'Air conditioning,Armrest,Electrical side mirrors,Leather steering wheel,Light sensor,Multi-function steering wheel,Power windows,Rain sensor,Seat ventilation,Split rear seats,Start-stop system',\n",
       " 'Air conditioning,Automatic climate control,Cruise control,Power windows',\n",
       " 'Electrical side mirrors,Power windows,Split rear seats,Start-stop system',\n",
       " 'Air conditioning,Armrest,Automatic climate control,Electrical side mirrors,Hill Holder,Leather steering wheel,Light sensor,Multi-function steering wheel,Navigation system,Power windows,Rain sensor,Seat heating,Start-stop system',\n",
       " 'Air conditioning,Armrest,Automatic climate control,Electrical side mirrors,Hill Holder,Keyless central door lock,Leather steering wheel,Light sensor,Lumbar support,Multi-function steering wheel,Navigation system,Park Distance Control,Parking assist system sensors rear,Power windows,Rain sensor,Seat heating,Start-stop system',\n",
       " 'Air conditioning,Armrest,Automatic climate control,Electrical side mirrors,Hill Holder,Keyless central door lock,Leather steering wheel,Light sensor,Lumbar support,Multi-function steering wheel,Navigation system,Park Distance Control,Parking assist system sensors rear,Power windows,Rain sensor,Seat heating,Start-stop system',\n",
       " 'Air conditioning,Armrest,Electrical side mirrors,Hill Holder,Leather steering wheel,Multi-function steering wheel,Navigation system,Park Distance Control,Parking assist system sensors front,Parking assist system sensors rear,Power windows,Seat heating,Start-stop system,Tinted windows',\n",
       " 'Air conditioning,Armrest,Automatic climate control,Electrical side mirrors,Hill Holder,Keyless central door lock,Leather steering wheel,Light sensor,Lumbar support,Multi-function steering wheel,Navigation system,Park Distance Control,Parking assist system sensors rear,Power windows,Rain sensor,Seat heating,Start-stop system',\n",
       " 'Air conditioning,Armrest,Automatic climate control,Electrical side mirrors,Hill Holder,Keyless central door lock,Leather steering wheel,Light sensor,Lumbar support,Multi-function steering wheel,Navigation system,Park Distance Control,Parking assist system sensors rear,Power windows,Rain sensor,Seat heating,Start-stop system',\n",
       " 'Air conditioning,Armrest,Automatic climate control,Electrical side mirrors,Hill Holder,Keyless central door lock,Leather steering wheel,Light sensor,Lumbar support,Multi-function steering wheel,Navigation system,Park Distance Control,Parking assist system sensors rear,Power windows,Rain sensor,Seat heating,Start-stop system',\n",
       " 'Air conditioning,Armrest,Automatic climate control,Electrical side mirrors,Hill Holder,Keyless central door lock,Leather steering wheel,Light sensor,Lumbar support,Multi-function steering wheel,Navigation system,Park Distance Control,Parking assist system sensors rear,Power windows,Rain sensor,Seat heating,Start-stop system',\n",
       " 'Air conditioning,Armrest,Automatic climate control,Electrical side mirrors,Hill Holder,Keyless central door lock,Leather steering wheel,Light sensor,Lumbar support,Multi-function steering wheel,Navigation system,Park Distance Control,Parking assist system sensors rear,Power windows,Rain sensor,Seat heating,Start-stop system',\n",
       " 'Air conditioning,Armrest,Automatic climate control,Electrical side mirrors,Hill Holder,Keyless central door lock,Leather steering wheel,Light sensor,Lumbar support,Multi-function steering wheel,Navigation system,Park Distance Control,Parking assist system sensors rear,Power windows,Rain sensor,Seat heating,Start-stop system',\n",
       " 'Air conditioning,Armrest,Automatic climate control,Electrical side mirrors,Hill Holder,Keyless central door lock,Leather steering wheel,Light sensor,Lumbar support,Multi-function steering wheel,Navigation system,Park Distance Control,Parking assist system sensors rear,Power windows,Rain sensor,Seat heating,Start-stop system',\n",
       " 'Air conditioning,Armrest,Automatic climate control,Electrical side mirrors,Hill Holder,Keyless central door lock,Leather steering wheel,Light sensor,Lumbar support,Multi-function steering wheel,Navigation system,Park Distance Control,Parking assist system sensors rear,Power windows,Rain sensor,Seat heating,Start-stop system',\n",
       " 'Armrest,Leather steering wheel,Multi-function steering wheel,Navigation system,Power windows,Start-stop system',\n",
       " 'Air conditioning,Armrest,Cruise control,Electrical side mirrors,Hill Holder,Leather steering wheel,Light sensor,Multi-function steering wheel,Navigation system,Park Distance Control,Parking assist system sensors front,Parking assist system sensors rear,Power windows,Rain sensor,Seat heating,Start-stop system',\n",
       " 'Air conditioning,Armrest,Automatic climate control,Electrical side mirrors,Hill Holder,Keyless central door lock,Leather steering wheel,Light sensor,Lumbar support,Multi-function steering wheel,Navigation system,Park Distance Control,Parking assist system sensors rear,Power windows,Rain sensor,Seat heating,Start-stop system',\n",
       " 'Air conditioning,Armrest,Automatic climate control,Electrical side mirrors,Hill Holder,Leather steering wheel,Light sensor,Lumbar support,Multi-function steering wheel,Navigation system,Panorama roof,Park Distance Control,Parking assist system sensors front,Parking assist system sensors rear,Power windows,Seat heating,Start-stop system,Sunroof',\n",
       " 'Air conditioning,Armrest,Automatic climate control,Electrical side mirrors,Hill Holder,Keyless central door lock,Leather steering wheel,Light sensor,Lumbar support,Multi-function steering wheel,Navigation system,Park Distance Control,Parking assist system sensors rear,Power windows,Rain sensor,Seat heating,Start-stop system',\n",
       " 'Air conditioning,Armrest,Automatic climate control,Electrical side mirrors,Hill Holder,Keyless central door lock,Leather steering wheel,Light sensor,Lumbar support,Multi-function steering wheel,Navigation system,Park Distance Control,Parking assist system sensors rear,Power windows,Rain sensor,Seat heating,Start-stop system',\n",
       " 'Air conditioning,Electrical side mirrors,Hill Holder,Power windows,Start-stop system',\n",
       " 'Air conditioning,Armrest,Automatic climate control,Electrical side mirrors,Leather steering wheel,Light sensor,Multi-function steering wheel,Navigation system,Park Distance Control,Parking assist system sensors rear,Power windows,Rain sensor,Seat heating,Start-stop system',\n",
       " 'Air conditioning,Armrest,Automatic climate control,Electrical side mirrors,Leather steering wheel,Multi-function steering wheel,Parking assist system sensors rear,Power windows,Rain sensor,Start-stop system,Tinted windows',\n",
       " 'Air conditioning,Armrest,Automatic climate control,Electrical side mirrors,Hill Holder,Keyless central door lock,Leather steering wheel,Light sensor,Lumbar support,Multi-function steering wheel,Navigation system,Park Distance Control,Parking assist system sensors rear,Power windows,Rain sensor,Seat heating,Start-stop system',\n",
       " 'Air conditioning,Armrest,Automatic climate control,Electrical side mirrors,Hill Holder,Keyless central door lock,Leather steering wheel,Light sensor,Lumbar support,Multi-function steering wheel,Navigation system,Park Distance Control,Parking assist system sensors rear,Power windows,Rain sensor,Seat heating,Start-stop system',\n",
       " 'Air conditioning,Armrest,Automatic climate control,Electrical side mirrors,Hill Holder,Keyless central door lock,Leather steering wheel,Light sensor,Lumbar support,Multi-function steering wheel,Navigation system,Park Distance Control,Parking assist system sensors rear,Power windows,Rain sensor,Seat heating,Start-stop system',\n",
       " 'Air conditioning,Armrest,Automatic climate control,Electrical side mirrors,Hill Holder,Keyless central door lock,Leather steering wheel,Light sensor,Lumbar support,Multi-function steering wheel,Navigation system,Park Distance Control,Parking assist system sensors rear,Power windows,Rain sensor,Seat heating,Start-stop system',\n",
       " 'Air conditioning,Armrest,Automatic climate control,Electrical side mirrors,Hill Holder,Keyless central door lock,Leather steering wheel,Light sensor,Lumbar support,Multi-function steering wheel,Navigation system,Park Distance Control,Parking assist system sensors rear,Power windows,Rain sensor,Seat heating,Start-stop system',\n",
       " 'Air conditioning,Armrest,Automatic climate control,Electrical side mirrors,Hill Holder,Leather steering wheel,Multi-function steering wheel,Navigation system,Power windows,Rain sensor,Seat heating,Split rear seats,Sunroof',\n",
       " 'Air conditioning,Armrest,Automatic climate control,Electrical side mirrors,Hill Holder,Keyless central door lock,Leather steering wheel,Light sensor,Lumbar support,Multi-function steering wheel,Navigation system,Park Distance Control,Parking assist system sensors rear,Power windows,Rain sensor,Seat heating,Start-stop system',\n",
       " 'Air conditioning,Armrest,Automatic climate control,Electrical side mirrors,Hill Holder,Leather steering wheel,Light sensor,Multi-function steering wheel,Navigation system,Power windows,Rain sensor,Seat heating,Start-stop system',\n",
       " 'Air conditioning,Armrest,Automatic climate control,Electrical side mirrors,Hill Holder,Leather steering wheel,Light sensor,Multi-function steering wheel,Navigation system,Power windows,Rain sensor,Seat heating,Start-stop system',\n",
       " 'Air conditioning,Armrest,Electrical side mirrors,Hill Holder,Leather steering wheel,Light sensor,Multi-function steering wheel,Park Distance Control,Parking assist system sensors rear,Power windows,Rain sensor,Seat heating,Start-stop system',\n",
       " 'Air conditioning,Armrest,Automatic climate control,Cruise control,Electrical side mirrors,Hill Holder,Leather steering wheel,Light sensor,Lumbar support,Multi-function steering wheel,Navigation system,Park Distance Control,Parking assist system sensors rear,Power windows,Rain sensor,Seat heating,Start-stop system',\n",
       " 'Air conditioning,Armrest,Electrical side mirrors,Leather steering wheel,Light sensor,Multi-function steering wheel,Navigation system,Parking assist system sensors rear,Power windows,Rain sensor,Seat ventilation,Split rear seats,Start-stop system',\n",
       " 'Air conditioning,Armrest,Electrical side mirrors,Hill Holder,Leather steering wheel,Light sensor,Multi-function steering wheel,Park Distance Control,Parking assist system sensors rear,Power windows,Rain sensor,Seat heating,Start-stop system',\n",
       " 'Air conditioning,Electrical side mirrors,Multi-function steering wheel,Navigation system,Power windows,Rain sensor,Seat heating,Sunroof',\n",
       " 'Air conditioning,Armrest,Automatic climate control,Electrical side mirrors,Leather steering wheel,Multi-function steering wheel,Navigation system,Park Distance Control,Parking assist system sensors rear,Power windows,Rain sensor,Seat heating,Start-stop system',\n",
       " 'Air conditioning,Electrical side mirrors,Hill Holder,Leather steering wheel,Multi-function steering wheel,Navigation system,Park Distance Control,Parking assist system sensors rear,Power windows,Seat heating,Start-stop system',\n",
       " 'Air conditioning,Armrest,Automatic climate control,Electrical side mirrors,Leather steering wheel,Light sensor,Multi-function steering wheel,Park Distance Control,Parking assist system sensors front,Parking assist system sensors rear,Power windows,Rain sensor,Seat heating,Start-stop system',\n",
       " 'Air conditioning,Cruise control,Electrical side mirrors,Hill Holder,Leather steering wheel,Multi-function steering wheel,Navigation system,Park Distance Control,Parking assist system sensors front,Parking assist system sensors rear,Power windows,Seat heating,Start-stop system',\n",
       " 'Air conditioning,Automatic climate control,Electrical side mirrors,Light sensor,Multi-function steering wheel,Navigation system,Parking assist system sensors rear,Power windows,Rain sensor,Seat heating,Start-stop system',\n",
       " 'Air conditioning,Armrest,Automatic climate control,Electrical side mirrors,Hill Holder,Keyless central door lock,Leather steering wheel,Light sensor,Lumbar support,Multi-function steering wheel,Navigation system,Park Distance Control,Parking assist system sensors rear,Power windows,Rain sensor,Seat heating,Start-stop system',\n",
       " 'Air conditioning,Armrest,Automatic climate control,Electrical side mirrors,Hill Holder,Keyless central door lock,Leather steering wheel,Light sensor,Lumbar support,Multi-function steering wheel,Navigation system,Park Distance Control,Parking assist system sensors rear,Power windows,Rain sensor,Seat heating,Start-stop system',\n",
       " 'Air conditioning,Armrest,Automatic climate control,Electrical side mirrors,Hill Holder,Keyless central door lock,Leather steering wheel,Light sensor,Lumbar support,Multi-function steering wheel,Navigation system,Park Distance Control,Parking assist system sensors rear,Power windows,Rain sensor,Seat heating,Start-stop system',\n",
       " 'Air conditioning,Armrest,Automatic climate control,Electrical side mirrors,Hill Holder,Keyless central door lock,Leather steering wheel,Light sensor,Lumbar support,Multi-function steering wheel,Navigation system,Park Distance Control,Parking assist system sensors rear,Power windows,Rain sensor,Seat heating,Start-stop system',\n",
       " 'Air conditioning,Armrest,Automatic climate control,Electrical side mirrors,Hill Holder,Keyless central door lock,Leather steering wheel,Light sensor,Lumbar support,Multi-function steering wheel,Navigation system,Park Distance Control,Parking assist system sensors rear,Power windows,Rain sensor,Seat heating,Start-stop system',\n",
       " 'Air conditioning,Armrest,Automatic climate control,Cruise control,Electrical side mirrors,Hill Holder,Leather steering wheel,Light sensor,Multi-function steering wheel,Navigation system,Park Distance Control,Parking assist system sensors rear,Power windows,Rain sensor,Seat heating,Start-stop system',\n",
       " 'Air conditioning,Armrest,Cruise control,Electrical side mirrors,Hill Holder,Leather steering wheel,Lumbar support,Multi-function steering wheel,Navigation system,Parking assist system sensors rear,Power windows,Rain sensor,Split rear seats,Start-stop system',\n",
       " 'Air conditioning,Armrest,Cruise control,Electrical side mirrors,Hill Holder,Leather steering wheel,Lumbar support,Multi-function steering wheel,Navigation system,Park Distance Control,Parking assist system sensors rear,Power windows,Rain sensor,Seat heating,Split rear seats,Start-stop system,Tinted windows',\n",
       " 'Air conditioning,Armrest,Automatic climate control,Electrical side mirrors,Hill Holder,Keyless central door lock,Leather steering wheel,Light sensor,Lumbar support,Multi-function steering wheel,Navigation system,Park Distance Control,Parking assist system sensors rear,Power windows,Rain sensor,Seat heating,Start-stop system',\n",
       " 'Air conditioning,Armrest,Automatic climate control,Electrical side mirrors,Hill Holder,Leather steering wheel,Lumbar support,Multi-function steering wheel,Navigation system,Park Distance Control,Parking assist system sensors rear,Power windows,Rain sensor,Seat heating,Start-stop system',\n",
       " 'Air conditioning,Armrest,Automatic climate control,Electrical side mirrors,Hill Holder,Keyless central door lock,Leather steering wheel,Light sensor,Lumbar support,Multi-function steering wheel,Navigation system,Park Distance Control,Parking assist system sensors rear,Power windows,Rain sensor,Seat heating,Start-stop system',\n",
       " 'Air conditioning,Automatic climate control,Cruise control,Electrical side mirrors,Hill Holder,Leather steering wheel,Light sensor,Multi-function steering wheel,Navigation system,Park Distance Control,Parking assist system sensors rear,Power windows,Rain sensor,Seat heating,Start-stop system',\n",
       " 'Air conditioning,Armrest,Electrical side mirrors,Hill Holder,Leather steering wheel,Lumbar support,Multi-function steering wheel,Navigation system,Park Distance Control,Parking assist system sensors rear,Power windows,Seat heating,Start-stop system',\n",
       " 'Air conditioning,Automatic climate control,Navigation system',\n",
       " 'Air conditioning,Automatic climate control,Auxiliary heating,Cruise control,Leather steering wheel,Multi-function steering wheel,Navigation system,Park Distance Control,Parking assist system sensors rear,Power windows,Rain sensor,Seat heating,Start-stop system',\n",
       " 'Air conditioning,Automatic climate control,Cruise control,Light sensor,Lumbar support,Park Distance Control,Parking assist system sensors rear,Power windows,Rain sensor,Seat heating,Start-stop system',\n",
       " 'Air conditioning,Cruise control,Electrical side mirrors,Keyless central door lock,Leather steering wheel,Multi-function steering wheel,Navigation system,Park Distance Control,Parking assist system sensors rear,Power windows,Seat heating,Start-stop system',\n",
       " 'Air conditioning,Armrest,Automatic climate control,Electrical side mirrors,Hill Holder,Leather steering wheel,Light sensor,Multi-function steering wheel,Park Distance Control,Parking assist system sensors rear,Power windows,Rain sensor,Seat heating,Start-stop system',\n",
       " 'Air conditioning,Armrest,Automatic climate control,Hill Holder,Leather steering wheel,Light sensor,Lumbar support,Multi-function steering wheel,Park Distance Control,Parking assist system sensors rear,Power windows,Rain sensor,Start-stop system',\n",
       " 'Air conditioning,Armrest,Automatic climate control,Cruise control,Electrical side mirrors,Hill Holder,Light sensor,Multi-function steering wheel,Navigation system,Park Distance Control,Parking assist system sensors rear,Power windows,Rain sensor,Seat heating,Start-stop system',\n",
       " 'Air conditioning,Armrest,Automatic climate control,Cruise control,Electrical side mirrors,Hill Holder,Leather steering wheel,Light sensor,Multi-function steering wheel,Navigation system,Park Distance Control,Parking assist system sensors rear,Power windows,Rain sensor,Seat heating,Split rear seats,Start-stop system',\n",
       " 'Air conditioning,Armrest,Automatic climate control,Electrical side mirrors,Hill Holder,Leather steering wheel,Light sensor,Multi-function steering wheel,Park Distance Control,Parking assist system sensors rear,Power windows,Rain sensor,Seat heating,Start-stop system',\n",
       " 'Air conditioning,Armrest,Automatic climate control,Cruise control,Keyless central door lock,Leather steering wheel,Light sensor,Multi-function steering wheel,Navigation system,Park Distance Control,Parking assist system sensors front,Parking assist system sensors rear,Power windows,Seat heating,Split rear seats,Start-stop system',\n",
       " 'Air conditioning,Electrical side mirrors,Hill Holder,Leather steering wheel,Multi-function steering wheel,Navigation system,Park Distance Control,Parking assist system sensors rear,Power windows,Seat heating,Start-stop system',\n",
       " 'Air conditioning,Electrical side mirrors,Hill Holder,Leather steering wheel,Light sensor,Multi-function steering wheel,Navigation system,Park Distance Control,Parking assist system sensors front,Parking assist system sensors rear,Power windows,Rain sensor,Seat heating,Start-stop system',\n",
       " 'Air conditioning,Armrest,Cruise control,Electrical side mirrors,Leather steering wheel,Light sensor,Multi-function steering wheel,Navigation system,Panorama roof,Power windows,Rain sensor,Seat heating,Start-stop system,Sunroof',\n",
       " 'Air conditioning,Armrest,Automatic climate control,Cruise control,Electrical side mirrors,Leather steering wheel,Light sensor,Lumbar support,Multi-function steering wheel,Navigation system,Park Distance Control,Parking assist system sensors rear,Power windows,Rain sensor,Seat heating,Start-stop system',\n",
       " 'Air conditioning,Armrest,Automatic climate control,Electrical side mirrors,Hill Holder,Leather steering wheel,Light sensor,Multi-function steering wheel,Navigation system,Park Distance Control,Parking assist system sensors rear,Power windows,Rain sensor,Seat heating,Start-stop system',\n",
       " 'Air conditioning,Automatic climate control,Electrical side mirrors,Hill Holder,Light sensor,Park Distance Control,Parking assist system sensors rear,Power windows,Rain sensor,Seat heating,Start-stop system',\n",
       " 'Air conditioning,Armrest,Automatic climate control,Electrical side mirrors,Leather steering wheel,Light sensor,Multi-function steering wheel,Navigation system,Park Distance Control,Parking assist system sensors rear,Power windows,Rain sensor,Start-stop system',\n",
       " 'Air conditioning,Automatic climate control,Cruise control,Electrical side mirrors,Hill Holder,Leather steering wheel,Light sensor,Multi-function steering wheel,Navigation system,Park Distance Control,Parking assist system sensors rear,Power windows,Rain sensor,Seat heating,Start-stop system',\n",
       " nan,\n",
       " nan,\n",
       " 'Air conditioning,Automatic climate control,Hill Holder,Leather steering wheel,Light sensor,Park Distance Control,Parking assist system sensors rear,Power windows,Seat heating,Sunroof',\n",
       " 'Air conditioning,Armrest,Electrical side mirrors,Hill Holder,Park Distance Control,Parking assist system sensors rear,Power windows,Seat heating,Start-stop system',\n",
       " 'Air conditioning,Armrest,Automatic climate control,Cruise control,Electrical side mirrors,Leather steering wheel,Multi-function steering wheel,Navigation system,Park Distance Control,Parking assist system sensors rear,Power windows,Rain sensor,Start-stop system',\n",
       " 'Air conditioning,Electrical side mirrors,Hill Holder,Leather steering wheel,Light sensor,Multi-function steering wheel,Park Distance Control,Parking assist system sensors rear,Power windows,Rain sensor,Start-stop system',\n",
       " 'Air conditioning,Armrest,Automatic climate control,Multi-function steering wheel',\n",
       " 'Air conditioning,Armrest,Automatic climate control,Electrical side mirrors,Hill Holder,Light sensor,Multi-function steering wheel,Park Distance Control,Parking assist system sensors rear,Power windows,Rain sensor,Seat heating,Start-stop system',\n",
       " 'Air conditioning,Automatic climate control,Electrical side mirrors,Hill Holder,Leather steering wheel,Light sensor,Lumbar support,Multi-function steering wheel,Navigation system,Park Distance Control,Parking assist system sensors front,Parking assist system sensors rear,Power windows,Rain sensor,Seat heating,Start-stop system',\n",
       " 'Air conditioning,Armrest,Automatic climate control,Electrical side mirrors,Hill Holder,Leather steering wheel,Light sensor,Multi-function steering wheel,Navigation system,Park Distance Control,Parking assist system sensors rear,Power windows,Rain sensor,Seat heating,Start-stop system',\n",
       " 'Air conditioning,Armrest,Automatic climate control,Electrical side mirrors,Hill Holder,Leather steering wheel,Light sensor,Multi-function steering wheel,Navigation system,Park Distance Control,Parking assist system sensors rear,Power windows,Rain sensor,Seat heating,Start-stop system',\n",
       " 'Air conditioning,Armrest,Electrical side mirrors,Hill Holder,Light sensor,Multi-function steering wheel,Navigation system,Park Distance Control,Parking assist system sensors rear,Power windows,Rain sensor,Seat heating,Start-stop system',\n",
       " 'Air conditioning,Automatic climate control,Cruise control,Electrical side mirrors,Leather steering wheel,Multi-function steering wheel,Navigation system,Park Distance Control,Parking assist system sensors rear,Power windows,Seat heating,Start-stop system',\n",
       " 'Air conditioning,Panorama roof,Seat ventilation,Split rear seats',\n",
       " 'Air conditioning,Armrest,Hill Holder,Light sensor,Multi-function steering wheel,Park Distance Control,Parking assist system sensors rear,Power windows,Rain sensor,Start-stop system',\n",
       " 'Air conditioning,Armrest,Automatic climate control,Electrical side mirrors,Hill Holder,Leather steering wheel,Light sensor,Park Distance Control,Parking assist system sensors rear,Power windows,Rain sensor,Seat heating,Start-stop system',\n",
       " 'Air conditioning,Armrest,Automatic climate control,Electrical side mirrors,Hill Holder,Keyless central door lock,Leather steering wheel,Light sensor,Lumbar support,Multi-function steering wheel,Navigation system,Park Distance Control,Parking assist system sensors rear,Power windows,Rain sensor,Seat heating,Start-stop system',\n",
       " 'Air conditioning,Armrest,Automatic climate control,Electrical side mirrors,Hill Holder,Leather steering wheel,Light sensor,Multi-function steering wheel,Navigation system,Power windows,Rain sensor,Seat heating,Start-stop system',\n",
       " 'Air conditioning,Automatic climate control,Electrical side mirrors,Leather steering wheel,Light sensor,Lumbar support,Multi-function steering wheel,Panorama roof,Park Distance Control,Parking assist system sensors rear,Power windows,Rain sensor,Seat heating,Start-stop system,Sunroof',\n",
       " 'Air conditioning,Armrest,Automatic climate control,Cruise control,Electrical side mirrors,Hill Holder,Keyless central door lock,Leather steering wheel,Light sensor,Lumbar support,Multi-function steering wheel,Navigation system,Park Distance Control,Parking assist system sensors rear,Power windows,Rain sensor,Seat heating,Start-stop system',\n",
       " 'Air conditioning,Armrest,Automatic climate control,Electrical side mirrors,Hill Holder,Keyless central door lock,Leather steering wheel,Light sensor,Multi-function steering wheel,Navigation system,Park Distance Control,Parking assist system sensors rear,Power windows,Rain sensor,Seat heating,Start-stop system',\n",
       " 'Air conditioning,Armrest,Electrical side mirrors,Leather steering wheel,Light sensor,Multi-function steering wheel,Park Distance Control,Parking assist system sensors rear,Power windows,Rain sensor,Seat heating,Start-stop system',\n",
       " 'Air conditioning,Armrest,Automatic climate control,Cruise control,Electrical side mirrors,Hill Holder,Keyless central door lock,Leather steering wheel,Light sensor,Multi-function steering wheel,Navigation system,Park Distance Control,Parking assist system sensors front,Parking assist system sensors rear,Power windows,Rain sensor,Seat heating,Start-stop system',\n",
       " 'Air conditioning,Automatic climate control,Power windows,Split rear seats',\n",
       " 'Air conditioning,Automatic climate control,Electrical side mirrors,Hill Holder,Leather steering wheel,Light sensor,Multi-function steering wheel,Park Distance Control,Parking assist system sensors rear,Power windows,Rain sensor,Seat heating,Start-stop system',\n",
       " 'Air conditioning,Automatic climate control,Cruise control,Electrical side mirrors,Hill Holder,Leather steering wheel,Light sensor,Multi-function steering wheel,Navigation system,Park Distance Control,Parking assist system sensors front,Parking assist system sensors rear,Power windows,Rain sensor,Seat heating,Start-stop system',\n",
       " 'Air conditioning,Armrest,Automatic climate control,Electrical side mirrors,Hill Holder,Leather steering wheel,Light sensor,Lumbar support,Multi-function steering wheel,Navigation system,Power windows,Rain sensor,Seat heating,Split rear seats,Start-stop system,Tinted windows',\n",
       " 'Air conditioning,Armrest,Automatic climate control,Cruise control,Electrical side mirrors,Hill Holder,Leather steering wheel,Light sensor,Multi-function steering wheel,Park Distance Control,Parking assist system sensors rear,Power windows,Rain sensor,Seat heating,Start-stop system',\n",
       " 'Air conditioning,Armrest,Cruise control,Electrical side mirrors,Hill Holder,Leather steering wheel,Multi-function steering wheel,Navigation system,Park Distance Control,Parking assist system sensors front,Parking assist system sensors rear,Power windows,Seat heating,Start-stop system',\n",
       " 'Air conditioning,Automatic climate control,Cruise control,Electrical side mirrors,Light sensor,Multi-function steering wheel,Navigation system,Park Distance Control,Power windows,Rain sensor,Split rear seats',\n",
       " 'Air conditioning,Armrest,Automatic climate control,Electrical side mirrors,Hill Holder,Leather steering wheel,Light sensor,Multi-function steering wheel,Park Distance Control,Parking assist system sensors rear,Power windows,Rain sensor,Seat heating,Start-stop system',\n",
       " 'Air conditioning,Electrical side mirrors,Multi-function steering wheel,Navigation system,Power windows,Start-stop system',\n",
       " 'Air conditioning,Automatic climate control,Electrical side mirrors,Power windows,Start-stop system',\n",
       " 'Air conditioning,Electrical side mirrors,Multi-function steering wheel,Power windows,Start-stop system',\n",
       " 'Air conditioning,Armrest,Automatic climate control,Cruise control,Electrical side mirrors,Heads-up display,Hill Holder,Leather steering wheel,Light sensor,Multi-function steering wheel,Power windows,Start-stop system,Tinted windows',\n",
       " 'Air conditioning,Automatic climate control,Cruise control,Electrical side mirrors,Leather steering wheel,Light sensor,Multi-function steering wheel,Park Distance Control,Parking assist system sensors rear,Power windows,Rain sensor,Seat heating,Start-stop system',\n",
       " 'Air conditioning,Electrical side mirrors,Leather steering wheel,Multi-function steering wheel,Navigation system,Power windows,Seat heating,Start-stop system',\n",
       " 'Air conditioning,Automatic climate control,Cruise control,Electrical side mirrors,Light sensor,Navigation system,Park Distance Control,Parking assist system sensors rear,Power windows,Rain sensor,Start-stop system',\n",
       " 'Air conditioning,Power windows,Start-stop system',\n",
       " 'Air conditioning,Automatic climate control,Electrical side mirrors,Leather steering wheel,Light sensor,Multi-function steering wheel,Power windows,Rain sensor,Seat heating,Start-stop system',\n",
       " 'Air conditioning,Air suspension,Armrest,Electrical side mirrors,Keyless central door lock,Leather steering wheel,Light sensor,Lumbar support,Park Distance Control,Parking assist system sensors rear,Power windows,Rain sensor,Split rear seats,Start-stop system,Tinted windows,Wind deflector',\n",
       " 'Air conditioning,Air suspension,Armrest,Automatic climate control,Cruise control,Electrical side mirrors,Hill Holder,Keyless central door lock,Leather steering wheel,Light sensor,Lumbar support,Multi-function steering wheel,Power windows,Rain sensor,Seat heating,Split rear seats,Start-stop system,Tinted windows,Wind deflector',\n",
       " 'Air conditioning,Armrest,Electrical side mirrors,Leather steering wheel,Power windows,Split rear seats,Sunroof',\n",
       " 'Air conditioning,Electrical side mirrors,Light sensor,Park Distance Control,Parking assist system sensors rear,Power windows,Start-stop system',\n",
       " 'Air conditioning,Automatic climate control,Electrical side mirrors,Leather steering wheel,Light sensor,Multi-function steering wheel,Park Distance Control,Parking assist system sensors front,Parking assist system sensors rear,Power windows,Rain sensor,Seat heating,Start-stop system',\n",
       " 'Air conditioning,Electrical side mirrors,Leather steering wheel,Multi-function steering wheel,Navigation system,Park Distance Control,Parking assist system sensors front,Parking assist system sensors rear,Power windows,Start-stop system',\n",
       " 'Air conditioning,Automatic climate control,Cruise control,Electrical side mirrors,Hill Holder,Keyless central door lock,Leather steering wheel,Light sensor,Multi-function steering wheel,Navigation system,Rain sensor,Seat heating,Split rear seats,Start-stop system',\n",
       " 'Air conditioning,Electrical side mirrors,Keyless central door lock,Multi-function steering wheel,Navigation system,Park Distance Control,Parking assist system sensors rear,Power windows,Rain sensor,Seat heating,Start-stop system',\n",
       " 'Air conditioning,Armrest,Leather steering wheel,Light sensor,Lumbar support,Multi-function steering wheel,Navigation system,Panorama roof,Power windows,Rain sensor,Seat heating,Start-stop system,Sunroof',\n",
       " 'Air conditioning,Electrical side mirrors,Power windows,Start-stop system',\n",
       " 'Air conditioning,Armrest,Automatic climate control,Cruise control,Electrical side mirrors,Leather steering wheel,Light sensor,Lumbar support,Multi-function steering wheel,Navigation system,Park Distance Control,Parking assist system sensors rear,Power windows,Rain sensor,Seat heating,Start-stop system',\n",
       " 'Air conditioning,Automatic climate control,Electrical side mirrors,Leather steering wheel,Light sensor,Lumbar support,Multi-function steering wheel,Park Distance Control,Parking assist system sensors rear,Power windows,Rain sensor,Seat heating,Start-stop system',\n",
       " 'Air conditioning,Armrest,Automatic climate control,Electrical side mirrors,Hill Holder,Leather steering wheel,Light sensor,Lumbar support,Multi-function steering wheel,Park Distance Control,Parking assist system sensors rear,Power windows,Rain sensor,Seat heating,Start-stop system',\n",
       " 'Air conditioning,Automatic climate control,Electrically adjustable seats,Leather steering wheel,Multi-function steering wheel,Navigation system,Parking assist system sensors rear,Rain sensor,Seat ventilation,Split rear seats',\n",
       " 'Air conditioning,Armrest,Automatic climate control,Hill Holder,Multi-function steering wheel,Power windows,Rain sensor,Start-stop system',\n",
       " 'Air conditioning,Armrest,Electrical side mirrors,Rain sensor',\n",
       " 'Air conditioning,Armrest,Automatic climate control,Cruise control,Electrical side mirrors,Leather steering wheel,Light sensor,Multi-function steering wheel,Park Distance Control,Parking assist system sensors rear,Power windows,Rain sensor,Seat heating,Start-stop system',\n",
       " 'Air conditioning,Armrest,Cruise control,Electrical side mirrors,Leather steering wheel,Power windows,Split rear seats,Start-stop system,Tinted windows',\n",
       " 'Air conditioning,Armrest,Electrical side mirrors,Keyless central door lock,Leather steering wheel,Light sensor,Lumbar support,Power windows,Rain sensor,Seat heating,Start-stop system',\n",
       " 'Air conditioning,Armrest,Automatic climate control,Cruise control,Electrical side mirrors,Hill Holder,Leather steering wheel,Light sensor,Multi-function steering wheel,Navigation system,Park Distance Control,Parking assist system sensors rear,Power windows,Rain sensor,Seat heating,Start-stop system',\n",
       " 'Air conditioning,Electrically heated windshield,Electrical side mirrors,Keyless central door lock,Multi-function steering wheel,Navigation system,Parking assist system sensors rear,Power windows,Seat heating,Start-stop system',\n",
       " 'Air conditioning,Armrest,Electrical side mirrors,Leather steering wheel,Light sensor,Multi-function steering wheel,Power windows,Rain sensor,Start-stop system',\n",
       " 'Air conditioning,Automatic climate control,Cruise control',\n",
       " 'Air conditioning,Automatic climate control,Cruise control',\n",
       " 'Air conditioning,Automatic climate control,Cruise control',\n",
       " 'Air conditioning,Armrest,Cruise control,Electrical side mirrors,Hill Holder,Park Distance Control,Parking assist system sensors rear,Power windows,Seat heating,Start-stop system',\n",
       " 'Air conditioning,Armrest,Cruise control,Electrical side mirrors,Hill Holder,Leather steering wheel,Multi-function steering wheel,Navigation system,Park Distance Control,Parking assist system sensors front,Parking assist system sensors rear,Power windows,Seat heating,Start-stop system',\n",
       " 'Air conditioning,Armrest,Electrical side mirrors,Leather steering wheel,Multi-function steering wheel,Navigation system,Power windows,Start-stop system',\n",
       " 'Air conditioning,Automatic climate control,Cruise control,Electrical side mirrors,Multi-function steering wheel,Navigation system,Park Distance Control,Parking assist system sensors rear,Power windows,Split rear seats,Start-stop system',\n",
       " 'Air conditioning,Armrest,Electrical side mirrors,Leather steering wheel,Multi-function steering wheel,Power windows,Start-stop system,Tinted windows',\n",
       " 'Air conditioning,Electrical side mirrors,Power windows,Seat heating,Start-stop system',\n",
       " 'Leather steering wheel,Lumbar support,Power windows,Start-stop system',\n",
       " 'Air conditioning,Armrest,Automatic climate control,Cruise control,Electrical side mirrors,Heads-up display,Leather steering wheel,Light sensor,Multi-function steering wheel,Power windows,Rain sensor,Start-stop system,Tinted windows',\n",
       " 'Air conditioning,Seat ventilation,Split rear seats',\n",
       " nan,\n",
       " 'Air conditioning,Armrest,Automatic climate control,Cruise control,Electrical side mirrors,Leather steering wheel,Lumbar support,Multi-function steering wheel,Parking assist system sensors rear,Power windows,Rain sensor,Split rear seats,Start-stop system',\n",
       " 'Air conditioning,Electrical side mirrors,Hill Holder,Leather steering wheel,Lumbar support,Park Distance Control,Parking assist system sensors rear,Power windows,Seat heating',\n",
       " 'Air conditioning,Automatic climate control,Electrically heated windshield,Electrical side mirrors,Multi-function steering wheel,Power windows,Seat heating',\n",
       " 'Air conditioning,Cruise control,Light sensor,Lumbar support,Navigation system,Park Distance Control,Parking assist system sensors rear,Rain sensor',\n",
       " 'Air conditioning,Automatic climate control,Electrical side mirrors,Leather steering wheel,Multi-function steering wheel,Navigation system,Park Distance Control,Power windows',\n",
       " 'Air conditioning,Automatic climate control,Electrical side mirrors,Leather steering wheel,Multi-function steering wheel,Navigation system,Park Distance Control,Power windows',\n",
       " 'Air conditioning,Automatic climate control,Electrical side mirrors,Light sensor,Multi-function steering wheel,Navigation system,Park Distance Control,Parking assist system sensors rear,Power windows,Start-stop system',\n",
       " 'Air conditioning,Automatic climate control,Leather steering wheel,Power windows',\n",
       " 'Air conditioning,Armrest,Automatic climate control,Electrical side mirrors,Heads-up display,Leather steering wheel,Light sensor,Lumbar support,Multi-function steering wheel,Power windows,Rain sensor,Start-stop system,Tinted windows',\n",
       " 'Air conditioning,Automatic climate control,Electrical side mirrors,Light sensor,Park Distance Control,Parking assist system sensors rear,Power windows,Rain sensor,Seat heating,Start-stop system',\n",
       " 'Air conditioning,Armrest,Automatic climate control,Electrical side mirrors,Leather steering wheel,Light sensor,Multi-function steering wheel,Navigation system,Park Distance Control,Parking assist system sensors rear,Power windows,Rain sensor,Seat heating,Start-stop system',\n",
       " 'Air conditioning,Armrest,Electrical side mirrors,Leather steering wheel,Multi-function steering wheel,Park Distance Control,Parking assist system sensors rear,Power windows,Seat heating,Start-stop system',\n",
       " 'Air conditioning,Electrical side mirrors,Hill Holder,Leather steering wheel,Multi-function steering wheel,Navigation system,Power windows',\n",
       " 'Air conditioning,Automatic climate control,Electrical side mirrors,Leather steering wheel,Light sensor,Multi-function steering wheel,Navigation system,Park Distance Control,Parking assist system sensors front,Parking assist system sensors rear,Power windows,Rain sensor,Seat heating,Start-stop system',\n",
       " 'Air conditioning,Electrical side mirrors,Light sensor,Power windows,Seat heating,Start-stop system',\n",
       " 'Air conditioning,Armrest,Automatic climate control,Cruise control,Electrical side mirrors,Leather steering wheel,Light sensor,Lumbar support,Multi-function steering wheel,Navigation system,Park Distance Control,Parking assist system sensors rear,Power windows,Rain sensor,Seat heating,Start-stop system',\n",
       " 'Air conditioning,Armrest,Automatic climate control,Cruise control,Electrical side mirrors,Leather steering wheel,Multi-function steering wheel,Navigation system,Park Distance Control,Power windows,Rain sensor',\n",
       " 'Air conditioning,Electrical side mirrors,Leather steering wheel,Lumbar support,Multi-function steering wheel,Navigation system,Park Distance Control,Parking assist system sensors rear,Power windows,Seat heating,Split rear seats,Start-stop system,Tinted windows',\n",
       " 'Air conditioning,Electrical side mirrors,Leather steering wheel,Light sensor,Multi-function steering wheel,Navigation system,Park Distance Control,Parking assist system sensors rear,Power windows,Rain sensor,Seat heating,Start-stop system',\n",
       " 'Air conditioning,Armrest,Electrical side mirrors,Hill Holder,Leather steering wheel,Light sensor,Multi-function steering wheel,Park Distance Control,Parking assist system sensors front,Parking assist system sensors rear,Power windows,Rain sensor,Start-stop system',\n",
       " 'Electrical side mirrors,Leather steering wheel,Lumbar support,Power windows,Split rear seats,Start-stop system',\n",
       " 'Air conditioning,Cruise control,Electrical side mirrors,Leather steering wheel,Park Distance Control,Parking assist system sensors rear,Power windows,Seat heating,Start-stop system',\n",
       " 'Armrest,Navigation system,Power windows,Seat heating',\n",
       " 'Air conditioning,Automatic climate control,Cruise control,Leather steering wheel,Lumbar support,Navigation system,Park Distance Control,Parking assist system sensors rear,Power windows,Seat heating,Start-stop system',\n",
       " nan,\n",
       " 'Air conditioning,Armrest,Automatic climate control,Auxiliary heating,Cruise control,Electrically heated windshield,Electrical side mirrors,Heads-up display,Leather steering wheel,Light sensor,Multi-function steering wheel,Navigation system,Park Distance Control,Parking assist system sensors rear,Power windows,Rain sensor,Start-stop system',\n",
       " 'Air conditioning,Armrest,Cruise control,Electrical side mirrors,Keyless central door lock,Leather steering wheel,Light sensor,Lumbar support,Multi-function steering wheel,Navigation system,Parking assist system sensors front,Parking assist system sensors rear,Power windows,Rain sensor,Seat heating,Split rear seats,Start-stop system,Tinted windows',\n",
       " 'Air conditioning,Armrest,Electrical side mirrors,Leather steering wheel,Light sensor,Multi-function steering wheel,Navigation system,Park Distance Control,Parking assist system sensors rear,Power windows,Rain sensor,Split rear seats,Start-stop system',\n",
       " 'Air conditioning,Armrest,Automatic climate control,Cruise control,Electrical side mirrors,Hill Holder,Leather steering wheel,Light sensor,Lumbar support,Multi-function steering wheel,Park Distance Control,Parking assist system sensors rear,Power windows,Rain sensor,Seat heating,Start-stop system',\n",
       " 'Air conditioning,Armrest,Automatic climate control,Electrical side mirrors,Hill Holder,Leather steering wheel,Light sensor,Multi-function steering wheel,Park Distance Control,Parking assist system sensors rear,Power windows,Rain sensor,Seat heating,Split rear seats,Start-stop system,Tinted windows',\n",
       " 'Air conditioning,Armrest,Automatic climate control,Cruise control,Electrical side mirrors,Light sensor,Power windows,Rain sensor,Seat heating,Split rear seats,Start-stop system',\n",
       " 'Air conditioning,Armrest,Electrical side mirrors,Leather steering wheel,Light sensor,Lumbar support,Multi-function steering wheel,Navigation system,Power windows,Rain sensor,Seat heating,Start-stop system',\n",
       " 'Air conditioning,Armrest,Cruise control,Electrical side mirrors,Leather steering wheel,Power windows,Seat heating,Start-stop system,Tinted windows',\n",
       " 'Air conditioning,Armrest,Electrical side mirrors,Leather steering wheel,Light sensor,Multi-function steering wheel,Navigation system,Park Distance Control,Parking assist system sensors rear,Power windows,Rain sensor,Start-stop system',\n",
       " 'Air conditioning,Armrest,Automatic climate control,Leather steering wheel,Light sensor,Multi-function steering wheel,Parking assist system sensors rear,Power windows,Rain sensor,Seat heating,Split rear seats,Start-stop system,Tinted windows',\n",
       " 'Leather steering wheel,Lumbar support,Multi-function steering wheel,Navigation system,Parking assist system sensors rear,Power windows,Seat heating,Start-stop system',\n",
       " 'Air conditioning,Power windows,Start-stop system',\n",
       " 'Air conditioning,Power windows,Start-stop system',\n",
       " 'Air conditioning,Armrest,Electrical side mirrors,Power windows,Seat heating,Split rear seats,Start-stop system,Sunroof',\n",
       " 'Air conditioning,Electrical side mirrors,Hill Holder,Leather steering wheel,Light sensor,Park Distance Control,Parking assist system sensors rear,Power windows,Rain sensor,Seat heating,Start-stop system',\n",
       " 'Air conditioning,Electrical side mirrors,Leather steering wheel,Parking assist system sensors rear,Power windows,Split rear seats',\n",
       " 'Leather steering wheel,Lumbar support,Power windows,Start-stop system',\n",
       " 'Air conditioning,Armrest,Cruise control,Electrical side mirrors,Power windows,Start-stop system',\n",
       " 'Air conditioning,Armrest,Cruise control,Heads-up display,Hill Holder,Leather steering wheel,Lumbar support,Multi-function steering wheel,Navigation system,Parking assist system sensors rear,Power windows,Seat heating,Tinted windows',\n",
       " 'Air conditioning,Electrical side mirrors,Power windows,Start-stop system,Tinted windows',\n",
       " 'Air conditioning,Automatic climate control,Electrical side mirrors,Leather steering wheel,Light sensor,Park Distance Control,Parking assist system sensors rear,Power windows,Rain sensor,Seat heating,Start-stop system',\n",
       " 'Air conditioning,Armrest,Automatic climate control,Electrical side mirrors,Hill Holder,Light sensor,Park Distance Control,Parking assist system sensors rear,Power windows,Rain sensor,Seat heating,Start-stop system',\n",
       " 'Air conditioning,Automatic climate control,Light sensor,Navigation system,Park Distance Control,Parking assist system sensors rear,Power windows,Rain sensor',\n",
       " 'Air conditioning,Automatic climate control,Cruise control,Light sensor,Navigation system,Park Distance Control,Parking assist system sensors rear,Power windows,Rain sensor',\n",
       " 'Air conditioning,Armrest,Electrical side mirrors,Leather steering wheel,Multi-function steering wheel,Navigation system,Park Distance Control,Parking assist system sensors rear,Power windows,Seat heating,Start-stop system',\n",
       " 'Air conditioning,Automatic climate control,Cruise control,Electrical side mirrors,Leather steering wheel,Lumbar support,Multi-function steering wheel,Power windows,Seat heating,Start-stop system',\n",
       " nan,\n",
       " 'Air conditioning,Automatic climate control,Electrical side mirrors,Hill Holder,Leather steering wheel,Light sensor,Lumbar support,Multi-function steering wheel,Park Distance Control,Parking assist system sensors rear,Power windows,Rain sensor,Seat heating,Start-stop system',\n",
       " 'Air conditioning,Armrest,Cruise control,Electrical side mirrors,Leather steering wheel,Multi-function steering wheel,Park Distance Control,Parking assist system sensors rear,Power windows,Start-stop system',\n",
       " 'Air conditioning,Automatic climate control,Electrical side mirrors,Lumbar support,Power windows',\n",
       " 'Air conditioning,Armrest,Electrical side mirrors,Leather steering wheel,Multi-function steering wheel,Navigation system,Park Distance Control,Parking assist system sensors rear,Power windows,Seat heating,Start-stop system',\n",
       " 'Air conditioning,Automatic climate control,Electrical side mirrors,Leather steering wheel,Light sensor,Multi-function steering wheel,Park Distance Control,Parking assist system sensors rear,Power windows,Rain sensor,Seat heating,Start-stop system',\n",
       " 'Air conditioning,Electrical side mirrors,Leather steering wheel,Light sensor,Multi-function steering wheel,Navigation system,Power windows,Rain sensor,Start-stop system',\n",
       " 'Air conditioning,Armrest,Automatic climate control,Electrical side mirrors,Leather steering wheel,Light sensor,Lumbar support,Multi-function steering wheel,Park Distance Control,Parking assist system sensors rear,Power windows,Rain sensor,Seat heating,Start-stop system',\n",
       " 'Air conditioning,Armrest,Automatic climate control,Electrical side mirrors,Leather steering wheel,Light sensor,Lumbar support,Multi-function steering wheel,Park Distance Control,Parking assist system sensors rear,Power windows,Rain sensor,Seat heating,Start-stop system',\n",
       " 'Air conditioning,Armrest,Automatic climate control,Electrical side mirrors,Leather steering wheel,Light sensor,Lumbar support,Multi-function steering wheel,Park Distance Control,Parking assist system sensors rear,Power windows,Rain sensor,Seat heating,Start-stop system',\n",
       " 'Air conditioning,Armrest,Automatic climate control,Electrical side mirrors,Leather steering wheel,Light sensor,Lumbar support,Multi-function steering wheel,Park Distance Control,Parking assist system sensors rear,Power windows,Rain sensor,Seat heating,Start-stop system',\n",
       " 'Air conditioning,Electrical side mirrors,Power windows,Seat heating,Start-stop system',\n",
       " 'Air conditioning,Armrest,Electrical side mirrors,Hill Holder,Keyless central door lock,Leather steering wheel,Light sensor,Lumbar support,Multi-function steering wheel,Park Distance Control,Parking assist system sensors rear,Power windows,Rain sensor,Seat heating,Start-stop system',\n",
       " 'Air conditioning,Armrest,Automatic climate control,Electrical side mirrors,Light sensor,Multi-function steering wheel,Navigation system,Park Distance Control,Parking assist system sensors rear,Power windows,Rain sensor,Seat heating,Start-stop system',\n",
       " 'Air conditioning,Armrest,Automatic climate control,Cruise control,Electrical side mirrors,Leather steering wheel,Multi-function steering wheel,Navigation system,Park Distance Control,Parking assist system sensors rear,Power windows,Rain sensor,Start-stop system',\n",
       " 'Air conditioning,Armrest,Automatic climate control,Cruise control,Electrical side mirrors,Leather steering wheel,Multi-function steering wheel,Navigation system,Park Distance Control,Parking assist system sensors rear,Power windows,Rain sensor',\n",
       " 'Air conditioning,Automatic climate control,Electrical side mirrors,Leather steering wheel,Light sensor,Lumbar support,Multi-function steering wheel,Park Distance Control,Parking assist system sensors rear,Power windows,Rain sensor,Start-stop system',\n",
       " 'Air conditioning,Electrical side mirrors,Leather steering wheel,Multi-function steering wheel,Power windows,Start-stop system',\n",
       " 'Air conditioning,Automatic climate control,Electrical side mirrors,Leather steering wheel,Light sensor,Multi-function steering wheel,Park Distance Control,Parking assist system sensors rear,Power windows,Rain sensor,Seat heating,Start-stop system',\n",
       " 'Air conditioning,Automatic climate control,Cruise control,Multi-function steering wheel,Navigation system,Park Distance Control,Power windows',\n",
       " 'Air conditioning,Armrest,Automatic climate control,Electrical side mirrors,Leather steering wheel,Light sensor,Multi-function steering wheel,Power windows,Rain sensor,Seat heating,Start-stop system',\n",
       " 'Air conditioning,Automatic climate control,Cruise control,Electrical side mirrors,Leather steering wheel,Light sensor,Multi-function steering wheel,Navigation system,Park Distance Control,Parking assist system sensors rear,Power windows,Rain sensor,Split rear seats,Start-stop system',\n",
       " 'Air conditioning,Automatic climate control,Cruise control,Electrical side mirrors,Leather steering wheel,Light sensor,Lumbar support,Multi-function steering wheel,Navigation system,Park Distance Control,Parking assist system sensors rear,Power windows,Rain sensor,Split rear seats,Start-stop system',\n",
       " 'Air conditioning,Armrest,Automatic climate control,Electrical side mirrors,Hill Holder,Leather steering wheel,Light sensor,Lumbar support,Multi-function steering wheel,Park Distance Control,Parking assist system sensors rear,Power windows,Rain sensor,Seat heating,Start-stop system',\n",
       " 'Air conditioning,Electrical side mirrors,Leather steering wheel,Multi-function steering wheel,Navigation system,Park Distance Control,Parking assist system sensors front,Parking assist system sensors rear,Power windows,Start-stop system',\n",
       " 'Air conditioning,Armrest,Automatic climate control,Leather steering wheel,Light sensor,Multi-function steering wheel,Navigation system,Park Distance Control,Parking assist system sensors rear,Power windows,Rain sensor,Seat heating,Start-stop system',\n",
       " 'Air conditioning,Automatic climate control,Cruise control,Electrical side mirrors,Leather steering wheel,Lumbar support,Multi-function steering wheel,Navigation system,Park Distance Control,Parking assist system sensors front,Parking assist system sensors rear,Power windows,Rain sensor,Split rear seats,Start-stop system,Tinted windows',\n",
       " 'Air conditioning,Automatic climate control,Electrical side mirrors,Hill Holder,Leather steering wheel,Light sensor,Lumbar support,Multi-function steering wheel,Park Distance Control,Parking assist system sensors rear,Power windows,Rain sensor,Seat heating,Start-stop system',\n",
       " 'Air conditioning,Automatic climate control,Electrical side mirrors,Hill Holder,Leather steering wheel,Multi-function steering wheel,Navigation system,Park Distance Control,Parking assist system sensors rear,Power windows,Rain sensor,Start-stop system,Tinted windows',\n",
       " 'Air conditioning,Hill Holder,Keyless central door lock,Leather steering wheel,Light sensor,Lumbar support,Multi-function steering wheel,Navigation system,Park Distance Control,Parking assist system sensors rear,Power windows,Rain sensor,Seat heating,Start-stop system',\n",
       " 'Air conditioning,Automatic climate control,Cruise control,Lumbar support,Navigation system,Park Distance Control,Parking assist system camera',\n",
       " 'Air conditioning,Automatic climate control,Cruise control,Navigation system,Park Distance Control,Parking assist system sensors rear',\n",
       " 'Air conditioning,Automatic climate control,Cruise control,Lumbar support,Navigation system,Park Distance Control,Parking assist system sensors rear',\n",
       " 'Air conditioning,Automatic climate control,Electrical side mirrors,Leather steering wheel,Multi-function steering wheel,Navigation system,Park Distance Control,Power windows',\n",
       " 'Air conditioning,Automatic climate control,Cruise control,Electrical side mirrors,Leather steering wheel,Multi-function steering wheel,Navigation system,Park Distance Control,Power windows',\n",
       " 'Air conditioning,Armrest,Automatic climate control,Electrical side mirrors,Leather steering wheel,Light sensor,Power windows,Rain sensor,Seat heating,Start-stop system',\n",
       " 'Air conditioning,Armrest,Electrical side mirrors,Hill Holder,Lumbar support,Park Distance Control,Parking assist system sensors rear,Power windows,Seat heating,Start-stop system',\n",
       " 'Air conditioning,Automatic climate control,Hill Holder,Power windows,Start-stop system',\n",
       " 'Air conditioning,Automatic climate control,Cruise control,Light sensor,Power windows,Rain sensor,Seat heating',\n",
       " 'Air conditioning,Automatic climate control,Electrical side mirrors,Leather steering wheel,Light sensor,Lumbar support,Power windows,Rain sensor,Start-stop system',\n",
       " 'Air conditioning,Electrical side mirrors,Park Distance Control,Parking assist system sensors rear,Power windows,Seat heating,Start-stop system',\n",
       " 'Air conditioning,Automatic climate control,Cruise control,Electrical side mirrors,Heads-up display,Hill Holder,Leather steering wheel,Light sensor,Multi-function steering wheel,Power windows,Start-stop system,Tinted windows',\n",
       " 'Air conditioning,Electrical side mirrors,Hill Holder,Leather steering wheel,Power windows,Seat heating,Start-stop system',\n",
       " 'Air conditioning,Automatic climate control,Cruise control,Electrical side mirrors,Leather steering wheel,Light sensor,Multi-function steering wheel,Navigation system,Park Distance Control,Parking assist system sensors rear,Power windows,Rain sensor,Split rear seats,Start-stop system',\n",
       " 'Air conditioning,Electrical side mirrors,Park Distance Control,Parking assist system sensors rear,Power windows,Seat heating,Start-stop system',\n",
       " 'Air conditioning,Hill Holder,Power windows,Start-stop system',\n",
       " 'Air conditioning,Armrest,Electrical side mirrors,Leather steering wheel,Power windows,Split rear seats,Start-stop system',\n",
       " 'Air conditioning,Electrical side mirrors,Power windows,Start-stop system',\n",
       " 'Air conditioning,Armrest,Auxiliary heating,Electrically heated windshield,Leather steering wheel,Light sensor,Multi-function steering wheel,Navigation system,Power windows,Split rear seats,Start-stop system',\n",
       " 'Air conditioning,Armrest,Automatic climate control,Cruise control,Electrical side mirrors,Leather steering wheel,Multi-function steering wheel,Navigation system,Park Distance Control,Power windows,Rain sensor',\n",
       " 'Air conditioning',\n",
       " 'Power windows,Start-stop system',\n",
       " 'Air conditioning,Power windows',\n",
       " 'Air conditioning,Armrest,Automatic climate control,Electrical side mirrors,Light sensor,Park Distance Control,Parking assist system sensors rear,Power windows,Rain sensor,Seat heating,Start-stop system',\n",
       " 'Air conditioning,Automatic climate control,Leather steering wheel,Light sensor,Multi-function steering wheel,Power windows,Rain sensor,Seat heating,Start-stop system',\n",
       " 'Air conditioning,Armrest,Automatic climate control,Electrical side mirrors,Leather steering wheel,Light sensor,Lumbar support,Multi-function steering wheel,Power windows,Rain sensor,Seat heating,Start-stop system',\n",
       " 'Air conditioning,Armrest,Automatic climate control,Leather steering wheel,Light sensor,Lumbar support,Multi-function steering wheel,Park Distance Control,Parking assist system sensors rear,Power windows,Rain sensor,Seat heating,Split rear seats,Start-stop system',\n",
       " 'Air conditioning,Multi-function steering wheel,Park Distance Control,Power windows,Seat heating,Start-stop system',\n",
       " 'Air conditioning,Electrical side mirrors,Leather steering wheel,Multi-function steering wheel,Power windows,Start-stop system',\n",
       " 'Air conditioning,Electrical side mirrors,Leather steering wheel,Light sensor,Multi-function steering wheel,Navigation system,Park Distance Control,Parking assist system sensors rear,Power windows,Rain sensor,Seat heating,Start-stop system',\n",
       " 'Air conditioning,Electrical side mirrors,Leather steering wheel,Multi-function steering wheel,Navigation system,Park Distance Control,Parking assist system sensors rear,Power windows,Seat heating,Start-stop system',\n",
       " 'Air conditioning,Automatic climate control,Electrical side mirrors,Leather steering wheel,Light sensor,Power windows,Rain sensor,Start-stop system',\n",
       " 'Air conditioning,Armrest,Automatic climate control,Electrical side mirrors,Leather steering wheel,Light sensor,Multi-function steering wheel,Park Distance Control,Parking assist system sensors rear,Power windows,Rain sensor,Seat heating,Start-stop system',\n",
       " nan,\n",
       " 'Air conditioning,Armrest,Automatic climate control,Leather steering wheel,Multi-function steering wheel,Power windows,Rain sensor,Split rear seats,Start-stop system',\n",
       " 'Air conditioning,Armrest,Electrical side mirrors,Leather steering wheel,Lumbar support,Multi-function steering wheel,Navigation system,Park Distance Control,Parking assist system sensors rear,Power windows,Seat heating,Split rear seats,Start-stop system',\n",
       " 'Air conditioning,Armrest,Automatic climate control,Cruise control,Leather steering wheel,Light sensor,Lumbar support,Multi-function steering wheel,Navigation system,Park Distance Control,Parking assist system sensors front,Parking assist system sensors rear,Power windows,Rain sensor,Seat heating,Split rear seats,Start-stop system',\n",
       " 'Air conditioning,Electrical side mirrors,Leather steering wheel,Light sensor,Lumbar support,Park Distance Control,Parking assist system sensors front,Parking assist system sensors rear,Power windows,Rain sensor,Seat heating,Start-stop system',\n",
       " 'Air conditioning,Armrest,Cruise control,Electrical side mirrors,Park Distance Control,Parking assist system sensors rear,Power windows,Seat heating,Start-stop system',\n",
       " 'Air conditioning,Automatic climate control,Electrical side mirrors,Leather steering wheel,Light sensor,Multi-function steering wheel,Navigation system,Panorama roof,Park Distance Control,Parking assist system sensors front,Parking assist system sensors rear,Power windows,Rain sensor,Seat heating',\n",
       " 'Air conditioning,Armrest,Automatic climate control,Cruise control,Electrical side mirrors,Leather steering wheel,Light sensor,Lumbar support,Multi-function steering wheel,Navigation system,Park Distance Control,Parking assist system sensors rear,Power windows,Rain sensor,Seat heating,Start-stop system',\n",
       " 'Air conditioning,Armrest,Electrical side mirrors,Leather steering wheel,Lumbar support,Park Distance Control,Parking assist system sensors rear,Power windows,Seat heating,Start-stop system',\n",
       " 'Air conditioning,Electrical side mirrors,Multi-function steering wheel,Park Distance Control,Parking assist system sensors rear,Power windows,Seat heating,Start-stop system',\n",
       " 'Air conditioning,Armrest,Electrical side mirrors,Light sensor,Park Distance Control,Parking assist system sensors rear,Power windows,Rain sensor,Start-stop system,Sunroof',\n",
       " 'Air conditioning,Electrical side mirrors,Hill Holder,Power windows,Start-stop system',\n",
       " 'Air conditioning,Electrical side mirrors,Hill Holder,Power windows,Start-stop system',\n",
       " 'Air conditioning,Armrest,Automatic climate control,Electrical side mirrors,Leather steering wheel,Light sensor,Multi-function steering wheel,Navigation system,Park Distance Control,Parking assist system sensors rear,Power windows,Rain sensor,Seat heating,Start-stop system',\n",
       " 'Air conditioning,Armrest,Automatic climate control,Cruise control,Electrical side mirrors,Leather steering wheel,Light sensor,Lumbar support,Multi-function steering wheel,Navigation system,Power windows,Rain sensor,Seat heating,Start-stop system',\n",
       " 'Air conditioning,Armrest,Automatic climate control,Electrical side mirrors,Keyless central door lock,Leather steering wheel,Light sensor,Lumbar support,Multi-function steering wheel,Park Distance Control,Parking assist system sensors rear,Power windows,Rain sensor,Seat heating,Start-stop system',\n",
       " 'Air conditioning,Armrest,Automatic climate control,Electrical side mirrors,Keyless central door lock,Leather steering wheel,Light sensor,Lumbar support,Multi-function steering wheel,Park Distance Control,Parking assist system sensors rear,Power windows,Rain sensor,Seat heating,Start-stop system',\n",
       " 'Air conditioning,Electrical side mirrors,Park Distance Control,Parking assist system sensors rear,Power windows,Seat heating,Start-stop system',\n",
       " 'Air conditioning,Automatic climate control,Cruise control,Electrical side mirrors,Power windows,Split rear seats',\n",
       " 'Air conditioning,Electrical side mirrors,Light sensor,Lumbar support,Park Distance Control,Parking assist system sensors rear,Power windows,Rain sensor,Seat heating,Start-stop system',\n",
       " 'Air conditioning,Electrical side mirrors,Hill Holder,Park Distance Control,Parking assist system sensors rear,Power windows,Start-stop system',\n",
       " 'Air conditioning,Armrest,Automatic climate control,Cruise control,Electrical side mirrors,Leather steering wheel,Light sensor,Lumbar support,Multi-function steering wheel,Navigation system,Park Distance Control,Parking assist system sensors rear,Power windows,Rain sensor,Start-stop system',\n",
       " 'Air conditioning,Armrest,Electrical side mirrors',\n",
       " 'Air conditioning,Armrest,Automatic climate control,Cruise control,Electrical side mirrors,Leather steering wheel,Light sensor,Multi-function steering wheel,Park Distance Control,Parking assist system sensors rear,Power windows,Split rear seats,Start-stop system,Tinted windows',\n",
       " 'Air conditioning,Electrical side mirrors,Light sensor,Multi-function steering wheel,Navigation system,Park Distance Control,Parking assist system sensors rear,Power windows,Rain sensor,Split rear seats,Start-stop system',\n",
       " 'Air conditioning,Electrical side mirrors,Leather steering wheel,Multi-function steering wheel,Power windows',\n",
       " 'Air conditioning,Electrical side mirrors,Hill Holder,Leather steering wheel,Light sensor,Multi-function steering wheel,Navigation system,Park Distance Control,Parking assist system sensors rear,Power windows,Rain sensor,Seat heating,Start-stop system',\n",
       " 'Air conditioning,Electrical side mirrors,Hill Holder,Leather steering wheel,Light sensor,Multi-function steering wheel,Navigation system,Park Distance Control,Parking assist system sensors rear,Power windows,Rain sensor,Seat heating,Start-stop system',\n",
       " 'Air conditioning,Automatic climate control,Multi-function steering wheel,Park Distance Control,Parking assist system sensors rear,Power windows,Rain sensor,Start-stop system',\n",
       " 'Air conditioning,Armrest,Cruise control,Electrical side mirrors,Power windows,Start-stop system',\n",
       " 'Air conditioning,Armrest,Cruise control,Electrical side mirrors,Leather steering wheel,Multi-function steering wheel,Park Distance Control,Parking assist system sensors rear,Power windows,Start-stop system',\n",
       " 'Air conditioning,Armrest,Electrical side mirrors,Leather steering wheel,Light sensor,Multi-function steering wheel,Navigation system,Power windows,Rain sensor,Seat heating,Start-stop system',\n",
       " 'Air conditioning,Electrical side mirrors,Keyless central door lock,Power windows,Seat heating,Start-stop system',\n",
       " 'Air conditioning,Electrical side mirrors,Hill Holder,Power windows,Start-stop system',\n",
       " 'Air conditioning,Armrest,Electrical side mirrors,Leather steering wheel,Multi-function steering wheel,Navigation system,Park Distance Control,Parking assist system sensors rear,Power windows,Start-stop system',\n",
       " 'Air conditioning,Armrest,Automatic climate control,Cruise control,Electrical side mirrors,Leather steering wheel,Light sensor,Multi-function steering wheel,Navigation system,Park Distance Control,Parking assist system sensors rear,Power windows,Rain sensor,Split rear seats,Start-stop system,Tinted windows',\n",
       " 'Air conditioning,Electrical side mirrors,Leather steering wheel,Park Distance Control,Parking assist system sensors rear,Power windows,Start-stop system',\n",
       " 'Air conditioning,Armrest,Cruise control,Electrically heated windshield,Electrical side mirrors,Hill Holder,Leather steering wheel,Light sensor,Lumbar support,Multi-function steering wheel,Navigation system,Park Distance Control,Parking assist system sensors rear,Power windows,Rain sensor,Seat heating,Start-stop system',\n",
       " 'Air conditioning,Armrest,Automatic climate control,Cruise control,Electrical side mirrors,Keyless central door lock,Light sensor,Lumbar support,Multi-function steering wheel,Navigation system,Park Distance Control,Parking assist system camera,Parking assist system sensors front,Parking assist system sensors rear,Power windows,Rain sensor,Seat heating,Seat ventilation,Split rear seats,Start-stop system,Tinted windows',\n",
       " 'Power windows,Start-stop system',\n",
       " 'Power windows,Start-stop system',\n",
       " 'Air conditioning,Automatic climate control,Cruise control,Electrical side mirrors,Leather steering wheel,Light sensor,Multi-function steering wheel,Navigation system,Park Distance Control,Parking assist system sensors rear,Power windows,Rain sensor,Split rear seats,Start-stop system,Tinted windows',\n",
       " 'Air conditioning,Leather steering wheel,Lumbar support,Power windows,Start-stop system',\n",
       " 'Air conditioning,Armrest,Cruise control,Leather steering wheel,Lumbar support,Multi-function steering wheel,Navigation system,Park Distance Control,Parking assist system sensors front,Parking assist system sensors rear,Power windows,Split rear seats',\n",
       " 'Air conditioning,Armrest,Automatic climate control,Electrical side mirrors,Leather steering wheel,Multi-function steering wheel,Navigation system,Parking assist system sensors rear,Power windows,Rain sensor,Seat heating,Split rear seats,Start-stop system',\n",
       " 'Air conditioning,Armrest,Automatic climate control,Cruise control,Leather steering wheel,Lumbar support,Multi-function steering wheel,Navigation system,Parking assist system sensors front,Parking assist system sensors rear,Power windows,Seat heating,Split rear seats,Start-stop system,Tinted windows',\n",
       " 'Air conditioning,Power windows',\n",
       " 'Air conditioning,Armrest,Automatic climate control,Light sensor,Lumbar support,Multi-function steering wheel,Park Distance Control,Parking assist system sensors rear,Power windows,Rain sensor,Seat heating,Start-stop system',\n",
       " 'Air conditioning,Leather steering wheel,Lumbar support,Power windows,Start-stop system',\n",
       " 'Air conditioning,Seat ventilation,Split rear seats',\n",
       " 'Air conditioning,Electrical side mirrors,Hill Holder,Keyless central door lock,Leather steering wheel,Light sensor,Multi-function steering wheel,Navigation system,Park Distance Control,Parking assist system sensors rear,Power windows,Rain sensor,Seat heating,Start-stop system',\n",
       " 'Air conditioning,Armrest,Automatic climate control,Cruise control,Electrical side mirrors,Leather steering wheel,Light sensor,Multi-function steering wheel,Navigation system,Park Distance Control,Parking assist system sensors rear,Power windows,Rain sensor,Split rear seats,Start-stop system,Tinted windows',\n",
       " 'Air conditioning,Multi-function steering wheel,Navigation system,Park Distance Control,Parking assist system sensors rear,Power windows,Start-stop system',\n",
       " 'Air conditioning,Automatic climate control,Cruise control,Light sensor,Multi-function steering wheel,Navigation system,Park Distance Control,Parking assist system sensors rear,Power windows,Start-stop system',\n",
       " 'Air conditioning,Electrical side mirrors,Power windows,Start-stop system,Tinted windows',\n",
       " 'Air conditioning,Electrical side mirrors,Leather steering wheel,Multi-function steering wheel,Park Distance Control,Parking assist system sensors rear,Power windows,Seat heating,Start-stop system',\n",
       " 'Air conditioning,Armrest,Automatic climate control,Electrical side mirrors,Leather steering wheel,Light sensor,Lumbar support,Multi-function steering wheel,Park Distance Control,Parking assist system sensors rear,Power windows,Rain sensor,Seat heating,Start-stop system',\n",
       " 'Air conditioning,Electrical side mirrors,Leather steering wheel,Multi-function steering wheel,Power windows,Start-stop system',\n",
       " 'Air conditioning,Electrical side mirrors,Leather steering wheel,Multi-function steering wheel,Power windows,Start-stop system',\n",
       " 'Air conditioning,Armrest,Cruise control,Electrical side mirrors,Power windows,Start-stop system',\n",
       " 'Air conditioning,Armrest,Automatic climate control,Electrical side mirrors,Leather steering wheel,Light sensor,Multi-function steering wheel,Park Distance Control,Parking assist system sensors rear,Power windows,Rain sensor,Seat heating,Start-stop system',\n",
       " 'Air conditioning,Automatic climate control,Power windows,Start-stop system',\n",
       " 'Air conditioning,Electrical side mirrors,Hill Holder,Leather steering wheel,Light sensor,Park Distance Control,Parking assist system sensors rear,Power windows,Rain sensor,Start-stop system',\n",
       " 'Air conditioning,Electrical side mirrors,Leather steering wheel,Lumbar support,Multi-function steering wheel,Power windows,Start-stop system',\n",
       " 'Air conditioning,Electrical side mirrors,Power windows,Start-stop system',\n",
       " 'Air conditioning,Electrical side mirrors,Hill Holder,Power windows,Start-stop system',\n",
       " 'Electrical side mirrors,Power windows,Split rear seats,Start-stop system',\n",
       " 'Air conditioning,Automatic climate control,Electrical side mirrors,Leather steering wheel,Parking assist system sensors rear,Power windows,Rain sensor,Start-stop system,Tinted windows',\n",
       " 'Hill Holder,Leather steering wheel,Light sensor,Lumbar support,Navigation system,Power windows,Rain sensor,Seat heating,Start-stop system',\n",
       " 'Air conditioning,Power windows',\n",
       " 'Air conditioning,Electrical side mirrors,Power windows,Split rear seats',\n",
       " 'Air conditioning,Automatic climate control,Electrical side mirrors,Leather steering wheel,Lumbar support,Multi-function steering wheel,Navigation system,Park Distance Control,Parking assist system sensors rear,Power windows,Seat heating,Start-stop system',\n",
       " 'Air conditioning,Armrest,Automatic climate control,Cruise control,Electrical side mirrors,Keyless central door lock,Leather steering wheel,Light sensor,Lumbar support,Multi-function steering wheel,Navigation system,Park Distance Control,Parking assist system sensors rear,Power windows,Seat heating,Start-stop system',\n",
       " 'Air conditioning,Armrest,Automatic climate control,Cruise control,Electrical side mirrors,Leather steering wheel,Navigation system,Park Distance Control,Parking assist system sensors rear,Power windows,Seat heating,Split rear seats,Sunroof',\n",
       " 'Air conditioning,Automatic climate control,Cruise control,Electrical side mirrors,Leather steering wheel,Light sensor,Multi-function steering wheel,Navigation system,Park Distance Control,Parking assist system sensors rear,Power windows,Rain sensor,Split rear seats,Start-stop system',\n",
       " 'Air conditioning,Automatic climate control,Cruise control,Light sensor,Multi-function steering wheel,Navigation system,Park Distance Control,Parking assist system sensors rear,Power windows,Rain sensor,Start-stop system',\n",
       " 'Air conditioning,Electrical side mirrors,Power windows,Split rear seats',\n",
       " 'Air conditioning,Automatic climate control,Electrical side mirrors,Hill Holder,Keyless central door lock,Leather steering wheel,Light sensor,Multi-function steering wheel,Navigation system,Park Distance Control,Parking assist system sensors rear,Power windows,Rain sensor,Start-stop system',\n",
       " 'Air conditioning,Electrical side mirrors,Hill Holder,Park Distance Control,Parking assist system sensors rear,Power windows,Start-stop system',\n",
       " 'Air conditioning,Armrest,Electrical side mirrors',\n",
       " 'Air conditioning,Electrical side mirrors,Leather steering wheel,Light sensor,Multi-function steering wheel,Park Distance Control,Parking assist system sensors rear,Power windows,Start-stop system',\n",
       " 'Air conditioning,Electrical side mirrors,Leather steering wheel,Multi-function steering wheel,Park Distance Control,Parking assist system sensors rear,Power windows,Start-stop system',\n",
       " 'Air conditioning,Armrest,Cruise control,Electrical side mirrors,Leather steering wheel,Light sensor,Lumbar support,Multi-function steering wheel,Park Distance Control,Parking assist system sensors rear,Power windows,Rain sensor,Split rear seats,Start-stop system,Tinted windows',\n",
       " 'Air conditioning,Power windows,Start-stop system',\n",
       " 'Air conditioning,Electrical side mirrors,Leather steering wheel,Lumbar support,Multi-function steering wheel,Park Distance Control,Parking assist system sensors rear,Power windows,Seat heating,Start-stop system',\n",
       " 'Air conditioning,Electrical side mirrors,Leather steering wheel,Multi-function steering wheel,Park Distance Control,Parking assist system sensors rear,Power windows,Seat heating,Start-stop system',\n",
       " 'Air conditioning,Automatic climate control,Park Distance Control,Power windows,Seat heating,Start-stop system',\n",
       " 'Air conditioning,Armrest,Automatic climate control,Electrical side mirrors,Leather steering wheel,Light sensor,Multi-function steering wheel,Navigation system,Park Distance Control,Parking assist system sensors rear,Power windows,Start-stop system',\n",
       " 'Air conditioning,Armrest,Cruise control,Electrical side mirrors,Light sensor,Power windows,Rain sensor,Seat heating,Start-stop system',\n",
       " 'Air conditioning,Electrical side mirrors,Leather steering wheel,Power windows,Start-stop system',\n",
       " 'Air conditioning,Armrest,Electrical side mirrors,Hill Holder,Power windows,Seat heating,Start-stop system',\n",
       " 'Air conditioning,Armrest,Automatic climate control,Cruise control,Electrical side mirrors,Hill Holder,Leather steering wheel,Light sensor,Multi-function steering wheel,Navigation system,Park Distance Control,Parking assist system sensors rear,Power windows,Rain sensor,Seat heating,Start-stop system',\n",
       " 'Air conditioning,Armrest,Automatic climate control,Cruise control,Electrical side mirrors,Heads-up display,Leather steering wheel,Multi-function steering wheel,Power windows,Rain sensor,Start-stop system,Tinted windows',\n",
       " 'Electrical side mirrors,Multi-function steering wheel,Park Distance Control,Parking assist system sensors rear,Power windows,Rain sensor,Start-stop system',\n",
       " 'Air conditioning,Armrest,Automatic climate control,Electrical side mirrors,Leather steering wheel,Park Distance Control,Parking assist system sensors rear,Power windows',\n",
       " 'Air conditioning,Electrical side mirrors,Hill Holder,Power windows',\n",
       " 'Air conditioning,Electrical side mirrors,Hill Holder,Power windows,Start-stop system',\n",
       " 'Leather steering wheel,Lumbar support,Power windows,Start-stop system',\n",
       " 'Air conditioning,Automatic climate control,Cruise control,Leather steering wheel,Light sensor,Lumbar support,Multi-function steering wheel,Park Distance Control,Parking assist system sensors rear,Power windows,Rain sensor',\n",
       " 'Air conditioning,Automatic climate control,Electrical side mirrors,Hill Holder,Leather steering wheel,Light sensor,Multi-function steering wheel,Navigation system,Power windows,Rain sensor,Seat heating,Start-stop system',\n",
       " 'Air conditioning,Armrest,Electrical side mirrors,Leather steering wheel,Power windows,Start-stop system',\n",
       " 'Air conditioning,Armrest,Electrical side mirrors,Light sensor,Power windows,Rain sensor,Start-stop system,Tinted windows',\n",
       " 'Air conditioning,Armrest,Automatic climate control,Electrical side mirrors,Leather steering wheel,Light sensor,Park Distance Control,Parking assist system sensors rear,Power windows,Rain sensor,Seat heating,Start-stop system',\n",
       " 'Air conditioning,Automatic climate control,Electrical side mirrors,Multi-function steering wheel,Power windows,Rain sensor,Start-stop system',\n",
       " 'Air conditioning,Cruise control,Electrical side mirrors,Multi-function steering wheel,Navigation system,Power windows,Start-stop system',\n",
       " 'Air conditioning,Armrest,Automatic climate control,Electrical side mirrors,Leather steering wheel,Light sensor,Power windows,Rain sensor,Seat heating,Start-stop system',\n",
       " 'Air conditioning,Armrest,Automatic climate control,Electrical side mirrors,Leather steering wheel,Light sensor,Power windows,Rain sensor,Seat heating,Start-stop system',\n",
       " 'Air conditioning,Armrest,Automatic climate control,Cruise control,Leather steering wheel,Light sensor,Multi-function steering wheel,Parking assist system sensors front,Parking assist system sensors rear,Power windows,Rain sensor,Seat heating,Split rear seats,Start-stop system',\n",
       " 'Air conditioning,Automatic climate control,Cruise control,Light sensor,Navigation system,Park Distance Control,Parking assist system sensors rear,Power windows,Rain sensor',\n",
       " 'Electrical side mirrors,Power windows,Split rear seats,Start-stop system',\n",
       " 'Air conditioning,Armrest,Automatic climate control,Electrical side mirrors,Leather steering wheel,Light sensor,Lumbar support,Multi-function steering wheel,Navigation system,Park Distance Control,Parking assist system sensors rear,Power windows,Rain sensor,Seat heating,Start-stop system',\n",
       " 'Air conditioning,Automatic climate control,Cruise control,Electrical side mirrors,Multi-function steering wheel,Navigation system,Park Distance Control,Parking assist system sensors front,Parking assist system sensors rear,Power windows,Rain sensor,Seat heating,Start-stop system',\n",
       " 'Air conditioning,Armrest,Automatic climate control,Electrical side mirrors,Leather steering wheel,Multi-function steering wheel,Navigation system,Park Distance Control,Parking assist system camera,Parking assist system sensors front,Parking assist system sensors rear,Power windows,Rain sensor,Split rear seats,Start-stop system,Tinted windows',\n",
       " 'Air conditioning,Seat ventilation,Split rear seats',\n",
       " 'Air conditioning,Seat ventilation,Split rear seats',\n",
       " 'Air conditioning,Automatic climate control,Electrical side mirrors,Navigation system,Park Distance Control,Parking assist system sensors front,Parking assist system sensors rear,Power windows',\n",
       " 'Air conditioning,Armrest,Cruise control,Electrical side mirrors,Leather steering wheel,Light sensor,Multi-function steering wheel,Navigation system,Park Distance Control,Parking assist system sensors rear,Power windows,Split rear seats,Start-stop system',\n",
       " 'Air conditioning,Automatic climate control,Cruise control,Electrical side mirrors,Leather steering wheel,Multi-function steering wheel,Navigation system,Park Distance Control,Parking assist system sensors rear,Power windows,Rain sensor,Split rear seats',\n",
       " 'Air conditioning,Seat ventilation,Split rear seats',\n",
       " 'Air conditioning,Automatic climate control,Electrical side mirrors,Leather steering wheel,Light sensor,Park Distance Control,Parking assist system sensors rear,Power windows,Rain sensor,Seat heating,Start-stop system',\n",
       " 'Air conditioning,Electrical side mirrors,Leather steering wheel,Multi-function steering wheel,Park Distance Control,Parking assist system sensors rear,Power windows,Seat heating,Start-stop system',\n",
       " 'Air conditioning,Electrical side mirrors,Leather steering wheel,Light sensor,Multi-function steering wheel,Power windows,Seat heating,Start-stop system',\n",
       " 'Air conditioning,Automatic climate control,Electrically heated windshield,Electrical side mirrors,Leather steering wheel,Light sensor,Multi-function steering wheel,Navigation system,Park Distance Control,Parking assist system sensors rear,Power windows,Split rear seats,Start-stop system,Tinted windows',\n",
       " 'Air conditioning,Automatic climate control,Electrical side mirrors,Light sensor,Park Distance Control,Parking assist system sensors rear,Power windows,Rain sensor',\n",
       " 'Air conditioning,Automatic climate control,Electrical side mirrors,Leather steering wheel,Light sensor,Multi-function steering wheel,Navigation system,Park Distance Control,Parking assist system sensors rear,Power windows,Split rear seats,Start-stop system',\n",
       " 'Air conditioning,Armrest,Automatic climate control,Cruise control,Electrical side mirrors,Leather steering wheel,Light sensor,Multi-function steering wheel,Navigation system,Park Distance Control,Parking assist system sensors rear,Split rear seats,Start-stop system',\n",
       " 'Air conditioning,Armrest,Electrical side mirrors,Hill Holder,Leather steering wheel,Multi-function steering wheel,Park Distance Control,Parking assist system sensors front,Parking assist system sensors rear,Power windows,Seat heating',\n",
       " 'Air conditioning,Armrest,Automatic climate control,Cruise control,Electrical side mirrors,Leather steering wheel,Light sensor,Lumbar support,Multi-function steering wheel,Navigation system,Park Distance Control,Parking assist system sensors rear,Power windows,Rain sensor,Seat heating,Start-stop system',\n",
       " 'Air conditioning,Multi-function steering wheel,Panorama roof,Park Distance Control,Power windows,Seat heating,Start-stop system,Sunroof',\n",
       " 'Air conditioning,Armrest,Automatic climate control,Cruise control,Electrical side mirrors,Leather steering wheel,Lumbar support,Multi-function steering wheel,Navigation system,Park Distance Control,Parking assist system sensors rear,Power windows,Split rear seats,Start-stop system',\n",
       " 'Air conditioning,Armrest,Electrical side mirrors,Leather steering wheel,Light sensor,Multi-function steering wheel,Park Distance Control,Parking assist system sensors rear,Power windows,Rain sensor,Seat heating,Start-stop system',\n",
       " 'Air conditioning,Armrest,Cruise control,Electrical side mirrors,Power windows,Start-stop system',\n",
       " 'Air conditioning,Armrest,Automatic climate control,Cruise control,Electrical side mirrors,Light sensor,Multi-function steering wheel,Park Distance Control,Parking assist system sensors rear,Power windows,Rain sensor,Seat heating,Start-stop system',\n",
       " 'Power windows,Start-stop system',\n",
       " nan,\n",
       " 'Air conditioning,Automatic climate control,Cruise control,Electrical side mirrors,Leather steering wheel,Multi-function steering wheel,Navigation system,Park Distance Control,Parking assist system sensors rear,Power windows,Rain sensor,Split rear seats',\n",
       " 'Air conditioning,Armrest,Automatic climate control,Cruise control,Electrical side mirrors,Hill Holder,Leather steering wheel,Light sensor,Lumbar support,Multi-function steering wheel,Park Distance Control,Parking assist system sensors rear,Power windows,Rain sensor,Seat heating,Start-stop system',\n",
       " 'Air conditioning,Armrest,Auxiliary heating,Cruise control,Electrical side mirrors,Navigation system,Park Distance Control,Parking assist system sensors front,Parking assist system sensors rear,Rain sensor,Seat heating,Seat ventilation,Split rear seats,Start-stop system,Tinted windows',\n",
       " 'Air conditioning,Air suspension,Armrest,Automatic climate control,Cruise control,Electrical side mirrors,Leather steering wheel,Light sensor,Multi-function steering wheel,Navigation system,Parking assist system sensors rear,Power windows,Rain sensor,Start-stop system,Wind deflector',\n",
       " 'Air conditioning,Seat ventilation,Split rear seats',\n",
       " 'Air conditioning,Armrest,Automatic climate control,Hill Holder,Multi-function steering wheel,Power windows,Start-stop system',\n",
       " 'Air conditioning,Cruise control,Electrical side mirrors,Leather steering wheel,Light sensor,Multi-function steering wheel,Power windows,Seat ventilation,Split rear seats,Start-stop system',\n",
       " 'Air conditioning,Armrest,Automatic climate control,Cruise control,Electrical side mirrors,Hill Holder,Leather steering wheel,Light sensor,Multi-function steering wheel,Navigation system,Park Distance Control,Parking assist system sensors front,Parking assist system sensors rear,Power windows,Rain sensor,Split rear seats,Start-stop system',\n",
       " 'Air conditioning,Armrest,Automatic climate control,Cruise control,Navigation system,Park Distance Control,Parking assist system sensors rear,Seat ventilation,Split rear seats,Tinted windows',\n",
       " 'Air conditioning,Armrest,Automatic climate control,Cruise control,Leather steering wheel,Multi-function steering wheel,Park Distance Control,Parking assist system sensors rear,Split rear seats',\n",
       " 'Air conditioning,Automatic climate control,Electrical side mirrors,Leather steering wheel,Light sensor,Multi-function steering wheel,Rain sensor,Seat ventilation,Split rear seats,Start-stop system',\n",
       " 'Air conditioning,Automatic climate control,Cruise control,Light sensor,Navigation system,Park Distance Control,Parking assist system sensors front,Parking assist system sensors rear,Rain sensor',\n",
       " 'Air conditioning,Armrest,Automatic climate control,Cruise control,Electrical side mirrors,Leather steering wheel,Multi-function steering wheel,Park Distance Control,Parking assist system sensors rear,Power windows,Split rear seats',\n",
       " 'Air conditioning,Automatic climate control,Electrically heated windshield,Electrical side mirrors,Leather steering wheel,Multi-function steering wheel,Navigation system,Park Distance Control,Parking assist system sensors front,Parking assist system sensors rear,Power windows,Rain sensor,Seat ventilation,Split rear seats',\n",
       " 'Air conditioning,Automatic climate control,Cruise control,Electrical side mirrors,Leather steering wheel,Multi-function steering wheel,Navigation system,Panorama roof',\n",
       " 'Air conditioning,Armrest,Automatic climate control,Leather steering wheel,Multi-function steering wheel,Park Distance Control,Parking assist system sensors rear,Power windows,Rain sensor',\n",
       " 'Air conditioning,Automatic climate control,Cruise control,Electrical side mirrors,Leather steering wheel,Multi-function steering wheel,Navigation system,Park Distance Control,Parking assist system sensors rear,Power windows,Rain sensor,Split rear seats',\n",
       " 'Air conditioning,Automatic climate control,Electrically heated windshield,Electrical side mirrors,Hill Holder,Leather steering wheel,Light sensor,Lumbar support,Multi-function steering wheel,Navigation system,Parking assist system sensors rear,Power windows,Rain sensor,Seat heating,Split rear seats,Start-stop system',\n",
       " 'Air conditioning,Armrest,Electrical side mirrors,Leather steering wheel,Light sensor,Multi-function steering wheel,Power windows,Rain sensor,Start-stop system',\n",
       " 'Air conditioning,Armrest,Automatic climate control,Cruise control,Multi-function steering wheel,Navigation system,Rain sensor,Seat ventilation,Split rear seats,Start-stop system',\n",
       " 'Air conditioning,Automatic climate control,Electrical side mirrors,Light sensor,Navigation system,Park Distance Control,Parking assist system sensors rear,Power windows,Rain sensor',\n",
       " 'Air conditioning,Armrest,Automatic climate control,Electrical side mirrors,Leather steering wheel,Light sensor,Multi-function steering wheel,Navigation system,Park Distance Control,Parking assist system sensors front,Parking assist system sensors rear,Power windows,Rain sensor,Seat heating,Start-stop system',\n",
       " 'Air conditioning,Power windows,Start-stop system',\n",
       " 'Leather steering wheel,Lumbar support,Power windows,Start-stop system',\n",
       " 'Electrical side mirrors,Leather steering wheel,Lumbar support,Power windows,Split rear seats,Start-stop system',\n",
       " 'Air conditioning,Automatic climate control,Electrical side mirrors,Power windows,Rain sensor,Split rear seats,Start-stop system',\n",
       " 'Air conditioning,Armrest,Automatic climate control,Cruise control,Electrical side mirrors,Leather steering wheel,Light sensor,Multi-function steering wheel,Parking assist system sensors rear,Power windows,Rain sensor,Seat heating,Split rear seats,Start-stop system',\n",
       " 'Air conditioning,Armrest,Electrical side mirrors,Leather steering wheel,Multi-function steering wheel,Power windows,Start-stop system,Tinted windows',\n",
       " 'Air conditioning,Automatic climate control,Electrical side mirrors,Leather steering wheel,Light sensor,Multi-function steering wheel,Navigation system,Park Distance Control,Parking assist system sensors rear,Power windows,Rain sensor,Seat heating,Start-stop system',\n",
       " 'Air conditioning,Armrest,Electrical side mirrors,Multi-function steering wheel,Navigation system,Park Distance Control,Parking assist system sensors front,Parking assist system sensors rear,Power windows,Start-stop system,Sunroof',\n",
       " 'Air conditioning,Armrest,Keyless central door lock,Multi-function steering wheel,Navigation system,Seat ventilation,Split rear seats,Start-stop system',\n",
       " 'Air conditioning,Electrical side mirrors,Leather steering wheel,Multi-function steering wheel,Navigation system,Park Distance Control,Parking assist system sensors rear,Power windows,Start-stop system',\n",
       " 'Air conditioning,Automatic climate control,Leather steering wheel,Park Distance Control,Parking assist system sensors rear',\n",
       " 'Air conditioning,Automatic climate control,Electrical side mirrors,Leather steering wheel,Light sensor,Multi-function steering wheel,Power windows,Rain sensor,Start-stop system',\n",
       " 'Air conditioning,Armrest,Automatic climate control,Electrical side mirrors,Light sensor,Lumbar support,Multi-function steering wheel,Park Distance Control,Power windows,Rain sensor,Seat heating,Start-stop system',\n",
       " 'Air conditioning,Electrical side mirrors,Leather steering wheel,Power windows,Split rear seats',\n",
       " 'Air conditioning,Seat ventilation,Split rear seats',\n",
       " 'Air conditioning,Automatic climate control,Cruise control',\n",
       " 'Air conditioning,Power windows,Start-stop system',\n",
       " nan,\n",
       " 'Air conditioning,Air suspension,Armrest,Automatic climate control,Electrically heated windshield,Electrical side mirrors,Heads-up display,Hill Holder,Keyless central door lock,Light sensor,Lumbar support,Multi-function steering wheel,Navigation system,Power windows,Rain sensor,Seat heating,Seat ventilation,Split rear seats,Start-stop system,Tinted windows',\n",
       " 'Air conditioning,Armrest,Automatic climate control,Hill Holder,Leather steering wheel,Light sensor,Multi-function steering wheel,Navigation system,Parking assist system sensors front,Parking assist system sensors rear,Power windows,Rain sensor,Split rear seats,Start-stop system',\n",
       " 'Air conditioning,Seat ventilation,Split rear seats',\n",
       " 'Air conditioning,Armrest,Automatic climate control,Keyless central door lock,Leather steering wheel,Light sensor,Lumbar support,Multi-function steering wheel,Navigation system,Parking assist system sensors front,Parking assist system sensors rear,Power windows,Rain sensor,Seat heating,Seat ventilation,Split rear seats,Start-stop system,Tinted windows',\n",
       " nan,\n",
       " 'Air conditioning,Automatic climate control,Keyless central door lock,Leather steering wheel,Multi-function steering wheel,Parking assist system sensors rear,Seat ventilation,Split rear seats,Start-stop system',\n",
       " nan,\n",
       " 'Air conditioning,Automatic climate control,Park Distance Control,Parking assist system sensors rear,Power windows,Start-stop system',\n",
       " nan,\n",
       " 'Air conditioning,Seat ventilation,Split rear seats',\n",
       " 'Air conditioning,Armrest,Automatic climate control,Cruise control,Electrically heated windshield,Electrical side mirrors,Leather steering wheel,Light sensor,Multi-function steering wheel,Navigation system,Parking assist system self-steering,Parking assist system sensors front,Parking assist system sensors rear,Power windows,Rain sensor,Split rear seats,Start-stop system,Tinted windows',\n",
       " 'Air conditioning,Seat ventilation,Split rear seats',\n",
       " 'Air conditioning,Seat ventilation,Split rear seats',\n",
       " 'Air conditioning,Armrest,Cruise control,Electrical side mirrors,Hill Holder,Leather steering wheel,Lumbar support,Multi-function steering wheel,Navigation system,Power windows,Start-stop system',\n",
       " 'Air conditioning,Seat ventilation,Split rear seats',\n",
       " 'Air conditioning,Armrest,Automatic climate control,Leather steering wheel,Light sensor,Multi-function steering wheel,Navigation system,Power windows,Rain sensor,Start-stop system,Tinted windows',\n",
       " 'Air conditioning,Seat ventilation,Split rear seats',\n",
       " nan,\n",
       " 'Air conditioning,Seat ventilation,Split rear seats',\n",
       " 'Air conditioning,Armrest,Electrical side mirrors,Multi-function steering wheel,Navigation system,Power windows,Rain sensor,Split rear seats',\n",
       " 'Air conditioning,Armrest,Electrical side mirrors,Leather steering wheel,Multi-function steering wheel,Park Distance Control,Parking assist system sensors rear,Power windows,Start-stop system,Tinted windows',\n",
       " 'Air conditioning,Seat ventilation,Split rear seats',\n",
       " 'Air conditioning,Automatic climate control,Cruise control,Light sensor,Navigation system,Park Distance Control,Parking assist system sensors rear,Power windows,Rain sensor,Split rear seats',\n",
       " 'Air conditioning,Cruise control,Electrically adjustable seats,Leather steering wheel,Multi-function steering wheel,Navigation system,Power windows,Seat heating,Start-stop system',\n",
       " 'Air conditioning,Seat ventilation,Split rear seats',\n",
       " 'Air conditioning,Seat ventilation,Split rear seats',\n",
       " nan,\n",
       " 'Air conditioning,Seat ventilation,Split rear seats',\n",
       " 'Panorama roof',\n",
       " 'Air conditioning,Armrest,Electrical side mirrors,Leather steering wheel,Light sensor,Lumbar support,Multi-function steering wheel,Navigation system,Park Distance Control,Parking assist system sensors rear,Power windows,Rain sensor,Seat heating,Start-stop system',\n",
       " 'Air conditioning,Seat ventilation,Split rear seats',\n",
       " 'Air conditioning,Armrest,Leather steering wheel,Multi-function steering wheel,Navigation system,Park Distance Control,Parking assist system sensors front,Parking assist system sensors rear,Power windows,Start-stop system',\n",
       " 'Air conditioning,Panorama roof,Seat ventilation,Split rear seats',\n",
       " 'Air conditioning,Armrest,Automatic climate control,Electrical side mirrors,Keyless central door lock,Leather steering wheel,Light sensor,Multi-function steering wheel,Navigation system,Power windows,Rain sensor,Seat heating,Start-stop system',\n",
       " 'Air conditioning,Armrest,Automatic climate control,Electrical side mirrors,Leather steering wheel,Light sensor,Multi-function steering wheel,Navigation system,Power windows,Rain sensor,Seat heating,Start-stop system',\n",
       " 'Air conditioning,Seat ventilation,Split rear seats',\n",
       " 'Air conditioning,Electrical side mirrors,Light sensor,Power windows,Start-stop system',\n",
       " 'Air conditioning,Electrical side mirrors,Park Distance Control,Parking assist system sensors front,Parking assist system sensors rear,Power windows,Seat heating,Start-stop system',\n",
       " 'Air conditioning,Electrical side mirrors,Park Distance Control,Parking assist system sensors front,Parking assist system sensors rear,Power windows,Seat heating,Start-stop system',\n",
       " 'Air conditioning,Armrest,Automatic climate control,Cruise control,Electrical side mirrors,Leather steering wheel,Light sensor,Lumbar support,Multi-function steering wheel,Navigation system,Park Distance Control,Parking assist system sensors rear,Power windows,Rain sensor,Seat heating,Start-stop system',\n",
       " nan,\n",
       " nan,\n",
       " 'Air conditioning,Armrest,Automatic climate control,Electrical side mirrors,Leather steering wheel,Light sensor,Power windows,Rain sensor,Seat heating,Start-stop system',\n",
       " 'Air conditioning,Armrest,Hill Holder,Multi-function steering wheel,Park Distance Control,Parking assist system sensors rear,Power windows,Start-stop system',\n",
       " 'Air conditioning,Armrest,Automatic climate control,Electrical side mirrors,Leather steering wheel,Power windows,Seat heating',\n",
       " 'Air conditioning,Armrest,Automatic climate control,Electrically heated windshield,Electrical side mirrors,Keyless central door lock,Leather steering wheel,Light sensor,Lumbar support,Multi-function steering wheel,Parking assist system sensors rear,Power windows,Rain sensor,Seat heating,Start-stop system',\n",
       " 'Air conditioning,Electrical side mirrors,Power windows,Split rear seats',\n",
       " 'Air conditioning,Electrical side mirrors,Leather steering wheel,Light sensor,Multi-function steering wheel,Navigation system,Power windows,Rain sensor,Seat heating,Start-stop system',\n",
       " 'Air conditioning,Electrical side mirrors,Leather steering wheel,Power windows,Start-stop system,Tinted windows',\n",
       " 'Armrest,Cruise control,Electrical side mirrors,Light sensor,Multi-function steering wheel,Navigation system,Park Distance Control,Parking assist system sensors front,Parking assist system sensors rear,Rain sensor,Seat heating',\n",
       " 'Air conditioning,Armrest,Electrical side mirrors,Leather steering wheel,Multi-function steering wheel,Navigation system,Park Distance Control,Parking assist system sensors rear,Power windows,Seat heating,Start-stop system',\n",
       " 'Air conditioning,Armrest,Automatic climate control,Electrical side mirrors,Light sensor,Lumbar support,Multi-function steering wheel,Park Distance Control,Parking assist system sensors rear,Power windows,Rain sensor,Seat heating,Start-stop system',\n",
       " 'Air conditioning,Electrical side mirrors,Park Distance Control,Parking assist system sensors rear,Power windows,Seat heating,Start-stop system',\n",
       " 'Electrical side mirrors,Leather steering wheel,Multi-function steering wheel,Power windows,Seat heating,Start-stop system',\n",
       " 'Air conditioning,Electrical side mirrors,Light sensor,Multi-function steering wheel,Navigation system,Park Distance Control,Parking assist system sensors rear,Power windows,Rain sensor,Tinted windows',\n",
       " 'Air conditioning,Automatic climate control,Cruise control,Electrical side mirrors,Light sensor,Multi-function steering wheel,Navigation system,Park Distance Control,Parking assist system sensors rear,Power windows,Rain sensor,Start-stop system',\n",
       " 'Air conditioning,Armrest,Automatic climate control,Leather steering wheel,Light sensor,Multi-function steering wheel,Park Distance Control,Parking assist system sensors front,Parking assist system sensors rear,Power windows,Rain sensor,Seat heating,Start-stop system',\n",
       " 'Air conditioning,Armrest,Automatic climate control,Cruise control,Electrical side mirrors,Leather steering wheel,Light sensor,Lumbar support,Multi-function steering wheel,Park Distance Control,Parking assist system sensors rear,Power windows,Rain sensor,Seat heating,Start-stop system',\n",
       " 'Air conditioning,Cruise control,Electrical side mirrors,Light sensor,Multi-function steering wheel,Navigation system,Park Distance Control,Parking assist system sensors rear,Power windows,Rain sensor,Start-stop system',\n",
       " 'Air conditioning,Armrest,Electrical side mirrors,Leather steering wheel,Lumbar support,Multi-function steering wheel,Parking assist system sensors rear,Power windows,Split rear seats,Tinted windows',\n",
       " 'Air conditioning,Electrical side mirrors,Hill Holder,Keyless central door lock,Light sensor,Panorama roof,Park Distance Control,Parking assist system sensors rear,Power windows,Rain sensor,Seat heating,Start-stop system',\n",
       " 'Air conditioning,Armrest,Automatic climate control,Electrical side mirrors,Leather steering wheel,Light sensor,Multi-function steering wheel,Park Distance Control,Parking assist system sensors front,Parking assist system sensors rear,Power windows,Rain sensor,Seat heating,Start-stop system',\n",
       " 'Air conditioning,Armrest,Automatic climate control,Electrical side mirrors,Leather steering wheel,Light sensor,Lumbar support,Multi-function steering wheel,Park Distance Control,Parking assist system sensors front,Parking assist system sensors rear,Power windows,Rain sensor,Seat heating,Start-stop system',\n",
       " 'Air conditioning,Armrest,Automatic climate control,Electrical side mirrors,Leather steering wheel,Light sensor,Lumbar support,Multi-function steering wheel,Park Distance Control,Parking assist system sensors front,Parking assist system sensors rear,Power windows,Rain sensor,Seat heating,Start-stop system',\n",
       " 'Air conditioning,Armrest,Automatic climate control,Cruise control,Electrical side mirrors,Leather steering wheel,Light sensor,Lumbar support,Multi-function steering wheel,Navigation system,Park Distance Control,Parking assist system sensors rear,Power windows,Rain sensor,Seat heating,Start-stop system',\n",
       " 'Air conditioning,Armrest,Electrical side mirrors,Leather steering wheel,Light sensor,Multi-function steering wheel,Navigation system,Power windows,Rain sensor,Start-stop system',\n",
       " 'Air conditioning,Armrest,Automatic climate control,Electrical side mirrors,Hill Holder,Light sensor,Park Distance Control,Parking assist system sensors front,Parking assist system sensors rear,Power windows,Rain sensor,Start-stop system',\n",
       " 'Air conditioning,Armrest,Automatic climate control,Cruise control,Electrical side mirrors,Leather steering wheel,Light sensor,Lumbar support,Multi-function steering wheel,Navigation system,Parking assist system sensors rear,Power windows,Rain sensor,Seat heating,Start-stop system',\n",
       " 'Electrical side mirrors,Power windows,Split rear seats,Start-stop system',\n",
       " 'Air conditioning,Armrest,Automatic climate control,Cruise control,Electrical side mirrors,Leather steering wheel,Light sensor,Lumbar support,Multi-function steering wheel,Navigation system,Parking assist system sensors front,Parking assist system sensors rear,Power windows,Rain sensor,Split rear seats,Start-stop system',\n",
       " 'Air conditioning,Armrest,Automatic climate control,Electrical side mirrors,Leather steering wheel,Light sensor,Lumbar support,Multi-function steering wheel,Navigation system,Park Distance Control,Parking assist system sensors rear,Power windows,Rain sensor,Seat heating,Start-stop system',\n",
       " 'Air conditioning,Armrest,Automatic climate control,Cruise control,Electrical side mirrors,Leather steering wheel,Light sensor,Lumbar support,Multi-function steering wheel,Navigation system,Park Distance Control,Parking assist system sensors rear,Power windows,Rain sensor,Seat heating,Start-stop system',\n",
       " 'Air conditioning,Cruise control,Electrically heated windshield,Electrical side mirrors,Heads-up display,Leather steering wheel,Lumbar support,Multi-function steering wheel,Navigation system,Power windows,Tinted windows',\n",
       " nan,\n",
       " 'Air conditioning,Armrest,Automatic climate control,Electrical side mirrors,Leather steering wheel,Light sensor,Lumbar support,Multi-function steering wheel,Navigation system,Panorama roof,Park Distance Control,Parking assist system sensors rear,Power windows,Rain sensor,Start-stop system,Sunroof',\n",
       " 'Air conditioning,Armrest,Automatic climate control,Cruise control,Electrical side mirrors,Leather steering wheel,Light sensor,Lumbar support,Multi-function steering wheel,Navigation system,Park Distance Control,Parking assist system sensors rear,Power windows,Rain sensor,Seat heating,Start-stop system',\n",
       " 'Air conditioning,Electrical side mirrors,Leather steering wheel,Multi-function steering wheel,Park Distance Control,Parking assist system sensors rear,Power windows,Start-stop system',\n",
       " 'Air conditioning,Armrest,Automatic climate control,Cruise control,Electrical side mirrors,Leather steering wheel,Light sensor,Lumbar support,Multi-function steering wheel,Navigation system,Park Distance Control,Parking assist system sensors rear,Power windows,Rain sensor,Seat heating,Start-stop system',\n",
       " 'Air conditioning,Armrest,Automatic climate control,Electrical side mirrors,Heads-up display,Leather steering wheel,Multi-function steering wheel,Power windows,Rain sensor,Start-stop system,Tinted windows',\n",
       " 'Air conditioning,Armrest,Automatic climate control,Cruise control,Electrical side mirrors,Leather steering wheel,Light sensor,Multi-function steering wheel,Navigation system,Park Distance Control,Parking assist system sensors rear,Power windows,Rain sensor,Seat heating,Start-stop system',\n",
       " 'Air conditioning,Armrest,Automatic climate control,Cruise control,Electrical side mirrors,Keyless central door lock,Leather steering wheel,Lumbar support,Multi-function steering wheel,Navigation system,Park Distance Control,Parking assist system sensors rear,Power windows,Rain sensor,Split rear seats,Start-stop system,Tinted windows,Wind deflector',\n",
       " 'Air conditioning,Armrest,Automatic climate control,Electrical side mirrors,Leather steering wheel,Light sensor,Multi-function steering wheel,Park Distance Control,Parking assist system sensors rear,Power windows,Rain sensor,Seat heating,Start-stop system',\n",
       " 'Air conditioning,Automatic climate control,Cruise control,Leather steering wheel,Multi-function steering wheel,Park Distance Control,Parking assist system sensors front,Parking assist system sensors rear,Power windows,Split rear seats,Tinted windows',\n",
       " 'Air conditioning,Armrest,Automatic climate control,Electrical side mirrors,Hill Holder,Keyless central door lock,Leather steering wheel,Light sensor,Lumbar support,Multi-function steering wheel,Panorama roof,Park Distance Control,Parking assist system sensors front,Parking assist system sensors rear,Power windows,Rain sensor,Seat heating,Start-stop system',\n",
       " 'Air conditioning,Power windows',\n",
       " 'Air conditioning,Multi-function steering wheel,Power windows,Start-stop system',\n",
       " 'Air conditioning,Armrest,Automatic climate control,Cruise control,Electrical side mirrors,Hill Holder,Keyless central door lock,Leather steering wheel,Light sensor,Lumbar support,Multi-function steering wheel,Park Distance Control,Parking assist system sensors rear,Power windows,Rain sensor,Seat heating,Start-stop system',\n",
       " 'Air conditioning,Armrest,Automatic climate control,Electrical side mirrors,Hill Holder,Leather steering wheel,Light sensor,Lumbar support,Multi-function steering wheel,Navigation system,Park Distance Control,Parking assist system sensors front,Parking assist system sensors rear,Power windows,Rain sensor,Seat heating',\n",
       " 'Air conditioning,Armrest,Automatic climate control,Cruise control,Electrical side mirrors,Hill Holder,Leather steering wheel,Light sensor,Lumbar support,Multi-function steering wheel,Navigation system,Park Distance Control,Parking assist system sensors rear,Power windows,Rain sensor,Seat heating,Start-stop system',\n",
       " 'Air conditioning,Armrest,Electrical side mirrors,Hill Holder,Leather steering wheel,Lumbar support,Multi-function steering wheel,Navigation system,Park Distance Control,Parking assist system sensors rear,Power windows,Seat heating',\n",
       " 'Air conditioning,Power windows',\n",
       " 'Air conditioning,Power windows',\n",
       " 'Air conditioning,Lumbar support',\n",
       " 'Cruise control,Electrical side mirrors,Hill Holder,Leather steering wheel,Lumbar support,Power windows,Start-stop system',\n",
       " 'Air conditioning,Armrest,Automatic climate control,Cruise control,Electrical side mirrors,Hill Holder,Leather steering wheel,Light sensor,Lumbar support,Multi-function steering wheel,Navigation system,Park Distance Control,Parking assist system sensors rear,Power windows,Rain sensor,Seat heating,Start-stop system',\n",
       " 'Air conditioning,Automatic climate control,Cruise control,Electrical side mirrors,Light sensor,Multi-function steering wheel,Power windows,Rain sensor,Split rear seats',\n",
       " 'Air conditioning,Multi-function steering wheel,Park Distance Control,Power windows,Start-stop system',\n",
       " 'Air conditioning,Armrest,Cruise control,Electrical side mirrors,Leather steering wheel,Multi-function steering wheel,Navigation system,Power windows,Start-stop system',\n",
       " 'Air conditioning',\n",
       " 'Air conditioning,Power windows',\n",
       " 'Air conditioning,Power windows',\n",
       " 'Air conditioning,Armrest,Automatic climate control,Electrical side mirrors,Hill Holder,Leather steering wheel,Light sensor,Lumbar support,Multi-function steering wheel,Navigation system,Park Distance Control,Parking assist system sensors front,Parking assist system sensors rear,Power windows,Rain sensor,Seat heating,Start-stop system',\n",
       " 'Air conditioning,Armrest,Automatic climate control,Cruise control,Electrical side mirrors,Hill Holder,Keyless central door lock,Light sensor,Multi-function steering wheel,Park Distance Control,Parking assist system sensors rear,Power windows,Rain sensor,Seat heating,Start-stop system',\n",
       " 'Air conditioning,Armrest,Automatic climate control,Cruise control,Electrical side mirrors,Hill Holder,Multi-function steering wheel,Navigation system,Park Distance Control,Parking assist system sensors front,Parking assist system sensors rear,Power windows,Rain sensor,Seat heating,Start-stop system',\n",
       " 'Cruise control,Electrical side mirrors,Power windows,Start-stop system',\n",
       " 'Air conditioning,Automatic climate control,Multi-function steering wheel,Park Distance Control,Power windows',\n",
       " 'Multi-function steering wheel,Power windows,Start-stop system',\n",
       " 'Multi-function steering wheel,Power windows',\n",
       " 'Air conditioning,Armrest,Electrical side mirrors,Hill Holder,Leather steering wheel,Multi-function steering wheel,Power windows,Split rear seats,Start-stop system',\n",
       " 'Air conditioning,Automatic climate control,Multi-function steering wheel,Park Distance Control,Parking assist system sensors rear,Power windows,Rain sensor,Start-stop system',\n",
       " 'Air conditioning,Armrest,Automatic climate control,Cruise control,Leather steering wheel,Light sensor,Multi-function steering wheel,Navigation system,Park Distance Control,Parking assist system sensors rear,Power windows,Rain sensor,Split rear seats,Start-stop system,Tinted windows',\n",
       " 'Air conditioning,Automatic climate control,Cruise control,Electrical side mirrors,Light sensor,Multi-function steering wheel,Power windows,Rain sensor,Split rear seats',\n",
       " 'Air conditioning,Armrest,Cruise control,Electrical side mirrors,Leather steering wheel,Multi-function steering wheel,Park Distance Control,Parking assist system sensors rear,Power windows,Seat heating,Start-stop system',\n",
       " 'Air conditioning,Armrest,Cruise control,Electrical side mirrors,Leather steering wheel,Multi-function steering wheel,Park Distance Control,Parking assist system sensors rear,Power windows,Seat heating,Start-stop system',\n",
       " 'Air conditioning,Armrest,Automatic climate control,Electrical side mirrors,Leather steering wheel,Light sensor,Lumbar support,Multi-function steering wheel,Park Distance Control,Parking assist system sensors rear,Power windows,Rain sensor,Seat heating,Start-stop system',\n",
       " 'Air conditioning,Cruise control,Light sensor,Multi-function steering wheel,Power windows',\n",
       " 'Air conditioning,Multi-function steering wheel,Power windows,Start-stop system',\n",
       " 'Air conditioning,Armrest,Automatic climate control,Cruise control,Electrical side mirrors,Hill Holder,Light sensor,Multi-function steering wheel,Park Distance Control,Parking assist system sensors rear,Power windows,Rain sensor,Seat heating,Start-stop system',\n",
       " 'Air conditioning,Automatic climate control,Cruise control,Multi-function steering wheel,Power windows,Start-stop system',\n",
       " 'Air conditioning,Multi-function steering wheel,Power windows,Start-stop system',\n",
       " nan,\n",
       " 'Air conditioning,Armrest,Automatic climate control,Electrical side mirrors,Leather steering wheel,Light sensor,Multi-function steering wheel,Park Distance Control,Parking assist system sensors rear,Power windows,Rain sensor,Seat heating,Start-stop system',\n",
       " 'Air conditioning,Armrest,Automatic climate control,Cruise control,Electrical side mirrors,Light sensor,Multi-function steering wheel,Navigation system,Park Distance Control,Parking assist system sensors rear,Power windows,Rain sensor,Seat heating,Start-stop system',\n",
       " 'Air conditioning,Cruise control,Electrical side mirrors,Leather steering wheel,Multi-function steering wheel,Navigation system,Park Distance Control,Parking assist system sensors rear,Power windows,Seat heating,Split rear seats,Start-stop system,Tinted windows',\n",
       " 'Air conditioning,Armrest,Automatic climate control,Electrical side mirrors,Leather steering wheel,Light sensor,Lumbar support,Multi-function steering wheel,Park Distance Control,Parking assist system sensors rear,Power windows,Rain sensor,Seat heating,Start-stop system',\n",
       " 'Air conditioning,Armrest,Automatic climate control,Electrical side mirrors,Multi-function steering wheel,Navigation system,Park Distance Control,Parking assist system sensors rear,Seat heating',\n",
       " 'Air conditioning,Automatic climate control,Cruise control,Electrical side mirrors,Leather steering wheel,Light sensor,Multi-function steering wheel,Navigation system,Park Distance Control,Parking assist system sensors rear,Power windows,Rain sensor,Seat heating,Start-stop system',\n",
       " 'Air conditioning,Armrest,Automatic climate control,Cruise control,Electrical side mirrors,Hill Holder,Leather steering wheel,Light sensor,Lumbar support,Multi-function steering wheel,Navigation system,Park Distance Control,Parking assist system sensors rear,Power windows,Rain sensor,Seat heating',\n",
       " 'Air conditioning,Electrical side mirrors,Leather steering wheel,Power windows,Split rear seats,Start-stop system',\n",
       " 'Air conditioning,Armrest,Electrical side mirrors,Leather steering wheel,Parking assist system sensors rear,Power windows,Split rear seats,Sunroof',\n",
       " 'Air conditioning,Armrest,Automatic climate control,Electrical side mirrors,Hill Holder,Leather steering wheel,Light sensor,Lumbar support,Multi-function steering wheel,Park Distance Control,Parking assist system sensors rear,Power windows,Rain sensor,Seat heating',\n",
       " 'Air conditioning,Armrest,Automatic climate control,Cruise control,Electrical side mirrors,Light sensor,Multi-function steering wheel,Power windows,Rain sensor,Sunroof',\n",
       " 'Air conditioning,Armrest,Electrical side mirrors,Leather steering wheel,Multi-function steering wheel,Power windows,Start-stop system,Tinted windows',\n",
       " 'Air conditioning,Armrest,Automatic climate control,Multi-function steering wheel,Navigation system,Parking assist system sensors rear,Power windows,Rain sensor',\n",
       " 'Electrical side mirrors,Power windows,Split rear seats,Start-stop system',\n",
       " 'Air conditioning,Armrest,Automatic climate control,Electrical side mirrors,Leather steering wheel,Light sensor,Lumbar support,Multi-function steering wheel,Park Distance Control,Power windows,Rain sensor,Seat heating,Start-stop system',\n",
       " 'Air conditioning,Seat ventilation,Split rear seats',\n",
       " 'Air conditioning,Automatic climate control,Leather steering wheel,Light sensor,Multi-function steering wheel,Navigation system,Power windows,Split rear seats,Start-stop system',\n",
       " nan,\n",
       " 'Air conditioning,Automatic climate control,Cruise control,Electrical side mirrors,Heads-up display,Leather steering wheel,Light sensor,Power windows,Rain sensor,Start-stop system,Tinted windows',\n",
       " 'Air conditioning',\n",
       " 'Air conditioning,Armrest,Automatic climate control,Electrical side mirrors,Hill Holder,Leather steering wheel,Light sensor,Lumbar support,Multi-function steering wheel,Navigation system,Park Distance Control,Parking assist system sensors rear,Power windows,Rain sensor,Seat heating,Start-stop system',\n",
       " 'Air conditioning,Automatic climate control,Cruise control,Electrical side mirrors,Hill Holder,Leather steering wheel,Light sensor,Lumbar support,Multi-function steering wheel,Panorama roof,Park Distance Control,Parking assist system sensors rear,Power windows,Rain sensor,Seat heating,Start-stop system',\n",
       " 'Air conditioning,Armrest,Automatic climate control,Electrical side mirrors,Hill Holder,Keyless central door lock,Leather steering wheel,Light sensor,Multi-function steering wheel,Navigation system,Park Distance Control,Parking assist system sensors rear,Power windows,Rain sensor,Seat heating,Start-stop system',\n",
       " 'Air conditioning,Armrest,Automatic climate control,Electrical side mirrors,Hill Holder,Leather steering wheel,Light sensor,Lumbar support,Multi-function steering wheel,Park Distance Control,Parking assist system sensors rear,Power windows,Rain sensor,Seat heating,Start-stop system',\n",
       " 'Air conditioning,Armrest,Automatic climate control,Electrical side mirrors,Hill Holder,Leather steering wheel,Light sensor,Lumbar support,Multi-function steering wheel,Park Distance Control,Parking assist system sensors rear,Power windows,Rain sensor,Seat heating,Start-stop system',\n",
       " 'Air conditioning,Armrest,Automatic climate control,Electrical side mirrors,Hill Holder,Keyless central door lock,Leather steering wheel,Light sensor,Lumbar support,Multi-function steering wheel,Navigation system,Park Distance Control,Parking assist system sensors rear,Power windows,Rain sensor,Seat heating,Start-stop system',\n",
       " 'Air conditioning,Electrical side mirrors,Leather steering wheel,Multi-function steering wheel,Park Distance Control,Parking assist system sensors rear,Power windows,Start-stop system',\n",
       " 'Air conditioning,Armrest,Automatic climate control,Cruise control,Electrical side mirrors,Leather steering wheel,Light sensor,Multi-function steering wheel,Navigation system,Park Distance Control,Parking assist system sensors front,Parking assist system sensors rear,Power windows,Rain sensor,Seat heating,Start-stop system',\n",
       " 'Air conditioning,Armrest,Automatic climate control,Cruise control,Electrical side mirrors,Hill Holder,Light sensor,Multi-function steering wheel,Park Distance Control,Parking assist system sensors rear,Power windows,Rain sensor,Seat heating,Start-stop system',\n",
       " 'Air conditioning,Armrest,Electrical side mirrors,Leather steering wheel,Multi-function steering wheel,Power windows,Seat heating',\n",
       " 'Air conditioning,Armrest,Automatic climate control,Cruise control,Electrical side mirrors,Multi-function steering wheel,Navigation system,Park Distance Control,Parking assist system sensors front,Parking assist system sensors rear,Seat heating',\n",
       " 'Air conditioning,Armrest,Automatic climate control,Electrical side mirrors,Multi-function steering wheel,Navigation system,Park Distance Control,Parking assist system sensors rear,Seat heating',\n",
       " 'Air conditioning,Electrical side mirrors,Leather steering wheel,Lumbar support,Multi-function steering wheel,Power windows,Start-stop system',\n",
       " 'Air conditioning,Armrest,Automatic climate control,Electrical side mirrors,Leather steering wheel,Light sensor,Lumbar support,Multi-function steering wheel,Park Distance Control,Parking assist system sensors rear,Power windows,Rain sensor,Seat heating,Start-stop system',\n",
       " 'Air conditioning,Armrest,Electrically heated windshield,Leather steering wheel,Multi-function steering wheel,Navigation system,Power windows,Rain sensor',\n",
       " 'Air conditioning,Armrest,Automatic climate control,Electrical side mirrors,Leather steering wheel,Light sensor,Multi-function steering wheel,Navigation system,Park Distance Control,Parking assist system sensors rear,Power windows,Rain sensor,Seat heating,Start-stop system',\n",
       " 'Air conditioning,Automatic climate control,Cruise control,Multi-function steering wheel,Navigation system,Park Distance Control,Parking assist system sensors front,Parking assist system sensors rear,Power windows,Rain sensor,Seat heating,Start-stop system',\n",
       " 'Air conditioning,Armrest,Automatic climate control,Leather steering wheel,Light sensor,Power windows,Rain sensor,Seat heating,Start-stop system',\n",
       " 'Air conditioning,Electrical side mirrors,Leather steering wheel,Park Distance Control,Parking assist system sensors rear,Power windows,Seat heating,Start-stop system',\n",
       " nan,\n",
       " 'Air conditioning,Armrest,Automatic climate control,Electrical side mirrors,Leather steering wheel,Light sensor,Lumbar support,Multi-function steering wheel,Park Distance Control,Parking assist system sensors rear,Power windows,Rain sensor,Seat heating,Start-stop system',\n",
       " 'Air conditioning,Power windows,Start-stop system',\n",
       " 'Air conditioning,Automatic climate control,Cruise control',\n",
       " 'Air conditioning,Armrest,Automatic climate control,Electrical side mirrors,Hill Holder,Leather steering wheel,Light sensor,Multi-function steering wheel,Park Distance Control,Parking assist system sensors rear,Power windows,Rain sensor,Split rear seats,Start-stop system,Tinted windows',\n",
       " 'Air conditioning,Automatic climate control,Electrical side mirrors,Leather steering wheel,Light sensor,Lumbar support,Park Distance Control,Parking assist system sensors front,Parking assist system sensors rear,Power windows,Rain sensor,Seat heating,Start-stop system',\n",
       " 'Air conditioning,Automatic climate control,Cruise control',\n",
       " 'Air conditioning,Automatic climate control,Cruise control',\n",
       " 'Air conditioning,Automatic climate control,Cruise control',\n",
       " 'Air conditioning,Automatic climate control,Cruise control',\n",
       " 'Air conditioning,Automatic climate control,Cruise control',\n",
       " 'Air conditioning,Armrest,Automatic climate control,Electrical side mirrors,Hill Holder,Keyless central door lock,Leather steering wheel,Light sensor,Lumbar support,Multi-function steering wheel,Navigation system,Park Distance Control,Power windows,Rain sensor,Seat heating,Start-stop system',\n",
       " 'Air conditioning,Armrest,Automatic climate control,Electrical side mirrors,Hill Holder,Leather steering wheel,Light sensor,Lumbar support,Multi-function steering wheel,Navigation system,Park Distance Control,Parking assist system sensors front,Parking assist system sensors rear,Power windows,Seat heating,Start-stop system',\n",
       " 'Air conditioning,Armrest,Automatic climate control,Cruise control,Electrical side mirrors,Hill Holder,Leather steering wheel,Light sensor,Lumbar support,Multi-function steering wheel,Navigation system,Park Distance Control,Power windows,Rain sensor,Seat heating,Start-stop system',\n",
       " 'Air conditioning,Armrest,Automatic climate control,Cruise control,Electrical side mirrors,Hill Holder,Leather steering wheel,Light sensor,Lumbar support,Multi-function steering wheel,Navigation system,Park Distance Control,Parking assist system sensors front,Parking assist system sensors rear,Power windows,Rain sensor,Seat heating,Start-stop system',\n",
       " 'Air conditioning,Automatic climate control,Cruise control,Electrical side mirrors,Light sensor,Park Distance Control,Parking assist system sensors rear,Power windows,Rain sensor,Seat heating,Start-stop system',\n",
       " nan,\n",
       " 'Air conditioning,Armrest,Automatic climate control,Cruise control,Electrical side mirrors,Hill Holder,Leather steering wheel,Light sensor,Lumbar support,Multi-function steering wheel,Navigation system,Park Distance Control,Parking assist system sensors front,Parking assist system sensors rear,Power windows,Rain sensor,Seat heating,Start-stop system,Tinted windows',\n",
       " 'Air conditioning,Armrest,Automatic climate control,Cruise control,Electrical side mirrors,Leather steering wheel,Light sensor,Multi-function steering wheel,Navigation system,Park Distance Control,Parking assist system sensors rear,Power windows,Seat heating,Split rear seats,Start-stop system,Tinted windows',\n",
       " 'Air conditioning,Armrest,Automatic climate control,Electrical side mirrors,Hill Holder,Leather steering wheel,Light sensor,Lumbar support,Multi-function steering wheel,Navigation system,Panorama roof,Park Distance Control,Parking assist system sensors front,Parking assist system sensors rear,Power windows,Rain sensor,Seat heating,Start-stop system,Sunroof',\n",
       " 'Air conditioning,Leather steering wheel,Light sensor,Multi-function steering wheel,Power windows,Seat heating,Start-stop system',\n",
       " 'Electrical side mirrors,Leather steering wheel,Lumbar support,Power windows,Split rear seats,Start-stop system',\n",
       " 'Air conditioning,Armrest,Automatic climate control,Cruise control,Electrical side mirrors,Hill Holder,Park Distance Control,Parking assist system sensors rear,Seat heating',\n",
       " 'Air conditioning,Automatic climate control,Cruise control,Electrical side mirrors,Hill Holder,Leather steering wheel,Light sensor,Multi-function steering wheel,Navigation system,Park Distance Control,Parking assist system sensors rear,Power windows,Rain sensor,Seat heating,Start-stop system',\n",
       " 'Air conditioning,Automatic climate control,Cruise control,Electrical side mirrors,Light sensor,Multi-function steering wheel,Power windows,Rain sensor,Split rear seats',\n",
       " 'Air conditioning,Armrest,Automatic climate control,Cruise control,Electrical side mirrors,Hill Holder,Leather steering wheel,Light sensor,Lumbar support,Multi-function steering wheel,Navigation system,Park Distance Control,Parking assist system sensors rear,Power windows,Rain sensor,Seat heating,Start-stop system',\n",
       " nan,\n",
       " 'Air conditioning,Armrest,Automatic climate control,Cruise control,Electrical side mirrors,Hill Holder,Leather steering wheel,Light sensor,Lumbar support,Multi-function steering wheel,Navigation system,Park Distance Control,Parking assist system sensors rear,Power windows,Rain sensor,Seat heating,Start-stop system',\n",
       " 'Air conditioning,Armrest,Automatic climate control,Electrical side mirrors,Hill Holder,Leather steering wheel,Light sensor,Multi-function steering wheel,Navigation system,Park Distance Control,Parking assist system sensors front,Parking assist system sensors rear,Power windows,Rain sensor,Seat heating,Start-stop system',\n",
       " 'Air conditioning,Armrest,Automatic climate control,Cruise control,Electrical side mirrors,Hill Holder,Leather steering wheel,Light sensor,Lumbar support,Multi-function steering wheel,Navigation system,Park Distance Control,Parking assist system sensors front,Parking assist system sensors rear,Power windows,Rain sensor,Seat heating,Start-stop system',\n",
       " 'Air conditioning,Electrical side mirrors,Hill Holder,Light sensor,Power windows,Rain sensor',\n",
       " 'Air conditioning,Armrest,Automatic climate control,Cruise control,Electrical side mirrors,Leather steering wheel,Light sensor,Multi-function steering wheel,Navigation system,Park Distance Control,Parking assist system sensors rear,Power windows,Rain sensor,Seat heating,Start-stop system',\n",
       " 'Air conditioning,Automatic climate control,Multi-function steering wheel,Navigation system,Park Distance Control,Power windows,Start-stop system',\n",
       " 'Air conditioning,Armrest,Automatic climate control,Cruise control,Electrical side mirrors,Hill Holder,Leather steering wheel,Light sensor,Multi-function steering wheel,Navigation system,Park Distance Control,Parking assist system sensors rear,Power windows,Rain sensor,Seat heating,Start-stop system',\n",
       " 'Air conditioning,Armrest,Automatic climate control,Cruise control,Electrical side mirrors,Leather steering wheel,Light sensor,Lumbar support,Multi-function steering wheel,Navigation system,Park Distance Control,Parking assist system sensors rear,Power windows,Rain sensor,Seat heating,Start-stop system',\n",
       " 'Air conditioning,Armrest,Automatic climate control,Electrical side mirrors,Hill Holder,Light sensor,Multi-function steering wheel,Park Distance Control,Parking assist system sensors rear,Power windows,Rain sensor,Seat heating,Start-stop system',\n",
       " 'Air conditioning,Armrest,Cruise control,Electrical side mirrors,Hill Holder,Leather steering wheel,Lumbar support,Multi-function steering wheel,Navigation system,Park Distance Control,Parking assist system sensors rear,Power windows,Start-stop system',\n",
       " 'Air conditioning,Armrest,Automatic climate control,Electrical side mirrors,Hill Holder,Leather steering wheel,Light sensor,Lumbar support,Multi-function steering wheel,Park Distance Control,Parking assist system sensors rear,Power windows,Rain sensor,Seat heating,Start-stop system',\n",
       " 'Air conditioning,Automatic climate control,Cruise control,Electrical side mirrors,Hill Holder,Leather steering wheel,Light sensor,Multi-function steering wheel,Park Distance Control,Parking assist system sensors rear,Power windows,Rain sensor,Seat heating,Start-stop system',\n",
       " 'Air conditioning,Armrest,Cruise control,Electrical side mirrors,Hill Holder,Leather steering wheel,Multi-function steering wheel,Navigation system,Power windows,Start-stop system',\n",
       " 'Air conditioning,Armrest,Automatic climate control,Electrical side mirrors,Hill Holder,Leather steering wheel,Light sensor,Lumbar support,Multi-function steering wheel,Park Distance Control,Parking assist system sensors rear,Power windows,Rain sensor,Seat heating,Start-stop system',\n",
       " 'Air conditioning,Armrest,Automatic climate control,Electrical side mirrors,Hill Holder,Leather steering wheel,Light sensor,Multi-function steering wheel,Navigation system,Park Distance Control,Parking assist system sensors rear,Power windows,Rain sensor,Seat heating,Start-stop system',\n",
       " 'Leather steering wheel,Lumbar support,Power windows,Start-stop system',\n",
       " 'Air conditioning,Armrest,Automatic climate control,Cruise control,Electrical side mirrors,Hill Holder,Leather steering wheel,Light sensor,Lumbar support,Multi-function steering wheel,Park Distance Control,Parking assist system sensors rear,Power windows,Rain sensor,Seat heating,Start-stop system,Tinted windows',\n",
       " 'Air conditioning,Electrical side mirrors,Hill Holder,Light sensor,Power windows,Rain sensor',\n",
       " 'Air conditioning,Armrest,Automatic climate control,Cruise control,Electrical side mirrors,Hill Holder,Leather steering wheel,Light sensor,Lumbar support,Multi-function steering wheel,Navigation system,Park Distance Control,Parking assist system sensors front,Parking assist system sensors rear,Power windows,Rain sensor,Seat heating,Start-stop system',\n",
       " 'Air conditioning,Armrest,Automatic climate control,Electrical side mirrors,Hill Holder,Leather steering wheel,Light sensor,Lumbar support,Multi-function steering wheel,Navigation system,Park Distance Control,Parking assist system sensors rear,Power windows,Rain sensor,Seat heating,Start-stop system',\n",
       " 'Air conditioning,Electrical side mirrors,Light sensor,Multi-function steering wheel,Power windows,Rain sensor,Start-stop system',\n",
       " 'Air conditioning,Armrest,Automatic climate control,Cruise control,Electrical side mirrors,Hill Holder,Leather steering wheel,Light sensor,Lumbar support,Multi-function steering wheel,Navigation system,Park Distance Control,Parking assist system sensors rear,Power windows,Rain sensor,Seat heating,Start-stop system',\n",
       " 'Air conditioning,Armrest,Automatic climate control,Cruise control,Electrical side mirrors,Leather steering wheel,Lumbar support,Multi-function steering wheel,Power windows,Start-stop system',\n",
       " 'Air conditioning,Heads-up display,Power windows,Split rear seats',\n",
       " 'Air conditioning,Automatic climate control,Electrical side mirrors,Power windows,Split rear seats',\n",
       " 'Air conditioning,Automatic climate control,Multi-function steering wheel,Navigation system,Park Distance Control,Parking assist system sensors rear,Power windows,Rain sensor,Seat heating,Start-stop system',\n",
       " 'Air conditioning,Automatic climate control,Power windows,Split rear seats',\n",
       " 'Air conditioning,Automatic climate control,Cruise control,Electrical side mirrors,Light sensor,Multi-function steering wheel,Power windows,Rain sensor,Split rear seats',\n",
       " 'Air conditioning,Armrest,Automatic climate control,Hill Holder,Leather steering wheel,Light sensor,Lumbar support,Multi-function steering wheel,Park Distance Control,Parking assist system sensors rear,Power windows,Rain sensor,Seat heating,Start-stop system',\n",
       " nan,\n",
       " 'Air conditioning,Automatic climate control,Electrical side mirrors,Hill Holder,Multi-function steering wheel,Start-stop system',\n",
       " 'Air conditioning,Armrest,Automatic climate control,Cruise control,Electrical side mirrors,Hill Holder,Light sensor,Multi-function steering wheel,Navigation system,Park Distance Control,Parking assist system sensors front,Parking assist system sensors rear,Power windows,Rain sensor,Seat heating,Start-stop system',\n",
       " 'Air conditioning,Cruise control,Electrical side mirrors,Light sensor,Multi-function steering wheel,Navigation system,Park Distance Control,Parking assist system sensors front,Parking assist system sensors rear,Power windows,Rain sensor,Start-stop system',\n",
       " 'Air conditioning,Automatic climate control,Cruise control,Electrical side mirrors,Light sensor,Multi-function steering wheel,Navigation system,Park Distance Control,Power windows,Rain sensor,Split rear seats',\n",
       " 'Air conditioning,Armrest,Electrical side mirrors,Hill Holder,Leather steering wheel,Lumbar support,Multi-function steering wheel,Navigation system,Power windows,Seat heating,Start-stop system',\n",
       " 'Air conditioning,Automatic climate control,Electrical side mirrors,Hill Holder,Multi-function steering wheel,Start-stop system',\n",
       " 'Air conditioning,Armrest,Automatic climate control,Cruise control,Leather steering wheel,Multi-function steering wheel,Park Distance Control,Parking assist system sensors front,Parking assist system sensors rear,Power windows,Rain sensor,Split rear seats,Start-stop system,Tinted windows',\n",
       " 'Air conditioning,Armrest,Automatic climate control,Cruise control,Electrical side mirrors,Hill Holder,Leather steering wheel,Light sensor,Lumbar support,Multi-function steering wheel,Navigation system,Park Distance Control,Parking assist system sensors front,Parking assist system sensors rear,Power windows,Seat heating,Start-stop system',\n",
       " 'Air conditioning,Armrest,Automatic climate control,Electrical side mirrors,Hill Holder,Leather steering wheel,Light sensor,Lumbar support,Multi-function steering wheel,Park Distance Control,Parking assist system sensors rear,Power windows,Rain sensor,Seat heating,Start-stop system',\n",
       " 'Air conditioning,Armrest,Automatic climate control,Electrical side mirrors,Hill Holder,Leather steering wheel,Light sensor,Lumbar support,Multi-function steering wheel,Park Distance Control,Parking assist system sensors rear,Power windows,Rain sensor,Seat heating,Start-stop system',\n",
       " 'Air conditioning,Armrest,Automatic climate control,Cruise control,Electrical side mirrors,Hill Holder,Leather steering wheel,Light sensor,Lumbar support,Multi-function steering wheel,Navigation system,Park Distance Control,Parking assist system sensors rear,Power windows,Rain sensor,Seat heating,Start-stop system,Tinted windows',\n",
       " 'Air conditioning,Armrest,Automatic climate control,Electrical side mirrors,Hill Holder,Light sensor,Lumbar support,Navigation system,Park Distance Control,Parking assist system sensors front,Parking assist system sensors rear,Power windows,Rain sensor,Seat heating,Start-stop system',\n",
       " 'Air conditioning,Armrest,Automatic climate control,Electrical side mirrors,Hill Holder,Leather steering wheel,Light sensor,Lumbar support,Multi-function steering wheel,Navigation system,Park Distance Control,Parking assist system sensors rear,Power windows,Rain sensor,Seat heating,Start-stop system',\n",
       " ...]"
      ]
     },
     "execution_count": 105,
     "metadata": {},
     "output_type": "execute_result"
    }
   ],
   "source": [
    "[np.nan if oto['Comfort&Convenience'].iloc[i] == \"\" else oto['Comfort&Convenience'].iloc[i] for i in range(len(oto['Comfort&Convenience']))] "
   ]
  },
  {
   "cell_type": "code",
   "execution_count": 106,
   "metadata": {},
   "outputs": [],
   "source": [
    "oto[\"Comfort&Convenience\"] = [np.nan if oto['Comfort&Convenience'].iloc[i] == \"\" else oto['Comfort&Convenience'].iloc[i] for i in range(len(oto['Comfort&Convenience']))]"
   ]
  },
  {
   "cell_type": "code",
   "execution_count": 107,
   "metadata": {},
   "outputs": [
    {
     "data": {
      "text/plain": [
       "NaN                                                                                                                                                                                                                                                                                                                                                                                                                                                                  920\n",
       "Air conditioning,Electrical side mirrors,Hill Holder,Power windows                                                                                                                                                                                                                                                                                                                                                                                                   216\n",
       "Air conditioning,Electrical side mirrors,Power windows                                                                                                                                                                                                                                                                                                                                                                                                               134\n",
       "Air conditioning,Power windows                                                                                                                                                                                                                                                                                                                                                                                                                                       130\n",
       "Air conditioning,Armrest,Automatic climate control,Cruise control,Electrical side mirrors,Leather steering wheel,Light sensor,Lumbar support,Multi-function steering wheel,Navigation system,Park Distance Control,Parking assist system sensors front,Parking assist system sensors rear,Power windows,Rain sensor,Seat heating,Start-stop system                                                                                                                   105\n",
       "                                                                                                                                                                                                                                                                                                                                                                                                                                                                    ... \n",
       "Air conditioning,Armrest,Automatic climate control,Cruise control,Electrically heated windshield,Electrical side mirrors,Hill Holder,Leather steering wheel,Lumbar support,Multi-function steering wheel,Navigation system,Park Distance Control,Parking assist system camera,Parking assist system self-steering,Power windows,Rain sensor,Seat heating,Split rear seats,Start-stop system,Sunroof,Tinted windows                                                     1\n",
       "Air conditioning,Armrest,Automatic climate control,Cruise control,Electrical side mirrors,Electric tailgate,Leather steering wheel,Light sensor,Multi-function steering wheel,Navigation system,Power windows,Rain sensor,Start-stop system                                                                                                                                                                                                                            1\n",
       "Air conditioning,Automatic climate control,Cruise control,Navigation system,Park Distance Control,Parking assist system camera,Parking assist system sensors rear,Power windows,Rain sensor,Start-stop system,Tinted windows                                                                                                                                                                                                                                           1\n",
       "Air conditioning,Armrest,Automatic climate control,Cruise control,Electrical side mirrors,Heads-up display,Hill Holder,Leather steering wheel,Light sensor,Lumbar support,Multi-function steering wheel,Navigation system,Park Distance Control,Parking assist system camera,Parking assist system self-steering,Parking assist system sensors front,Parking assist system sensors rear,Power windows,Rain sensor,Seat heating,Split rear seats,Start-stop system      1\n",
       "Air conditioning,Automatic climate control,Electrical side mirrors,Multi-function steering wheel,Navigation system,Park Distance Control,Parking assist system sensors front,Parking assist system sensors rear,Power windows,Start-stop system                                                                                                                                                                                                                        1\n",
       "Name: Comfort&Convenience, Length: 6199, dtype: int64"
      ]
     },
     "execution_count": 107,
     "metadata": {},
     "output_type": "execute_result"
    }
   ],
   "source": [
    "oto[\"Comfort&Convenience\"].value_counts(dropna = False)"
   ]
  },
  {
   "cell_type": "code",
   "execution_count": 108,
   "metadata": {},
   "outputs": [],
   "source": [
    "fill_most(oto, \"make_model\", \"Comfort&Convenience\")"
   ]
  },
  {
   "cell_type": "code",
   "execution_count": 109,
   "metadata": {},
   "outputs": [
    {
     "data": {
      "text/plain": [
       "0"
      ]
     },
     "execution_count": 109,
     "metadata": {},
     "output_type": "execute_result"
    }
   ],
   "source": [
    "oto['Comfort&Convenience'].isnull().sum()"
   ]
  },
  {
   "cell_type": "code",
   "execution_count": 110,
   "metadata": {},
   "outputs": [
    {
     "data": {
      "text/plain": [
       "Air conditioning,Electrical side mirrors,Hill Holder,Power windows                                                                                                                                                                                                                                                                                                                                                                                                                             389\n",
       "Air conditioning,Armrest,Automatic climate control,Cruise control,Electrically adjustable seats,Electrical side mirrors,Electric tailgate,Heated steering wheel,Hill Holder,Keyless central door lock,Leather steering wheel,Light sensor,Lumbar support,Multi-function steering wheel,Navigation system,Park Distance Control,Parking assist system camera,Parking assist system sensors front,Parking assist system sensors rear,Power windows,Rain sensor,Seat heating,Start-stop system    259\n",
       "Air conditioning,Cruise control,Electrical side mirrors,Hill Holder,Light sensor,Multi-function steering wheel,Park Distance Control,Parking assist system sensors rear,Power windows,Start-stop system                                                                                                                                                                                                                                                                                        207\n",
       "Air conditioning,Automatic climate control,Cruise control,Multi-function steering wheel,Park Distance Control,Power windows                                                                                                                                                                                                                                                                                                                                                                    190\n",
       "Air conditioning,Armrest,Automatic climate control,Cruise control,Electrical side mirrors,Leather steering wheel,Light sensor,Lumbar support,Multi-function steering wheel,Navigation system,Park Distance Control,Parking assist system sensors front,Parking assist system sensors rear,Power windows,Rain sensor,Seat heating,Start-stop system                                                                                                                                             187\n",
       "                                                                                                                                                                                                                                                                                                                                                                                                                                                                                              ... \n",
       "Air conditioning,Armrest,Automatic climate control,Cruise control,Electrical side mirrors,Electric tailgate,Leather steering wheel,Light sensor,Multi-function steering wheel,Navigation system,Power windows,Rain sensor,Start-stop system                                                                                                                                                                                                                                                      1\n",
       "Air conditioning,Automatic climate control,Cruise control,Navigation system,Park Distance Control,Parking assist system camera,Parking assist system sensors rear,Power windows,Rain sensor,Start-stop system,Tinted windows                                                                                                                                                                                                                                                                     1\n",
       "Air conditioning,Armrest,Automatic climate control,Cruise control,Electrical side mirrors,Heads-up display,Hill Holder,Leather steering wheel,Light sensor,Lumbar support,Multi-function steering wheel,Navigation system,Park Distance Control,Parking assist system camera,Parking assist system self-steering,Parking assist system sensors front,Parking assist system sensors rear,Power windows,Rain sensor,Seat heating,Split rear seats,Start-stop system                                1\n",
       "Air conditioning,Armrest,Automatic climate control,Cruise control,Leather steering wheel,Multi-function steering wheel,Park Distance Control,Parking assist system sensors rear,Power windows,Rain sensor,Split rear seats                                                                                                                                                                                                                                                                       1\n",
       "Air conditioning,Automatic climate control,Electrical side mirrors,Leather steering wheel,Navigation system,Panorama roof,Park Distance Control,Parking assist system sensors front,Parking assist system sensors rear,Power windows,Seat heating,Start-stop system,Sunroof                                                                                                                                                                                                                      1\n",
       "Name: Comfort&Convenience, Length: 6198, dtype: int64"
      ]
     },
     "execution_count": 110,
     "metadata": {},
     "output_type": "execute_result"
    }
   ],
   "source": [
    "oto['Comfort&Convenience'].value_counts()"
   ]
  },
  {
   "cell_type": "code",
   "execution_count": 114,
   "metadata": {},
   "outputs": [
    {
     "data": {
      "text/plain": [
       "False"
      ]
     },
     "execution_count": 114,
     "metadata": {},
     "output_type": "execute_result"
    }
   ],
   "source": [
    "\"Windshield\" in oto[\"Comfort&Convenience\"][0]"
   ]
  },
  {
   "cell_type": "code",
   "execution_count": 112,
   "metadata": {},
   "outputs": [
    {
     "data": {
      "text/html": [
       "<div>\n",
       "<style scoped>\n",
       "    .dataframe tbody tr th:only-of-type {\n",
       "        vertical-align: middle;\n",
       "    }\n",
       "\n",
       "    .dataframe tbody tr th {\n",
       "        vertical-align: top;\n",
       "    }\n",
       "\n",
       "    .dataframe thead th {\n",
       "        text-align: right;\n",
       "    }\n",
       "</style>\n",
       "<table border=\"1\" class=\"dataframe\">\n",
       "  <thead>\n",
       "    <tr style=\"text-align: right;\">\n",
       "      <th></th>\n",
       "      <th>Air conditioning</th>\n",
       "      <th>Air suspension</th>\n",
       "      <th>Armrest</th>\n",
       "      <th>Automatic climate control</th>\n",
       "      <th>Auxiliary heating</th>\n",
       "      <th>Cruise control</th>\n",
       "      <th>Electric Starter</th>\n",
       "      <th>Electric tailgate</th>\n",
       "      <th>Electrical side mirrors</th>\n",
       "      <th>Electrically adjustable seats</th>\n",
       "      <th>Electrically heated windshield</th>\n",
       "      <th>Heads-up display</th>\n",
       "      <th>Heated steering wheel</th>\n",
       "      <th>Hill Holder</th>\n",
       "      <th>Keyless central door lock</th>\n",
       "      <th>Leather seats</th>\n",
       "      <th>Leather steering wheel</th>\n",
       "      <th>Light sensor</th>\n",
       "      <th>Lumbar support</th>\n",
       "      <th>Massage seats</th>\n",
       "      <th>Multi-function steering wheel</th>\n",
       "      <th>Navigation system</th>\n",
       "      <th>Panorama roof</th>\n",
       "      <th>Park Distance Control</th>\n",
       "      <th>Parking assist system camera</th>\n",
       "      <th>Parking assist system self-steering</th>\n",
       "      <th>Parking assist system sensors front</th>\n",
       "      <th>Parking assist system sensors rear</th>\n",
       "      <th>Power windows</th>\n",
       "      <th>Rain sensor</th>\n",
       "      <th>Seat heating</th>\n",
       "      <th>Seat ventilation</th>\n",
       "      <th>Split rear seats</th>\n",
       "      <th>Start-stop system</th>\n",
       "      <th>Sunroof</th>\n",
       "      <th>Tinted windows</th>\n",
       "      <th>Wind deflector</th>\n",
       "      <th>Windshield</th>\n",
       "    </tr>\n",
       "  </thead>\n",
       "  <tbody>\n",
       "    <tr>\n",
       "      <th>0</th>\n",
       "      <td>1</td>\n",
       "      <td>0</td>\n",
       "      <td>1</td>\n",
       "      <td>1</td>\n",
       "      <td>0</td>\n",
       "      <td>1</td>\n",
       "      <td>0</td>\n",
       "      <td>0</td>\n",
       "      <td>1</td>\n",
       "      <td>0</td>\n",
       "      <td>0</td>\n",
       "      <td>0</td>\n",
       "      <td>0</td>\n",
       "      <td>1</td>\n",
       "      <td>0</td>\n",
       "      <td>0</td>\n",
       "      <td>1</td>\n",
       "      <td>1</td>\n",
       "      <td>0</td>\n",
       "      <td>0</td>\n",
       "      <td>1</td>\n",
       "      <td>1</td>\n",
       "      <td>0</td>\n",
       "      <td>1</td>\n",
       "      <td>0</td>\n",
       "      <td>0</td>\n",
       "      <td>0</td>\n",
       "      <td>1</td>\n",
       "      <td>1</td>\n",
       "      <td>1</td>\n",
       "      <td>1</td>\n",
       "      <td>0</td>\n",
       "      <td>0</td>\n",
       "      <td>1</td>\n",
       "      <td>0</td>\n",
       "      <td>0</td>\n",
       "      <td>0</td>\n",
       "      <td>0</td>\n",
       "    </tr>\n",
       "    <tr>\n",
       "      <th>1</th>\n",
       "      <td>1</td>\n",
       "      <td>0</td>\n",
       "      <td>0</td>\n",
       "      <td>1</td>\n",
       "      <td>0</td>\n",
       "      <td>0</td>\n",
       "      <td>0</td>\n",
       "      <td>0</td>\n",
       "      <td>0</td>\n",
       "      <td>0</td>\n",
       "      <td>0</td>\n",
       "      <td>0</td>\n",
       "      <td>0</td>\n",
       "      <td>1</td>\n",
       "      <td>0</td>\n",
       "      <td>0</td>\n",
       "      <td>1</td>\n",
       "      <td>0</td>\n",
       "      <td>1</td>\n",
       "      <td>0</td>\n",
       "      <td>0</td>\n",
       "      <td>0</td>\n",
       "      <td>0</td>\n",
       "      <td>0</td>\n",
       "      <td>0</td>\n",
       "      <td>0</td>\n",
       "      <td>0</td>\n",
       "      <td>1</td>\n",
       "      <td>1</td>\n",
       "      <td>0</td>\n",
       "      <td>0</td>\n",
       "      <td>0</td>\n",
       "      <td>0</td>\n",
       "      <td>1</td>\n",
       "      <td>0</td>\n",
       "      <td>1</td>\n",
       "      <td>0</td>\n",
       "      <td>0</td>\n",
       "    </tr>\n",
       "    <tr>\n",
       "      <th>2</th>\n",
       "      <td>1</td>\n",
       "      <td>0</td>\n",
       "      <td>0</td>\n",
       "      <td>0</td>\n",
       "      <td>0</td>\n",
       "      <td>1</td>\n",
       "      <td>0</td>\n",
       "      <td>0</td>\n",
       "      <td>1</td>\n",
       "      <td>0</td>\n",
       "      <td>0</td>\n",
       "      <td>0</td>\n",
       "      <td>0</td>\n",
       "      <td>1</td>\n",
       "      <td>0</td>\n",
       "      <td>0</td>\n",
       "      <td>1</td>\n",
       "      <td>0</td>\n",
       "      <td>0</td>\n",
       "      <td>0</td>\n",
       "      <td>1</td>\n",
       "      <td>1</td>\n",
       "      <td>0</td>\n",
       "      <td>1</td>\n",
       "      <td>0</td>\n",
       "      <td>0</td>\n",
       "      <td>1</td>\n",
       "      <td>1</td>\n",
       "      <td>1</td>\n",
       "      <td>0</td>\n",
       "      <td>1</td>\n",
       "      <td>0</td>\n",
       "      <td>0</td>\n",
       "      <td>1</td>\n",
       "      <td>0</td>\n",
       "      <td>0</td>\n",
       "      <td>0</td>\n",
       "      <td>0</td>\n",
       "    </tr>\n",
       "    <tr>\n",
       "      <th>3</th>\n",
       "      <td>0</td>\n",
       "      <td>1</td>\n",
       "      <td>1</td>\n",
       "      <td>0</td>\n",
       "      <td>1</td>\n",
       "      <td>0</td>\n",
       "      <td>0</td>\n",
       "      <td>0</td>\n",
       "      <td>1</td>\n",
       "      <td>0</td>\n",
       "      <td>0</td>\n",
       "      <td>1</td>\n",
       "      <td>0</td>\n",
       "      <td>1</td>\n",
       "      <td>0</td>\n",
       "      <td>0</td>\n",
       "      <td>1</td>\n",
       "      <td>1</td>\n",
       "      <td>1</td>\n",
       "      <td>0</td>\n",
       "      <td>1</td>\n",
       "      <td>1</td>\n",
       "      <td>0</td>\n",
       "      <td>0</td>\n",
       "      <td>0</td>\n",
       "      <td>0</td>\n",
       "      <td>0</td>\n",
       "      <td>0</td>\n",
       "      <td>1</td>\n",
       "      <td>1</td>\n",
       "      <td>1</td>\n",
       "      <td>0</td>\n",
       "      <td>1</td>\n",
       "      <td>1</td>\n",
       "      <td>0</td>\n",
       "      <td>0</td>\n",
       "      <td>0</td>\n",
       "      <td>0</td>\n",
       "    </tr>\n",
       "    <tr>\n",
       "      <th>4</th>\n",
       "      <td>1</td>\n",
       "      <td>0</td>\n",
       "      <td>1</td>\n",
       "      <td>1</td>\n",
       "      <td>0</td>\n",
       "      <td>0</td>\n",
       "      <td>0</td>\n",
       "      <td>0</td>\n",
       "      <td>1</td>\n",
       "      <td>0</td>\n",
       "      <td>0</td>\n",
       "      <td>0</td>\n",
       "      <td>0</td>\n",
       "      <td>1</td>\n",
       "      <td>0</td>\n",
       "      <td>0</td>\n",
       "      <td>1</td>\n",
       "      <td>1</td>\n",
       "      <td>0</td>\n",
       "      <td>0</td>\n",
       "      <td>1</td>\n",
       "      <td>0</td>\n",
       "      <td>0</td>\n",
       "      <td>1</td>\n",
       "      <td>0</td>\n",
       "      <td>0</td>\n",
       "      <td>0</td>\n",
       "      <td>1</td>\n",
       "      <td>1</td>\n",
       "      <td>1</td>\n",
       "      <td>0</td>\n",
       "      <td>0</td>\n",
       "      <td>0</td>\n",
       "      <td>1</td>\n",
       "      <td>0</td>\n",
       "      <td>0</td>\n",
       "      <td>0</td>\n",
       "      <td>0</td>\n",
       "    </tr>\n",
       "    <tr>\n",
       "      <th>...</th>\n",
       "      <td>...</td>\n",
       "      <td>...</td>\n",
       "      <td>...</td>\n",
       "      <td>...</td>\n",
       "      <td>...</td>\n",
       "      <td>...</td>\n",
       "      <td>...</td>\n",
       "      <td>...</td>\n",
       "      <td>...</td>\n",
       "      <td>...</td>\n",
       "      <td>...</td>\n",
       "      <td>...</td>\n",
       "      <td>...</td>\n",
       "      <td>...</td>\n",
       "      <td>...</td>\n",
       "      <td>...</td>\n",
       "      <td>...</td>\n",
       "      <td>...</td>\n",
       "      <td>...</td>\n",
       "      <td>...</td>\n",
       "      <td>...</td>\n",
       "      <td>...</td>\n",
       "      <td>...</td>\n",
       "      <td>...</td>\n",
       "      <td>...</td>\n",
       "      <td>...</td>\n",
       "      <td>...</td>\n",
       "      <td>...</td>\n",
       "      <td>...</td>\n",
       "      <td>...</td>\n",
       "      <td>...</td>\n",
       "      <td>...</td>\n",
       "      <td>...</td>\n",
       "      <td>...</td>\n",
       "      <td>...</td>\n",
       "      <td>...</td>\n",
       "      <td>...</td>\n",
       "      <td>...</td>\n",
       "    </tr>\n",
       "    <tr>\n",
       "      <th>15914</th>\n",
       "      <td>1</td>\n",
       "      <td>0</td>\n",
       "      <td>0</td>\n",
       "      <td>1</td>\n",
       "      <td>0</td>\n",
       "      <td>1</td>\n",
       "      <td>0</td>\n",
       "      <td>0</td>\n",
       "      <td>1</td>\n",
       "      <td>1</td>\n",
       "      <td>0</td>\n",
       "      <td>0</td>\n",
       "      <td>0</td>\n",
       "      <td>1</td>\n",
       "      <td>1</td>\n",
       "      <td>0</td>\n",
       "      <td>1</td>\n",
       "      <td>1</td>\n",
       "      <td>0</td>\n",
       "      <td>1</td>\n",
       "      <td>1</td>\n",
       "      <td>1</td>\n",
       "      <td>0</td>\n",
       "      <td>1</td>\n",
       "      <td>0</td>\n",
       "      <td>0</td>\n",
       "      <td>1</td>\n",
       "      <td>1</td>\n",
       "      <td>1</td>\n",
       "      <td>1</td>\n",
       "      <td>0</td>\n",
       "      <td>0</td>\n",
       "      <td>1</td>\n",
       "      <td>1</td>\n",
       "      <td>0</td>\n",
       "      <td>1</td>\n",
       "      <td>0</td>\n",
       "      <td>0</td>\n",
       "    </tr>\n",
       "    <tr>\n",
       "      <th>15915</th>\n",
       "      <td>1</td>\n",
       "      <td>0</td>\n",
       "      <td>0</td>\n",
       "      <td>1</td>\n",
       "      <td>0</td>\n",
       "      <td>1</td>\n",
       "      <td>0</td>\n",
       "      <td>1</td>\n",
       "      <td>1</td>\n",
       "      <td>0</td>\n",
       "      <td>1</td>\n",
       "      <td>1</td>\n",
       "      <td>1</td>\n",
       "      <td>1</td>\n",
       "      <td>1</td>\n",
       "      <td>0</td>\n",
       "      <td>1</td>\n",
       "      <td>1</td>\n",
       "      <td>1</td>\n",
       "      <td>0</td>\n",
       "      <td>0</td>\n",
       "      <td>1</td>\n",
       "      <td>0</td>\n",
       "      <td>1</td>\n",
       "      <td>1</td>\n",
       "      <td>1</td>\n",
       "      <td>1</td>\n",
       "      <td>1</td>\n",
       "      <td>1</td>\n",
       "      <td>1</td>\n",
       "      <td>1</td>\n",
       "      <td>0</td>\n",
       "      <td>0</td>\n",
       "      <td>0</td>\n",
       "      <td>1</td>\n",
       "      <td>0</td>\n",
       "      <td>0</td>\n",
       "      <td>0</td>\n",
       "    </tr>\n",
       "    <tr>\n",
       "      <th>15916</th>\n",
       "      <td>1</td>\n",
       "      <td>0</td>\n",
       "      <td>1</td>\n",
       "      <td>1</td>\n",
       "      <td>0</td>\n",
       "      <td>1</td>\n",
       "      <td>0</td>\n",
       "      <td>1</td>\n",
       "      <td>1</td>\n",
       "      <td>0</td>\n",
       "      <td>1</td>\n",
       "      <td>1</td>\n",
       "      <td>1</td>\n",
       "      <td>0</td>\n",
       "      <td>0</td>\n",
       "      <td>0</td>\n",
       "      <td>1</td>\n",
       "      <td>1</td>\n",
       "      <td>0</td>\n",
       "      <td>1</td>\n",
       "      <td>1</td>\n",
       "      <td>1</td>\n",
       "      <td>1</td>\n",
       "      <td>1</td>\n",
       "      <td>1</td>\n",
       "      <td>0</td>\n",
       "      <td>1</td>\n",
       "      <td>1</td>\n",
       "      <td>1</td>\n",
       "      <td>1</td>\n",
       "      <td>1</td>\n",
       "      <td>1</td>\n",
       "      <td>0</td>\n",
       "      <td>0</td>\n",
       "      <td>1</td>\n",
       "      <td>0</td>\n",
       "      <td>0</td>\n",
       "      <td>0</td>\n",
       "    </tr>\n",
       "    <tr>\n",
       "      <th>15917</th>\n",
       "      <td>1</td>\n",
       "      <td>0</td>\n",
       "      <td>0</td>\n",
       "      <td>1</td>\n",
       "      <td>0</td>\n",
       "      <td>1</td>\n",
       "      <td>0</td>\n",
       "      <td>0</td>\n",
       "      <td>1</td>\n",
       "      <td>1</td>\n",
       "      <td>0</td>\n",
       "      <td>0</td>\n",
       "      <td>0</td>\n",
       "      <td>0</td>\n",
       "      <td>0</td>\n",
       "      <td>0</td>\n",
       "      <td>1</td>\n",
       "      <td>1</td>\n",
       "      <td>0</td>\n",
       "      <td>0</td>\n",
       "      <td>0</td>\n",
       "      <td>0</td>\n",
       "      <td>0</td>\n",
       "      <td>1</td>\n",
       "      <td>0</td>\n",
       "      <td>0</td>\n",
       "      <td>0</td>\n",
       "      <td>0</td>\n",
       "      <td>1</td>\n",
       "      <td>0</td>\n",
       "      <td>0</td>\n",
       "      <td>0</td>\n",
       "      <td>0</td>\n",
       "      <td>1</td>\n",
       "      <td>0</td>\n",
       "      <td>0</td>\n",
       "      <td>0</td>\n",
       "      <td>0</td>\n",
       "    </tr>\n",
       "    <tr>\n",
       "      <th>15918</th>\n",
       "      <td>1</td>\n",
       "      <td>0</td>\n",
       "      <td>0</td>\n",
       "      <td>1</td>\n",
       "      <td>0</td>\n",
       "      <td>1</td>\n",
       "      <td>0</td>\n",
       "      <td>1</td>\n",
       "      <td>1</td>\n",
       "      <td>1</td>\n",
       "      <td>0</td>\n",
       "      <td>0</td>\n",
       "      <td>0</td>\n",
       "      <td>1</td>\n",
       "      <td>0</td>\n",
       "      <td>0</td>\n",
       "      <td>1</td>\n",
       "      <td>0</td>\n",
       "      <td>0</td>\n",
       "      <td>0</td>\n",
       "      <td>0</td>\n",
       "      <td>1</td>\n",
       "      <td>0</td>\n",
       "      <td>0</td>\n",
       "      <td>0</td>\n",
       "      <td>0</td>\n",
       "      <td>0</td>\n",
       "      <td>0</td>\n",
       "      <td>1</td>\n",
       "      <td>0</td>\n",
       "      <td>1</td>\n",
       "      <td>0</td>\n",
       "      <td>0</td>\n",
       "      <td>0</td>\n",
       "      <td>0</td>\n",
       "      <td>0</td>\n",
       "      <td>0</td>\n",
       "      <td>0</td>\n",
       "    </tr>\n",
       "  </tbody>\n",
       "</table>\n",
       "<p>15919 rows × 38 columns</p>\n",
       "</div>"
      ],
      "text/plain": [
       "       Air conditioning  Air suspension  Armrest  Automatic climate control  Auxiliary heating  Cruise control  Electric Starter  Electric tailgate  Electrical side mirrors  Electrically adjustable seats  Electrically heated windshield  Heads-up display  Heated steering wheel  Hill Holder  Keyless central door lock  Leather seats  Leather steering wheel  Light sensor  Lumbar support  Massage seats  Multi-function steering wheel  Navigation system  Panorama roof  Park Distance Control  Parking assist system camera  Parking assist system self-steering  Parking assist system sensors front  Parking assist system sensors rear  Power windows  Rain sensor  Seat heating  Seat ventilation  Split rear seats  Start-stop system  Sunroof  Tinted windows  Wind deflector  Windshield\n",
       "0                     1               0        1                          1                  0               1                 0                  0                        1                              0                               0                 0                      0            1                          0              0                       1             1               0              0                              1                  1              0                      1                             0                                    0                                    0                                   1              1            1             1                 0                 0                  1        0               0               0           0\n",
       "1                     1               0        0                          1                  0               0                 0                  0                        0                              0                               0                 0                      0            1                          0              0                       1             0               1              0                              0                  0              0                      0                             0                                    0                                    0                                   1              1            0             0                 0                 0                  1        0               1               0           0\n",
       "2                     1               0        0                          0                  0               1                 0                  0                        1                              0                               0                 0                      0            1                          0              0                       1             0               0              0                              1                  1              0                      1                             0                                    0                                    1                                   1              1            0             1                 0                 0                  1        0               0               0           0\n",
       "3                     0               1        1                          0                  1               0                 0                  0                        1                              0                               0                 1                      0            1                          0              0                       1             1               1              0                              1                  1              0                      0                             0                                    0                                    0                                   0              1            1             1                 0                 1                  1        0               0               0           0\n",
       "4                     1               0        1                          1                  0               0                 0                  0                        1                              0                               0                 0                      0            1                          0              0                       1             1               0              0                              1                  0              0                      1                             0                                    0                                    0                                   1              1            1             0                 0                 0                  1        0               0               0           0\n",
       "...                 ...             ...      ...                        ...                ...             ...               ...                ...                      ...                            ...                             ...               ...                    ...          ...                        ...            ...                     ...           ...             ...            ...                            ...                ...            ...                    ...                           ...                                  ...                                  ...                                 ...            ...          ...           ...               ...               ...                ...      ...             ...             ...         ...\n",
       "15914                 1               0        0                          1                  0               1                 0                  0                        1                              1                               0                 0                      0            1                          1              0                       1             1               0              1                              1                  1              0                      1                             0                                    0                                    1                                   1              1            1             0                 0                 1                  1        0               1               0           0\n",
       "15915                 1               0        0                          1                  0               1                 0                  1                        1                              0                               1                 1                      1            1                          1              0                       1             1               1              0                              0                  1              0                      1                             1                                    1                                    1                                   1              1            1             1                 0                 0                  0        1               0               0           0\n",
       "15916                 1               0        1                          1                  0               1                 0                  1                        1                              0                               1                 1                      1            0                          0              0                       1             1               0              1                              1                  1              1                      1                             1                                    0                                    1                                   1              1            1             1                 1                 0                  0        1               0               0           0\n",
       "15917                 1               0        0                          1                  0               1                 0                  0                        1                              1                               0                 0                      0            0                          0              0                       1             1               0              0                              0                  0              0                      1                             0                                    0                                    0                                   0              1            0             0                 0                 0                  1        0               0               0           0\n",
       "15918                 1               0        0                          1                  0               1                 0                  1                        1                              1                               0                 0                      0            1                          0              0                       1             0               0              0                              0                  1              0                      0                             0                                    0                                    0                                   0              1            0             1                 0                 0                  0        0               0               0           0\n",
       "\n",
       "[15919 rows x 38 columns]"
      ]
     },
     "execution_count": 112,
     "metadata": {},
     "output_type": "execute_result"
    }
   ],
   "source": [
    "oto[\"Comfort&Convenience\"].str.get_dummies(sep = \",\")"
   ]
  },
  {
   "cell_type": "code",
   "execution_count": null,
   "metadata": {},
   "outputs": [],
   "source": []
  },
  {
   "cell_type": "markdown",
   "metadata": {},
   "source": [
    "***"
   ]
  },
  {
   "cell_type": "markdown",
   "metadata": {},
   "source": [
    "### ``'\\nEntertainment & Media\\n'``"
   ]
  },
  {
   "cell_type": "code",
   "execution_count": null,
   "metadata": {},
   "outputs": [],
   "source": []
  },
  {
   "cell_type": "markdown",
   "metadata": {},
   "source": [
    "***"
   ]
  },
  {
   "cell_type": "markdown",
   "metadata": {},
   "source": [
    "### ``'\\nExtras\\n'``"
   ]
  },
  {
   "cell_type": "code",
   "execution_count": null,
   "metadata": {},
   "outputs": [],
   "source": []
  },
  {
   "cell_type": "markdown",
   "metadata": {},
   "source": [
    "***"
   ]
  },
  {
   "cell_type": "markdown",
   "metadata": {},
   "source": [
    "### '\\nSafety & Security\\n'"
   ]
  },
  {
   "cell_type": "code",
   "execution_count": null,
   "metadata": {},
   "outputs": [],
   "source": []
  },
  {
   "cell_type": "markdown",
   "metadata": {},
   "source": [
    "***"
   ]
  },
  {
   "cell_type": "markdown",
   "metadata": {},
   "source": [
    "### ``'Consumption'``"
   ]
  },
  {
   "cell_type": "code",
   "execution_count": null,
   "metadata": {},
   "outputs": [],
   "source": []
  },
  {
   "cell_type": "markdown",
   "metadata": {},
   "source": [
    "#### There are three tpyes of value which can effect the result. \n",
    " - Type 1-one list and three sub list (comb,city,country), like= ``[[3.8 l/100 km (comb)], [4.3 l/100 km (city)], [3.5 l/100 km (country)]]``  \n",
    " - Type 2-one list and no sub list (comb,city,country), like = ``[\\n, 7.4 l/100 km (comb), \\n, 9.2 l/100 km (city), \\n, 6.3 l/100 km (country), \\n]``  \n",
    " - Type 3-one list and three sub lists some of which are empty, like = ``[[], [4.6 l/100 km (city)], [5.7 l/100 km (country)]]`` or ``[[4.2 l/100 km (comb)], [], []]`` or `[[], [], [5.1 l/100 km (country)]]`\n",
    " - So, we use ``str.extract()`` to select numeric consumption(comb) in different ways below."
   ]
  },
  {
   "cell_type": "code",
   "execution_count": null,
   "metadata": {},
   "outputs": [],
   "source": []
  },
  {
   "cell_type": "markdown",
   "metadata": {},
   "source": [
    "- There are 850 values in which only 'one' list (the value of ``\"\\n\"`` indicates that). Consists of no sub list. \n",
    "\n",
    "- There are 127 values is ``'[]'`` which means there is no ``comb`` consumption. Only have ``city`` or ``country`` or both.\n",
    "\n",
    "- There are still 1906 ``NaN``s."
   ]
  },
  {
   "cell_type": "code",
   "execution_count": null,
   "metadata": {},
   "outputs": [],
   "source": []
  },
  {
   "cell_type": "markdown",
   "metadata": {},
   "source": [
    "- If consumption is two digits, Extraction function takes only first one. \n",
    "   - eg.: ``40`` → ``4``\n",
    "   - eg.: ``33`` → ``3``"
   ]
  },
  {
   "cell_type": "code",
   "execution_count": null,
   "metadata": {},
   "outputs": [],
   "source": []
  },
  {
   "cell_type": "markdown",
   "metadata": {},
   "source": [
    "- Now, lets go into the other types. Let's try ``str[1]``"
   ]
  },
  {
   "cell_type": "code",
   "execution_count": null,
   "metadata": {},
   "outputs": [],
   "source": []
  },
  {
   "cell_type": "markdown",
   "metadata": {},
   "source": [
    "- Let's take a look at the \"``country``\""
   ]
  },
  {
   "cell_type": "code",
   "execution_count": null,
   "metadata": {},
   "outputs": [],
   "source": []
  },
  {
   "cell_type": "markdown",
   "metadata": {},
   "source": [
    "***"
   ]
  },
  {
   "cell_type": "markdown",
   "metadata": {},
   "source": [
    "### ``'Gearing Type'``"
   ]
  },
  {
   "cell_type": "code",
   "execution_count": null,
   "metadata": {},
   "outputs": [],
   "source": []
  },
  {
   "cell_type": "markdown",
   "metadata": {},
   "source": [
    "***"
   ]
  },
  {
   "cell_type": "markdown",
   "metadata": {},
   "source": [
    "### ``'Drive chain'``"
   ]
  },
  {
   "cell_type": "code",
   "execution_count": null,
   "metadata": {},
   "outputs": [],
   "source": []
  },
  {
   "cell_type": "markdown",
   "metadata": {},
   "source": [
    "- We can handle with missig values or we can drop it. Let's take a look at this issue later."
   ]
  },
  {
   "cell_type": "code",
   "execution_count": null,
   "metadata": {},
   "outputs": [],
   "source": []
  },
  {
   "cell_type": "markdown",
   "metadata": {},
   "source": [
    "***"
   ]
  },
  {
   "cell_type": "markdown",
   "metadata": {},
   "source": [
    "### ``'Model Code'``"
   ]
  },
  {
   "cell_type": "code",
   "execution_count": null,
   "metadata": {},
   "outputs": [],
   "source": []
  },
  {
   "cell_type": "markdown",
   "metadata": {},
   "source": [
    "***"
   ]
  },
  {
   "cell_type": "markdown",
   "metadata": {},
   "source": [
    "## Now we start to analyze the variables which has below %35 percentage of missing values.\n",
    "\n",
    "### ``'Body Color'``"
   ]
  },
  {
   "cell_type": "code",
   "execution_count": null,
   "metadata": {},
   "outputs": [],
   "source": []
  },
  {
   "cell_type": "markdown",
   "metadata": {},
   "source": [
    "***"
   ]
  },
  {
   "cell_type": "markdown",
   "metadata": {},
   "source": [
    "### ``'Body Color Original'``"
   ]
  },
  {
   "cell_type": "code",
   "execution_count": null,
   "metadata": {},
   "outputs": [],
   "source": []
  },
  {
   "cell_type": "markdown",
   "metadata": {},
   "source": [
    "***"
   ]
  },
  {
   "cell_type": "markdown",
   "metadata": {},
   "source": [
    "### ``'CO2 Emission'``"
   ]
  },
  {
   "cell_type": "code",
   "execution_count": null,
   "metadata": {},
   "outputs": [],
   "source": []
  },
  {
   "cell_type": "markdown",
   "metadata": {
    "scrolled": true
   },
   "source": [
    "- let's fill missing values using median."
   ]
  },
  {
   "cell_type": "code",
   "execution_count": null,
   "metadata": {},
   "outputs": [],
   "source": []
  },
  {
   "cell_type": "markdown",
   "metadata": {},
   "source": [
    "***"
   ]
  },
  {
   "cell_type": "markdown",
   "metadata": {},
   "source": [
    "### ``'Displacement'``"
   ]
  },
  {
   "cell_type": "code",
   "execution_count": null,
   "metadata": {},
   "outputs": [],
   "source": []
  },
  {
   "cell_type": "markdown",
   "metadata": {},
   "source": [
    "***"
   ]
  },
  {
   "cell_type": "markdown",
   "metadata": {},
   "source": [
    "### ``'Emission Class'``"
   ]
  },
  {
   "cell_type": "code",
   "execution_count": null,
   "metadata": {},
   "outputs": [],
   "source": []
  },
  {
   "cell_type": "markdown",
   "metadata": {},
   "source": [
    "***"
   ]
  },
  {
   "cell_type": "markdown",
   "metadata": {},
   "source": [
    "### ``'First Registration'``"
   ]
  },
  {
   "cell_type": "code",
   "execution_count": null,
   "metadata": {},
   "outputs": [],
   "source": []
  },
  {
   "cell_type": "markdown",
   "metadata": {},
   "source": [
    "- We can transform this feature into an \"age\" column. Let's create a new column called ``\"register_age\"``"
   ]
  },
  {
   "cell_type": "code",
   "execution_count": null,
   "metadata": {},
   "outputs": [],
   "source": []
  },
  {
   "cell_type": "markdown",
   "metadata": {},
   "source": [
    "***"
   ]
  },
  {
   "cell_type": "markdown",
   "metadata": {},
   "source": [
    "### ``'Fuel'``"
   ]
  },
  {
   "cell_type": "code",
   "execution_count": null,
   "metadata": {},
   "outputs": [],
   "source": []
  },
  {
   "cell_type": "markdown",
   "metadata": {},
   "source": [
    "***"
   ]
  },
  {
   "cell_type": "markdown",
   "metadata": {},
   "source": [
    "### ``'Gears'``"
   ]
  },
  {
   "cell_type": "code",
   "execution_count": null,
   "metadata": {},
   "outputs": [],
   "source": []
  },
  {
   "cell_type": "markdown",
   "metadata": {},
   "source": [
    "***"
   ]
  },
  {
   "cell_type": "markdown",
   "metadata": {},
   "source": [
    "### ``'Make'``"
   ]
  },
  {
   "cell_type": "code",
   "execution_count": null,
   "metadata": {},
   "outputs": [],
   "source": []
  },
  {
   "cell_type": "markdown",
   "metadata": {},
   "source": [
    "***"
   ]
  },
  {
   "cell_type": "markdown",
   "metadata": {},
   "source": [
    "### ``'Model'``"
   ]
  },
  {
   "cell_type": "code",
   "execution_count": null,
   "metadata": {},
   "outputs": [],
   "source": []
  },
  {
   "cell_type": "markdown",
   "metadata": {},
   "source": [
    "***"
   ]
  },
  {
   "cell_type": "markdown",
   "metadata": {},
   "source": [
    "### ``'Nr. of Doors'``"
   ]
  },
  {
   "cell_type": "code",
   "execution_count": null,
   "metadata": {},
   "outputs": [],
   "source": []
  },
  {
   "cell_type": "markdown",
   "metadata": {},
   "source": [
    "***"
   ]
  },
  {
   "cell_type": "markdown",
   "metadata": {},
   "source": [
    "### 'Nr. of Seats'"
   ]
  },
  {
   "cell_type": "code",
   "execution_count": null,
   "metadata": {},
   "outputs": [],
   "source": []
  },
  {
   "cell_type": "markdown",
   "metadata": {},
   "source": [
    "***"
   ]
  },
  {
   "cell_type": "markdown",
   "metadata": {},
   "source": [
    "### 'Offer Number'"
   ]
  },
  {
   "cell_type": "code",
   "execution_count": null,
   "metadata": {},
   "outputs": [],
   "source": []
  },
  {
   "cell_type": "markdown",
   "metadata": {},
   "source": [
    "***"
   ]
  },
  {
   "cell_type": "markdown",
   "metadata": {},
   "source": [
    "### 'Type'"
   ]
  },
  {
   "cell_type": "code",
   "execution_count": null,
   "metadata": {},
   "outputs": [],
   "source": []
  },
  {
   "cell_type": "markdown",
   "metadata": {},
   "source": [
    "***"
   ]
  },
  {
   "cell_type": "markdown",
   "metadata": {},
   "source": [
    "### 'Upholstery'"
   ]
  },
  {
   "cell_type": "code",
   "execution_count": null,
   "metadata": {},
   "outputs": [],
   "source": []
  },
  {
   "cell_type": "markdown",
   "metadata": {},
   "source": [
    "***"
   ]
  },
  {
   "cell_type": "markdown",
   "metadata": {},
   "source": [
    "### 'Warranty'"
   ]
  },
  {
   "cell_type": "code",
   "execution_count": null,
   "metadata": {},
   "outputs": [],
   "source": []
  },
  {
   "cell_type": "markdown",
   "metadata": {},
   "source": [
    "- There are several numeric values in the same line\n",
    "- In order to select months from among the other numeric values, we should use the syntax below.\n",
    "- Firstly, we will select ``\"dd months\"``\n",
    "- Secondly, we replace all chars other than numeric"
   ]
  },
  {
   "cell_type": "code",
   "execution_count": null,
   "metadata": {},
   "outputs": [],
   "source": []
  },
  {
   "cell_type": "markdown",
   "metadata": {},
   "source": [
    "- It has too many missing values so, it will not effect the result if we drop it."
   ]
  },
  {
   "cell_type": "code",
   "execution_count": null,
   "metadata": {},
   "outputs": [],
   "source": []
  },
  {
   "cell_type": "markdown",
   "metadata": {},
   "source": [
    "***"
   ]
  },
  {
   "cell_type": "markdown",
   "metadata": {},
   "source": [
    "### ``'description'``"
   ]
  },
  {
   "cell_type": "code",
   "execution_count": null,
   "metadata": {},
   "outputs": [],
   "source": []
  },
  {
   "cell_type": "markdown",
   "metadata": {},
   "source": [
    "***"
   ]
  },
  {
   "cell_type": "markdown",
   "metadata": {},
   "source": [
    "### 'hp'"
   ]
  },
  {
   "cell_type": "code",
   "execution_count": null,
   "metadata": {},
   "outputs": [],
   "source": []
  },
  {
   "cell_type": "markdown",
   "metadata": {},
   "source": [
    "***"
   ]
  },
  {
   "cell_type": "markdown",
   "metadata": {},
   "source": [
    "### ``'km'``"
   ]
  },
  {
   "cell_type": "code",
   "execution_count": null,
   "metadata": {},
   "outputs": [],
   "source": []
  },
  {
   "cell_type": "markdown",
   "metadata": {},
   "source": [
    "- There are \"-\" values which means ``NaN``s. We can not accept these values as 0 km."
   ]
  },
  {
   "cell_type": "code",
   "execution_count": null,
   "metadata": {},
   "outputs": [],
   "source": []
  },
  {
   "cell_type": "markdown",
   "metadata": {},
   "source": [
    "***"
   ]
  },
  {
   "cell_type": "markdown",
   "metadata": {},
   "source": [
    "### ``'make_model' ``"
   ]
  },
  {
   "cell_type": "code",
   "execution_count": null,
   "metadata": {},
   "outputs": [],
   "source": []
  },
  {
   "cell_type": "markdown",
   "metadata": {},
   "source": [
    "***"
   ]
  },
  {
   "cell_type": "markdown",
   "metadata": {},
   "source": [
    "### ``'null'``"
   ]
  },
  {
   "cell_type": "code",
   "execution_count": null,
   "metadata": {},
   "outputs": [],
   "source": []
  },
  {
   "cell_type": "markdown",
   "metadata": {},
   "source": [
    "***"
   ]
  },
  {
   "cell_type": "markdown",
   "metadata": {},
   "source": [
    "### ``'registration'``"
   ]
  },
  {
   "cell_type": "code",
   "execution_count": null,
   "metadata": {},
   "outputs": [],
   "source": []
  },
  {
   "cell_type": "markdown",
   "metadata": {},
   "source": [
    "***"
   ]
  },
  {
   "cell_type": "markdown",
   "metadata": {},
   "source": [
    "### ``'short_description'``"
   ]
  },
  {
   "cell_type": "code",
   "execution_count": null,
   "metadata": {},
   "outputs": [],
   "source": []
  },
  {
   "cell_type": "markdown",
   "metadata": {},
   "source": [
    "***"
   ]
  },
  {
   "cell_type": "markdown",
   "metadata": {},
   "source": [
    "### ``'url'``"
   ]
  },
  {
   "cell_type": "code",
   "execution_count": null,
   "metadata": {},
   "outputs": [],
   "source": []
  },
  {
   "cell_type": "markdown",
   "metadata": {},
   "source": [
    "***"
   ]
  },
  {
   "cell_type": "markdown",
   "metadata": {},
   "source": [
    "### ``'vat'``"
   ]
  },
  {
   "cell_type": "code",
   "execution_count": null,
   "metadata": {},
   "outputs": [],
   "source": []
  },
  {
   "cell_type": "markdown",
   "metadata": {},
   "source": [
    "***"
   ]
  },
  {
   "cell_type": "markdown",
   "metadata": {},
   "source": [
    "### ``'price'``"
   ]
  },
  {
   "cell_type": "markdown",
   "metadata": {},
   "source": [
    "- This is our target variable which we try to predict.."
   ]
  },
  {
   "cell_type": "code",
   "execution_count": null,
   "metadata": {},
   "outputs": [],
   "source": []
  },
  {
   "cell_type": "markdown",
   "metadata": {},
   "source": [
    "### Now, it is time to drop repeated columns we have."
   ]
  },
  {
   "cell_type": "code",
   "execution_count": null,
   "metadata": {},
   "outputs": [],
   "source": []
  },
  {
   "cell_type": "markdown",
   "metadata": {},
   "source": [
    "## End of this Project. Next step will be :\n",
    "- Handling with Missing Values and Outliers,\n",
    "- Continue to clean DataSet.\n",
    "- Make the DataSet ready to go into ML Models."
   ]
  },
  {
   "cell_type": "code",
   "execution_count": null,
   "metadata": {},
   "outputs": [],
   "source": []
  }
 ],
 "metadata": {
  "kernelspec": {
   "display_name": "Python 3",
   "language": "python",
   "name": "python3"
  },
  "language_info": {
   "codemirror_mode": {
    "name": "ipython",
    "version": 3
   },
   "file_extension": ".py",
   "mimetype": "text/x-python",
   "name": "python",
   "nbconvert_exporter": "python",
   "pygments_lexer": "ipython3",
   "version": "3.8.3"
  }
 },
 "nbformat": 4,
 "nbformat_minor": 2
}
